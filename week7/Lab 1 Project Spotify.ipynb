{
 "cells": [
  {
   "cell_type": "markdown",
   "source": [
    "## Web Scraping Lab 1:\n",
    "\n",
    "\n",
    "### Prepare your project:\n",
    "\n",
    "#### Business goal:\n",
    "\n",
    "Make sure you've understood the big picture of your project: the goal of the company (Gnod), their current product (Gnoosic), their strategy, and how your project fits into this context. Re-read the business case and the e-mail from the CTO, take a look at the flowchart and create an initial Trello board with the tasks you think you'll have to acomplish.\n",
    "\n",
    "#### Scraping popular songs:\n",
    "\n",
    "Your product will take a song as an input from the user and will output another song (the recommendation). In most cases, the recommended song will have to be similar to the inputed song, but the CTO thinks that if the song is on the top charts at the moment, the user will enjoy more a recommendation of a song that's also popular at the moment.\n",
    "\n",
    "You have find data on the internet about currently popular songs. Billboard mantains a weekly Top 100 of \"hot\" songs here: https://www.billboard.com/charts/hot-100. \n",
    "\n",
    "It's a good place to start! Scrape the current top 100 songs and their respective artists, and put the information into a pandas dataframe."
   ],
   "metadata": {}
  },
  {
   "cell_type": "code",
   "execution_count": 216,
   "source": [
    "import requests\n",
    "from bs4 import BeautifulSoup\n",
    "import pandas as pd\n",
    "from tqdm.notebook import tqdm\n",
    "import re"
   ],
   "outputs": [],
   "metadata": {}
  },
  {
   "cell_type": "code",
   "execution_count": 217,
   "source": [
    "url = 'https://www.billboard.com/charts/hot-100'"
   ],
   "outputs": [],
   "metadata": {}
  },
  {
   "cell_type": "code",
   "execution_count": 218,
   "source": [
    "response = requests.get(url)"
   ],
   "outputs": [],
   "metadata": {}
  },
  {
   "cell_type": "code",
   "execution_count": 219,
   "source": [
    "response.status_code"
   ],
   "outputs": [
    {
     "output_type": "execute_result",
     "data": {
      "text/plain": [
       "200"
      ]
     },
     "metadata": {},
     "execution_count": 219
    }
   ],
   "metadata": {}
  },
  {
   "cell_type": "code",
   "execution_count": 220,
   "source": [
    "soup_top_100 = BeautifulSoup(response.content, 'html.parser')"
   ],
   "outputs": [],
   "metadata": {}
  },
  {
   "cell_type": "code",
   "execution_count": 221,
   "source": [
    "#print(soup_top_100.prettify())"
   ],
   "outputs": [],
   "metadata": {}
  },
  {
   "cell_type": "code",
   "execution_count": 222,
   "source": [
    "soup_top_100.select('ol.chart-list__elements span.chart-element__rank__number')[0].text"
   ],
   "outputs": [
    {
     "output_type": "execute_result",
     "data": {
      "text/plain": [
       "'1'"
      ]
     },
     "metadata": {},
     "execution_count": 222
    }
   ],
   "metadata": {}
  },
  {
   "cell_type": "code",
   "execution_count": 223,
   "source": [
    "soup_top_100.select('ol.chart-list__elements span.chart-element__information__song')[0].text"
   ],
   "outputs": [
    {
     "output_type": "execute_result",
     "data": {
      "text/plain": [
       "'Butter'"
      ]
     },
     "metadata": {},
     "execution_count": 223
    }
   ],
   "metadata": {}
  },
  {
   "cell_type": "code",
   "execution_count": 224,
   "source": [
    "soup_top_100.select('ol.chart-list__elements span.chart-element__information__artist')[0].text"
   ],
   "outputs": [
    {
     "output_type": "execute_result",
     "data": {
      "text/plain": [
       "'BTS'"
      ]
     },
     "metadata": {},
     "execution_count": 224
    }
   ],
   "metadata": {}
  },
  {
   "cell_type": "code",
   "execution_count": 225,
   "source": [
    "ranking = []\n",
    "title = []\n",
    "artists = []\n",
    "len_list = len(soup_top_100.select('ol.chart-list__elements span.chart-element__rank__number'))\n",
    "len_list"
   ],
   "outputs": [
    {
     "output_type": "execute_result",
     "data": {
      "text/plain": [
       "100"
      ]
     },
     "metadata": {},
     "execution_count": 225
    }
   ],
   "metadata": {}
  },
  {
   "cell_type": "code",
   "execution_count": 226,
   "source": [
    "for i in tqdm(range(len_list)):\n",
    "    ranking.append(soup_top_100.select('ol.chart-list__elements span.chart-element__rank__number')[i].text)\n",
    "    title.append(soup_top_100.select('ol.chart-list__elements span.chart-element__information__song')[i].text)\n",
    "    artists.append(soup_top_100.select('ol.chart-list__elements span.chart-element__information__artist')[i].text)"
   ],
   "outputs": [
    {
     "output_type": "display_data",
     "data": {
      "text/plain": [
       "  0%|          | 0/100 [00:00<?, ?it/s]"
      ],
      "application/vnd.jupyter.widget-view+json": {
       "version_major": 2,
       "version_minor": 0,
       "model_id": "ffdbd5299fd14e148f58fb844b95e2fc"
      }
     },
     "metadata": {}
    }
   ],
   "metadata": {}
  },
  {
   "cell_type": "code",
   "execution_count": 227,
   "source": [
    "top_100 = pd.DataFrame({'ranking':ranking, 'title':title, 'artist':artists})"
   ],
   "outputs": [],
   "metadata": {}
  },
  {
   "cell_type": "code",
   "execution_count": 228,
   "source": [
    "top_100.head()"
   ],
   "outputs": [
    {
     "output_type": "execute_result",
     "data": {
      "text/plain": [
       "  ranking         title                     artist\n",
       "0       1        Butter                        BTS\n",
       "1       2      Good 4 U             Olivia Rodrigo\n",
       "2       3  Kiss Me More     Doja Cat Featuring SZA\n",
       "3       4    Levitating  Dua Lipa Featuring DaBaby\n",
       "4       5    Bad Habits                 Ed Sheeran"
      ],
      "text/html": [
       "<div>\n",
       "<style scoped>\n",
       "    .dataframe tbody tr th:only-of-type {\n",
       "        vertical-align: middle;\n",
       "    }\n",
       "\n",
       "    .dataframe tbody tr th {\n",
       "        vertical-align: top;\n",
       "    }\n",
       "\n",
       "    .dataframe thead th {\n",
       "        text-align: right;\n",
       "    }\n",
       "</style>\n",
       "<table border=\"1\" class=\"dataframe\">\n",
       "  <thead>\n",
       "    <tr style=\"text-align: right;\">\n",
       "      <th></th>\n",
       "      <th>ranking</th>\n",
       "      <th>title</th>\n",
       "      <th>artist</th>\n",
       "    </tr>\n",
       "  </thead>\n",
       "  <tbody>\n",
       "    <tr>\n",
       "      <th>0</th>\n",
       "      <td>1</td>\n",
       "      <td>Butter</td>\n",
       "      <td>BTS</td>\n",
       "    </tr>\n",
       "    <tr>\n",
       "      <th>1</th>\n",
       "      <td>2</td>\n",
       "      <td>Good 4 U</td>\n",
       "      <td>Olivia Rodrigo</td>\n",
       "    </tr>\n",
       "    <tr>\n",
       "      <th>2</th>\n",
       "      <td>3</td>\n",
       "      <td>Kiss Me More</td>\n",
       "      <td>Doja Cat Featuring SZA</td>\n",
       "    </tr>\n",
       "    <tr>\n",
       "      <th>3</th>\n",
       "      <td>4</td>\n",
       "      <td>Levitating</td>\n",
       "      <td>Dua Lipa Featuring DaBaby</td>\n",
       "    </tr>\n",
       "    <tr>\n",
       "      <th>4</th>\n",
       "      <td>5</td>\n",
       "      <td>Bad Habits</td>\n",
       "      <td>Ed Sheeran</td>\n",
       "    </tr>\n",
       "  </tbody>\n",
       "</table>\n",
       "</div>"
      ]
     },
     "metadata": {},
     "execution_count": 228
    }
   ],
   "metadata": {}
  },
  {
   "cell_type": "code",
   "execution_count": 229,
   "source": [
    "top_100.tail()"
   ],
   "outputs": [
    {
     "output_type": "execute_result",
     "data": {
      "text/plain": [
       "   ranking          title                                    artist\n",
       "95      96    Twerkulator                                City Girls\n",
       "96      97      Tombstone                                  Rod Wave\n",
       "97      98  Miss The Rage              Trippie Redd & Playboi Carti\n",
       "98      99          Rise!  Tyler, The Creator Featuring Daisy World\n",
       "99     100        Working                       Tate McRae X Khalid"
      ],
      "text/html": [
       "<div>\n",
       "<style scoped>\n",
       "    .dataframe tbody tr th:only-of-type {\n",
       "        vertical-align: middle;\n",
       "    }\n",
       "\n",
       "    .dataframe tbody tr th {\n",
       "        vertical-align: top;\n",
       "    }\n",
       "\n",
       "    .dataframe thead th {\n",
       "        text-align: right;\n",
       "    }\n",
       "</style>\n",
       "<table border=\"1\" class=\"dataframe\">\n",
       "  <thead>\n",
       "    <tr style=\"text-align: right;\">\n",
       "      <th></th>\n",
       "      <th>ranking</th>\n",
       "      <th>title</th>\n",
       "      <th>artist</th>\n",
       "    </tr>\n",
       "  </thead>\n",
       "  <tbody>\n",
       "    <tr>\n",
       "      <th>95</th>\n",
       "      <td>96</td>\n",
       "      <td>Twerkulator</td>\n",
       "      <td>City Girls</td>\n",
       "    </tr>\n",
       "    <tr>\n",
       "      <th>96</th>\n",
       "      <td>97</td>\n",
       "      <td>Tombstone</td>\n",
       "      <td>Rod Wave</td>\n",
       "    </tr>\n",
       "    <tr>\n",
       "      <th>97</th>\n",
       "      <td>98</td>\n",
       "      <td>Miss The Rage</td>\n",
       "      <td>Trippie Redd &amp; Playboi Carti</td>\n",
       "    </tr>\n",
       "    <tr>\n",
       "      <th>98</th>\n",
       "      <td>99</td>\n",
       "      <td>Rise!</td>\n",
       "      <td>Tyler, The Creator Featuring Daisy World</td>\n",
       "    </tr>\n",
       "    <tr>\n",
       "      <th>99</th>\n",
       "      <td>100</td>\n",
       "      <td>Working</td>\n",
       "      <td>Tate McRae X Khalid</td>\n",
       "    </tr>\n",
       "  </tbody>\n",
       "</table>\n",
       "</div>"
      ]
     },
     "metadata": {},
     "execution_count": 229
    }
   ],
   "metadata": {}
  },
  {
   "cell_type": "markdown",
   "source": [
    "### Bonus"
   ],
   "metadata": {}
  },
  {
   "cell_type": "markdown",
   "source": [
    "Can you find other websites with lists of \"hot\" songs? What about songs that were popular on a certain decade? \n",
    "\n",
    "You can scrape more lists and add extra features to the project."
   ],
   "metadata": {}
  },
  {
   "cell_type": "code",
   "execution_count": 230,
   "source": [
    "url2 = 'https://www.billboard.com/articles/news/hot-100-turns-60/8468142/hot-100-all-time-biggest-hits-songs-list'"
   ],
   "outputs": [],
   "metadata": {}
  },
  {
   "cell_type": "code",
   "execution_count": 231,
   "source": [
    "response2 = requests.get(url2)"
   ],
   "outputs": [],
   "metadata": {}
  },
  {
   "cell_type": "code",
   "execution_count": 232,
   "source": [
    "response2.status_code"
   ],
   "outputs": [
    {
     "output_type": "execute_result",
     "data": {
      "text/plain": [
       "200"
      ]
     },
     "metadata": {},
     "execution_count": 232
    }
   ],
   "metadata": {}
  },
  {
   "cell_type": "code",
   "execution_count": 233,
   "source": [
    "soup_top_100_alltime = BeautifulSoup(response2.content, 'html.parser')"
   ],
   "outputs": [],
   "metadata": {}
  },
  {
   "cell_type": "code",
   "execution_count": 271,
   "source": [
    "soup_top_100_alltime.select('p')[29].text"
   ],
   "outputs": [
    {
     "output_type": "execute_result",
     "data": {
      "text/plain": [
       "'21.\\xa0(Everything I Do) I Do It for You - 1991'"
      ]
     },
     "metadata": {},
     "execution_count": 271
    }
   ],
   "metadata": {}
  },
  {
   "cell_type": "code",
   "execution_count": 270,
   "source": [
    "# rank number\n",
    "re.findall(r'([^.]+)', soup_top_100_alltime.select('p')[29].text)"
   ],
   "outputs": [
    {
     "output_type": "execute_result",
     "data": {
      "text/plain": [
       "['21', '\\xa0(Everything I Do) I Do It for You - 1991']"
      ]
     },
     "metadata": {},
     "execution_count": 270
    }
   ],
   "metadata": {}
  },
  {
   "cell_type": "code",
   "execution_count": 269,
   "source": [
    "# title\n",
    "re.findall(r'(?<=. )(.*)(?=-)', soup_top_100_alltime.select('p')[29].text)"
   ],
   "outputs": [
    {
     "output_type": "execute_result",
     "data": {
      "text/plain": [
       "['I Do) I Do It for You ', '']"
      ]
     },
     "metadata": {},
     "execution_count": 269
    }
   ],
   "metadata": {}
  },
  {
   "cell_type": "code",
   "execution_count": 237,
   "source": [
    "# year\n",
    "re.findall(r'(?<=- )(...\\d)', soup_top_100_alltime.select('p')[9].text)\n"
   ],
   "outputs": [
    {
     "output_type": "execute_result",
     "data": {
      "text/plain": [
       "['1960']"
      ]
     },
     "metadata": {},
     "execution_count": 237
    }
   ],
   "metadata": {}
  },
  {
   "cell_type": "code",
   "execution_count": 238,
   "source": [
    "# artist\n",
    "re.findall(r'(?<=\\d{4})(.*)', soup_top_100_alltime.select('p')[20].text)\n"
   ],
   "outputs": [
    {
     "output_type": "execute_result",
     "data": {
      "text/plain": [
       "['The Beatles']"
      ]
     },
     "metadata": {},
     "execution_count": 238
    }
   ],
   "metadata": {}
  },
  {
   "cell_type": "code",
   "execution_count": 262,
   "source": [
    "ranking_alltime = []\n",
    "title_alltime = []\n",
    "year_alltime = []\n",
    "artist_alltime = []"
   ],
   "outputs": [],
   "metadata": {}
  },
  {
   "cell_type": "code",
   "execution_count": 263,
   "source": [
    "for i in tqdm(range(9, 112)):\n",
    "    ranking_alltime.append(i-8)\n",
    "    title_alltime.append(re.findall(r'(?<=. )(.*)(?=-)', soup_top_100_alltime.select('p')[i].text))\n",
    "    year_alltime.append(re.findall(r'(?<=- )(...\\d)', soup_top_100_alltime.select('p')[i].text))\n",
    "    artist_alltime.append(re.findall(r'(?<=\\d{4})(.*)', soup_top_100_alltime.select('p')[i].text))"
   ],
   "outputs": [
    {
     "output_type": "display_data",
     "data": {
      "text/plain": [
       "  0%|          | 0/103 [00:00<?, ?it/s]"
      ],
      "application/vnd.jupyter.widget-view+json": {
       "version_major": 2,
       "version_minor": 0,
       "model_id": "3445a871b95d48e58fe1b50c087c5c2c"
      }
     },
     "metadata": {}
    }
   ],
   "metadata": {}
  },
  {
   "cell_type": "code",
   "execution_count": 264,
   "source": [
    "top_100_alltime = pd.DataFrame({'ranking':ranking_alltime, 'title':title_alltime, 'year':year_alltime, 'artist':artist_alltime})"
   ],
   "outputs": [],
   "metadata": {}
  },
  {
   "cell_type": "code",
   "execution_count": 272,
   "source": [
    "top_100_alltime.tail(21)"
   ],
   "outputs": [
    {
     "output_type": "execute_result",
     "data": {
      "text/plain": [
       "     ranking                                              title    year  \\\n",
       "82        83                                         [Happy , ]  [2014]   \n",
       "83        84  [Upside Down - 1980Diana Ross“It’s such a toug...  [1980]   \n",
       "84        85                                  [Sugar, Sugar , ]  [1969]   \n",
       "85        86                          [Just the Way You Are , ]  [2010]   \n",
       "86        87                                       [Dilemma , ]  [2002]   \n",
       "87        88              [I Heard It Through the Grapevine , ]  [1968]   \n",
       "88        89                          [You’re Still the One , ]  [1998]   \n",
       "89        90                                   [Billie Jean , ]  [1983]   \n",
       "90        91                                     [Hot Stuff , ]  [1979]   \n",
       "91        92                                      [Rockstar , ]  [2017]   \n",
       "92        93                            [Gangsta’s Paradise , ]  [1995]   \n",
       "93        94                                   [Abracadabra , ]  [1982]   \n",
       "94        95                                       [Perfect , ]  [2017]   \n",
       "95        96                                [You’re So Vain , ]      []   \n",
       "96        97                         [Play That Funky Music , ]  [1976]   \n",
       "97        98                               [Say You, Say Me , ]  [1985]   \n",
       "98        99  [My Sharona - 1979The Knack“Everything goes to...  [1979]   \n",
       "99       100                    [All Night Long (All Night) , ]  [1983]   \n",
       "100      101                          [Nothing Compares 2 U , ]  [1990]   \n",
       "101      102                              [I Swear - 1994All-4]  [1994]   \n",
       "102      103                                 [Family Affair , ]  [2001]   \n",
       "\n",
       "                                                artist  \n",
       "82                                 [Pharrell Williams]  \n",
       "83   [Diana Ross“It’s such a tough-sounding record,...  \n",
       "84                                       [The Archies]  \n",
       "85                                        [Bruno Mars]  \n",
       "86                         [Nelly Feat. Kelly Rowland]  \n",
       "87                                       [Marvin Gaye]  \n",
       "88                                      [Shania Twain]  \n",
       "89                                   [Michael Jackson]  \n",
       "90                                      [Donna Summer]  \n",
       "91                       [Post Malone Feat. 21 Savage]  \n",
       "92                                 [Coolio Feat. L.V.]  \n",
       "93                             [The Steve Miller Band]  \n",
       "94                                        [Ed Sheeran]  \n",
       "95                                       [Carly Simon]  \n",
       "96                                       [Wild Cherry]  \n",
       "97                                     [Lionel Richie]  \n",
       "98   [The Knack“Everything goes together to make th...  \n",
       "99                                     [Lionel Richie]  \n",
       "100  [SinÉad O’Connor“Everything about it is pop pe...  \n",
       "101                                        [All-4-One]  \n",
       "102                                    [Mary J. Blige]  "
      ],
      "text/html": [
       "<div>\n",
       "<style scoped>\n",
       "    .dataframe tbody tr th:only-of-type {\n",
       "        vertical-align: middle;\n",
       "    }\n",
       "\n",
       "    .dataframe tbody tr th {\n",
       "        vertical-align: top;\n",
       "    }\n",
       "\n",
       "    .dataframe thead th {\n",
       "        text-align: right;\n",
       "    }\n",
       "</style>\n",
       "<table border=\"1\" class=\"dataframe\">\n",
       "  <thead>\n",
       "    <tr style=\"text-align: right;\">\n",
       "      <th></th>\n",
       "      <th>ranking</th>\n",
       "      <th>title</th>\n",
       "      <th>year</th>\n",
       "      <th>artist</th>\n",
       "    </tr>\n",
       "  </thead>\n",
       "  <tbody>\n",
       "    <tr>\n",
       "      <th>82</th>\n",
       "      <td>83</td>\n",
       "      <td>[Happy , ]</td>\n",
       "      <td>[2014]</td>\n",
       "      <td>[Pharrell Williams]</td>\n",
       "    </tr>\n",
       "    <tr>\n",
       "      <th>83</th>\n",
       "      <td>84</td>\n",
       "      <td>[Upside Down - 1980Diana Ross“It’s such a toug...</td>\n",
       "      <td>[1980]</td>\n",
       "      <td>[Diana Ross“It’s such a tough-sounding record,...</td>\n",
       "    </tr>\n",
       "    <tr>\n",
       "      <th>84</th>\n",
       "      <td>85</td>\n",
       "      <td>[Sugar, Sugar , ]</td>\n",
       "      <td>[1969]</td>\n",
       "      <td>[The Archies]</td>\n",
       "    </tr>\n",
       "    <tr>\n",
       "      <th>85</th>\n",
       "      <td>86</td>\n",
       "      <td>[Just the Way You Are , ]</td>\n",
       "      <td>[2010]</td>\n",
       "      <td>[Bruno Mars]</td>\n",
       "    </tr>\n",
       "    <tr>\n",
       "      <th>86</th>\n",
       "      <td>87</td>\n",
       "      <td>[Dilemma , ]</td>\n",
       "      <td>[2002]</td>\n",
       "      <td>[Nelly Feat. Kelly Rowland]</td>\n",
       "    </tr>\n",
       "    <tr>\n",
       "      <th>87</th>\n",
       "      <td>88</td>\n",
       "      <td>[I Heard It Through the Grapevine , ]</td>\n",
       "      <td>[1968]</td>\n",
       "      <td>[Marvin Gaye]</td>\n",
       "    </tr>\n",
       "    <tr>\n",
       "      <th>88</th>\n",
       "      <td>89</td>\n",
       "      <td>[You’re Still the One , ]</td>\n",
       "      <td>[1998]</td>\n",
       "      <td>[Shania Twain]</td>\n",
       "    </tr>\n",
       "    <tr>\n",
       "      <th>89</th>\n",
       "      <td>90</td>\n",
       "      <td>[Billie Jean , ]</td>\n",
       "      <td>[1983]</td>\n",
       "      <td>[Michael Jackson]</td>\n",
       "    </tr>\n",
       "    <tr>\n",
       "      <th>90</th>\n",
       "      <td>91</td>\n",
       "      <td>[Hot Stuff , ]</td>\n",
       "      <td>[1979]</td>\n",
       "      <td>[Donna Summer]</td>\n",
       "    </tr>\n",
       "    <tr>\n",
       "      <th>91</th>\n",
       "      <td>92</td>\n",
       "      <td>[Rockstar , ]</td>\n",
       "      <td>[2017]</td>\n",
       "      <td>[Post Malone Feat. 21 Savage]</td>\n",
       "    </tr>\n",
       "    <tr>\n",
       "      <th>92</th>\n",
       "      <td>93</td>\n",
       "      <td>[Gangsta’s Paradise , ]</td>\n",
       "      <td>[1995]</td>\n",
       "      <td>[Coolio Feat. L.V.]</td>\n",
       "    </tr>\n",
       "    <tr>\n",
       "      <th>93</th>\n",
       "      <td>94</td>\n",
       "      <td>[Abracadabra , ]</td>\n",
       "      <td>[1982]</td>\n",
       "      <td>[The Steve Miller Band]</td>\n",
       "    </tr>\n",
       "    <tr>\n",
       "      <th>94</th>\n",
       "      <td>95</td>\n",
       "      <td>[Perfect , ]</td>\n",
       "      <td>[2017]</td>\n",
       "      <td>[Ed Sheeran]</td>\n",
       "    </tr>\n",
       "    <tr>\n",
       "      <th>95</th>\n",
       "      <td>96</td>\n",
       "      <td>[You’re So Vain , ]</td>\n",
       "      <td>[]</td>\n",
       "      <td>[Carly Simon]</td>\n",
       "    </tr>\n",
       "    <tr>\n",
       "      <th>96</th>\n",
       "      <td>97</td>\n",
       "      <td>[Play That Funky Music , ]</td>\n",
       "      <td>[1976]</td>\n",
       "      <td>[Wild Cherry]</td>\n",
       "    </tr>\n",
       "    <tr>\n",
       "      <th>97</th>\n",
       "      <td>98</td>\n",
       "      <td>[Say You, Say Me , ]</td>\n",
       "      <td>[1985]</td>\n",
       "      <td>[Lionel Richie]</td>\n",
       "    </tr>\n",
       "    <tr>\n",
       "      <th>98</th>\n",
       "      <td>99</td>\n",
       "      <td>[My Sharona - 1979The Knack“Everything goes to...</td>\n",
       "      <td>[1979]</td>\n",
       "      <td>[The Knack“Everything goes together to make th...</td>\n",
       "    </tr>\n",
       "    <tr>\n",
       "      <th>99</th>\n",
       "      <td>100</td>\n",
       "      <td>[All Night Long (All Night) , ]</td>\n",
       "      <td>[1983]</td>\n",
       "      <td>[Lionel Richie]</td>\n",
       "    </tr>\n",
       "    <tr>\n",
       "      <th>100</th>\n",
       "      <td>101</td>\n",
       "      <td>[Nothing Compares 2 U , ]</td>\n",
       "      <td>[1990]</td>\n",
       "      <td>[SinÉad O’Connor“Everything about it is pop pe...</td>\n",
       "    </tr>\n",
       "    <tr>\n",
       "      <th>101</th>\n",
       "      <td>102</td>\n",
       "      <td>[I Swear - 1994All-4]</td>\n",
       "      <td>[1994]</td>\n",
       "      <td>[All-4-One]</td>\n",
       "    </tr>\n",
       "    <tr>\n",
       "      <th>102</th>\n",
       "      <td>103</td>\n",
       "      <td>[Family Affair , ]</td>\n",
       "      <td>[2001]</td>\n",
       "      <td>[Mary J. Blige]</td>\n",
       "    </tr>\n",
       "  </tbody>\n",
       "</table>\n",
       "</div>"
      ]
     },
     "metadata": {},
     "execution_count": 272
    }
   ],
   "metadata": {}
  },
  {
   "cell_type": "code",
   "execution_count": null,
   "source": [],
   "outputs": [],
   "metadata": {}
  }
 ],
 "metadata": {
  "kernelspec": {
   "display_name": "Python 3 (ipykernel)",
   "language": "python",
   "name": "python3"
  },
  "language_info": {
   "codemirror_mode": {
    "name": "ipython",
    "version": 3
   },
   "file_extension": ".py",
   "mimetype": "text/x-python",
   "name": "python",
   "nbconvert_exporter": "python",
   "pygments_lexer": "ipython3",
   "version": "3.9.6"
  },
  "toc": {
   "base_numbering": 1,
   "nav_menu": {},
   "number_sections": true,
   "sideBar": true,
   "skip_h1_title": false,
   "title_cell": "Table of Contents",
   "title_sidebar": "Contents",
   "toc_cell": false,
   "toc_position": {},
   "toc_section_display": true,
   "toc_window_display": false
  },
  "varInspector": {
   "cols": {
    "lenName": 16,
    "lenType": 16,
    "lenVar": 40
   },
   "kernels_config": {
    "python": {
     "delete_cmd_postfix": "",
     "delete_cmd_prefix": "del ",
     "library": "var_list.py",
     "varRefreshCmd": "print(var_dic_list())"
    },
    "r": {
     "delete_cmd_postfix": ") ",
     "delete_cmd_prefix": "rm(",
     "library": "var_list.r",
     "varRefreshCmd": "cat(var_dic_list()) "
    }
   },
   "types_to_exclude": [
    "module",
    "function",
    "builtin_function_or_method",
    "instance",
    "_Feature"
   ],
   "window_display": false
  }
 },
 "nbformat": 4,
 "nbformat_minor": 4
}