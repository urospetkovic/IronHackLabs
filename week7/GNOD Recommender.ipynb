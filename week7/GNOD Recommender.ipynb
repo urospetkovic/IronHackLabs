{
 "cells": [
  {
   "cell_type": "code",
   "execution_count": 2,
   "source": [
    "import requests\n",
    "from bs4 import BeautifulSoup\n",
    "import pandas as pd\n",
    "from tqdm.notebook import tqdm\n",
    "import re\n",
    "from random import randint\n",
    "import spotipy # install if needed\n",
    "from spotipy.oauth2 import SpotifyClientCredentials\n",
    "import getpass"
   ],
   "outputs": [],
   "metadata": {}
  },
  {
   "cell_type": "markdown",
   "source": [
    "# Spotify\n"
   ],
   "metadata": {}
  },
  {
   "cell_type": "code",
   "execution_count": 2,
   "source": [
    "client_id = str(getpass.getpass('client_id?'))\n",
    "client_sectret = str(getpass.getpass('client_secret?'))"
   ],
   "outputs": [],
   "metadata": {}
  },
  {
   "cell_type": "code",
   "execution_count": 3,
   "source": [
    "sp = spotipy.Spotify(auth_manager=SpotifyClientCredentials(\n",
    "    client_id=client_id, client_secret=client_sectret))"
   ],
   "outputs": [],
   "metadata": {}
  },
  {
   "cell_type": "markdown",
   "source": [
    "# Functions"
   ],
   "metadata": {}
  },
  {
   "cell_type": "code",
   "execution_count": 47,
   "source": [
    "def artists_from_playlist(playlist):\n",
    "    songs = playlist['items']\n",
    "    while playlist['next']:\n",
    "        playlist = sp.next(playlist)\n",
    "        songs.extend(playlist['items'])\n",
    "    artists = []\n",
    "    for item in songs:\n",
    "        artists.append(item['track']['artists'][0]['name'])\n",
    "    artist_id_list = []\n",
    "    for artist in artists:\n",
    "        artist_id = sp.search(artist)['tracks']['items'][0]['artists'][0]['id']\n",
    "        artist_id_list.append(artist_id)\n",
    "    return list(set(artist_id_list))"
   ],
   "outputs": [],
   "metadata": {}
  },
  {
   "cell_type": "code",
   "execution_count": 48,
   "source": [
    "def all_albums_from_artists(artists_id_list):\n",
    "    albums_ids = []\n",
    "    for artist_id in artists_id_list:\n",
    "        albums = sp.artist_albums(artist_id)\n",
    "        for album in range(len(albums['items'])):\n",
    "            albums_ids.append(albums['items'][album]['id'])\n",
    "    return list(set(albums_ids))"
   ],
   "outputs": [],
   "metadata": {}
  },
  {
   "cell_type": "code",
   "execution_count": 120,
   "source": [
    "def all_songs_from_albums(albums_id_list):\n",
    "    ids = []\n",
    "    titles = []\n",
    "    artists = []\n",
    "    artist_id_list = []\n",
    "    genres = []\n",
    "    audio_feat = []\n",
    "    for album_id in tqdm(albums_id_list):\n",
    "        songs_ids = sp.album_tracks(album_id)\n",
    "        for id in range(len(songs_ids['items'])):\n",
    "            ids.append(songs_ids['items'][id]['id'])\n",
    "            titles.append(songs_ids['items'][id]['name'])\n",
    "            artists.append(songs_ids['items'][0]['artists'][0]['name'])\n",
    "            artist_id_list.append(songs_ids['items'][0]['artists'][0]['id'])\n",
    "    for artist_id in tqdm(artist_id_list):\n",
    "        genres.append(sp.artist(artist_id)['genres'])\n",
    "    #df1 = pd.DataFrame.from_dict({'id': ids, 'title': titles, 'artist': artists, 'artist_id': artist_id_list, 'genres': genres})\n",
    "    ids_chunks = []\n",
    "    for i in tqdm(range(0, len(ids), 100)):\n",
    "        ids_chunks.append(ids[i:i + 100])\n",
    "    audio_feat = []\n",
    "    for i in tqdm(ids_chunks):\n",
    "        audio_feat.append(sp.audio_features(tracks=i))\n",
    "    audio_feat_total = []\n",
    "    for i in tqdm(range(len(audio_feat))):\n",
    "        audio_feat_total += audio_feat[i]\n",
    "    audio_feats_clean = [dct for dct in audio_feat_total if dct]\n",
    "    df = pd.DataFrame(audio_feats_clean)\n",
    "    #df = pd.concat([df1, df2.drop(['type', 'id'], axis=1)], axis=1)\n",
    "    return df.drop(['type', 'track_href', 'uri', 'analysis_url'], axis=1)\n",
    "    "
   ],
   "outputs": [],
   "metadata": {}
  },
  {
   "cell_type": "markdown",
   "source": [
    "# Playlists"
   ],
   "metadata": {}
  },
  {
   "cell_type": "code",
   "execution_count": 26,
   "source": [
    "rock_playlist = sp.user_playlist_tracks('spotify', '37i9dQZF1DWXRqgorJj26U')"
   ],
   "outputs": [],
   "metadata": {}
  },
  {
   "cell_type": "code",
   "execution_count": 27,
   "source": [
    "jazz_playlist = sp.user_playlist_tracks('spotify', '37i9dQZF1DXbITWG1ZJKYt')"
   ],
   "outputs": [],
   "metadata": {}
  },
  {
   "cell_type": "code",
   "execution_count": null,
   "source": [
    "metal_playlist = sp.user_playlist_tracks('spotify', '37i9dQZF1DWWOaP4H0w5b0')"
   ],
   "outputs": [],
   "metadata": {}
  },
  {
   "cell_type": "code",
   "execution_count": 115,
   "source": [
    "punk_playlist = sp.user_playlist_tracks('spotify', '37i9dQZF1DXd6tJtr4qeot')"
   ],
   "outputs": [],
   "metadata": {}
  },
  {
   "cell_type": "code",
   "execution_count": 116,
   "source": [
    "classical_playlist = sp.user_playlist_tracks('spotify', '37i9dQZF1DXd6tJtr4qeot')"
   ],
   "outputs": [],
   "metadata": {}
  },
  {
   "cell_type": "code",
   "execution_count": 117,
   "source": [
    "pop_playlist = sp.user_playlist_tracks('spotify', '3ZgmfR6lsnCwdffZUan8EA')"
   ],
   "outputs": [],
   "metadata": {}
  },
  {
   "cell_type": "code",
   "execution_count": 118,
   "source": [
    "hiphop_playlist = sp.user_playlist_tracks('spotify', '37i9dQZF1DX30w0JtSIv4j')"
   ],
   "outputs": [],
   "metadata": {}
  },
  {
   "cell_type": "code",
   "execution_count": 119,
   "source": [
    "deephouse_playlist = sp.user_playlist_tracks('spotify', '37i9dQZF1DWWEJlAGA9gs0')"
   ],
   "outputs": [],
   "metadata": {}
  },
  {
   "cell_type": "markdown",
   "source": [
    "# Collecting"
   ],
   "metadata": {}
  },
  {
   "cell_type": "code",
   "execution_count": 21,
   "source": [
    "rock_artists = artists_from_playlist(rock_playlist)\n",
    "rock_albums = all_albums_from_artists(rock_artists)\n",
    "rock_songs = all_songs_from_albums(rock_albums)\n",
    "rock_songs.to_csv('rock_songs.csv')"
   ],
   "outputs": [],
   "metadata": {}
  },
  {
   "cell_type": "code",
   "execution_count": 31,
   "source": [
    "jazz_artists = artists_from_playlist(jazz_playlist)\n",
    "jazz_albums = all_albums_from_artists(jazz_artists)\n",
    "jazz_songs = all_songs_from_albums(jazz_albums)\n",
    "jazz_songs.to_csv('jazz_songs.csv')"
   ],
   "outputs": [],
   "metadata": {}
  },
  {
   "cell_type": "code",
   "execution_count": null,
   "source": [
    "metal_artists = artists_from_playlist(metal_playlist)\n",
    "metal_albums = all_albums_from_artists(metal_artists)\n",
    "metal_songs = all_songs_from_albums(metal_albums)\n",
    "metal_songs.to_csv('metal_songs.csv')"
   ],
   "outputs": [],
   "metadata": {}
  },
  {
   "cell_type": "code",
   "execution_count": null,
   "source": [
    "punk_artists = artists_from_playlist(punk_playlist)\n",
    "punk_albums = all_albums_from_artists(punk_artists)\n",
    "punk_songs = all_songs_from_albums(punk_albums)\n",
    "punk_songs.to_csv('punk_songs.csv')"
   ],
   "outputs": [],
   "metadata": {}
  },
  {
   "cell_type": "code",
   "execution_count": null,
   "source": [
    "classical_artists = artists_from_playlist(classical_playlist)\n",
    "classical_albums = all_albums_from_artists(classical_artists)\n",
    "classical_songs = all_songs_from_albums(classical_albums)\n",
    "classical_songs.to_csv('classical_songs.csv')"
   ],
   "outputs": [],
   "metadata": {}
  },
  {
   "cell_type": "code",
   "execution_count": null,
   "source": [
    "pop_artists = artists_from_playlist(pop_playlist)\n",
    "pop_albums = all_albums_from_artists(pop_artists)\n",
    "pop_songs = all_songs_from_albums(pop_albums)\n",
    "pop_songs.to_csv('pop_songs.csv')"
   ],
   "outputs": [],
   "metadata": {}
  },
  {
   "cell_type": "code",
   "execution_count": null,
   "source": [
    "hiphop_artists = artists_from_playlist(hiphop_playlist)\n",
    "hiphop_albums = all_albums_from_artists(hiphop_artists)\n",
    "hiphop_songs = all_songs_from_albums(hiphop_albums)\n",
    "hiphop_songs.to_csv('hiphop_songs.csv')"
   ],
   "outputs": [],
   "metadata": {}
  },
  {
   "cell_type": "markdown",
   "source": [
    "# Wrangling & Cleaning"
   ],
   "metadata": {}
  },
  {
   "cell_type": "code",
   "execution_count": 3,
   "source": [
    "rock = pd.read_csv('rock_songs.csv')"
   ],
   "outputs": [],
   "metadata": {}
  },
  {
   "cell_type": "code",
   "execution_count": 4,
   "source": [
    "rock.info()"
   ],
   "outputs": [
    {
     "output_type": "stream",
     "name": "stdout",
     "text": [
      "<class 'pandas.core.frame.DataFrame'>\n",
      "RangeIndex: 23930 entries, 0 to 23929\n",
      "Data columns (total 22 columns):\n",
      " #   Column            Non-Null Count  Dtype  \n",
      "---  ------            --------------  -----  \n",
      " 0   Unnamed: 0        23930 non-null  int64  \n",
      " 1   id                23930 non-null  object \n",
      " 2   title             23930 non-null  object \n",
      " 3   artist            23930 non-null  object \n",
      " 4   artist_id         23930 non-null  object \n",
      " 5   genres            23930 non-null  object \n",
      " 6   danceability      23930 non-null  float64\n",
      " 7   energy            23930 non-null  float64\n",
      " 8   key               23930 non-null  int64  \n",
      " 9   loudness          23930 non-null  float64\n",
      " 10  mode              23930 non-null  int64  \n",
      " 11  speechiness       23930 non-null  float64\n",
      " 12  acousticness      23930 non-null  float64\n",
      " 13  instrumentalness  23930 non-null  float64\n",
      " 14  liveness          23930 non-null  float64\n",
      " 15  valence           23930 non-null  float64\n",
      " 16  tempo             23930 non-null  float64\n",
      " 17  uri               23930 non-null  object \n",
      " 18  track_href        23930 non-null  object \n",
      " 19  analysis_url      23930 non-null  object \n",
      " 20  duration_ms       23930 non-null  int64  \n",
      " 21  time_signature    23930 non-null  int64  \n",
      "dtypes: float64(9), int64(5), object(8)\n",
      "memory usage: 4.0+ MB\n"
     ]
    }
   ],
   "metadata": {}
  },
  {
   "cell_type": "code",
   "execution_count": 5,
   "source": [
    "rock.drop(['title', 'artist', 'artist_id', 'genres', 'uri', 'track_href', 'analysis_url'], axis=1, inplace=True)"
   ],
   "outputs": [],
   "metadata": {}
  },
  {
   "cell_type": "code",
   "execution_count": 6,
   "source": [
    "rock.head()"
   ],
   "outputs": [
    {
     "output_type": "execute_result",
     "data": {
      "text/plain": [
       "   Unnamed: 0                      id  danceability  energy  key  loudness  \\\n",
       "0           0  1uW2vabvdnFLqCdcqE6KlO         0.533   0.998    4    -3.972   \n",
       "1           1  2Bc99Am3PqcUNOqYLpCRsQ         0.480   0.980    4    -4.436   \n",
       "2           2  1L9Pz5YARvakZNBElvkZjR         0.554   0.938   11    -4.901   \n",
       "3           3  0lXuYThT8kQag9Xsc80T41         0.509   0.843    7    -5.628   \n",
       "4           4  0wALhdvIu3D3h1qnSo214u         0.540   0.993   11    -4.136   \n",
       "\n",
       "   mode  speechiness  acousticness  instrumentalness  liveness  valence  \\\n",
       "0     1       0.0926      0.000932          0.000001    0.2290    0.501   \n",
       "1     1       0.0854      0.001150          0.000000    0.2210    0.719   \n",
       "2     0       0.0532      0.000176          0.000003    0.1470    0.400   \n",
       "3     1       0.0275      0.001040          0.000012    0.0882    0.479   \n",
       "4     1       0.0958      0.000036          0.001530    0.3330    0.273   \n",
       "\n",
       "     tempo  duration_ms  time_signature  \n",
       "0  150.036       210900               4  \n",
       "1   73.977       162052               4  \n",
       "2   96.500       209703               4  \n",
       "3  156.073       274615               4  \n",
       "4  107.996       176544               3  "
      ],
      "text/html": [
       "<div>\n",
       "<style scoped>\n",
       "    .dataframe tbody tr th:only-of-type {\n",
       "        vertical-align: middle;\n",
       "    }\n",
       "\n",
       "    .dataframe tbody tr th {\n",
       "        vertical-align: top;\n",
       "    }\n",
       "\n",
       "    .dataframe thead th {\n",
       "        text-align: right;\n",
       "    }\n",
       "</style>\n",
       "<table border=\"1\" class=\"dataframe\">\n",
       "  <thead>\n",
       "    <tr style=\"text-align: right;\">\n",
       "      <th></th>\n",
       "      <th>Unnamed: 0</th>\n",
       "      <th>id</th>\n",
       "      <th>danceability</th>\n",
       "      <th>energy</th>\n",
       "      <th>key</th>\n",
       "      <th>loudness</th>\n",
       "      <th>mode</th>\n",
       "      <th>speechiness</th>\n",
       "      <th>acousticness</th>\n",
       "      <th>instrumentalness</th>\n",
       "      <th>liveness</th>\n",
       "      <th>valence</th>\n",
       "      <th>tempo</th>\n",
       "      <th>duration_ms</th>\n",
       "      <th>time_signature</th>\n",
       "    </tr>\n",
       "  </thead>\n",
       "  <tbody>\n",
       "    <tr>\n",
       "      <th>0</th>\n",
       "      <td>0</td>\n",
       "      <td>1uW2vabvdnFLqCdcqE6KlO</td>\n",
       "      <td>0.533</td>\n",
       "      <td>0.998</td>\n",
       "      <td>4</td>\n",
       "      <td>-3.972</td>\n",
       "      <td>1</td>\n",
       "      <td>0.0926</td>\n",
       "      <td>0.000932</td>\n",
       "      <td>0.000001</td>\n",
       "      <td>0.2290</td>\n",
       "      <td>0.501</td>\n",
       "      <td>150.036</td>\n",
       "      <td>210900</td>\n",
       "      <td>4</td>\n",
       "    </tr>\n",
       "    <tr>\n",
       "      <th>1</th>\n",
       "      <td>1</td>\n",
       "      <td>2Bc99Am3PqcUNOqYLpCRsQ</td>\n",
       "      <td>0.480</td>\n",
       "      <td>0.980</td>\n",
       "      <td>4</td>\n",
       "      <td>-4.436</td>\n",
       "      <td>1</td>\n",
       "      <td>0.0854</td>\n",
       "      <td>0.001150</td>\n",
       "      <td>0.000000</td>\n",
       "      <td>0.2210</td>\n",
       "      <td>0.719</td>\n",
       "      <td>73.977</td>\n",
       "      <td>162052</td>\n",
       "      <td>4</td>\n",
       "    </tr>\n",
       "    <tr>\n",
       "      <th>2</th>\n",
       "      <td>2</td>\n",
       "      <td>1L9Pz5YARvakZNBElvkZjR</td>\n",
       "      <td>0.554</td>\n",
       "      <td>0.938</td>\n",
       "      <td>11</td>\n",
       "      <td>-4.901</td>\n",
       "      <td>0</td>\n",
       "      <td>0.0532</td>\n",
       "      <td>0.000176</td>\n",
       "      <td>0.000003</td>\n",
       "      <td>0.1470</td>\n",
       "      <td>0.400</td>\n",
       "      <td>96.500</td>\n",
       "      <td>209703</td>\n",
       "      <td>4</td>\n",
       "    </tr>\n",
       "    <tr>\n",
       "      <th>3</th>\n",
       "      <td>3</td>\n",
       "      <td>0lXuYThT8kQag9Xsc80T41</td>\n",
       "      <td>0.509</td>\n",
       "      <td>0.843</td>\n",
       "      <td>7</td>\n",
       "      <td>-5.628</td>\n",
       "      <td>1</td>\n",
       "      <td>0.0275</td>\n",
       "      <td>0.001040</td>\n",
       "      <td>0.000012</td>\n",
       "      <td>0.0882</td>\n",
       "      <td>0.479</td>\n",
       "      <td>156.073</td>\n",
       "      <td>274615</td>\n",
       "      <td>4</td>\n",
       "    </tr>\n",
       "    <tr>\n",
       "      <th>4</th>\n",
       "      <td>4</td>\n",
       "      <td>0wALhdvIu3D3h1qnSo214u</td>\n",
       "      <td>0.540</td>\n",
       "      <td>0.993</td>\n",
       "      <td>11</td>\n",
       "      <td>-4.136</td>\n",
       "      <td>1</td>\n",
       "      <td>0.0958</td>\n",
       "      <td>0.000036</td>\n",
       "      <td>0.001530</td>\n",
       "      <td>0.3330</td>\n",
       "      <td>0.273</td>\n",
       "      <td>107.996</td>\n",
       "      <td>176544</td>\n",
       "      <td>3</td>\n",
       "    </tr>\n",
       "  </tbody>\n",
       "</table>\n",
       "</div>"
      ]
     },
     "metadata": {},
     "execution_count": 6
    }
   ],
   "metadata": {}
  },
  {
   "cell_type": "code",
   "execution_count": 7,
   "source": [
    "rock_id = rock['id']"
   ],
   "outputs": [],
   "metadata": {}
  },
  {
   "cell_type": "code",
   "execution_count": 8,
   "source": [
    "rock.drop(['id'], axis=1, inplace=True)"
   ],
   "outputs": [],
   "metadata": {}
  },
  {
   "cell_type": "code",
   "execution_count": 9,
   "source": [
    "rock.insert(12, 'id', rock_id)"
   ],
   "outputs": [],
   "metadata": {}
  },
  {
   "cell_type": "code",
   "execution_count": 10,
   "source": [
    "rock.head()"
   ],
   "outputs": [
    {
     "output_type": "execute_result",
     "data": {
      "text/plain": [
       "   Unnamed: 0  danceability  energy  key  loudness  mode  speechiness  \\\n",
       "0           0         0.533   0.998    4    -3.972     1       0.0926   \n",
       "1           1         0.480   0.980    4    -4.436     1       0.0854   \n",
       "2           2         0.554   0.938   11    -4.901     0       0.0532   \n",
       "3           3         0.509   0.843    7    -5.628     1       0.0275   \n",
       "4           4         0.540   0.993   11    -4.136     1       0.0958   \n",
       "\n",
       "   acousticness  instrumentalness  liveness  valence    tempo  \\\n",
       "0      0.000932          0.000001    0.2290    0.501  150.036   \n",
       "1      0.001150          0.000000    0.2210    0.719   73.977   \n",
       "2      0.000176          0.000003    0.1470    0.400   96.500   \n",
       "3      0.001040          0.000012    0.0882    0.479  156.073   \n",
       "4      0.000036          0.001530    0.3330    0.273  107.996   \n",
       "\n",
       "                       id  duration_ms  time_signature  \n",
       "0  1uW2vabvdnFLqCdcqE6KlO       210900               4  \n",
       "1  2Bc99Am3PqcUNOqYLpCRsQ       162052               4  \n",
       "2  1L9Pz5YARvakZNBElvkZjR       209703               4  \n",
       "3  0lXuYThT8kQag9Xsc80T41       274615               4  \n",
       "4  0wALhdvIu3D3h1qnSo214u       176544               3  "
      ],
      "text/html": [
       "<div>\n",
       "<style scoped>\n",
       "    .dataframe tbody tr th:only-of-type {\n",
       "        vertical-align: middle;\n",
       "    }\n",
       "\n",
       "    .dataframe tbody tr th {\n",
       "        vertical-align: top;\n",
       "    }\n",
       "\n",
       "    .dataframe thead th {\n",
       "        text-align: right;\n",
       "    }\n",
       "</style>\n",
       "<table border=\"1\" class=\"dataframe\">\n",
       "  <thead>\n",
       "    <tr style=\"text-align: right;\">\n",
       "      <th></th>\n",
       "      <th>Unnamed: 0</th>\n",
       "      <th>danceability</th>\n",
       "      <th>energy</th>\n",
       "      <th>key</th>\n",
       "      <th>loudness</th>\n",
       "      <th>mode</th>\n",
       "      <th>speechiness</th>\n",
       "      <th>acousticness</th>\n",
       "      <th>instrumentalness</th>\n",
       "      <th>liveness</th>\n",
       "      <th>valence</th>\n",
       "      <th>tempo</th>\n",
       "      <th>id</th>\n",
       "      <th>duration_ms</th>\n",
       "      <th>time_signature</th>\n",
       "    </tr>\n",
       "  </thead>\n",
       "  <tbody>\n",
       "    <tr>\n",
       "      <th>0</th>\n",
       "      <td>0</td>\n",
       "      <td>0.533</td>\n",
       "      <td>0.998</td>\n",
       "      <td>4</td>\n",
       "      <td>-3.972</td>\n",
       "      <td>1</td>\n",
       "      <td>0.0926</td>\n",
       "      <td>0.000932</td>\n",
       "      <td>0.000001</td>\n",
       "      <td>0.2290</td>\n",
       "      <td>0.501</td>\n",
       "      <td>150.036</td>\n",
       "      <td>1uW2vabvdnFLqCdcqE6KlO</td>\n",
       "      <td>210900</td>\n",
       "      <td>4</td>\n",
       "    </tr>\n",
       "    <tr>\n",
       "      <th>1</th>\n",
       "      <td>1</td>\n",
       "      <td>0.480</td>\n",
       "      <td>0.980</td>\n",
       "      <td>4</td>\n",
       "      <td>-4.436</td>\n",
       "      <td>1</td>\n",
       "      <td>0.0854</td>\n",
       "      <td>0.001150</td>\n",
       "      <td>0.000000</td>\n",
       "      <td>0.2210</td>\n",
       "      <td>0.719</td>\n",
       "      <td>73.977</td>\n",
       "      <td>2Bc99Am3PqcUNOqYLpCRsQ</td>\n",
       "      <td>162052</td>\n",
       "      <td>4</td>\n",
       "    </tr>\n",
       "    <tr>\n",
       "      <th>2</th>\n",
       "      <td>2</td>\n",
       "      <td>0.554</td>\n",
       "      <td>0.938</td>\n",
       "      <td>11</td>\n",
       "      <td>-4.901</td>\n",
       "      <td>0</td>\n",
       "      <td>0.0532</td>\n",
       "      <td>0.000176</td>\n",
       "      <td>0.000003</td>\n",
       "      <td>0.1470</td>\n",
       "      <td>0.400</td>\n",
       "      <td>96.500</td>\n",
       "      <td>1L9Pz5YARvakZNBElvkZjR</td>\n",
       "      <td>209703</td>\n",
       "      <td>4</td>\n",
       "    </tr>\n",
       "    <tr>\n",
       "      <th>3</th>\n",
       "      <td>3</td>\n",
       "      <td>0.509</td>\n",
       "      <td>0.843</td>\n",
       "      <td>7</td>\n",
       "      <td>-5.628</td>\n",
       "      <td>1</td>\n",
       "      <td>0.0275</td>\n",
       "      <td>0.001040</td>\n",
       "      <td>0.000012</td>\n",
       "      <td>0.0882</td>\n",
       "      <td>0.479</td>\n",
       "      <td>156.073</td>\n",
       "      <td>0lXuYThT8kQag9Xsc80T41</td>\n",
       "      <td>274615</td>\n",
       "      <td>4</td>\n",
       "    </tr>\n",
       "    <tr>\n",
       "      <th>4</th>\n",
       "      <td>4</td>\n",
       "      <td>0.540</td>\n",
       "      <td>0.993</td>\n",
       "      <td>11</td>\n",
       "      <td>-4.136</td>\n",
       "      <td>1</td>\n",
       "      <td>0.0958</td>\n",
       "      <td>0.000036</td>\n",
       "      <td>0.001530</td>\n",
       "      <td>0.3330</td>\n",
       "      <td>0.273</td>\n",
       "      <td>107.996</td>\n",
       "      <td>0wALhdvIu3D3h1qnSo214u</td>\n",
       "      <td>176544</td>\n",
       "      <td>3</td>\n",
       "    </tr>\n",
       "  </tbody>\n",
       "</table>\n",
       "</div>"
      ]
     },
     "metadata": {},
     "execution_count": 10
    }
   ],
   "metadata": {}
  },
  {
   "cell_type": "code",
   "execution_count": 11,
   "source": [
    "jazz = pd.read_csv('jazz_songs.csv')\n",
    "metal = pd.read_csv('metal_songs.csv')\n",
    "punk = pd.read_csv('punk_songs.csv')\n",
    "classical = pd.read_csv('classical_songs.csv')\n",
    "pop = pd.read_csv('pop_songs.csv')\n",
    "hiphop = pd.read_csv('hiphop_songs.csv')"
   ],
   "outputs": [],
   "metadata": {}
  },
  {
   "cell_type": "code",
   "execution_count": 12,
   "source": [
    "rock.shape"
   ],
   "outputs": [
    {
     "output_type": "execute_result",
     "data": {
      "text/plain": [
       "(23930, 15)"
      ]
     },
     "metadata": {},
     "execution_count": 12
    }
   ],
   "metadata": {}
  },
  {
   "cell_type": "code",
   "execution_count": 37,
   "source": [
    "df_songs = pd.concat([rock, jazz, metal, punk, classical, pop, hiphop], ignore_index=True, axis=0)"
   ],
   "outputs": [],
   "metadata": {}
  },
  {
   "cell_type": "code",
   "execution_count": 38,
   "source": [
    "df_songs.shape"
   ],
   "outputs": [
    {
     "output_type": "execute_result",
     "data": {
      "text/plain": [
       "(113279, 15)"
      ]
     },
     "metadata": {},
     "execution_count": 38
    }
   ],
   "metadata": {}
  },
  {
   "cell_type": "code",
   "execution_count": 39,
   "source": [
    "df_songs.duplicated(subset=['id']).value_counts()"
   ],
   "outputs": [
    {
     "output_type": "execute_result",
     "data": {
      "text/plain": [
       "False    103017\n",
       "True      10262\n",
       "dtype: int64"
      ]
     },
     "metadata": {},
     "execution_count": 39
    }
   ],
   "metadata": {}
  },
  {
   "cell_type": "code",
   "execution_count": 40,
   "source": [
    "df_songs.drop_duplicates(subset=['id'], inplace=True, ignore_index=True)"
   ],
   "outputs": [],
   "metadata": {}
  },
  {
   "cell_type": "code",
   "execution_count": 41,
   "source": [
    "df_songs.shape"
   ],
   "outputs": [
    {
     "output_type": "execute_result",
     "data": {
      "text/plain": [
       "(103017, 15)"
      ]
     },
     "metadata": {},
     "execution_count": 41
    }
   ],
   "metadata": {}
  },
  {
   "cell_type": "code",
   "execution_count": 42,
   "source": [
    "df_songs.tail()"
   ],
   "outputs": [
    {
     "output_type": "execute_result",
     "data": {
      "text/plain": [
       "        Unnamed: 0  danceability  energy  key  loudness  mode  speechiness  \\\n",
       "103012        8968         0.654   0.300    7    -6.800     1       0.0646   \n",
       "103013        8969         0.863   0.313    7   -10.359     1       0.1080   \n",
       "103014        8970         0.591   0.275    1    -8.007     0       0.1140   \n",
       "103015        8971         0.632   0.269   11    -9.024     1       0.0878   \n",
       "103016        8972         0.655   0.500    3    -5.622     0       0.1300   \n",
       "\n",
       "        acousticness  instrumentalness  liveness  valence    tempo  \\\n",
       "103012        0.7860             0.971    0.1070    0.311  175.956   \n",
       "103013        0.6300             0.891    0.1000    0.777   88.021   \n",
       "103014        0.2550             0.964    0.0626    0.852  187.063   \n",
       "103015        0.0660             0.894    0.1070    0.565  182.144   \n",
       "103016        0.0718             0.415    0.2000    0.621  162.370   \n",
       "\n",
       "                            id  duration_ms  time_signature  \n",
       "103012  0QkkafZWUaNecgzlD9bMoY       148125               4  \n",
       "103013  3IksdiASh2b06yxTwxj5bi        70300               4  \n",
       "103014  29Q8SKVRDyQvPO0CqMazj8       148944               4  \n",
       "103015  5wnRs4fnmiqNQcwwl7AL4Y       122382               4  \n",
       "103016  3OM7NZafi50mlHVhsAYYBu       184254               4  "
      ],
      "text/html": [
       "<div>\n",
       "<style scoped>\n",
       "    .dataframe tbody tr th:only-of-type {\n",
       "        vertical-align: middle;\n",
       "    }\n",
       "\n",
       "    .dataframe tbody tr th {\n",
       "        vertical-align: top;\n",
       "    }\n",
       "\n",
       "    .dataframe thead th {\n",
       "        text-align: right;\n",
       "    }\n",
       "</style>\n",
       "<table border=\"1\" class=\"dataframe\">\n",
       "  <thead>\n",
       "    <tr style=\"text-align: right;\">\n",
       "      <th></th>\n",
       "      <th>Unnamed: 0</th>\n",
       "      <th>danceability</th>\n",
       "      <th>energy</th>\n",
       "      <th>key</th>\n",
       "      <th>loudness</th>\n",
       "      <th>mode</th>\n",
       "      <th>speechiness</th>\n",
       "      <th>acousticness</th>\n",
       "      <th>instrumentalness</th>\n",
       "      <th>liveness</th>\n",
       "      <th>valence</th>\n",
       "      <th>tempo</th>\n",
       "      <th>id</th>\n",
       "      <th>duration_ms</th>\n",
       "      <th>time_signature</th>\n",
       "    </tr>\n",
       "  </thead>\n",
       "  <tbody>\n",
       "    <tr>\n",
       "      <th>103012</th>\n",
       "      <td>8968</td>\n",
       "      <td>0.654</td>\n",
       "      <td>0.300</td>\n",
       "      <td>7</td>\n",
       "      <td>-6.800</td>\n",
       "      <td>1</td>\n",
       "      <td>0.0646</td>\n",
       "      <td>0.7860</td>\n",
       "      <td>0.971</td>\n",
       "      <td>0.1070</td>\n",
       "      <td>0.311</td>\n",
       "      <td>175.956</td>\n",
       "      <td>0QkkafZWUaNecgzlD9bMoY</td>\n",
       "      <td>148125</td>\n",
       "      <td>4</td>\n",
       "    </tr>\n",
       "    <tr>\n",
       "      <th>103013</th>\n",
       "      <td>8969</td>\n",
       "      <td>0.863</td>\n",
       "      <td>0.313</td>\n",
       "      <td>7</td>\n",
       "      <td>-10.359</td>\n",
       "      <td>1</td>\n",
       "      <td>0.1080</td>\n",
       "      <td>0.6300</td>\n",
       "      <td>0.891</td>\n",
       "      <td>0.1000</td>\n",
       "      <td>0.777</td>\n",
       "      <td>88.021</td>\n",
       "      <td>3IksdiASh2b06yxTwxj5bi</td>\n",
       "      <td>70300</td>\n",
       "      <td>4</td>\n",
       "    </tr>\n",
       "    <tr>\n",
       "      <th>103014</th>\n",
       "      <td>8970</td>\n",
       "      <td>0.591</td>\n",
       "      <td>0.275</td>\n",
       "      <td>1</td>\n",
       "      <td>-8.007</td>\n",
       "      <td>0</td>\n",
       "      <td>0.1140</td>\n",
       "      <td>0.2550</td>\n",
       "      <td>0.964</td>\n",
       "      <td>0.0626</td>\n",
       "      <td>0.852</td>\n",
       "      <td>187.063</td>\n",
       "      <td>29Q8SKVRDyQvPO0CqMazj8</td>\n",
       "      <td>148944</td>\n",
       "      <td>4</td>\n",
       "    </tr>\n",
       "    <tr>\n",
       "      <th>103015</th>\n",
       "      <td>8971</td>\n",
       "      <td>0.632</td>\n",
       "      <td>0.269</td>\n",
       "      <td>11</td>\n",
       "      <td>-9.024</td>\n",
       "      <td>1</td>\n",
       "      <td>0.0878</td>\n",
       "      <td>0.0660</td>\n",
       "      <td>0.894</td>\n",
       "      <td>0.1070</td>\n",
       "      <td>0.565</td>\n",
       "      <td>182.144</td>\n",
       "      <td>5wnRs4fnmiqNQcwwl7AL4Y</td>\n",
       "      <td>122382</td>\n",
       "      <td>4</td>\n",
       "    </tr>\n",
       "    <tr>\n",
       "      <th>103016</th>\n",
       "      <td>8972</td>\n",
       "      <td>0.655</td>\n",
       "      <td>0.500</td>\n",
       "      <td>3</td>\n",
       "      <td>-5.622</td>\n",
       "      <td>0</td>\n",
       "      <td>0.1300</td>\n",
       "      <td>0.0718</td>\n",
       "      <td>0.415</td>\n",
       "      <td>0.2000</td>\n",
       "      <td>0.621</td>\n",
       "      <td>162.370</td>\n",
       "      <td>3OM7NZafi50mlHVhsAYYBu</td>\n",
       "      <td>184254</td>\n",
       "      <td>4</td>\n",
       "    </tr>\n",
       "  </tbody>\n",
       "</table>\n",
       "</div>"
      ]
     },
     "metadata": {},
     "execution_count": 42
    }
   ],
   "metadata": {}
  },
  {
   "cell_type": "code",
   "execution_count": 43,
   "source": [
    "df_songs.shape"
   ],
   "outputs": [
    {
     "output_type": "execute_result",
     "data": {
      "text/plain": [
       "(103017, 15)"
      ]
     },
     "metadata": {},
     "execution_count": 43
    }
   ],
   "metadata": {}
  },
  {
   "cell_type": "code",
   "execution_count": 47,
   "source": [
    "df_songs.reset_index(drop=True, inplace=True)"
   ],
   "outputs": [],
   "metadata": {}
  },
  {
   "cell_type": "code",
   "execution_count": 44,
   "source": [
    "songs_ids = df_songs['id']"
   ],
   "outputs": [],
   "metadata": {}
  },
  {
   "cell_type": "code",
   "execution_count": 55,
   "source": [
    "songs_ids.tail()"
   ],
   "outputs": [
    {
     "output_type": "execute_result",
     "data": {
      "text/plain": [
       "103012    0QkkafZWUaNecgzlD9bMoY\n",
       "103013    3IksdiASh2b06yxTwxj5bi\n",
       "103014    29Q8SKVRDyQvPO0CqMazj8\n",
       "103015    5wnRs4fnmiqNQcwwl7AL4Y\n",
       "103016    3OM7NZafi50mlHVhsAYYBu\n",
       "Name: id, dtype: object"
      ]
     },
     "metadata": {},
     "execution_count": 55
    }
   ],
   "metadata": {}
  },
  {
   "cell_type": "code",
   "execution_count": 46,
   "source": [
    "df_songs.drop(['Unnamed: 0', 'id'], inplace=True, axis=1)"
   ],
   "outputs": [],
   "metadata": {}
  },
  {
   "cell_type": "code",
   "execution_count": 56,
   "source": [
    "df_songs.tail()"
   ],
   "outputs": [
    {
     "output_type": "execute_result",
     "data": {
      "text/plain": [
       "        danceability  energy  key  loudness  mode  speechiness  acousticness  \\\n",
       "103012         0.654   0.300    7    -6.800     1       0.0646        0.7860   \n",
       "103013         0.863   0.313    7   -10.359     1       0.1080        0.6300   \n",
       "103014         0.591   0.275    1    -8.007     0       0.1140        0.2550   \n",
       "103015         0.632   0.269   11    -9.024     1       0.0878        0.0660   \n",
       "103016         0.655   0.500    3    -5.622     0       0.1300        0.0718   \n",
       "\n",
       "        instrumentalness  liveness  valence    tempo  duration_ms  \\\n",
       "103012             0.971    0.1070    0.311  175.956       148125   \n",
       "103013             0.891    0.1000    0.777   88.021        70300   \n",
       "103014             0.964    0.0626    0.852  187.063       148944   \n",
       "103015             0.894    0.1070    0.565  182.144       122382   \n",
       "103016             0.415    0.2000    0.621  162.370       184254   \n",
       "\n",
       "        time_signature  \n",
       "103012               4  \n",
       "103013               4  \n",
       "103014               4  \n",
       "103015               4  \n",
       "103016               4  "
      ],
      "text/html": [
       "<div>\n",
       "<style scoped>\n",
       "    .dataframe tbody tr th:only-of-type {\n",
       "        vertical-align: middle;\n",
       "    }\n",
       "\n",
       "    .dataframe tbody tr th {\n",
       "        vertical-align: top;\n",
       "    }\n",
       "\n",
       "    .dataframe thead th {\n",
       "        text-align: right;\n",
       "    }\n",
       "</style>\n",
       "<table border=\"1\" class=\"dataframe\">\n",
       "  <thead>\n",
       "    <tr style=\"text-align: right;\">\n",
       "      <th></th>\n",
       "      <th>danceability</th>\n",
       "      <th>energy</th>\n",
       "      <th>key</th>\n",
       "      <th>loudness</th>\n",
       "      <th>mode</th>\n",
       "      <th>speechiness</th>\n",
       "      <th>acousticness</th>\n",
       "      <th>instrumentalness</th>\n",
       "      <th>liveness</th>\n",
       "      <th>valence</th>\n",
       "      <th>tempo</th>\n",
       "      <th>duration_ms</th>\n",
       "      <th>time_signature</th>\n",
       "    </tr>\n",
       "  </thead>\n",
       "  <tbody>\n",
       "    <tr>\n",
       "      <th>103012</th>\n",
       "      <td>0.654</td>\n",
       "      <td>0.300</td>\n",
       "      <td>7</td>\n",
       "      <td>-6.800</td>\n",
       "      <td>1</td>\n",
       "      <td>0.0646</td>\n",
       "      <td>0.7860</td>\n",
       "      <td>0.971</td>\n",
       "      <td>0.1070</td>\n",
       "      <td>0.311</td>\n",
       "      <td>175.956</td>\n",
       "      <td>148125</td>\n",
       "      <td>4</td>\n",
       "    </tr>\n",
       "    <tr>\n",
       "      <th>103013</th>\n",
       "      <td>0.863</td>\n",
       "      <td>0.313</td>\n",
       "      <td>7</td>\n",
       "      <td>-10.359</td>\n",
       "      <td>1</td>\n",
       "      <td>0.1080</td>\n",
       "      <td>0.6300</td>\n",
       "      <td>0.891</td>\n",
       "      <td>0.1000</td>\n",
       "      <td>0.777</td>\n",
       "      <td>88.021</td>\n",
       "      <td>70300</td>\n",
       "      <td>4</td>\n",
       "    </tr>\n",
       "    <tr>\n",
       "      <th>103014</th>\n",
       "      <td>0.591</td>\n",
       "      <td>0.275</td>\n",
       "      <td>1</td>\n",
       "      <td>-8.007</td>\n",
       "      <td>0</td>\n",
       "      <td>0.1140</td>\n",
       "      <td>0.2550</td>\n",
       "      <td>0.964</td>\n",
       "      <td>0.0626</td>\n",
       "      <td>0.852</td>\n",
       "      <td>187.063</td>\n",
       "      <td>148944</td>\n",
       "      <td>4</td>\n",
       "    </tr>\n",
       "    <tr>\n",
       "      <th>103015</th>\n",
       "      <td>0.632</td>\n",
       "      <td>0.269</td>\n",
       "      <td>11</td>\n",
       "      <td>-9.024</td>\n",
       "      <td>1</td>\n",
       "      <td>0.0878</td>\n",
       "      <td>0.0660</td>\n",
       "      <td>0.894</td>\n",
       "      <td>0.1070</td>\n",
       "      <td>0.565</td>\n",
       "      <td>182.144</td>\n",
       "      <td>122382</td>\n",
       "      <td>4</td>\n",
       "    </tr>\n",
       "    <tr>\n",
       "      <th>103016</th>\n",
       "      <td>0.655</td>\n",
       "      <td>0.500</td>\n",
       "      <td>3</td>\n",
       "      <td>-5.622</td>\n",
       "      <td>0</td>\n",
       "      <td>0.1300</td>\n",
       "      <td>0.0718</td>\n",
       "      <td>0.415</td>\n",
       "      <td>0.2000</td>\n",
       "      <td>0.621</td>\n",
       "      <td>162.370</td>\n",
       "      <td>184254</td>\n",
       "      <td>4</td>\n",
       "    </tr>\n",
       "  </tbody>\n",
       "</table>\n",
       "</div>"
      ]
     },
     "metadata": {},
     "execution_count": 56
    }
   ],
   "metadata": {}
  },
  {
   "cell_type": "code",
   "execution_count": 49,
   "source": [
    "df_songs.info()"
   ],
   "outputs": [
    {
     "output_type": "stream",
     "name": "stdout",
     "text": [
      "<class 'pandas.core.frame.DataFrame'>\n",
      "RangeIndex: 103017 entries, 0 to 103016\n",
      "Data columns (total 13 columns):\n",
      " #   Column            Non-Null Count   Dtype  \n",
      "---  ------            --------------   -----  \n",
      " 0   danceability      103017 non-null  float64\n",
      " 1   energy            103017 non-null  float64\n",
      " 2   key               103017 non-null  int64  \n",
      " 3   loudness          103017 non-null  float64\n",
      " 4   mode              103017 non-null  int64  \n",
      " 5   speechiness       103017 non-null  float64\n",
      " 6   acousticness      103017 non-null  float64\n",
      " 7   instrumentalness  103017 non-null  float64\n",
      " 8   liveness          103017 non-null  float64\n",
      " 9   valence           103017 non-null  float64\n",
      " 10  tempo             103017 non-null  float64\n",
      " 11  duration_ms       103017 non-null  int64  \n",
      " 12  time_signature    103017 non-null  int64  \n",
      "dtypes: float64(9), int64(4)\n",
      "memory usage: 10.2 MB\n"
     ]
    }
   ],
   "metadata": {}
  },
  {
   "cell_type": "markdown",
   "source": [
    "# Prototype 1"
   ],
   "metadata": {}
  },
  {
   "cell_type": "code",
   "execution_count": null,
   "source": [
    "def recommender():\n",
    "   song = input('Enter a title of a song:')\n",
    "   if song in top_100.title.values:\n",
    "      next = randint(0, (len(top_100)))\n",
    "      print('Maybe you will like ' + '\"' + top_100['title'][next] + '\"')\n",
    "   else:\n",
    "      print('nope')"
   ],
   "outputs": [],
   "metadata": {}
  },
  {
   "cell_type": "code",
   "execution_count": null,
   "source": [
    "#recommender()"
   ],
   "outputs": [
    {
     "output_type": "stream",
     "name": "stdout",
     "text": [
      "nope\n"
     ]
    }
   ],
   "metadata": {}
  },
  {
   "cell_type": "markdown",
   "source": [
    "# Prototype 2"
   ],
   "metadata": {}
  },
  {
   "cell_type": "code",
   "execution_count": 50,
   "source": [
    "from sklearn.preprocessing import StandardScaler\n",
    "from sklearn.cluster import KMeans\n",
    "import matplotlib.pyplot as plt\n",
    "import numpy as np\n",
    "from sklearn.metrics import silhouette_score\n",
    "%matplotlib inline"
   ],
   "outputs": [],
   "metadata": {}
  },
  {
   "cell_type": "code",
   "execution_count": 57,
   "source": [
    "scaler = StandardScaler().fit(df_songs)\n",
    "scaled = scaler.transform(df_songs)"
   ],
   "outputs": [],
   "metadata": {}
  },
  {
   "cell_type": "code",
   "execution_count": 58,
   "source": [
    "df_scaled = pd.DataFrame(scaled)\n",
    "df_scaled.head()"
   ],
   "outputs": [
    {
     "output_type": "execute_result",
     "data": {
      "text/plain": [
       "         0         1         2         3         4         5         6   \\\n",
       "0  0.048460  1.385044 -0.333833  0.968806  0.742510 -0.040903 -0.890128   \n",
       "1 -0.265791  1.317343 -0.333833  0.875336  0.742510 -0.098274 -0.889507   \n",
       "2  0.172975  1.159373  1.657329  0.781664 -1.346784 -0.354853 -0.892280   \n",
       "3 -0.093842  0.802062  0.519522  0.635213  0.742510 -0.559638 -0.889820   \n",
       "4  0.089965  1.366238  1.657329  0.935769  0.742510 -0.015404 -0.892678   \n",
       "\n",
       "         7         8         9         10        11        12  \n",
       "0 -0.485872 -0.167706  0.142417  1.001850 -0.318407  0.219814  \n",
       "1 -0.485877 -0.199396  1.059687 -1.521630 -0.698206  0.219814  \n",
       "2 -0.485867 -0.492523 -0.282556 -0.774364 -0.327714  0.219814  \n",
       "3 -0.485834 -0.725441  0.049849  1.202145  0.176984  0.219814  \n",
       "4 -0.480393  0.244256 -0.816929 -0.392950 -0.585529 -2.032260  "
      ],
      "text/html": [
       "<div>\n",
       "<style scoped>\n",
       "    .dataframe tbody tr th:only-of-type {\n",
       "        vertical-align: middle;\n",
       "    }\n",
       "\n",
       "    .dataframe tbody tr th {\n",
       "        vertical-align: top;\n",
       "    }\n",
       "\n",
       "    .dataframe thead th {\n",
       "        text-align: right;\n",
       "    }\n",
       "</style>\n",
       "<table border=\"1\" class=\"dataframe\">\n",
       "  <thead>\n",
       "    <tr style=\"text-align: right;\">\n",
       "      <th></th>\n",
       "      <th>0</th>\n",
       "      <th>1</th>\n",
       "      <th>2</th>\n",
       "      <th>3</th>\n",
       "      <th>4</th>\n",
       "      <th>5</th>\n",
       "      <th>6</th>\n",
       "      <th>7</th>\n",
       "      <th>8</th>\n",
       "      <th>9</th>\n",
       "      <th>10</th>\n",
       "      <th>11</th>\n",
       "      <th>12</th>\n",
       "    </tr>\n",
       "  </thead>\n",
       "  <tbody>\n",
       "    <tr>\n",
       "      <th>0</th>\n",
       "      <td>0.048460</td>\n",
       "      <td>1.385044</td>\n",
       "      <td>-0.333833</td>\n",
       "      <td>0.968806</td>\n",
       "      <td>0.742510</td>\n",
       "      <td>-0.040903</td>\n",
       "      <td>-0.890128</td>\n",
       "      <td>-0.485872</td>\n",
       "      <td>-0.167706</td>\n",
       "      <td>0.142417</td>\n",
       "      <td>1.001850</td>\n",
       "      <td>-0.318407</td>\n",
       "      <td>0.219814</td>\n",
       "    </tr>\n",
       "    <tr>\n",
       "      <th>1</th>\n",
       "      <td>-0.265791</td>\n",
       "      <td>1.317343</td>\n",
       "      <td>-0.333833</td>\n",
       "      <td>0.875336</td>\n",
       "      <td>0.742510</td>\n",
       "      <td>-0.098274</td>\n",
       "      <td>-0.889507</td>\n",
       "      <td>-0.485877</td>\n",
       "      <td>-0.199396</td>\n",
       "      <td>1.059687</td>\n",
       "      <td>-1.521630</td>\n",
       "      <td>-0.698206</td>\n",
       "      <td>0.219814</td>\n",
       "    </tr>\n",
       "    <tr>\n",
       "      <th>2</th>\n",
       "      <td>0.172975</td>\n",
       "      <td>1.159373</td>\n",
       "      <td>1.657329</td>\n",
       "      <td>0.781664</td>\n",
       "      <td>-1.346784</td>\n",
       "      <td>-0.354853</td>\n",
       "      <td>-0.892280</td>\n",
       "      <td>-0.485867</td>\n",
       "      <td>-0.492523</td>\n",
       "      <td>-0.282556</td>\n",
       "      <td>-0.774364</td>\n",
       "      <td>-0.327714</td>\n",
       "      <td>0.219814</td>\n",
       "    </tr>\n",
       "    <tr>\n",
       "      <th>3</th>\n",
       "      <td>-0.093842</td>\n",
       "      <td>0.802062</td>\n",
       "      <td>0.519522</td>\n",
       "      <td>0.635213</td>\n",
       "      <td>0.742510</td>\n",
       "      <td>-0.559638</td>\n",
       "      <td>-0.889820</td>\n",
       "      <td>-0.485834</td>\n",
       "      <td>-0.725441</td>\n",
       "      <td>0.049849</td>\n",
       "      <td>1.202145</td>\n",
       "      <td>0.176984</td>\n",
       "      <td>0.219814</td>\n",
       "    </tr>\n",
       "    <tr>\n",
       "      <th>4</th>\n",
       "      <td>0.089965</td>\n",
       "      <td>1.366238</td>\n",
       "      <td>1.657329</td>\n",
       "      <td>0.935769</td>\n",
       "      <td>0.742510</td>\n",
       "      <td>-0.015404</td>\n",
       "      <td>-0.892678</td>\n",
       "      <td>-0.480393</td>\n",
       "      <td>0.244256</td>\n",
       "      <td>-0.816929</td>\n",
       "      <td>-0.392950</td>\n",
       "      <td>-0.585529</td>\n",
       "      <td>-2.032260</td>\n",
       "    </tr>\n",
       "  </tbody>\n",
       "</table>\n",
       "</div>"
      ]
     },
     "metadata": {},
     "execution_count": 58
    }
   ],
   "metadata": {}
  },
  {
   "cell_type": "code",
   "execution_count": 59,
   "source": [
    "df_scaled.hist(figsize=(15, 15))"
   ],
   "outputs": [
    {
     "output_type": "stream",
     "name": "stderr",
     "text": [
      "/Library/Frameworks/Python.framework/Versions/3.9/lib/python3.9/site-packages/pandas/plotting/_matplotlib/tools.py:400: MatplotlibDeprecationWarning: \n",
      "The is_first_col function was deprecated in Matplotlib 3.4 and will be removed two minor releases later. Use ax.get_subplotspec().is_first_col() instead.\n",
      "  if ax.is_first_col():\n"
     ]
    },
    {
     "output_type": "execute_result",
     "data": {
      "text/plain": [
       "array([[<AxesSubplot:title={'center':'0'}>,\n",
       "        <AxesSubplot:title={'center':'1'}>,\n",
       "        <AxesSubplot:title={'center':'2'}>,\n",
       "        <AxesSubplot:title={'center':'3'}>],\n",
       "       [<AxesSubplot:title={'center':'4'}>,\n",
       "        <AxesSubplot:title={'center':'5'}>,\n",
       "        <AxesSubplot:title={'center':'6'}>,\n",
       "        <AxesSubplot:title={'center':'7'}>],\n",
       "       [<AxesSubplot:title={'center':'8'}>,\n",
       "        <AxesSubplot:title={'center':'9'}>,\n",
       "        <AxesSubplot:title={'center':'10'}>,\n",
       "        <AxesSubplot:title={'center':'11'}>],\n",
       "       [<AxesSubplot:title={'center':'12'}>, <AxesSubplot:>,\n",
       "        <AxesSubplot:>, <AxesSubplot:>]], dtype=object)"
      ]
     },
     "metadata": {},
     "execution_count": 59
    },
    {
     "output_type": "display_data",
     "data": {
      "text/plain": [
       "<Figure size 1080x1080 with 16 Axes>"
      ],
      "image/png": "[encoded data removed]"
     },
     "metadata": {
      "needs_background": "light"
     }
    }
   ],
   "metadata": {}
  },
  {
   "cell_type": "code",
   "execution_count": 63,
   "source": [
    "kmeans = KMeans(n_clusters=10, random_state=88, max_iter=500).fit(df_scaled)"
   ],
   "outputs": [],
   "metadata": {}
  },
  {
   "cell_type": "code",
   "execution_count": 64,
   "source": [
    "clusters = kmeans.predict(df_scaled)"
   ],
   "outputs": [],
   "metadata": {}
  },
  {
   "cell_type": "code",
   "execution_count": 65,
   "source": [
    "pd.Series(clusters).value_counts().sort_index()"
   ],
   "outputs": [
    {
     "output_type": "execute_result",
     "data": {
      "text/plain": [
       "0    22145\n",
       "1    16145\n",
       "2    17389\n",
       "3     1018\n",
       "4    18463\n",
       "5     8098\n",
       "6     5047\n",
       "7     9750\n",
       "8     1987\n",
       "9     2975\n",
       "dtype: int64"
      ]
     },
     "metadata": {},
     "execution_count": 65
    }
   ],
   "metadata": {}
  },
  {
   "cell_type": "code",
   "execution_count": 66,
   "source": [
    "df_cluster = pd.DataFrame(df_songs)\n",
    "df_cluster['cluster'] = clusters\n",
    "df_cluster.head()"
   ],
   "outputs": [
    {
     "output_type": "execute_result",
     "data": {
      "text/plain": [
       "   danceability  energy  key  loudness  mode  speechiness  acousticness  \\\n",
       "0         0.533   0.998    4    -3.972     1       0.0926      0.000932   \n",
       "1         0.480   0.980    4    -4.436     1       0.0854      0.001150   \n",
       "2         0.554   0.938   11    -4.901     0       0.0532      0.000176   \n",
       "3         0.509   0.843    7    -5.628     1       0.0275      0.001040   \n",
       "4         0.540   0.993   11    -4.136     1       0.0958      0.000036   \n",
       "\n",
       "   instrumentalness  liveness  valence    tempo  duration_ms  time_signature  \\\n",
       "0          0.000001    0.2290    0.501  150.036       210900               4   \n",
       "1          0.000000    0.2210    0.719   73.977       162052               4   \n",
       "2          0.000003    0.1470    0.400   96.500       209703               4   \n",
       "3          0.000012    0.0882    0.479  156.073       274615               4   \n",
       "4          0.001530    0.3330    0.273  107.996       176544               3   \n",
       "\n",
       "   cluster  \n",
       "0        1  \n",
       "1        0  \n",
       "2        4  \n",
       "3        1  \n",
       "4        1  "
      ],
      "text/html": [
       "<div>\n",
       "<style scoped>\n",
       "    .dataframe tbody tr th:only-of-type {\n",
       "        vertical-align: middle;\n",
       "    }\n",
       "\n",
       "    .dataframe tbody tr th {\n",
       "        vertical-align: top;\n",
       "    }\n",
       "\n",
       "    .dataframe thead th {\n",
       "        text-align: right;\n",
       "    }\n",
       "</style>\n",
       "<table border=\"1\" class=\"dataframe\">\n",
       "  <thead>\n",
       "    <tr style=\"text-align: right;\">\n",
       "      <th></th>\n",
       "      <th>danceability</th>\n",
       "      <th>energy</th>\n",
       "      <th>key</th>\n",
       "      <th>loudness</th>\n",
       "      <th>mode</th>\n",
       "      <th>speechiness</th>\n",
       "      <th>acousticness</th>\n",
       "      <th>instrumentalness</th>\n",
       "      <th>liveness</th>\n",
       "      <th>valence</th>\n",
       "      <th>tempo</th>\n",
       "      <th>duration_ms</th>\n",
       "      <th>time_signature</th>\n",
       "      <th>cluster</th>\n",
       "    </tr>\n",
       "  </thead>\n",
       "  <tbody>\n",
       "    <tr>\n",
       "      <th>0</th>\n",
       "      <td>0.533</td>\n",
       "      <td>0.998</td>\n",
       "      <td>4</td>\n",
       "      <td>-3.972</td>\n",
       "      <td>1</td>\n",
       "      <td>0.0926</td>\n",
       "      <td>0.000932</td>\n",
       "      <td>0.000001</td>\n",
       "      <td>0.2290</td>\n",
       "      <td>0.501</td>\n",
       "      <td>150.036</td>\n",
       "      <td>210900</td>\n",
       "      <td>4</td>\n",
       "      <td>1</td>\n",
       "    </tr>\n",
       "    <tr>\n",
       "      <th>1</th>\n",
       "      <td>0.480</td>\n",
       "      <td>0.980</td>\n",
       "      <td>4</td>\n",
       "      <td>-4.436</td>\n",
       "      <td>1</td>\n",
       "      <td>0.0854</td>\n",
       "      <td>0.001150</td>\n",
       "      <td>0.000000</td>\n",
       "      <td>0.2210</td>\n",
       "      <td>0.719</td>\n",
       "      <td>73.977</td>\n",
       "      <td>162052</td>\n",
       "      <td>4</td>\n",
       "      <td>0</td>\n",
       "    </tr>\n",
       "    <tr>\n",
       "      <th>2</th>\n",
       "      <td>0.554</td>\n",
       "      <td>0.938</td>\n",
       "      <td>11</td>\n",
       "      <td>-4.901</td>\n",
       "      <td>0</td>\n",
       "      <td>0.0532</td>\n",
       "      <td>0.000176</td>\n",
       "      <td>0.000003</td>\n",
       "      <td>0.1470</td>\n",
       "      <td>0.400</td>\n",
       "      <td>96.500</td>\n",
       "      <td>209703</td>\n",
       "      <td>4</td>\n",
       "      <td>4</td>\n",
       "    </tr>\n",
       "    <tr>\n",
       "      <th>3</th>\n",
       "      <td>0.509</td>\n",
       "      <td>0.843</td>\n",
       "      <td>7</td>\n",
       "      <td>-5.628</td>\n",
       "      <td>1</td>\n",
       "      <td>0.0275</td>\n",
       "      <td>0.001040</td>\n",
       "      <td>0.000012</td>\n",
       "      <td>0.0882</td>\n",
       "      <td>0.479</td>\n",
       "      <td>156.073</td>\n",
       "      <td>274615</td>\n",
       "      <td>4</td>\n",
       "      <td>1</td>\n",
       "    </tr>\n",
       "    <tr>\n",
       "      <th>4</th>\n",
       "      <td>0.540</td>\n",
       "      <td>0.993</td>\n",
       "      <td>11</td>\n",
       "      <td>-4.136</td>\n",
       "      <td>1</td>\n",
       "      <td>0.0958</td>\n",
       "      <td>0.000036</td>\n",
       "      <td>0.001530</td>\n",
       "      <td>0.3330</td>\n",
       "      <td>0.273</td>\n",
       "      <td>107.996</td>\n",
       "      <td>176544</td>\n",
       "      <td>3</td>\n",
       "      <td>1</td>\n",
       "    </tr>\n",
       "  </tbody>\n",
       "</table>\n",
       "</div>"
      ]
     },
     "metadata": {},
     "execution_count": 66
    }
   ],
   "metadata": {}
  },
  {
   "cell_type": "code",
   "execution_count": 67,
   "source": [
    "inertia = []\n",
    "K = range(2, 20)\n",
    "for x in K:\n",
    "    kmeans = KMeans(n_clusters=x,\n",
    "                    init=\"random\",\n",
    "                    n_init=6,  # try with 1, 4, 8, 20, 30, 100...\n",
    "                    max_iter=500,\n",
    "                    tol=0,\n",
    "                    algorithm=\"full\",\n",
    "                    random_state=88)\n",
    "    kmeans.fit(df_scaled)\n",
    "    inertia.append(kmeans.inertia_)"
   ],
   "outputs": [],
   "metadata": {}
  },
  {
   "cell_type": "code",
   "execution_count": 68,
   "source": [
    "plt.figure(figsize=(16,8))\n",
    "plt.plot(K, inertia, 'bx-')\n",
    "plt.xlabel('k')\n",
    "plt.ylabel('inertia')\n",
    "plt.xticks(np.arange(min(K), max(K)+1, 1.0))\n",
    "plt.title('Elbow Method showing the optimal k')"
   ],
   "outputs": [
    {
     "output_type": "execute_result",
     "data": {
      "text/plain": [
       "Text(0.5, 1.0, 'Elbow Method showing the optimal k')"
      ]
     },
     "metadata": {},
     "execution_count": 68
    },
    {
     "output_type": "display_data",
     "data": {
      "text/plain": [
       "<Figure size 1152x576 with 1 Axes>"
      ],
      "image/png": "[encoded data removed]"
     },
     "metadata": {
      "needs_background": "light"
     }
    }
   ],
   "metadata": {}
  },
  {
   "cell_type": "code",
   "execution_count": 70,
   "source": [
    "K = range(2, 20)\n",
    "\n",
    "silhouettes = []\n",
    "\n",
    "for x in tqdm(K):\n",
    "    kmeans = KMeans(n_clusters=x,\n",
    "                    init=\"random\",\n",
    "                    n_init=6,  # try with 1, 4, 8, 20, 30, 100...\n",
    "                    max_iter=500,\n",
    "                    tol=0,\n",
    "                    algorithm=\"full\",\n",
    "                    random_state=88)\n",
    "    kmeans.fit(df_scaled)\n",
    "    silhouettes.append(silhouette_score(df_scaled, kmeans.predict(df_scaled)))"
   ],
   "outputs": [
    {
     "output_type": "display_data",
     "data": {
      "text/plain": [
       "  0%|          | 0/18 [00:00<?, ?it/s]"
      ],
      "application/vnd.jupyter.widget-view+json": {
       "version_major": 2,
       "version_minor": 0,
       "model_id": "db6ae85cbdfd4d1298dc01e935234e52"
      }
     },
     "metadata": {}
    },
    {
     "output_type": "error",
     "ename": "KeyboardInterrupt",
     "evalue": "",
     "traceback": [
      "\u001b[0;31m---------------------------------------------------------------------------\u001b[0m",
      "\u001b[0;31mKeyboardInterrupt\u001b[0m                         Traceback (most recent call last)",
      "\u001b[0;32m<ipython-input-70-1547af2588ce>\u001b[0m in \u001b[0;36m<module>\u001b[0;34m\u001b[0m\n\u001b[1;32m     12\u001b[0m                     random_state=88)\n\u001b[1;32m     13\u001b[0m     \u001b[0mkmeans\u001b[0m\u001b[0;34m.\u001b[0m\u001b[0mfit\u001b[0m\u001b[0;34m(\u001b[0m\u001b[0mdf_scaled\u001b[0m\u001b[0;34m)\u001b[0m\u001b[0;34m\u001b[0m\u001b[0;34m\u001b[0m\u001b[0m\n\u001b[0;32m---> 14\u001b[0;31m     \u001b[0msilhouettes\u001b[0m\u001b[0;34m.\u001b[0m\u001b[0mappend\u001b[0m\u001b[0;34m(\u001b[0m\u001b[0msilhouette_score\u001b[0m\u001b[0;34m(\u001b[0m\u001b[0mdf_scaled\u001b[0m\u001b[0;34m,\u001b[0m \u001b[0mkmeans\u001b[0m\u001b[0;34m.\u001b[0m\u001b[0mpredict\u001b[0m\u001b[0;34m(\u001b[0m\u001b[0mdf_scaled\u001b[0m\u001b[0;34m)\u001b[0m\u001b[0;34m)\u001b[0m\u001b[0;34m)\u001b[0m\u001b[0;34m\u001b[0m\u001b[0;34m\u001b[0m\u001b[0m\n\u001b[0m",
      "\u001b[0;32m/Library/Frameworks/Python.framework/Versions/3.9/lib/python3.9/site-packages/sklearn/utils/validation.py\u001b[0m in \u001b[0;36minner_f\u001b[0;34m(*args, **kwargs)\u001b[0m\n\u001b[1;32m     61\u001b[0m             \u001b[0mextra_args\u001b[0m \u001b[0;34m=\u001b[0m \u001b[0mlen\u001b[0m\u001b[0;34m(\u001b[0m\u001b[0margs\u001b[0m\u001b[0;34m)\u001b[0m \u001b[0;34m-\u001b[0m \u001b[0mlen\u001b[0m\u001b[0;34m(\u001b[0m\u001b[0mall_args\u001b[0m\u001b[0;34m)\u001b[0m\u001b[0;34m\u001b[0m\u001b[0;34m\u001b[0m\u001b[0m\n\u001b[1;32m     62\u001b[0m             \u001b[0;32mif\u001b[0m \u001b[0mextra_args\u001b[0m \u001b[0;34m<=\u001b[0m \u001b[0;36m0\u001b[0m\u001b[0;34m:\u001b[0m\u001b[0;34m\u001b[0m\u001b[0;34m\u001b[0m\u001b[0m\n\u001b[0;32m---> 63\u001b[0;31m                 \u001b[0;32mreturn\u001b[0m \u001b[0mf\u001b[0m\u001b[0;34m(\u001b[0m\u001b[0;34m*\u001b[0m\u001b[0margs\u001b[0m\u001b[0;34m,\u001b[0m \u001b[0;34m**\u001b[0m\u001b[0mkwargs\u001b[0m\u001b[0;34m)\u001b[0m\u001b[0;34m\u001b[0m\u001b[0;34m\u001b[0m\u001b[0m\n\u001b[0m\u001b[1;32m     64\u001b[0m \u001b[0;34m\u001b[0m\u001b[0m\n\u001b[1;32m     65\u001b[0m             \u001b[0;31m# extra_args > 0\u001b[0m\u001b[0;34m\u001b[0m\u001b[0;34m\u001b[0m\u001b[0;34m\u001b[0m\u001b[0m\n",
      "\u001b[0;32m/Library/Frameworks/Python.framework/Versions/3.9/lib/python3.9/site-packages/sklearn/metrics/cluster/_unsupervised.py\u001b[0m in \u001b[0;36msilhouette_score\u001b[0;34m(X, labels, metric, sample_size, random_state, **kwds)\u001b[0m\n\u001b[1;32m    115\u001b[0m         \u001b[0;32melse\u001b[0m\u001b[0;34m:\u001b[0m\u001b[0;34m\u001b[0m\u001b[0;34m\u001b[0m\u001b[0m\n\u001b[1;32m    116\u001b[0m             \u001b[0mX\u001b[0m\u001b[0;34m,\u001b[0m \u001b[0mlabels\u001b[0m \u001b[0;34m=\u001b[0m \u001b[0mX\u001b[0m\u001b[0;34m[\u001b[0m\u001b[0mindices\u001b[0m\u001b[0;34m]\u001b[0m\u001b[0;34m,\u001b[0m \u001b[0mlabels\u001b[0m\u001b[0;34m[\u001b[0m\u001b[0mindices\u001b[0m\u001b[0;34m]\u001b[0m\u001b[0;34m\u001b[0m\u001b[0;34m\u001b[0m\u001b[0m\n\u001b[0;32m--> 117\u001b[0;31m     \u001b[0;32mreturn\u001b[0m \u001b[0mnp\u001b[0m\u001b[0;34m.\u001b[0m\u001b[0mmean\u001b[0m\u001b[0;34m(\u001b[0m\u001b[0msilhouette_samples\u001b[0m\u001b[0;34m(\u001b[0m\u001b[0mX\u001b[0m\u001b[0;34m,\u001b[0m \u001b[0mlabels\u001b[0m\u001b[0;34m,\u001b[0m \u001b[0mmetric\u001b[0m\u001b[0;34m=\u001b[0m\u001b[0mmetric\u001b[0m\u001b[0;34m,\u001b[0m \u001b[0;34m**\u001b[0m\u001b[0mkwds\u001b[0m\u001b[0;34m)\u001b[0m\u001b[0;34m)\u001b[0m\u001b[0;34m\u001b[0m\u001b[0;34m\u001b[0m\u001b[0m\n\u001b[0m\u001b[1;32m    118\u001b[0m \u001b[0;34m\u001b[0m\u001b[0m\n\u001b[1;32m    119\u001b[0m \u001b[0;34m\u001b[0m\u001b[0m\n",
      "\u001b[0;32m/Library/Frameworks/Python.framework/Versions/3.9/lib/python3.9/site-packages/sklearn/utils/validation.py\u001b[0m in \u001b[0;36minner_f\u001b[0;34m(*args, **kwargs)\u001b[0m\n\u001b[1;32m     61\u001b[0m             \u001b[0mextra_args\u001b[0m \u001b[0;34m=\u001b[0m \u001b[0mlen\u001b[0m\u001b[0;34m(\u001b[0m\u001b[0margs\u001b[0m\u001b[0;34m)\u001b[0m \u001b[0;34m-\u001b[0m \u001b[0mlen\u001b[0m\u001b[0;34m(\u001b[0m\u001b[0mall_args\u001b[0m\u001b[0;34m)\u001b[0m\u001b[0;34m\u001b[0m\u001b[0;34m\u001b[0m\u001b[0m\n\u001b[1;32m     62\u001b[0m             \u001b[0;32mif\u001b[0m \u001b[0mextra_args\u001b[0m \u001b[0;34m<=\u001b[0m \u001b[0;36m0\u001b[0m\u001b[0;34m:\u001b[0m\u001b[0;34m\u001b[0m\u001b[0;34m\u001b[0m\u001b[0m\n\u001b[0;32m---> 63\u001b[0;31m                 \u001b[0;32mreturn\u001b[0m \u001b[0mf\u001b[0m\u001b[0;34m(\u001b[0m\u001b[0;34m*\u001b[0m\u001b[0margs\u001b[0m\u001b[0;34m,\u001b[0m \u001b[0;34m**\u001b[0m\u001b[0mkwargs\u001b[0m\u001b[0;34m)\u001b[0m\u001b[0;34m\u001b[0m\u001b[0;34m\u001b[0m\u001b[0m\n\u001b[0m\u001b[1;32m     64\u001b[0m \u001b[0;34m\u001b[0m\u001b[0m\n\u001b[1;32m     65\u001b[0m             \u001b[0;31m# extra_args > 0\u001b[0m\u001b[0;34m\u001b[0m\u001b[0;34m\u001b[0m\u001b[0;34m\u001b[0m\u001b[0m\n",
      "\u001b[0;32m/Library/Frameworks/Python.framework/Versions/3.9/lib/python3.9/site-packages/sklearn/metrics/cluster/_unsupervised.py\u001b[0m in \u001b[0;36msilhouette_samples\u001b[0;34m(X, labels, metric, **kwds)\u001b[0m\n\u001b[1;32m    232\u001b[0m     reduce_func = functools.partial(_silhouette_reduce,\n\u001b[1;32m    233\u001b[0m                                     labels=labels, label_freqs=label_freqs)\n\u001b[0;32m--> 234\u001b[0;31m     results = zip(*pairwise_distances_chunked(X, reduce_func=reduce_func,\n\u001b[0m\u001b[1;32m    235\u001b[0m                                               **kwds))\n\u001b[1;32m    236\u001b[0m     \u001b[0mintra_clust_dists\u001b[0m\u001b[0;34m,\u001b[0m \u001b[0minter_clust_dists\u001b[0m \u001b[0;34m=\u001b[0m \u001b[0mresults\u001b[0m\u001b[0;34m\u001b[0m\u001b[0;34m\u001b[0m\u001b[0m\n",
      "\u001b[0;32m/Library/Frameworks/Python.framework/Versions/3.9/lib/python3.9/site-packages/sklearn/metrics/pairwise.py\u001b[0m in \u001b[0;36mpairwise_distances_chunked\u001b[0;34m(X, Y, reduce_func, metric, n_jobs, working_memory, **kwds)\u001b[0m\n\u001b[1;32m   1621\u001b[0m         \u001b[0;32melse\u001b[0m\u001b[0;34m:\u001b[0m\u001b[0;34m\u001b[0m\u001b[0;34m\u001b[0m\u001b[0m\n\u001b[1;32m   1622\u001b[0m             \u001b[0mX_chunk\u001b[0m \u001b[0;34m=\u001b[0m \u001b[0mX\u001b[0m\u001b[0;34m[\u001b[0m\u001b[0msl\u001b[0m\u001b[0;34m]\u001b[0m\u001b[0;34m\u001b[0m\u001b[0;34m\u001b[0m\u001b[0m\n\u001b[0;32m-> 1623\u001b[0;31m         D_chunk = pairwise_distances(X_chunk, Y, metric=metric,\n\u001b[0m\u001b[1;32m   1624\u001b[0m                                      n_jobs=n_jobs, **kwds)\n\u001b[1;32m   1625\u001b[0m         if ((X is Y or Y is None)\n",
      "\u001b[0;32m/Library/Frameworks/Python.framework/Versions/3.9/lib/python3.9/site-packages/sklearn/utils/validation.py\u001b[0m in \u001b[0;36minner_f\u001b[0;34m(*args, **kwargs)\u001b[0m\n\u001b[1;32m     61\u001b[0m             \u001b[0mextra_args\u001b[0m \u001b[0;34m=\u001b[0m \u001b[0mlen\u001b[0m\u001b[0;34m(\u001b[0m\u001b[0margs\u001b[0m\u001b[0;34m)\u001b[0m \u001b[0;34m-\u001b[0m \u001b[0mlen\u001b[0m\u001b[0;34m(\u001b[0m\u001b[0mall_args\u001b[0m\u001b[0;34m)\u001b[0m\u001b[0;34m\u001b[0m\u001b[0;34m\u001b[0m\u001b[0m\n\u001b[1;32m     62\u001b[0m             \u001b[0;32mif\u001b[0m \u001b[0mextra_args\u001b[0m \u001b[0;34m<=\u001b[0m \u001b[0;36m0\u001b[0m\u001b[0;34m:\u001b[0m\u001b[0;34m\u001b[0m\u001b[0;34m\u001b[0m\u001b[0m\n\u001b[0;32m---> 63\u001b[0;31m                 \u001b[0;32mreturn\u001b[0m \u001b[0mf\u001b[0m\u001b[0;34m(\u001b[0m\u001b[0;34m*\u001b[0m\u001b[0margs\u001b[0m\u001b[0;34m,\u001b[0m \u001b[0;34m**\u001b[0m\u001b[0mkwargs\u001b[0m\u001b[0;34m)\u001b[0m\u001b[0;34m\u001b[0m\u001b[0;34m\u001b[0m\u001b[0m\n\u001b[0m\u001b[1;32m     64\u001b[0m \u001b[0;34m\u001b[0m\u001b[0m\n\u001b[1;32m     65\u001b[0m             \u001b[0;31m# extra_args > 0\u001b[0m\u001b[0;34m\u001b[0m\u001b[0;34m\u001b[0m\u001b[0;34m\u001b[0m\u001b[0m\n",
      "\u001b[0;32m/Library/Frameworks/Python.framework/Versions/3.9/lib/python3.9/site-packages/sklearn/metrics/pairwise.py\u001b[0m in \u001b[0;36mpairwise_distances\u001b[0;34m(X, Y, metric, n_jobs, force_all_finite, **kwds)\u001b[0m\n\u001b[1;32m   1788\u001b[0m         \u001b[0mfunc\u001b[0m \u001b[0;34m=\u001b[0m \u001b[0mpartial\u001b[0m\u001b[0;34m(\u001b[0m\u001b[0mdistance\u001b[0m\u001b[0;34m.\u001b[0m\u001b[0mcdist\u001b[0m\u001b[0;34m,\u001b[0m \u001b[0mmetric\u001b[0m\u001b[0;34m=\u001b[0m\u001b[0mmetric\u001b[0m\u001b[0;34m,\u001b[0m \u001b[0;34m**\u001b[0m\u001b[0mkwds\u001b[0m\u001b[0;34m)\u001b[0m\u001b[0;34m\u001b[0m\u001b[0;34m\u001b[0m\u001b[0m\n\u001b[1;32m   1789\u001b[0m \u001b[0;34m\u001b[0m\u001b[0m\n\u001b[0;32m-> 1790\u001b[0;31m     \u001b[0;32mreturn\u001b[0m \u001b[0m_parallel_pairwise\u001b[0m\u001b[0;34m(\u001b[0m\u001b[0mX\u001b[0m\u001b[0;34m,\u001b[0m \u001b[0mY\u001b[0m\u001b[0;34m,\u001b[0m \u001b[0mfunc\u001b[0m\u001b[0;34m,\u001b[0m \u001b[0mn_jobs\u001b[0m\u001b[0;34m,\u001b[0m \u001b[0;34m**\u001b[0m\u001b[0mkwds\u001b[0m\u001b[0;34m)\u001b[0m\u001b[0;34m\u001b[0m\u001b[0;34m\u001b[0m\u001b[0m\n\u001b[0m\u001b[1;32m   1791\u001b[0m \u001b[0;34m\u001b[0m\u001b[0m\n\u001b[1;32m   1792\u001b[0m \u001b[0;34m\u001b[0m\u001b[0m\n",
      "\u001b[0;32m/Library/Frameworks/Python.framework/Versions/3.9/lib/python3.9/site-packages/sklearn/metrics/pairwise.py\u001b[0m in \u001b[0;36m_parallel_pairwise\u001b[0;34m(X, Y, func, n_jobs, **kwds)\u001b[0m\n\u001b[1;32m   1357\u001b[0m \u001b[0;34m\u001b[0m\u001b[0m\n\u001b[1;32m   1358\u001b[0m     \u001b[0;32mif\u001b[0m \u001b[0meffective_n_jobs\u001b[0m\u001b[0;34m(\u001b[0m\u001b[0mn_jobs\u001b[0m\u001b[0;34m)\u001b[0m \u001b[0;34m==\u001b[0m \u001b[0;36m1\u001b[0m\u001b[0;34m:\u001b[0m\u001b[0;34m\u001b[0m\u001b[0;34m\u001b[0m\u001b[0m\n\u001b[0;32m-> 1359\u001b[0;31m         \u001b[0;32mreturn\u001b[0m \u001b[0mfunc\u001b[0m\u001b[0;34m(\u001b[0m\u001b[0mX\u001b[0m\u001b[0;34m,\u001b[0m \u001b[0mY\u001b[0m\u001b[0;34m,\u001b[0m \u001b[0;34m**\u001b[0m\u001b[0mkwds\u001b[0m\u001b[0;34m)\u001b[0m\u001b[0;34m\u001b[0m\u001b[0;34m\u001b[0m\u001b[0m\n\u001b[0m\u001b[1;32m   1360\u001b[0m \u001b[0;34m\u001b[0m\u001b[0m\n\u001b[1;32m   1361\u001b[0m     \u001b[0;31m# enforce a threading backend to prevent data communication overhead\u001b[0m\u001b[0;34m\u001b[0m\u001b[0;34m\u001b[0m\u001b[0;34m\u001b[0m\u001b[0m\n",
      "\u001b[0;32m/Library/Frameworks/Python.framework/Versions/3.9/lib/python3.9/site-packages/sklearn/utils/validation.py\u001b[0m in \u001b[0;36minner_f\u001b[0;34m(*args, **kwargs)\u001b[0m\n\u001b[1;32m     61\u001b[0m             \u001b[0mextra_args\u001b[0m \u001b[0;34m=\u001b[0m \u001b[0mlen\u001b[0m\u001b[0;34m(\u001b[0m\u001b[0margs\u001b[0m\u001b[0;34m)\u001b[0m \u001b[0;34m-\u001b[0m \u001b[0mlen\u001b[0m\u001b[0;34m(\u001b[0m\u001b[0mall_args\u001b[0m\u001b[0;34m)\u001b[0m\u001b[0;34m\u001b[0m\u001b[0;34m\u001b[0m\u001b[0m\n\u001b[1;32m     62\u001b[0m             \u001b[0;32mif\u001b[0m \u001b[0mextra_args\u001b[0m \u001b[0;34m<=\u001b[0m \u001b[0;36m0\u001b[0m\u001b[0;34m:\u001b[0m\u001b[0;34m\u001b[0m\u001b[0;34m\u001b[0m\u001b[0m\n\u001b[0;32m---> 63\u001b[0;31m                 \u001b[0;32mreturn\u001b[0m \u001b[0mf\u001b[0m\u001b[0;34m(\u001b[0m\u001b[0;34m*\u001b[0m\u001b[0margs\u001b[0m\u001b[0;34m,\u001b[0m \u001b[0;34m**\u001b[0m\u001b[0mkwargs\u001b[0m\u001b[0;34m)\u001b[0m\u001b[0;34m\u001b[0m\u001b[0;34m\u001b[0m\u001b[0m\n\u001b[0m\u001b[1;32m     64\u001b[0m \u001b[0;34m\u001b[0m\u001b[0m\n\u001b[1;32m     65\u001b[0m             \u001b[0;31m# extra_args > 0\u001b[0m\u001b[0;34m\u001b[0m\u001b[0;34m\u001b[0m\u001b[0;34m\u001b[0m\u001b[0m\n",
      "\u001b[0;32m/Library/Frameworks/Python.framework/Versions/3.9/lib/python3.9/site-packages/sklearn/metrics/pairwise.py\u001b[0m in \u001b[0;36meuclidean_distances\u001b[0;34m(X, Y, Y_norm_squared, squared, X_norm_squared)\u001b[0m\n\u001b[1;32m    314\u001b[0m         \u001b[0mdistances\u001b[0m \u001b[0;34m+=\u001b[0m \u001b[0mXX\u001b[0m\u001b[0;34m\u001b[0m\u001b[0;34m\u001b[0m\u001b[0m\n\u001b[1;32m    315\u001b[0m         \u001b[0mdistances\u001b[0m \u001b[0;34m+=\u001b[0m \u001b[0mYY\u001b[0m\u001b[0;34m\u001b[0m\u001b[0;34m\u001b[0m\u001b[0m\n\u001b[0;32m--> 316\u001b[0;31m     \u001b[0mnp\u001b[0m\u001b[0;34m.\u001b[0m\u001b[0mmaximum\u001b[0m\u001b[0;34m(\u001b[0m\u001b[0mdistances\u001b[0m\u001b[0;34m,\u001b[0m \u001b[0;36m0\u001b[0m\u001b[0;34m,\u001b[0m \u001b[0mout\u001b[0m\u001b[0;34m=\u001b[0m\u001b[0mdistances\u001b[0m\u001b[0;34m)\u001b[0m\u001b[0;34m\u001b[0m\u001b[0;34m\u001b[0m\u001b[0m\n\u001b[0m\u001b[1;32m    317\u001b[0m \u001b[0;34m\u001b[0m\u001b[0m\n\u001b[1;32m    318\u001b[0m     \u001b[0;31m# Ensure that distances between vectors and themselves are set to 0.0.\u001b[0m\u001b[0;34m\u001b[0m\u001b[0;34m\u001b[0m\u001b[0;34m\u001b[0m\u001b[0m\n",
      "\u001b[0;31mKeyboardInterrupt\u001b[0m: "
     ]
    }
   ],
   "metadata": {}
  },
  {
   "cell_type": "code",
   "execution_count": null,
   "source": [
    "silhouette_score(df_scaled, kmeans.predict(df_scaled))"
   ],
   "outputs": [],
   "metadata": {}
  },
  {
   "cell_type": "code",
   "execution_count": null,
   "source": [
    "plt.figure(figsize=(16,8))\n",
    "plt.plot(K, silhouettes, 'bo-')\n",
    "plt.xlabel('k (number of clusters)')\n",
    "plt.xticks(np.arange(min(K), max(K)+1, 1.0))\n",
    "plt.ylabel('silhouette score')"
   ],
   "outputs": [],
   "metadata": {}
  },
  {
   "cell_type": "markdown",
   "source": [
    "## get the song as input, search in the dataframe, if not there - get the features from spotify and get the cluster\n",
    "## model.predict(input_song_scaled)\n",
    "## songs[songs['cluster'] == 3]"
   ],
   "metadata": {}
  },
  {
   "cell_type": "code",
   "execution_count": null,
   "source": [],
   "outputs": [],
   "metadata": {}
  }
 ],
 "metadata": {
  "kernelspec": {
   "display_name": "Python 3 (ipykernel)",
   "language": "python",
   "name": "python3"
  },
  "language_info": {
   "codemirror_mode": {
    "name": "ipython",
    "version": 3
   },
   "file_extension": ".py",
   "mimetype": "text/x-python",
   "name": "python",
   "nbconvert_exporter": "python",
   "pygments_lexer": "ipython3",
   "version": "3.9.6"
  },
  "toc": {
   "base_numbering": 1,
   "nav_menu": {},
   "number_sections": true,
   "sideBar": true,
   "skip_h1_title": false,
   "title_cell": "Table of Contents",
   "title_sidebar": "Contents",
   "toc_cell": false,
   "toc_position": {},
   "toc_section_display": true,
   "toc_window_display": false
  },
  "varInspector": {
   "cols": {
    "lenName": 16,
    "lenType": 16,
    "lenVar": 40
   },
   "kernels_config": {
    "python": {
     "delete_cmd_postfix": "",
     "delete_cmd_prefix": "del ",
     "library": "var_list.py",
     "varRefreshCmd": "print(var_dic_list())"
    },
    "r": {
     "delete_cmd_postfix": ") ",
     "delete_cmd_prefix": "rm(",
     "library": "var_list.r",
     "varRefreshCmd": "cat(var_dic_list()) "
    }
   },
   "types_to_exclude": [
    "module",
    "function",
    "builtin_function_or_method",
    "instance",
    "_Feature"
   ],
   "window_display": false
  }
 },
 "nbformat": 4,
 "nbformat_minor": 4
}