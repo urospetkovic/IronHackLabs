{
 "cells": [
  {
   "cell_type": "markdown",
   "source": [
    "## Spotipy API\n",
    "\n",
    "Create an Spotify account and follow these steps to register an app: https://developer.spotify.com/documentation/general/guides/app-settings/\n",
    "\n",
    "After the app is created, you can see it on your dashboard\n",
    "https://developer.spotify.com/dashboard/applications\n",
    "\n",
    "Click on it and you'll find the client id and client secret."
   ],
   "metadata": {}
  },
  {
   "cell_type": "markdown",
   "source": [
    "#### Authentification"
   ],
   "metadata": {}
  },
  {
   "cell_type": "code",
   "execution_count": 3,
   "source": [
    "import spotipy # install if needed\n",
    "from spotipy.oauth2 import SpotifyClientCredentials"
   ],
   "outputs": [],
   "metadata": {}
  },
  {
   "cell_type": "code",
   "execution_count": 34,
   "source": [
    "#Initialize SpotiPy with user credentias\n",
    "sp = spotipy.Spotify(auth_manager=SpotifyClientCredentials(\n",
    "    client_id=client_id, client_secret=client_sectret))"
   ],
   "outputs": [],
   "metadata": {}
  },
  {
   "cell_type": "markdown",
   "source": [
    "#### Searching songs with 'queries' with `sp.search`"
   ],
   "metadata": {}
  },
  {
   "cell_type": "code",
   "execution_count": 9,
   "source": [
    "results = sp.search(q='Jazzotron', limit=50)"
   ],
   "outputs": [],
   "metadata": {}
  },
  {
   "cell_type": "markdown",
   "source": [
    "Explore the object returned by the request:"
   ],
   "metadata": {}
  },
  {
   "cell_type": "code",
   "execution_count": 10,
   "source": [
    "#results"
   ],
   "outputs": [],
   "metadata": {}
  },
  {
   "cell_type": "markdown",
   "source": [
    "Explore a single song:"
   ],
   "metadata": {}
  },
  {
   "cell_type": "code",
   "execution_count": 12,
   "source": [
    "#results['tracks']['items'][0]"
   ],
   "outputs": [],
   "metadata": {}
  },
  {
   "cell_type": "markdown",
   "source": [
    "# Activity 1"
   ],
   "metadata": {}
  },
  {
   "cell_type": "code",
   "execution_count": 13,
   "source": [
    "artists = ['Jazzotron', 'Shazalakazoo', 'BalkanBeats SoundSystem', 'Neki', 'Damir out Loud']"
   ],
   "outputs": [],
   "metadata": {}
  },
  {
   "cell_type": "code",
   "execution_count": 14,
   "source": [
    "my_music = []\n",
    "for artist in artists:\n",
    "    my_music.append(sp.search(artist, limit=10))\n"
   ],
   "outputs": [],
   "metadata": {}
  },
  {
   "cell_type": "code",
   "execution_count": 19,
   "source": [
    "#my_music[4]"
   ],
   "outputs": [],
   "metadata": {}
  },
  {
   "cell_type": "code",
   "execution_count": 29,
   "source": [
    "def spotify_search(artists_list):\n",
    "    return {artist: sp.search(artist, limit=50) for artist in artists}"
   ],
   "outputs": [],
   "metadata": {}
  },
  {
   "cell_type": "code",
   "execution_count": 31,
   "source": [
    "#spotify_search(artists)"
   ],
   "outputs": [],
   "metadata": {}
  },
  {
   "cell_type": "markdown",
   "source": [
    "# Password security"
   ],
   "metadata": {}
  },
  {
   "cell_type": "code",
   "execution_count": 32,
   "source": [
    "import getpass"
   ],
   "outputs": [],
   "metadata": {}
  },
  {
   "cell_type": "code",
   "execution_count": 33,
   "source": [
    "client_id = str(getpass.getpass('client_id?'))\n",
    "client_sectret = str(getpass.getpass('client_secret?'))"
   ],
   "outputs": [],
   "metadata": {}
  },
  {
   "cell_type": "code",
   "execution_count": null,
   "source": [],
   "outputs": [],
   "metadata": {}
  },
  {
   "cell_type": "markdown",
   "source": [
    "Spotify songs are identified by either a \"url\", a \"uri\" or an \"id\". \n",
    "\n",
    "- The `id` is an alphanumeric code, and it's the nuclear part of the identifier.\n",
    "\n",
    "- The `uri` contains \"spotify:track\" before the id. An uri is useful because it can be searched manually in the Spotify app.\n",
    "\n",
    "- The `url` is a link to the song on the Spotify web player.\n",
    "\n",
    "We'll use the `uri` in this code-along, but feel free to use whatever you think fits best your needs."
   ],
   "metadata": {}
  },
  {
   "cell_type": "code",
   "execution_count": null,
   "source": [],
   "outputs": [],
   "metadata": {}
  },
  {
   "cell_type": "markdown",
   "source": [
    "#### Searching multiple artists"
   ],
   "metadata": {}
  },
  {
   "cell_type": "code",
   "execution_count": null,
   "source": [
    "artists = [\"Dire Straits\", \"Queen\", \"Ella Fitzgerald\"]"
   ],
   "outputs": [],
   "metadata": {}
  },
  {
   "cell_type": "code",
   "execution_count": 35,
   "source": [
    "results.keys()"
   ],
   "outputs": [
    {
     "output_type": "execute_result",
     "data": {
      "text/plain": [
       "dict_keys(['tracks'])"
      ]
     },
     "metadata": {},
     "execution_count": 35
    }
   ],
   "metadata": {}
  },
  {
   "cell_type": "markdown",
   "source": [
    "#### Exploring the tracks"
   ],
   "metadata": {}
  },
  {
   "cell_type": "markdown",
   "source": [
    "Function to get the artists involved in a song:"
   ],
   "metadata": {}
  },
  {
   "cell_type": "code",
   "execution_count": 36,
   "source": [
    "results['tracks']['href']"
   ],
   "outputs": [
    {
     "output_type": "execute_result",
     "data": {
      "text/plain": [
       "'https://api.spotify.com/v1/search?query=Jazzotron&type=track&offset=0&limit=50'"
      ]
     },
     "metadata": {},
     "execution_count": 36
    }
   ],
   "metadata": {}
  },
  {
   "cell_type": "code",
   "execution_count": 50,
   "source": [
    "results['tracks']['next']"
   ],
   "outputs": [
    {
     "output_type": "execute_result",
     "data": {
      "text/plain": [
       "'https://api.spotify.com/v1/search?query=Jazzotron&type=track&offset=50&limit=50'"
      ]
     },
     "metadata": {},
     "execution_count": 50
    }
   ],
   "metadata": {}
  },
  {
   "cell_type": "code",
   "execution_count": 51,
   "source": [
    "results['tracks']['total']"
   ],
   "outputs": [
    {
     "output_type": "execute_result",
     "data": {
      "text/plain": [
       "89"
      ]
     },
     "metadata": {},
     "execution_count": 51
    }
   ],
   "metadata": {}
  },
  {
   "cell_type": "code",
   "execution_count": 44,
   "source": [
    "results['tracks'].keys()"
   ],
   "outputs": [
    {
     "output_type": "execute_result",
     "data": {
      "text/plain": [
       "dict_keys(['href', 'items', 'limit', 'next', 'offset', 'previous', 'total'])"
      ]
     },
     "metadata": {},
     "execution_count": 44
    }
   ],
   "metadata": {}
  },
  {
   "cell_type": "markdown",
   "source": [
    "Function to get the \"id's\" of the artists from a song:"
   ],
   "metadata": {}
  },
  {
   "cell_type": "code",
   "execution_count": 49,
   "source": [
    "results['tracks']['items'][0].keys()"
   ],
   "outputs": [
    {
     "output_type": "execute_result",
     "data": {
      "text/plain": [
       "dict_keys(['album', 'artists', 'available_markets', 'disc_number', 'duration_ms', 'explicit', 'external_ids', 'external_urls', 'href', 'id', 'is_local', 'name', 'popularity', 'preview_url', 'track_number', 'type', 'uri'])"
      ]
     },
     "metadata": {},
     "execution_count": 49
    }
   ],
   "metadata": {}
  },
  {
   "cell_type": "code",
   "execution_count": 53,
   "source": [
    "results['tracks']['items'][0]['album'].keys()"
   ],
   "outputs": [
    {
     "output_type": "execute_result",
     "data": {
      "text/plain": [
       "dict_keys(['album_type', 'artists', 'available_markets', 'external_urls', 'href', 'id', 'images', 'name', 'release_date', 'release_date_precision', 'total_tracks', 'type', 'uri'])"
      ]
     },
     "metadata": {},
     "execution_count": 53
    }
   ],
   "metadata": {}
  },
  {
   "cell_type": "code",
   "execution_count": 55,
   "source": [
    "results['tracks']['items'][0]['album']['artists']"
   ],
   "outputs": [
    {
     "output_type": "execute_result",
     "data": {
      "text/plain": [
       "[{'external_urls': {'spotify': 'https://open.spotify.com/artist/1YumFgivFXVVg1AKBJKE5e'},\n",
       "  'href': 'https://api.spotify.com/v1/artists/1YumFgivFXVVg1AKBJKE5e',\n",
       "  'id': '1YumFgivFXVVg1AKBJKE5e',\n",
       "  'name': 'Jazzotron',\n",
       "  'type': 'artist',\n",
       "  'uri': 'spotify:artist:1YumFgivFXVVg1AKBJKE5e'}]"
      ]
     },
     "metadata": {},
     "execution_count": 55
    }
   ],
   "metadata": {}
  },
  {
   "cell_type": "code",
   "execution_count": 59,
   "source": [
    "results['tracks']['items'][0]['popularity']"
   ],
   "outputs": [
    {
     "output_type": "execute_result",
     "data": {
      "text/plain": [
       "39"
      ]
     },
     "metadata": {},
     "execution_count": 59
    }
   ],
   "metadata": {}
  },
  {
   "cell_type": "code",
   "execution_count": 60,
   "source": [
    "results['tracks']['items'][0]['id']"
   ],
   "outputs": [
    {
     "output_type": "execute_result",
     "data": {
      "text/plain": [
       "'2kkdf4naY0ddS9WN4OZPxV'"
      ]
     },
     "metadata": {},
     "execution_count": 60
    }
   ],
   "metadata": {}
  },
  {
   "cell_type": "code",
   "execution_count": 61,
   "source": [
    "results['tracks']['items'][0]['uri']"
   ],
   "outputs": [
    {
     "output_type": "execute_result",
     "data": {
      "text/plain": [
       "'spotify:track:2kkdf4naY0ddS9WN4OZPxV'"
      ]
     },
     "metadata": {},
     "execution_count": 61
    }
   ],
   "metadata": {}
  },
  {
   "cell_type": "code",
   "execution_count": 63,
   "source": [
    "results['tracks']['items'][0]['href']"
   ],
   "outputs": [
    {
     "output_type": "execute_result",
     "data": {
      "text/plain": [
       "'https://api.spotify.com/v1/tracks/2kkdf4naY0ddS9WN4OZPxV'"
      ]
     },
     "metadata": {},
     "execution_count": 63
    }
   ],
   "metadata": {}
  },
  {
   "cell_type": "code",
   "execution_count": 64,
   "source": [
    "results['tracks']['items'][0]['explicit']"
   ],
   "outputs": [
    {
     "output_type": "execute_result",
     "data": {
      "text/plain": [
       "False"
      ]
     },
     "metadata": {},
     "execution_count": 64
    }
   ],
   "metadata": {}
  },
  {
   "cell_type": "markdown",
   "source": [
    "# Activity 2"
   ],
   "metadata": {}
  },
  {
   "cell_type": "code",
   "execution_count": 65,
   "source": [
    "results['tracks']['items'][0]['artists']"
   ],
   "outputs": [
    {
     "output_type": "execute_result",
     "data": {
      "text/plain": [
       "[{'external_urls': {'spotify': 'https://open.spotify.com/artist/1YumFgivFXVVg1AKBJKE5e'},\n",
       "  'href': 'https://api.spotify.com/v1/artists/1YumFgivFXVVg1AKBJKE5e',\n",
       "  'id': '1YumFgivFXVVg1AKBJKE5e',\n",
       "  'name': 'Jazzotron',\n",
       "  'type': 'artist',\n",
       "  'uri': 'spotify:artist:1YumFgivFXVVg1AKBJKE5e'},\n",
       " {'external_urls': {'spotify': 'https://open.spotify.com/artist/67CxTr6NMaF4v8X8rxXFIA'},\n",
       "  'href': 'https://api.spotify.com/v1/artists/67CxTr6NMaF4v8X8rxXFIA',\n",
       "  'id': '67CxTr6NMaF4v8X8rxXFIA',\n",
       "  'name': 'Sofija Knezevic',\n",
       "  'type': 'artist',\n",
       "  'uri': 'spotify:artist:67CxTr6NMaF4v8X8rxXFIA'}]"
      ]
     },
     "metadata": {},
     "execution_count": 65
    }
   ],
   "metadata": {}
  },
  {
   "cell_type": "code",
   "execution_count": 69,
   "source": [
    "for artist in results['tracks']['items'][0]['artists']:\n",
    "    print(artist['id'])"
   ],
   "outputs": [
    {
     "output_type": "stream",
     "name": "stdout",
     "text": [
      "1YumFgivFXVVg1AKBJKE5e\n",
      "67CxTr6NMaF4v8X8rxXFIA\n"
     ]
    }
   ],
   "metadata": {}
  },
  {
   "cell_type": "code",
   "execution_count": 72,
   "source": [
    "def get_artists(song):\n",
    "    names = []\n",
    "    for artist in song:\n",
    "        names.append(artist['name'])\n",
    "    return names"
   ],
   "outputs": [],
   "metadata": {}
  },
  {
   "cell_type": "code",
   "execution_count": 73,
   "source": [
    "def get_ids(song):\n",
    "    ids = []\n",
    "    for artist in song:\n",
    "        ids.append(artist['id'])\n",
    "    return ids"
   ],
   "outputs": [],
   "metadata": {}
  },
  {
   "cell_type": "code",
   "execution_count": 74,
   "source": [
    "get_artists(results['tracks']['items'][0]['artists'])"
   ],
   "outputs": [
    {
     "output_type": "execute_result",
     "data": {
      "text/plain": [
       "['Jazzotron', 'Sofija Knezevic']"
      ]
     },
     "metadata": {},
     "execution_count": 74
    }
   ],
   "metadata": {}
  },
  {
   "cell_type": "code",
   "execution_count": 75,
   "source": [
    "get_ids(results['tracks']['items'][0]['artists'])"
   ],
   "outputs": [
    {
     "output_type": "execute_result",
     "data": {
      "text/plain": [
       "['1YumFgivFXVVg1AKBJKE5e', '67CxTr6NMaF4v8X8rxXFIA']"
      ]
     },
     "metadata": {},
     "execution_count": 75
    }
   ],
   "metadata": {}
  },
  {
   "cell_type": "markdown",
   "source": [
    "### Playlists\n",
    "\n",
    "We will need to collect a \"database\" of songs. Playlists are a good way to access relatively large amounts of songs."
   ],
   "metadata": {}
  },
  {
   "cell_type": "code",
   "execution_count": 76,
   "source": [
    "playlist = sp.user_playlist_tracks(\"spotify\", \"0Swkgrsji8x4cQWoJ4kfo2\")"
   ],
   "outputs": [],
   "metadata": {}
  },
  {
   "cell_type": "code",
   "execution_count": 77,
   "source": [
    "playlist_2 = sp.user_playlist_tracks(\"spotify\", \"75GeX247deNdTX7zdyZDnU\")\n"
   ],
   "outputs": [],
   "metadata": {}
  },
  {
   "cell_type": "code",
   "execution_count": 78,
   "source": [
    "playlist_2[\"total\"]"
   ],
   "outputs": [
    {
     "output_type": "execute_result",
     "data": {
      "text/plain": [
       "99"
      ]
     },
     "metadata": {},
     "execution_count": 78
    }
   ],
   "metadata": {}
  },
  {
   "cell_type": "markdown",
   "source": [
    "Function to extract all songs from a playlist"
   ],
   "metadata": {}
  },
  {
   "cell_type": "code",
   "execution_count": 79,
   "source": [
    "playlist.keys()"
   ],
   "outputs": [
    {
     "output_type": "execute_result",
     "data": {
      "text/plain": [
       "dict_keys(['href', 'items', 'limit', 'next', 'offset', 'previous', 'total'])"
      ]
     },
     "metadata": {},
     "execution_count": 79
    }
   ],
   "metadata": {}
  },
  {
   "cell_type": "markdown",
   "source": [
    "Function to extract just the uri's:"
   ],
   "metadata": {}
  },
  {
   "cell_type": "code",
   "execution_count": 83,
   "source": [
    "playlist['items'][0].keys()"
   ],
   "outputs": [
    {
     "output_type": "execute_result",
     "data": {
      "text/plain": [
       "dict_keys(['added_at', 'added_by', 'is_local', 'primary_color', 'track', 'video_thumbnail'])"
      ]
     },
     "metadata": {},
     "execution_count": 83
    }
   ],
   "metadata": {}
  },
  {
   "cell_type": "code",
   "execution_count": 86,
   "source": [
    "playlist['items'][0]['track']['name']"
   ],
   "outputs": [
    {
     "output_type": "execute_result",
     "data": {
      "text/plain": [
       "'Sandstorm'"
      ]
     },
     "metadata": {},
     "execution_count": 86
    }
   ],
   "metadata": {}
  },
  {
   "cell_type": "code",
   "execution_count": null,
   "source": [
    "for i in range(len(playlist['items'])):\n",
    "    print(playlist['items'][i]['track']['name'])"
   ],
   "outputs": [],
   "metadata": {}
  },
  {
   "cell_type": "code",
   "execution_count": 117,
   "source": [
    "rock_playlist = sp.user_playlist_tracks(\"spotify\", '37i9dQZF1DWXRqgorJj26U')"
   ],
   "outputs": [],
   "metadata": {}
  },
  {
   "cell_type": "code",
   "execution_count": null,
   "source": [
    "# for i in range(len(rock_playlist['items'])):\n",
    "#     print(rock_playlist['items'][i]['track']['name'])"
   ],
   "outputs": [],
   "metadata": {}
  },
  {
   "cell_type": "code",
   "execution_count": 97,
   "source": [
    "# song id\n",
    "rock_playlist['items'][0]['track']['id']"
   ],
   "outputs": [
    {
     "output_type": "execute_result",
     "data": {
      "text/plain": [
       "'0hCB0YR03f6AmQaHbwWDe8'"
      ]
     },
     "metadata": {},
     "execution_count": 97
    }
   ],
   "metadata": {}
  },
  {
   "cell_type": "code",
   "execution_count": 90,
   "source": [
    "# song name\n",
    "rock_playlist['items'][0]['track']['name']"
   ],
   "outputs": [
    {
     "output_type": "execute_result",
     "data": {
      "text/plain": [
       "'Whole Lotta Love - 1990 Remaster'"
      ]
     },
     "metadata": {},
     "execution_count": 90
    }
   ],
   "metadata": {}
  },
  {
   "cell_type": "code",
   "execution_count": 96,
   "source": [
    "# artist name\n",
    "rock_playlist['items'][0]['track']['artists'][0]['name']"
   ],
   "outputs": [
    {
     "output_type": "execute_result",
     "data": {
      "text/plain": [
       "'Led Zeppelin'"
      ]
     },
     "metadata": {},
     "execution_count": 96
    }
   ],
   "metadata": {}
  },
  {
   "cell_type": "code",
   "execution_count": 104,
   "source": [
    "rock_playlist_ids = []\n",
    "for item in rock_playlist['items']:\n",
    "    rock_playlist_ids.append(item['track']['id'])\n",
    "\n",
    "rock_playlist_song_name = []\n",
    "for item in rock_playlist['items']:\n",
    "    rock_playlist_song_name.append(item['track']['name'])\n",
    "    \n",
    "rock_playlist_artist = []\n",
    "for item in rock_playlist['items']:\n",
    "    rock_playlist_artist.append(item['track']['artists'][0]['name'])\n",
    "\n",
    "rock_list_dict = {'id': rock_playlist_ids, 'title': rock_playlist_song_name, 'artist': rock_playlist_artist}\n"
   ],
   "outputs": [],
   "metadata": {}
  },
  {
   "cell_type": "markdown",
   "source": [
    "\n",
    "#### Pagination using \"next\"\n",
    "\n",
    "When you collect songs from a playlist using `sp.playlist_tracks`, you're limited by the `limit` parameter, which has a maximum (and default) value of 100. When the playlist has more than 100 songs, you have to collect them by navigating through the \"pages\" of the results.\n",
    "\n",
    "The parameter `offset` allows you to retrieve resuls starting at a certain position: if you start at position 101, you'd get the next \"page\" of results. An offset of 201 would give you the third page, and so on.\n",
    "\n",
    "The function `sp.next()` does the same, but in a simpler way: it can be used on the results from any request to directly retrieve the results for the next page.\n",
    "\n",
    "We can check whether there's a next page or not by accessing the key `next` on the results from any request."
   ],
   "metadata": {}
  },
  {
   "cell_type": "code",
   "execution_count": null,
   "source": [],
   "outputs": [],
   "metadata": {}
  },
  {
   "cell_type": "markdown",
   "source": [
    "### Audio features\n",
    "\n",
    "You can check here an explanation of the audio features: https://developer.spotify.com/documentation/web-api/reference/tracks/get-audio-features/"
   ],
   "metadata": {}
  },
  {
   "cell_type": "code",
   "execution_count": 125,
   "source": [
    "rock_playlist_ids = []\n",
    "for item in rock_playlist['items']:\n",
    "    rock_playlist_ids.append(item['track']['id'])\n",
    "    "
   ],
   "outputs": [],
   "metadata": {}
  },
  {
   "cell_type": "code",
   "execution_count": 133,
   "source": [
    "#rock_playlist_ids"
   ],
   "outputs": [],
   "metadata": {}
  },
  {
   "cell_type": "code",
   "execution_count": 127,
   "source": [
    "audio_feat_rock = sp.audio_features(tracks=rock_playlist_ids)"
   ],
   "outputs": [],
   "metadata": {}
  },
  {
   "cell_type": "code",
   "execution_count": 129,
   "source": [
    "import pandas as pd"
   ],
   "outputs": [],
   "metadata": {}
  },
  {
   "cell_type": "code",
   "execution_count": 130,
   "source": [
    "rock_features = pd.DataFrame(audio_feat_rock)"
   ],
   "outputs": [],
   "metadata": {}
  },
  {
   "cell_type": "code",
   "execution_count": 131,
   "source": [
    "rock_features.head()"
   ],
   "outputs": [
    {
     "output_type": "execute_result",
     "data": {
      "text/plain": [
       "   danceability  energy  key  loudness  mode  speechiness  acousticness  \\\n",
       "0         0.412   0.902    9   -11.600     1       0.4050        0.0484   \n",
       "1         0.550   0.824    2    -5.988     1       0.0334        0.4480   \n",
       "2         0.310   0.700    9    -5.678     1       0.0470        0.0110   \n",
       "3         0.743   0.836    2    -6.465     1       0.1160        0.0804   \n",
       "4         0.546   0.529    9   -13.600     1       0.0436        0.0629   \n",
       "\n",
       "   instrumentalness  liveness  valence    tempo            type  \\\n",
       "0          0.131000    0.4050    0.422   89.740  audio_features   \n",
       "1          0.000127    0.3660    0.777  114.512  audio_features   \n",
       "2          0.009650    0.0828    0.763  188.386  audio_features   \n",
       "3          0.000000    0.3840    0.820  113.375  audio_features   \n",
       "4          0.000567    0.0383    0.574  151.727  audio_features   \n",
       "\n",
       "                       id                                   uri  \\\n",
       "0  0hCB0YR03f6AmQaHbwWDe8  spotify:track:0hCB0YR03f6AmQaHbwWDe8   \n",
       "1  7MRyJPksH3G2cXHN8UKYzP  spotify:track:7MRyJPksH3G2cXHN8UKYzP   \n",
       "2  08mG3Y1vljYA6bvDt4Wqkj  spotify:track:08mG3Y1vljYA6bvDt4Wqkj   \n",
       "3  39shmbIHICJ2Wxnk1fPSdz  spotify:track:39shmbIHICJ2Wxnk1fPSdz   \n",
       "4  2X6gdRlGOQgfaXU9ALUQFQ  spotify:track:2X6gdRlGOQgfaXU9ALUQFQ   \n",
       "\n",
       "                                          track_href  \\\n",
       "0  https://api.spotify.com/v1/tracks/0hCB0YR03f6A...   \n",
       "1  https://api.spotify.com/v1/tracks/7MRyJPksH3G2...   \n",
       "2  https://api.spotify.com/v1/tracks/08mG3Y1vljYA...   \n",
       "3  https://api.spotify.com/v1/tracks/39shmbIHICJ2...   \n",
       "4  https://api.spotify.com/v1/tracks/2X6gdRlGOQgf...   \n",
       "\n",
       "                                        analysis_url  duration_ms  \\\n",
       "0  https://api.spotify.com/v1/audio-analysis/0hCB...       333893   \n",
       "1  https://api.spotify.com/v1/audio-analysis/7MRy...       214733   \n",
       "2  https://api.spotify.com/v1/audio-analysis/08mG...       255493   \n",
       "3  https://api.spotify.com/v1/audio-analysis/39sh...       188987   \n",
       "4  https://api.spotify.com/v1/audio-analysis/2X6g...       271000   \n",
       "\n",
       "   time_signature  \n",
       "0               4  \n",
       "1               4  \n",
       "2               4  \n",
       "3               4  \n",
       "4               4  "
      ],
      "text/html": [
       "<div>\n",
       "<style scoped>\n",
       "    .dataframe tbody tr th:only-of-type {\n",
       "        vertical-align: middle;\n",
       "    }\n",
       "\n",
       "    .dataframe tbody tr th {\n",
       "        vertical-align: top;\n",
       "    }\n",
       "\n",
       "    .dataframe thead th {\n",
       "        text-align: right;\n",
       "    }\n",
       "</style>\n",
       "<table border=\"1\" class=\"dataframe\">\n",
       "  <thead>\n",
       "    <tr style=\"text-align: right;\">\n",
       "      <th></th>\n",
       "      <th>danceability</th>\n",
       "      <th>energy</th>\n",
       "      <th>key</th>\n",
       "      <th>loudness</th>\n",
       "      <th>mode</th>\n",
       "      <th>speechiness</th>\n",
       "      <th>acousticness</th>\n",
       "      <th>instrumentalness</th>\n",
       "      <th>liveness</th>\n",
       "      <th>valence</th>\n",
       "      <th>tempo</th>\n",
       "      <th>type</th>\n",
       "      <th>id</th>\n",
       "      <th>uri</th>\n",
       "      <th>track_href</th>\n",
       "      <th>analysis_url</th>\n",
       "      <th>duration_ms</th>\n",
       "      <th>time_signature</th>\n",
       "    </tr>\n",
       "  </thead>\n",
       "  <tbody>\n",
       "    <tr>\n",
       "      <th>0</th>\n",
       "      <td>0.412</td>\n",
       "      <td>0.902</td>\n",
       "      <td>9</td>\n",
       "      <td>-11.600</td>\n",
       "      <td>1</td>\n",
       "      <td>0.4050</td>\n",
       "      <td>0.0484</td>\n",
       "      <td>0.131000</td>\n",
       "      <td>0.4050</td>\n",
       "      <td>0.422</td>\n",
       "      <td>89.740</td>\n",
       "      <td>audio_features</td>\n",
       "      <td>0hCB0YR03f6AmQaHbwWDe8</td>\n",
       "      <td>spotify:track:0hCB0YR03f6AmQaHbwWDe8</td>\n",
       "      <td>https://api.spotify.com/v1/tracks/0hCB0YR03f6A...</td>\n",
       "      <td>https://api.spotify.com/v1/audio-analysis/0hCB...</td>\n",
       "      <td>333893</td>\n",
       "      <td>4</td>\n",
       "    </tr>\n",
       "    <tr>\n",
       "      <th>1</th>\n",
       "      <td>0.550</td>\n",
       "      <td>0.824</td>\n",
       "      <td>2</td>\n",
       "      <td>-5.988</td>\n",
       "      <td>1</td>\n",
       "      <td>0.0334</td>\n",
       "      <td>0.4480</td>\n",
       "      <td>0.000127</td>\n",
       "      <td>0.3660</td>\n",
       "      <td>0.777</td>\n",
       "      <td>114.512</td>\n",
       "      <td>audio_features</td>\n",
       "      <td>7MRyJPksH3G2cXHN8UKYzP</td>\n",
       "      <td>spotify:track:7MRyJPksH3G2cXHN8UKYzP</td>\n",
       "      <td>https://api.spotify.com/v1/tracks/7MRyJPksH3G2...</td>\n",
       "      <td>https://api.spotify.com/v1/audio-analysis/7MRy...</td>\n",
       "      <td>214733</td>\n",
       "      <td>4</td>\n",
       "    </tr>\n",
       "    <tr>\n",
       "      <th>2</th>\n",
       "      <td>0.310</td>\n",
       "      <td>0.700</td>\n",
       "      <td>9</td>\n",
       "      <td>-5.678</td>\n",
       "      <td>1</td>\n",
       "      <td>0.0470</td>\n",
       "      <td>0.0110</td>\n",
       "      <td>0.009650</td>\n",
       "      <td>0.0828</td>\n",
       "      <td>0.763</td>\n",
       "      <td>188.386</td>\n",
       "      <td>audio_features</td>\n",
       "      <td>08mG3Y1vljYA6bvDt4Wqkj</td>\n",
       "      <td>spotify:track:08mG3Y1vljYA6bvDt4Wqkj</td>\n",
       "      <td>https://api.spotify.com/v1/tracks/08mG3Y1vljYA...</td>\n",
       "      <td>https://api.spotify.com/v1/audio-analysis/08mG...</td>\n",
       "      <td>255493</td>\n",
       "      <td>4</td>\n",
       "    </tr>\n",
       "    <tr>\n",
       "      <th>3</th>\n",
       "      <td>0.743</td>\n",
       "      <td>0.836</td>\n",
       "      <td>2</td>\n",
       "      <td>-6.465</td>\n",
       "      <td>1</td>\n",
       "      <td>0.1160</td>\n",
       "      <td>0.0804</td>\n",
       "      <td>0.000000</td>\n",
       "      <td>0.3840</td>\n",
       "      <td>0.820</td>\n",
       "      <td>113.375</td>\n",
       "      <td>audio_features</td>\n",
       "      <td>39shmbIHICJ2Wxnk1fPSdz</td>\n",
       "      <td>spotify:track:39shmbIHICJ2Wxnk1fPSdz</td>\n",
       "      <td>https://api.spotify.com/v1/tracks/39shmbIHICJ2...</td>\n",
       "      <td>https://api.spotify.com/v1/audio-analysis/39sh...</td>\n",
       "      <td>188987</td>\n",
       "      <td>4</td>\n",
       "    </tr>\n",
       "    <tr>\n",
       "      <th>4</th>\n",
       "      <td>0.546</td>\n",
       "      <td>0.529</td>\n",
       "      <td>9</td>\n",
       "      <td>-13.600</td>\n",
       "      <td>1</td>\n",
       "      <td>0.0436</td>\n",
       "      <td>0.0629</td>\n",
       "      <td>0.000567</td>\n",
       "      <td>0.0383</td>\n",
       "      <td>0.574</td>\n",
       "      <td>151.727</td>\n",
       "      <td>audio_features</td>\n",
       "      <td>2X6gdRlGOQgfaXU9ALUQFQ</td>\n",
       "      <td>spotify:track:2X6gdRlGOQgfaXU9ALUQFQ</td>\n",
       "      <td>https://api.spotify.com/v1/tracks/2X6gdRlGOQgf...</td>\n",
       "      <td>https://api.spotify.com/v1/audio-analysis/2X6g...</td>\n",
       "      <td>271000</td>\n",
       "      <td>4</td>\n",
       "    </tr>\n",
       "  </tbody>\n",
       "</table>\n",
       "</div>"
      ]
     },
     "metadata": {},
     "execution_count": 131
    }
   ],
   "metadata": {}
  },
  {
   "cell_type": "code",
   "execution_count": 132,
   "source": [
    "rock_features.shape"
   ],
   "outputs": [
    {
     "output_type": "execute_result",
     "data": {
      "text/plain": [
       "(100, 18)"
      ]
     },
     "metadata": {},
     "execution_count": 132
    }
   ],
   "metadata": {}
  },
  {
   "cell_type": "code",
   "execution_count": 141,
   "source": [
    "rock_list_df = pd.DataFrame.from_dict(rock_list_dict)"
   ],
   "outputs": [],
   "metadata": {}
  },
  {
   "cell_type": "code",
   "execution_count": 142,
   "source": [
    "rock_list_df.head()"
   ],
   "outputs": [
    {
     "output_type": "execute_result",
     "data": {
      "text/plain": [
       "                       id                                      title  \\\n",
       "0  0hCB0YR03f6AmQaHbwWDe8           Whole Lotta Love - 1990 Remaster   \n",
       "1  7MRyJPksH3G2cXHN8UKYzP                              American Girl   \n",
       "2  08mG3Y1vljYA6bvDt4Wqkj                              Back In Black   \n",
       "3  39shmbIHICJ2Wxnk1fPSdz  Should I Stay or Should I Go - Remastered   \n",
       "4  2X6gdRlGOQgfaXU9ALUQFQ                                  The Chain   \n",
       "\n",
       "                            artist  \n",
       "0                     Led Zeppelin  \n",
       "1  Tom Petty and the Heartbreakers  \n",
       "2                            AC/DC  \n",
       "3                        The Clash  \n",
       "4                    Fleetwood Mac  "
      ],
      "text/html": [
       "<div>\n",
       "<style scoped>\n",
       "    .dataframe tbody tr th:only-of-type {\n",
       "        vertical-align: middle;\n",
       "    }\n",
       "\n",
       "    .dataframe tbody tr th {\n",
       "        vertical-align: top;\n",
       "    }\n",
       "\n",
       "    .dataframe thead th {\n",
       "        text-align: right;\n",
       "    }\n",
       "</style>\n",
       "<table border=\"1\" class=\"dataframe\">\n",
       "  <thead>\n",
       "    <tr style=\"text-align: right;\">\n",
       "      <th></th>\n",
       "      <th>id</th>\n",
       "      <th>title</th>\n",
       "      <th>artist</th>\n",
       "    </tr>\n",
       "  </thead>\n",
       "  <tbody>\n",
       "    <tr>\n",
       "      <th>0</th>\n",
       "      <td>0hCB0YR03f6AmQaHbwWDe8</td>\n",
       "      <td>Whole Lotta Love - 1990 Remaster</td>\n",
       "      <td>Led Zeppelin</td>\n",
       "    </tr>\n",
       "    <tr>\n",
       "      <th>1</th>\n",
       "      <td>7MRyJPksH3G2cXHN8UKYzP</td>\n",
       "      <td>American Girl</td>\n",
       "      <td>Tom Petty and the Heartbreakers</td>\n",
       "    </tr>\n",
       "    <tr>\n",
       "      <th>2</th>\n",
       "      <td>08mG3Y1vljYA6bvDt4Wqkj</td>\n",
       "      <td>Back In Black</td>\n",
       "      <td>AC/DC</td>\n",
       "    </tr>\n",
       "    <tr>\n",
       "      <th>3</th>\n",
       "      <td>39shmbIHICJ2Wxnk1fPSdz</td>\n",
       "      <td>Should I Stay or Should I Go - Remastered</td>\n",
       "      <td>The Clash</td>\n",
       "    </tr>\n",
       "    <tr>\n",
       "      <th>4</th>\n",
       "      <td>2X6gdRlGOQgfaXU9ALUQFQ</td>\n",
       "      <td>The Chain</td>\n",
       "      <td>Fleetwood Mac</td>\n",
       "    </tr>\n",
       "  </tbody>\n",
       "</table>\n",
       "</div>"
      ]
     },
     "metadata": {},
     "execution_count": 142
    }
   ],
   "metadata": {}
  },
  {
   "cell_type": "code",
   "execution_count": 154,
   "source": [
    "rock_df = pd.concat([rock_list_df.drop(['id'], axis=1), rock_features.drop(['type'], axis=1)], axis=1)"
   ],
   "outputs": [],
   "metadata": {}
  },
  {
   "cell_type": "code",
   "execution_count": 155,
   "source": [
    "rock_df.head()"
   ],
   "outputs": [
    {
     "output_type": "execute_result",
     "data": {
      "text/plain": [
       "                                       title                           artist  \\\n",
       "0           Whole Lotta Love - 1990 Remaster                     Led Zeppelin   \n",
       "1                              American Girl  Tom Petty and the Heartbreakers   \n",
       "2                              Back In Black                            AC/DC   \n",
       "3  Should I Stay or Should I Go - Remastered                        The Clash   \n",
       "4                                  The Chain                    Fleetwood Mac   \n",
       "\n",
       "   danceability  energy  key  loudness  mode  speechiness  acousticness  \\\n",
       "0         0.412   0.902    9   -11.600     1       0.4050        0.0484   \n",
       "1         0.550   0.824    2    -5.988     1       0.0334        0.4480   \n",
       "2         0.310   0.700    9    -5.678     1       0.0470        0.0110   \n",
       "3         0.743   0.836    2    -6.465     1       0.1160        0.0804   \n",
       "4         0.546   0.529    9   -13.600     1       0.0436        0.0629   \n",
       "\n",
       "   instrumentalness  liveness  valence    tempo                      id  \\\n",
       "0          0.131000    0.4050    0.422   89.740  0hCB0YR03f6AmQaHbwWDe8   \n",
       "1          0.000127    0.3660    0.777  114.512  7MRyJPksH3G2cXHN8UKYzP   \n",
       "2          0.009650    0.0828    0.763  188.386  08mG3Y1vljYA6bvDt4Wqkj   \n",
       "3          0.000000    0.3840    0.820  113.375  39shmbIHICJ2Wxnk1fPSdz   \n",
       "4          0.000567    0.0383    0.574  151.727  2X6gdRlGOQgfaXU9ALUQFQ   \n",
       "\n",
       "                                    uri  \\\n",
       "0  spotify:track:0hCB0YR03f6AmQaHbwWDe8   \n",
       "1  spotify:track:7MRyJPksH3G2cXHN8UKYzP   \n",
       "2  spotify:track:08mG3Y1vljYA6bvDt4Wqkj   \n",
       "3  spotify:track:39shmbIHICJ2Wxnk1fPSdz   \n",
       "4  spotify:track:2X6gdRlGOQgfaXU9ALUQFQ   \n",
       "\n",
       "                                          track_href  \\\n",
       "0  https://api.spotify.com/v1/tracks/0hCB0YR03f6A...   \n",
       "1  https://api.spotify.com/v1/tracks/7MRyJPksH3G2...   \n",
       "2  https://api.spotify.com/v1/tracks/08mG3Y1vljYA...   \n",
       "3  https://api.spotify.com/v1/tracks/39shmbIHICJ2...   \n",
       "4  https://api.spotify.com/v1/tracks/2X6gdRlGOQgf...   \n",
       "\n",
       "                                        analysis_url  duration_ms  \\\n",
       "0  https://api.spotify.com/v1/audio-analysis/0hCB...       333893   \n",
       "1  https://api.spotify.com/v1/audio-analysis/7MRy...       214733   \n",
       "2  https://api.spotify.com/v1/audio-analysis/08mG...       255493   \n",
       "3  https://api.spotify.com/v1/audio-analysis/39sh...       188987   \n",
       "4  https://api.spotify.com/v1/audio-analysis/2X6g...       271000   \n",
       "\n",
       "   time_signature  \n",
       "0               4  \n",
       "1               4  \n",
       "2               4  \n",
       "3               4  \n",
       "4               4  "
      ],
      "text/html": [
       "<div>\n",
       "<style scoped>\n",
       "    .dataframe tbody tr th:only-of-type {\n",
       "        vertical-align: middle;\n",
       "    }\n",
       "\n",
       "    .dataframe tbody tr th {\n",
       "        vertical-align: top;\n",
       "    }\n",
       "\n",
       "    .dataframe thead th {\n",
       "        text-align: right;\n",
       "    }\n",
       "</style>\n",
       "<table border=\"1\" class=\"dataframe\">\n",
       "  <thead>\n",
       "    <tr style=\"text-align: right;\">\n",
       "      <th></th>\n",
       "      <th>title</th>\n",
       "      <th>artist</th>\n",
       "      <th>danceability</th>\n",
       "      <th>energy</th>\n",
       "      <th>key</th>\n",
       "      <th>loudness</th>\n",
       "      <th>mode</th>\n",
       "      <th>speechiness</th>\n",
       "      <th>acousticness</th>\n",
       "      <th>instrumentalness</th>\n",
       "      <th>liveness</th>\n",
       "      <th>valence</th>\n",
       "      <th>tempo</th>\n",
       "      <th>id</th>\n",
       "      <th>uri</th>\n",
       "      <th>track_href</th>\n",
       "      <th>analysis_url</th>\n",
       "      <th>duration_ms</th>\n",
       "      <th>time_signature</th>\n",
       "    </tr>\n",
       "  </thead>\n",
       "  <tbody>\n",
       "    <tr>\n",
       "      <th>0</th>\n",
       "      <td>Whole Lotta Love - 1990 Remaster</td>\n",
       "      <td>Led Zeppelin</td>\n",
       "      <td>0.412</td>\n",
       "      <td>0.902</td>\n",
       "      <td>9</td>\n",
       "      <td>-11.600</td>\n",
       "      <td>1</td>\n",
       "      <td>0.4050</td>\n",
       "      <td>0.0484</td>\n",
       "      <td>0.131000</td>\n",
       "      <td>0.4050</td>\n",
       "      <td>0.422</td>\n",
       "      <td>89.740</td>\n",
       "      <td>0hCB0YR03f6AmQaHbwWDe8</td>\n",
       "      <td>spotify:track:0hCB0YR03f6AmQaHbwWDe8</td>\n",
       "      <td>https://api.spotify.com/v1/tracks/0hCB0YR03f6A...</td>\n",
       "      <td>https://api.spotify.com/v1/audio-analysis/0hCB...</td>\n",
       "      <td>333893</td>\n",
       "      <td>4</td>\n",
       "    </tr>\n",
       "    <tr>\n",
       "      <th>1</th>\n",
       "      <td>American Girl</td>\n",
       "      <td>Tom Petty and the Heartbreakers</td>\n",
       "      <td>0.550</td>\n",
       "      <td>0.824</td>\n",
       "      <td>2</td>\n",
       "      <td>-5.988</td>\n",
       "      <td>1</td>\n",
       "      <td>0.0334</td>\n",
       "      <td>0.4480</td>\n",
       "      <td>0.000127</td>\n",
       "      <td>0.3660</td>\n",
       "      <td>0.777</td>\n",
       "      <td>114.512</td>\n",
       "      <td>7MRyJPksH3G2cXHN8UKYzP</td>\n",
       "      <td>spotify:track:7MRyJPksH3G2cXHN8UKYzP</td>\n",
       "      <td>https://api.spotify.com/v1/tracks/7MRyJPksH3G2...</td>\n",
       "      <td>https://api.spotify.com/v1/audio-analysis/7MRy...</td>\n",
       "      <td>214733</td>\n",
       "      <td>4</td>\n",
       "    </tr>\n",
       "    <tr>\n",
       "      <th>2</th>\n",
       "      <td>Back In Black</td>\n",
       "      <td>AC/DC</td>\n",
       "      <td>0.310</td>\n",
       "      <td>0.700</td>\n",
       "      <td>9</td>\n",
       "      <td>-5.678</td>\n",
       "      <td>1</td>\n",
       "      <td>0.0470</td>\n",
       "      <td>0.0110</td>\n",
       "      <td>0.009650</td>\n",
       "      <td>0.0828</td>\n",
       "      <td>0.763</td>\n",
       "      <td>188.386</td>\n",
       "      <td>08mG3Y1vljYA6bvDt4Wqkj</td>\n",
       "      <td>spotify:track:08mG3Y1vljYA6bvDt4Wqkj</td>\n",
       "      <td>https://api.spotify.com/v1/tracks/08mG3Y1vljYA...</td>\n",
       "      <td>https://api.spotify.com/v1/audio-analysis/08mG...</td>\n",
       "      <td>255493</td>\n",
       "      <td>4</td>\n",
       "    </tr>\n",
       "    <tr>\n",
       "      <th>3</th>\n",
       "      <td>Should I Stay or Should I Go - Remastered</td>\n",
       "      <td>The Clash</td>\n",
       "      <td>0.743</td>\n",
       "      <td>0.836</td>\n",
       "      <td>2</td>\n",
       "      <td>-6.465</td>\n",
       "      <td>1</td>\n",
       "      <td>0.1160</td>\n",
       "      <td>0.0804</td>\n",
       "      <td>0.000000</td>\n",
       "      <td>0.3840</td>\n",
       "      <td>0.820</td>\n",
       "      <td>113.375</td>\n",
       "      <td>39shmbIHICJ2Wxnk1fPSdz</td>\n",
       "      <td>spotify:track:39shmbIHICJ2Wxnk1fPSdz</td>\n",
       "      <td>https://api.spotify.com/v1/tracks/39shmbIHICJ2...</td>\n",
       "      <td>https://api.spotify.com/v1/audio-analysis/39sh...</td>\n",
       "      <td>188987</td>\n",
       "      <td>4</td>\n",
       "    </tr>\n",
       "    <tr>\n",
       "      <th>4</th>\n",
       "      <td>The Chain</td>\n",
       "      <td>Fleetwood Mac</td>\n",
       "      <td>0.546</td>\n",
       "      <td>0.529</td>\n",
       "      <td>9</td>\n",
       "      <td>-13.600</td>\n",
       "      <td>1</td>\n",
       "      <td>0.0436</td>\n",
       "      <td>0.0629</td>\n",
       "      <td>0.000567</td>\n",
       "      <td>0.0383</td>\n",
       "      <td>0.574</td>\n",
       "      <td>151.727</td>\n",
       "      <td>2X6gdRlGOQgfaXU9ALUQFQ</td>\n",
       "      <td>spotify:track:2X6gdRlGOQgfaXU9ALUQFQ</td>\n",
       "      <td>https://api.spotify.com/v1/tracks/2X6gdRlGOQgf...</td>\n",
       "      <td>https://api.spotify.com/v1/audio-analysis/2X6g...</td>\n",
       "      <td>271000</td>\n",
       "      <td>4</td>\n",
       "    </tr>\n",
       "  </tbody>\n",
       "</table>\n",
       "</div>"
      ]
     },
     "metadata": {},
     "execution_count": 155
    }
   ],
   "metadata": {}
  },
  {
   "cell_type": "markdown",
   "source": [
    "Above, we stored all the uri's of a playlist into a list called `iron_uris`. We're going to get all the audio features from that playlist's songs now."
   ],
   "metadata": {}
  },
  {
   "cell_type": "code",
   "execution_count": null,
   "source": [],
   "outputs": [],
   "metadata": {}
  },
  {
   "cell_type": "markdown",
   "source": [
    "### Searching the audio features for a song\n",
    "\n",
    "When the user inputs a song, you are gonna want to retrieve the audio features of that song. How to do it?\n",
    "\n",
    "1. Search the user input using the `sp.search()` function. This function works similarly to the \"search\" bar on the spotify app - using Spotify's intelligent search engine. That means that it can handle names of any songs or artists - even certain typos.\n",
    "\n",
    "2. Find the uri of the song that the API gives you back.\n",
    "\n",
    "3. Use `sp.audio_features` to retrieve the audio features of the song."
   ],
   "metadata": {}
  },
  {
   "cell_type": "code",
   "execution_count": null,
   "source": [],
   "outputs": [],
   "metadata": {}
  },
  {
   "cell_type": "markdown",
   "source": [
    "### Lab: Create your collection of songs & audio features\n",
    "\n",
    "To move forward witht the project, you need to create a collection of songs with their audio features - as large as possible! \n",
    "\n",
    "These are the songs that we will cluster. And, later, when the user inputs a song, we will find the cluster to which the song belongs and recommend a song from the same cluster.\n",
    "\n",
    "The more songs you have, the more accurate and diverse recommendations you'll be able to give. Although... you might want to make sure the collected songs are \"curated\" in a certain way. Try to find playlists of songs that are diverse, but also that meet certain standards.\n",
    "\n",
    "The process of sending hundreds or thousands of requests can take some time - it's normal if you have to wait a few minutes (or, if you're ambitious, even hours) to get all the data you need.\n",
    "\n",
    "An idea for collecting as many songs as possible is to start with all the songs of a big, diverse playlist and then go to every artist present in the playlist and grab every song of every album of that artist. The amount of songs you'll be collecting per playlist will grow exponentially!"
   ],
   "metadata": {}
  },
  {
   "cell_type": "code",
   "execution_count": 37,
   "source": [
    "def accum(s):\n",
    "    res = ''\n",
    "    for i in range(len(s)):\n",
    "        res += (s[i] * (i+1) +'-')\n",
    "    res2 = res.split('-')\n",
    "    res3 = ''\n",
    "    for j in res2:\n",
    "        res3 += (j.capitalize() + '-')\n",
    "    res3.rstrip('--')\n",
    "    return res3.rstrip('--')\n",
    "accum('ase')"
   ],
   "outputs": [
    {
     "output_type": "execute_result",
     "data": {
      "text/plain": [
       "'A-Ss-Eee'"
      ]
     },
     "metadata": {},
     "execution_count": 37
    }
   ],
   "metadata": {}
  },
  {
   "cell_type": "code",
   "execution_count": 44,
   "source": [
    "'-'.join([letter.upper() + letter.lower()*number for number, letter in enumerate('ase')])"
   ],
   "outputs": [
    {
     "output_type": "execute_result",
     "data": {
      "text/plain": [
       "'A-Ss-Eee'"
      ]
     },
     "metadata": {},
     "execution_count": 44
    }
   ],
   "metadata": {}
  },
  {
   "cell_type": "code",
   "execution_count": null,
   "source": [],
   "outputs": [],
   "metadata": {}
  }
 ],
 "metadata": {
  "kernelspec": {
   "display_name": "Python 3 (ipykernel)",
   "language": "python",
   "name": "python3"
  },
  "language_info": {
   "codemirror_mode": {
    "name": "ipython",
    "version": 3
   },
   "file_extension": ".py",
   "mimetype": "text/x-python",
   "name": "python",
   "nbconvert_exporter": "python",
   "pygments_lexer": "ipython3",
   "version": "3.9.6"
  },
  "toc": {
   "base_numbering": 1,
   "nav_menu": {},
   "number_sections": true,
   "sideBar": true,
   "skip_h1_title": false,
   "title_cell": "Table of Contents",
   "title_sidebar": "Contents",
   "toc_cell": false,
   "toc_position": {},
   "toc_section_display": true,
   "toc_window_display": false
  },
  "varInspector": {
   "cols": {
    "lenName": 16,
    "lenType": 16,
    "lenVar": 40
   },
   "kernels_config": {
    "python": {
     "delete_cmd_postfix": "",
     "delete_cmd_prefix": "del ",
     "library": "var_list.py",
     "varRefreshCmd": "print(var_dic_list())"
    },
    "r": {
     "delete_cmd_postfix": ") ",
     "delete_cmd_prefix": "rm(",
     "library": "var_list.r",
     "varRefreshCmd": "cat(var_dic_list()) "
    }
   },
   "types_to_exclude": [
    "module",
    "function",
    "builtin_function_or_method",
    "instance",
    "_Feature"
   ],
   "window_display": false
  }
 },
 "nbformat": 4,
 "nbformat_minor": 4
}