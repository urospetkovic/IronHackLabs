{
 "cells": [
  {
   "cell_type": "code",
   "execution_count": 2,
   "id": "dated-principal",
   "metadata": {},
   "outputs": [],
   "source": [
    "import pandas as pd\n",
    "import numpy as np\n",
    "import seaborn as sns\n",
    "import re"
   ]
  },
  {
   "cell_type": "code",
   "execution_count": 3,
   "metadata": {},
   "outputs": [],
   "source": [
    "data = pd.read_csv('alldata.csv')"
   ]
  },
  {
   "cell_type": "code",
   "execution_count": 4,
   "metadata": {},
   "outputs": [],
   "source": [
    "df = pd.DataFrame(data)"
   ]
  },
  {
   "cell_type": "code",
   "execution_count": 5,
   "metadata": {},
   "outputs": [
    {
     "output_type": "execute_result",
     "data": {
      "text/plain": [
       "                                            position             company  \\\n",
       "0                               Development Director             ALS TDI   \n",
       "1  An Ostentatiously-Excitable Principal Research...  The Hexagon Lavish   \n",
       "2                                     Data Scientist      Xpert Staffing   \n",
       "3                                       Data Analyst      Operation HOPE   \n",
       "4  Assistant Professor -TT - Signal Processing & ...    Emory University   \n",
       "\n",
       "                                         description  reviews  \\\n",
       "0  Development Director\\nALS Therapy Development ...      NaN   \n",
       "1  Job Description\\n\\n\"The road that leads to acc...      NaN   \n",
       "2  Growing company located in the Atlanta, GA are...      NaN   \n",
       "3  DEPARTMENT: Program OperationsPOSITION LOCATIO...     44.0   \n",
       "4  DESCRIPTION\\nThe Emory University Department o...    550.0   \n",
       "\n",
       "             location  \n",
       "0  Atlanta, GA 30301   \n",
       "1         Atlanta, GA  \n",
       "2         Atlanta, GA  \n",
       "3  Atlanta, GA 30303   \n",
       "4         Atlanta, GA  "
      ],
      "text/html": "<div>\n<style scoped>\n    .dataframe tbody tr th:only-of-type {\n        vertical-align: middle;\n    }\n\n    .dataframe tbody tr th {\n        vertical-align: top;\n    }\n\n    .dataframe thead th {\n        text-align: right;\n    }\n</style>\n<table border=\"1\" class=\"dataframe\">\n  <thead>\n    <tr style=\"text-align: right;\">\n      <th></th>\n      <th>position</th>\n      <th>company</th>\n      <th>description</th>\n      <th>reviews</th>\n      <th>location</th>\n    </tr>\n  </thead>\n  <tbody>\n    <tr>\n      <th>0</th>\n      <td>Development Director</td>\n      <td>ALS TDI</td>\n      <td>Development Director\\nALS Therapy Development ...</td>\n      <td>NaN</td>\n      <td>Atlanta, GA 30301</td>\n    </tr>\n    <tr>\n      <th>1</th>\n      <td>An Ostentatiously-Excitable Principal Research...</td>\n      <td>The Hexagon Lavish</td>\n      <td>Job Description\\n\\n\"The road that leads to acc...</td>\n      <td>NaN</td>\n      <td>Atlanta, GA</td>\n    </tr>\n    <tr>\n      <th>2</th>\n      <td>Data Scientist</td>\n      <td>Xpert Staffing</td>\n      <td>Growing company located in the Atlanta, GA are...</td>\n      <td>NaN</td>\n      <td>Atlanta, GA</td>\n    </tr>\n    <tr>\n      <th>3</th>\n      <td>Data Analyst</td>\n      <td>Operation HOPE</td>\n      <td>DEPARTMENT: Program OperationsPOSITION LOCATIO...</td>\n      <td>44.0</td>\n      <td>Atlanta, GA 30303</td>\n    </tr>\n    <tr>\n      <th>4</th>\n      <td>Assistant Professor -TT - Signal Processing &amp; ...</td>\n      <td>Emory University</td>\n      <td>DESCRIPTION\\nThe Emory University Department o...</td>\n      <td>550.0</td>\n      <td>Atlanta, GA</td>\n    </tr>\n  </tbody>\n</table>\n</div>"
     },
     "metadata": {},
     "execution_count": 5
    }
   ],
   "source": [
    "df.head()"
   ]
  },
  {
   "cell_type": "code",
   "execution_count": 6,
   "metadata": {},
   "outputs": [
    {
     "output_type": "stream",
     "name": "stdout",
     "text": [
      "<class 'pandas.core.frame.DataFrame'>\nRangeIndex: 6964 entries, 0 to 6963\nData columns (total 5 columns):\n #   Column       Non-Null Count  Dtype  \n---  ------       --------------  -----  \n 0   position     6953 non-null   object \n 1   company      6953 non-null   object \n 2   description  6953 non-null   object \n 3   reviews      5326 non-null   float64\n 4   location     6953 non-null   object \ndtypes: float64(1), object(4)\nmemory usage: 272.2+ KB\n"
     ]
    }
   ],
   "source": [
    "df.info()"
   ]
  },
  {
   "source": [
    "1 Location"
   ],
   "cell_type": "markdown",
   "metadata": {}
  },
  {
   "cell_type": "code",
   "execution_count": 7,
   "metadata": {},
   "outputs": [
    {
     "output_type": "execute_result",
     "data": {
      "text/plain": [
       "<bound method Series.unique of 0        Atlanta, GA 30301 \n",
       "1               Atlanta, GA\n",
       "2               Atlanta, GA\n",
       "3        Atlanta, GA 30303 \n",
       "4               Atlanta, GA\n",
       "               ...         \n",
       "6959          Sunnyvale, CA\n",
       "6960          Sunnyvale, CA\n",
       "6961          Sunnyvale, CA\n",
       "6962          Sunnyvale, CA\n",
       "6963    Sunnyvale, CA 94089\n",
       "Name: location, Length: 6964, dtype: object>"
      ]
     },
     "metadata": {},
     "execution_count": 7
    }
   ],
   "source": [
    "df['location'].unique"
   ]
  },
  {
   "cell_type": "code",
   "execution_count": 8,
   "metadata": {},
   "outputs": [],
   "source": [
    "df['city,state']=df['location'].str.extract(r'([\\D]+ ?[\\D]+, \\D\\D)')"
   ]
  },
  {
   "cell_type": "code",
   "execution_count": 9,
   "metadata": {},
   "outputs": [
    {
     "output_type": "execute_result",
     "data": {
      "text/plain": [
       "0         Atlanta, GA\n",
       "1         Atlanta, GA\n",
       "2         Atlanta, GA\n",
       "3         Atlanta, GA\n",
       "4         Atlanta, GA\n",
       "            ...      \n",
       "6959    Sunnyvale, CA\n",
       "6960    Sunnyvale, CA\n",
       "6961    Sunnyvale, CA\n",
       "6962    Sunnyvale, CA\n",
       "6963    Sunnyvale, CA\n",
       "Name: city,state, Length: 6964, dtype: object"
      ]
     },
     "metadata": {},
     "execution_count": 9
    }
   ],
   "source": [
    "df['city,state']"
   ]
  },
  {
   "cell_type": "code",
   "execution_count": 10,
   "metadata": {},
   "outputs": [],
   "source": [
    "df['state'] = df['city,state'].str[-2:]"
   ]
  },
  {
   "cell_type": "code",
   "execution_count": 11,
   "metadata": {},
   "outputs": [
    {
     "output_type": "execute_result",
     "data": {
      "text/plain": [
       "0       GA\n",
       "1       GA\n",
       "2       GA\n",
       "3       GA\n",
       "4       GA\n",
       "        ..\n",
       "6959    CA\n",
       "6960    CA\n",
       "6961    CA\n",
       "6962    CA\n",
       "6963    CA\n",
       "Name: state, Length: 6964, dtype: object"
      ]
     },
     "metadata": {},
     "execution_count": 11
    }
   ],
   "source": [
    "df['state']"
   ]
  },
  {
   "cell_type": "code",
   "execution_count": 12,
   "metadata": {},
   "outputs": [
    {
     "output_type": "execute_result",
     "data": {
      "text/plain": [
       "0         Atlanta\n",
       "1         Atlanta\n",
       "2         Atlanta\n",
       "3         Atlanta\n",
       "4         Atlanta\n",
       "          ...    \n",
       "6959    Sunnyvale\n",
       "6960    Sunnyvale\n",
       "6961    Sunnyvale\n",
       "6962    Sunnyvale\n",
       "6963    Sunnyvale\n",
       "Name: city, Length: 6964, dtype: object"
      ]
     },
     "metadata": {},
     "execution_count": 12
    }
   ],
   "source": [
    "df['city'] = df['city,state'].str[:-4]\n",
    "df['city']"
   ]
  },
  {
   "source": [
    "2 Position"
   ],
   "cell_type": "markdown",
   "metadata": {}
  },
  {
   "cell_type": "code",
   "execution_count": 13,
   "metadata": {},
   "outputs": [
    {
     "output_type": "execute_result",
     "data": {
      "text/plain": [
       "Data Scientist                                                             351\n",
       "Senior Data Scientist                                                       96\n",
       "Research Analyst                                                            64\n",
       "Data Engineer                                                               60\n",
       "Machine Learning Engineer                                                   56\n",
       "                                                                          ... \n",
       "Research Analyst, Production Technology & Business Development Strategy      1\n",
       "Engineering Scientist - R and D User Interface Software Developer            1\n",
       "Software Engineer / Research Scientist - Question Answering                  1\n",
       "Analytical Linguist, Natural Language Understanding (NLU) - Amazon AI        1\n",
       "Research Associate/Senior Research Associate, Process Development            1\n",
       "Name: position, Length: 5242, dtype: int64"
      ]
     },
     "metadata": {},
     "execution_count": 13
    }
   ],
   "source": [
    "df['position'].value_counts()"
   ]
  },
  {
   "cell_type": "code",
   "execution_count": 14,
   "metadata": {},
   "outputs": [],
   "source": [
    "df = df.apply(lambda x: x.astype(str).str.lower())"
   ]
  },
  {
   "cell_type": "code",
   "execution_count": 15,
   "metadata": {},
   "outputs": [
    {
     "output_type": "execute_result",
     "data": {
      "text/plain": [
       "data sci    1444\n",
       "Name: data scientist, dtype: int64"
      ]
     },
     "metadata": {},
     "execution_count": 15
    }
   ],
   "source": [
    "df['data scientist'] = df['position'].str.findall('data sci').str[0]\n",
    "df['data scientist'].value_counts() "
   ]
  },
  {
   "cell_type": "code",
   "execution_count": 16,
   "metadata": {},
   "outputs": [
    {
     "output_type": "execute_result",
     "data": {
      "text/plain": [
       "data analy    191\n",
       "Name: data analyst, dtype: int64"
      ]
     },
     "metadata": {},
     "execution_count": 16
    }
   ],
   "source": [
    "df['data analyst'] = df['position'].str.findall('data analy').str[0]\n",
    "df['data analyst'].value_counts() "
   ]
  },
  {
   "cell_type": "code",
   "execution_count": 17,
   "metadata": {},
   "outputs": [
    {
     "output_type": "execute_result",
     "data": {
      "text/plain": [
       "machine learning    528\n",
       "Name: machine learning, dtype: int64"
      ]
     },
     "metadata": {},
     "execution_count": 17
    }
   ],
   "source": [
    "df['machine learning'] = df['position'].str.findall('machine learning').str[0]\n",
    "df['machine learning'].value_counts() "
   ]
  },
  {
   "cell_type": "code",
   "execution_count": 18,
   "metadata": {},
   "outputs": [],
   "source": [
    "df['research'] = df['position'].str.findall('research').str[0]"
   ]
  },
  {
   "cell_type": "code",
   "execution_count": 19,
   "metadata": {},
   "outputs": [],
   "source": [
    "df['data engineer'] = df['position'].str.findall('data engineer').str[0]"
   ]
  },
  {
   "cell_type": "code",
   "execution_count": 20,
   "metadata": {},
   "outputs": [],
   "source": [
    "df = df.drop(['location', 'city,state'], axis=1)"
   ]
  },
  {
   "source": [
    "3 Description"
   ],
   "cell_type": "markdown",
   "metadata": {}
  },
  {
   "cell_type": "code",
   "execution_count": 21,
   "metadata": {},
   "outputs": [
    {
     "output_type": "execute_result",
     "data": {
      "text/plain": [
       "5 years        406\n",
       "2 years        299\n",
       "3 years        271\n",
       "3-5 years      146\n",
       "4 years        141\n",
       "              ... \n",
       "0-6 years        1\n",
       "80 years         1\n",
       "8-12 years       1\n",
       "10-20 years      1\n",
       "6-7 years        1\n",
       "Name: work experience, Length: 103, dtype: int64"
      ]
     },
     "metadata": {},
     "execution_count": 21
    }
   ],
   "source": [
    "df['work experience'] = df['description'].str.findall(r'\\d+\\s\\byears\\b|[\\d]+\\S?[\\d]+\\s\\byears\\b').str[0]\n",
    "df['work experience'].value_counts()"
   ]
  },
  {
   "cell_type": "code",
   "execution_count": 22,
   "metadata": {},
   "outputs": [],
   "source": [
    "df['data scientist'] = df['data scientist'].fillna(False)\n",
    "df['data analyst'] = df['data analyst'].fillna(False)\n",
    "df['machine learning'] = df['machine learning'].fillna(False)\n",
    "df['research'] = df['research'].fillna(False)\n",
    "df['data engineer'] = df['data engineer'].fillna(False)\n",
    "df['reviews'] = df['reviews'].fillna(0)"
   ]
  },
  {
   "cell_type": "code",
   "execution_count": 23,
   "metadata": {},
   "outputs": [],
   "source": [
    "df['data scientist'] = df['data scientist'].replace({'data sci': True})\n",
    "df['data analyst'] = df['data analyst'].replace({'data analy': True})\n",
    "df['machine learning'] = df['machine learning'].replace({'machine learning': True})\n",
    "df['research'] = df['research'].replace({'research': True})\n",
    "df['data engineer'] = df['data engineer'].replace({'data engineer': True})\n"
   ]
  },
  {
   "cell_type": "code",
   "execution_count": 24,
   "metadata": {},
   "outputs": [
    {
     "output_type": "execute_result",
     "data": {
      "text/plain": [
       "                                            position             company  \\\n",
       "0                               development director             als tdi   \n",
       "1  an ostentatiously-excitable principal research...  the hexagon lavish   \n",
       "2                                     data scientist      xpert staffing   \n",
       "3                                       data analyst      operation hope   \n",
       "4  assistant professor -tt - signal processing & ...    emory university   \n",
       "\n",
       "                                         description reviews state     city  \\\n",
       "0  development director\\nals therapy development ...     nan    ga  atlanta   \n",
       "1  job description\\n\\n\"the road that leads to acc...     nan    ga  atlanta   \n",
       "2  growing company located in the atlanta, ga are...     nan    ga  atlanta   \n",
       "3  department: program operationsposition locatio...    44.0    ga  atlanta   \n",
       "4  description\\nthe emory university department o...   550.0    ga  atlanta   \n",
       "\n",
       "   data scientist  data analyst  machine learning  research  data engineer  \\\n",
       "0           False         False             False     False          False   \n",
       "1           False         False             False      True          False   \n",
       "2            True         False             False     False          False   \n",
       "3           False          True             False     False          False   \n",
       "4           False         False              True     False          False   \n",
       "\n",
       "  work experience  \n",
       "0       6-8 years  \n",
       "1             NaN  \n",
       "2             NaN  \n",
       "3        25 years  \n",
       "4             NaN  "
      ],
      "text/html": "<div>\n<style scoped>\n    .dataframe tbody tr th:only-of-type {\n        vertical-align: middle;\n    }\n\n    .dataframe tbody tr th {\n        vertical-align: top;\n    }\n\n    .dataframe thead th {\n        text-align: right;\n    }\n</style>\n<table border=\"1\" class=\"dataframe\">\n  <thead>\n    <tr style=\"text-align: right;\">\n      <th></th>\n      <th>position</th>\n      <th>company</th>\n      <th>description</th>\n      <th>reviews</th>\n      <th>state</th>\n      <th>city</th>\n      <th>data scientist</th>\n      <th>data analyst</th>\n      <th>machine learning</th>\n      <th>research</th>\n      <th>data engineer</th>\n      <th>work experience</th>\n    </tr>\n  </thead>\n  <tbody>\n    <tr>\n      <th>0</th>\n      <td>development director</td>\n      <td>als tdi</td>\n      <td>development director\\nals therapy development ...</td>\n      <td>nan</td>\n      <td>ga</td>\n      <td>atlanta</td>\n      <td>False</td>\n      <td>False</td>\n      <td>False</td>\n      <td>False</td>\n      <td>False</td>\n      <td>6-8 years</td>\n    </tr>\n    <tr>\n      <th>1</th>\n      <td>an ostentatiously-excitable principal research...</td>\n      <td>the hexagon lavish</td>\n      <td>job description\\n\\n\"the road that leads to acc...</td>\n      <td>nan</td>\n      <td>ga</td>\n      <td>atlanta</td>\n      <td>False</td>\n      <td>False</td>\n      <td>False</td>\n      <td>True</td>\n      <td>False</td>\n      <td>NaN</td>\n    </tr>\n    <tr>\n      <th>2</th>\n      <td>data scientist</td>\n      <td>xpert staffing</td>\n      <td>growing company located in the atlanta, ga are...</td>\n      <td>nan</td>\n      <td>ga</td>\n      <td>atlanta</td>\n      <td>True</td>\n      <td>False</td>\n      <td>False</td>\n      <td>False</td>\n      <td>False</td>\n      <td>NaN</td>\n    </tr>\n    <tr>\n      <th>3</th>\n      <td>data analyst</td>\n      <td>operation hope</td>\n      <td>department: program operationsposition locatio...</td>\n      <td>44.0</td>\n      <td>ga</td>\n      <td>atlanta</td>\n      <td>False</td>\n      <td>True</td>\n      <td>False</td>\n      <td>False</td>\n      <td>False</td>\n      <td>25 years</td>\n    </tr>\n    <tr>\n      <th>4</th>\n      <td>assistant professor -tt - signal processing &amp; ...</td>\n      <td>emory university</td>\n      <td>description\\nthe emory university department o...</td>\n      <td>550.0</td>\n      <td>ga</td>\n      <td>atlanta</td>\n      <td>False</td>\n      <td>False</td>\n      <td>True</td>\n      <td>False</td>\n      <td>False</td>\n      <td>NaN</td>\n    </tr>\n  </tbody>\n</table>\n</div>"
     },
     "metadata": {},
     "execution_count": 24
    }
   ],
   "source": [
    "df.head()"
   ]
  },
  {
   "source": [
    "4 Tech Centers"
   ],
   "cell_type": "markdown",
   "metadata": {}
  },
  {
   "cell_type": "code",
   "execution_count": 25,
   "metadata": {},
   "outputs": [],
   "source": [
    "tech_centers = ['Austin', 'Atlanta', 'San Fransisco', 'New York City', 'San Diego', 'Boston', 'Portland', 'Seattle']"
   ]
  },
  {
   "cell_type": "code",
   "execution_count": 27,
   "metadata": {},
   "outputs": [],
   "source": [
    "df = df.drop(['description'], axis=1)"
   ]
  },
  {
   "cell_type": "code",
   "execution_count": 30,
   "metadata": {},
   "outputs": [],
   "source": [
    "df.to_csv('wranglin crew clean data 2.csv', index=False)"
   ]
  },
  {
   "cell_type": "code",
   "execution_count": 31,
   "metadata": {},
   "outputs": [],
   "source": [
    "desc = df.describe()\n",
    "desc.to_csv('description.csv', index=False)"
   ]
  },
  {
   "cell_type": "code",
   "execution_count": null,
   "metadata": {},
   "outputs": [],
   "source": []
  }
 ],
 "metadata": {
  "kernelspec": {
   "display_name": "Python 3",
   "language": "python",
   "name": "python3"
  },
  "language_info": {
   "codemirror_mode": {
    "name": "ipython",
    "version": 3
   },
   "file_extension": ".py",
   "mimetype": "text/x-python",
   "name": "python",
   "nbconvert_exporter": "python",
   "pygments_lexer": "ipython3",
   "version": "3.9.0"
  }
 },
 "nbformat": 4,
 "nbformat_minor": 5
}