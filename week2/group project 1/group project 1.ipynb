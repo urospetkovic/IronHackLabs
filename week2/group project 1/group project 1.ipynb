{
 "cells": [
  {
   "cell_type": "code",
   "execution_count": 1,
   "id": "dated-principal",
   "metadata": {},
   "outputs": [],
   "source": [
    "import pandas as pd\n",
    "import numpy as np\n",
    "import seaborn as sns\n",
    "import re"
   ]
  },
  {
   "cell_type": "code",
   "execution_count": 2,
   "metadata": {},
   "outputs": [],
   "source": [
    "data = pd.read_csv('alldata.csv')"
   ]
  },
  {
   "cell_type": "code",
   "execution_count": 3,
   "metadata": {},
   "outputs": [],
   "source": [
    "df = pd.DataFrame(data)"
   ]
  },
  {
   "cell_type": "code",
   "execution_count": 4,
   "metadata": {},
   "outputs": [
    {
     "output_type": "execute_result",
     "data": {
      "text/plain": [
       "                                            position             company  \\\n",
       "0                               Development Director             ALS TDI   \n",
       "1  An Ostentatiously-Excitable Principal Research...  The Hexagon Lavish   \n",
       "2                                     Data Scientist      Xpert Staffing   \n",
       "3                                       Data Analyst      Operation HOPE   \n",
       "4  Assistant Professor -TT - Signal Processing & ...    Emory University   \n",
       "\n",
       "                                         description  reviews  \\\n",
       "0  Development Director\\nALS Therapy Development ...      NaN   \n",
       "1  Job Description\\n\\n\"The road that leads to acc...      NaN   \n",
       "2  Growing company located in the Atlanta, GA are...      NaN   \n",
       "3  DEPARTMENT: Program OperationsPOSITION LOCATIO...     44.0   \n",
       "4  DESCRIPTION\\nThe Emory University Department o...    550.0   \n",
       "\n",
       "             location  \n",
       "0  Atlanta, GA 30301   \n",
       "1         Atlanta, GA  \n",
       "2         Atlanta, GA  \n",
       "3  Atlanta, GA 30303   \n",
       "4         Atlanta, GA  "
      ],
      "text/html": "<div>\n<style scoped>\n    .dataframe tbody tr th:only-of-type {\n        vertical-align: middle;\n    }\n\n    .dataframe tbody tr th {\n        vertical-align: top;\n    }\n\n    .dataframe thead th {\n        text-align: right;\n    }\n</style>\n<table border=\"1\" class=\"dataframe\">\n  <thead>\n    <tr style=\"text-align: right;\">\n      <th></th>\n      <th>position</th>\n      <th>company</th>\n      <th>description</th>\n      <th>reviews</th>\n      <th>location</th>\n    </tr>\n  </thead>\n  <tbody>\n    <tr>\n      <th>0</th>\n      <td>Development Director</td>\n      <td>ALS TDI</td>\n      <td>Development Director\\nALS Therapy Development ...</td>\n      <td>NaN</td>\n      <td>Atlanta, GA 30301</td>\n    </tr>\n    <tr>\n      <th>1</th>\n      <td>An Ostentatiously-Excitable Principal Research...</td>\n      <td>The Hexagon Lavish</td>\n      <td>Job Description\\n\\n\"The road that leads to acc...</td>\n      <td>NaN</td>\n      <td>Atlanta, GA</td>\n    </tr>\n    <tr>\n      <th>2</th>\n      <td>Data Scientist</td>\n      <td>Xpert Staffing</td>\n      <td>Growing company located in the Atlanta, GA are...</td>\n      <td>NaN</td>\n      <td>Atlanta, GA</td>\n    </tr>\n    <tr>\n      <th>3</th>\n      <td>Data Analyst</td>\n      <td>Operation HOPE</td>\n      <td>DEPARTMENT: Program OperationsPOSITION LOCATIO...</td>\n      <td>44.0</td>\n      <td>Atlanta, GA 30303</td>\n    </tr>\n    <tr>\n      <th>4</th>\n      <td>Assistant Professor -TT - Signal Processing &amp; ...</td>\n      <td>Emory University</td>\n      <td>DESCRIPTION\\nThe Emory University Department o...</td>\n      <td>550.0</td>\n      <td>Atlanta, GA</td>\n    </tr>\n  </tbody>\n</table>\n</div>"
     },
     "metadata": {},
     "execution_count": 4
    }
   ],
   "source": [
    "df.head()"
   ]
  },
  {
   "cell_type": "code",
   "execution_count": 5,
   "metadata": {},
   "outputs": [
    {
     "output_type": "stream",
     "name": "stdout",
     "text": [
      "<class 'pandas.core.frame.DataFrame'>\nRangeIndex: 6964 entries, 0 to 6963\nData columns (total 5 columns):\n #   Column       Non-Null Count  Dtype  \n---  ------       --------------  -----  \n 0   position     6953 non-null   object \n 1   company      6953 non-null   object \n 2   description  6953 non-null   object \n 3   reviews      5326 non-null   float64\n 4   location     6953 non-null   object \ndtypes: float64(1), object(4)\nmemory usage: 272.2+ KB\n"
     ]
    }
   ],
   "source": [
    "df.info()"
   ]
  },
  {
   "source": [
    "1 Location"
   ],
   "cell_type": "markdown",
   "metadata": {}
  },
  {
   "cell_type": "code",
   "execution_count": 6,
   "metadata": {},
   "outputs": [
    {
     "output_type": "execute_result",
     "data": {
      "text/plain": [
       "<bound method Series.unique of 0        Atlanta, GA 30301 \n",
       "1               Atlanta, GA\n",
       "2               Atlanta, GA\n",
       "3        Atlanta, GA 30303 \n",
       "4               Atlanta, GA\n",
       "               ...         \n",
       "6959          Sunnyvale, CA\n",
       "6960          Sunnyvale, CA\n",
       "6961          Sunnyvale, CA\n",
       "6962          Sunnyvale, CA\n",
       "6963    Sunnyvale, CA 94089\n",
       "Name: location, Length: 6964, dtype: object>"
      ]
     },
     "metadata": {},
     "execution_count": 6
    }
   ],
   "source": [
    "df['location'].unique"
   ]
  },
  {
   "cell_type": "code",
   "execution_count": 7,
   "metadata": {},
   "outputs": [],
   "source": [
    "df['city,state']=df['location'].str.extract(r'([\\D]+ ?[\\D]+, \\D\\D)')"
   ]
  },
  {
   "cell_type": "code",
   "execution_count": 8,
   "metadata": {},
   "outputs": [
    {
     "output_type": "execute_result",
     "data": {
      "text/plain": [
       "0         Atlanta, GA\n",
       "1         Atlanta, GA\n",
       "2         Atlanta, GA\n",
       "3         Atlanta, GA\n",
       "4         Atlanta, GA\n",
       "            ...      \n",
       "6959    Sunnyvale, CA\n",
       "6960    Sunnyvale, CA\n",
       "6961    Sunnyvale, CA\n",
       "6962    Sunnyvale, CA\n",
       "6963    Sunnyvale, CA\n",
       "Name: city,state, Length: 6964, dtype: object"
      ]
     },
     "metadata": {},
     "execution_count": 8
    }
   ],
   "source": [
    "df['city,state']"
   ]
  },
  {
   "cell_type": "code",
   "execution_count": 35,
   "metadata": {},
   "outputs": [],
   "source": [
    "df['state'] = df['city,state'].str[-2:]"
   ]
  },
  {
   "cell_type": "code",
   "execution_count": 36,
   "metadata": {},
   "outputs": [
    {
     "output_type": "execute_result",
     "data": {
      "text/plain": [
       "0       GA\n",
       "1       GA\n",
       "2       GA\n",
       "3       GA\n",
       "4       GA\n",
       "        ..\n",
       "6959    CA\n",
       "6960    CA\n",
       "6961    CA\n",
       "6962    CA\n",
       "6963    CA\n",
       "Name: state, Length: 6964, dtype: object"
      ]
     },
     "metadata": {},
     "execution_count": 36
    }
   ],
   "source": [
    "df['state']"
   ]
  },
  {
   "cell_type": "code",
   "execution_count": 42,
   "metadata": {},
   "outputs": [
    {
     "output_type": "execute_result",
     "data": {
      "text/plain": [
       "0         Atlanta\n",
       "1         Atlanta\n",
       "2         Atlanta\n",
       "3         Atlanta\n",
       "4         Atlanta\n",
       "          ...    \n",
       "6959    Sunnyvale\n",
       "6960    Sunnyvale\n",
       "6961    Sunnyvale\n",
       "6962    Sunnyvale\n",
       "6963    Sunnyvale\n",
       "Name: city, Length: 6964, dtype: object"
      ]
     },
     "metadata": {},
     "execution_count": 42
    }
   ],
   "source": [
    "df['city'] = df['city,state'].str[:-4]\n",
    "df['city']"
   ]
  },
  {
   "source": [
    "2 Position"
   ],
   "cell_type": "markdown",
   "metadata": {}
  },
  {
   "cell_type": "code",
   "execution_count": 68,
   "metadata": {},
   "outputs": [],
   "source": [
    "df['ds yes'] = df['position'].str.findall('data scientist', flags=re.IGNORECASE)"
   ]
  },
  {
   "cell_type": "code",
   "execution_count": 69,
   "metadata": {},
   "outputs": [
    {
     "output_type": "execute_result",
     "data": {
      "text/plain": [
       "0                     []\n",
       "1                     []\n",
       "2       [Data Scientist]\n",
       "3                     []\n",
       "4                     []\n",
       "              ...       \n",
       "6959                  []\n",
       "6960                  []\n",
       "6961                  []\n",
       "6962                  []\n",
       "6963    [Data Scientist]\n",
       "Name: ds yes, Length: 6964, dtype: object"
      ]
     },
     "metadata": {},
     "execution_count": 69
    }
   ],
   "source": [
    "df['ds yes']\n"
   ]
  },
  {
   "cell_type": "code",
   "execution_count": null,
   "metadata": {},
   "outputs": [],
   "source": [
    "map()"
   ]
  },
  {
   "cell_type": "code",
   "execution_count": 64,
   "metadata": {},
   "outputs": [
    {
     "output_type": "error",
     "ename": "SyntaxError",
     "evalue": "invalid syntax (<ipython-input-64-fd5a1a5eb764>, line 1)",
     "traceback": [
      "\u001b[0;36m  File \u001b[0;32m\"<ipython-input-64-fd5a1a5eb764>\"\u001b[0;36m, line \u001b[0;32m1\u001b[0m\n\u001b[0;31m    df['data scientist'] = df['ds yes'].str.contains(Data Scientist)\u001b[0m\n\u001b[0m                                                          ^\u001b[0m\n\u001b[0;31mSyntaxError\u001b[0m\u001b[0;31m:\u001b[0m invalid syntax\n"
     ]
    }
   ],
   "source": [
    "df['data scientist'] = df['ds yes'].str.contains('Data Scientist')"
   ]
  },
  {
   "cell_type": "code",
   "execution_count": 63,
   "metadata": {},
   "outputs": [
    {
     "output_type": "execute_result",
     "data": {
      "text/plain": [
       "0      NaN\n",
       "1      NaN\n",
       "2      NaN\n",
       "3      NaN\n",
       "4      NaN\n",
       "        ..\n",
       "6959   NaN\n",
       "6960   NaN\n",
       "6961   NaN\n",
       "6962   NaN\n",
       "6963   NaN\n",
       "Name: data scientist, Length: 6964, dtype: float64"
      ]
     },
     "metadata": {},
     "execution_count": 63
    }
   ],
   "source": [
    "df['data scientist']"
   ]
  },
  {
   "cell_type": "code",
   "execution_count": 56,
   "metadata": {},
   "outputs": [],
   "source": [
    "def rem_list(x):\n",
    "    if len(x) > 0:\n",
    "        return x[0]\n",
    "    else:\n",
    "        return 'no'"
   ]
  },
  {
   "cell_type": "code",
   "execution_count": 57,
   "metadata": {},
   "outputs": [
    {
     "output_type": "error",
     "ename": "TypeError",
     "evalue": "object of type 'float' has no len()",
     "traceback": [
      "\u001b[0;31m---------------------------------------------------------------------------\u001b[0m",
      "\u001b[0;31mTypeError\u001b[0m                                 Traceback (most recent call last)",
      "\u001b[0;32m<ipython-input-57-9cf0a98753db>\u001b[0m in \u001b[0;36m<module>\u001b[0;34m\u001b[0m\n\u001b[0;32m----> 1\u001b[0;31m \u001b[0mlist\u001b[0m\u001b[0;34m(\u001b[0m\u001b[0mmap\u001b[0m\u001b[0;34m(\u001b[0m\u001b[0mrem_list\u001b[0m\u001b[0;34m,\u001b[0m \u001b[0mdf\u001b[0m\u001b[0;34m[\u001b[0m\u001b[0;34m'ds yes'\u001b[0m\u001b[0;34m]\u001b[0m\u001b[0;34m)\u001b[0m\u001b[0;34m)\u001b[0m\u001b[0;34m\u001b[0m\u001b[0;34m\u001b[0m\u001b[0m\n\u001b[0m",
      "\u001b[0;32m<ipython-input-56-596d4b13fc1f>\u001b[0m in \u001b[0;36mrem_list\u001b[0;34m(x)\u001b[0m\n\u001b[1;32m      1\u001b[0m \u001b[0;32mdef\u001b[0m \u001b[0mrem_list\u001b[0m\u001b[0;34m(\u001b[0m\u001b[0mx\u001b[0m\u001b[0;34m)\u001b[0m\u001b[0;34m:\u001b[0m\u001b[0;34m\u001b[0m\u001b[0;34m\u001b[0m\u001b[0m\n\u001b[0;32m----> 2\u001b[0;31m     \u001b[0;32mif\u001b[0m \u001b[0mlen\u001b[0m\u001b[0;34m(\u001b[0m\u001b[0mx\u001b[0m\u001b[0;34m)\u001b[0m \u001b[0;34m>\u001b[0m \u001b[0;36m0\u001b[0m\u001b[0;34m:\u001b[0m\u001b[0;34m\u001b[0m\u001b[0;34m\u001b[0m\u001b[0m\n\u001b[0m\u001b[1;32m      3\u001b[0m         \u001b[0;32mreturn\u001b[0m \u001b[0mx\u001b[0m\u001b[0;34m[\u001b[0m\u001b[0;36m0\u001b[0m\u001b[0;34m]\u001b[0m\u001b[0;34m\u001b[0m\u001b[0;34m\u001b[0m\u001b[0m\n\u001b[1;32m      4\u001b[0m     \u001b[0;32melse\u001b[0m\u001b[0;34m:\u001b[0m\u001b[0;34m\u001b[0m\u001b[0;34m\u001b[0m\u001b[0m\n\u001b[1;32m      5\u001b[0m         \u001b[0;32mreturn\u001b[0m \u001b[0;34m'no'\u001b[0m\u001b[0;34m\u001b[0m\u001b[0;34m\u001b[0m\u001b[0m\n",
      "\u001b[0;31mTypeError\u001b[0m: object of type 'float' has no len()"
     ]
    }
   ],
   "source": [
    "list(map(rem_list, df['ds yes']))"
   ]
  },
  {
   "source": [
    "3 Description"
   ],
   "cell_type": "markdown",
   "metadata": {}
  },
  {
   "cell_type": "code",
   "execution_count": 18,
   "metadata": {},
   "outputs": [
    {
     "output_type": "execute_result",
     "data": {
      "text/plain": [
       "0     Development Director\\nALS Therapy Development ...\n",
       "1     Job Description\\n\\n\"The road that leads to acc...\n",
       "2     Growing company located in the Atlanta, GA are...\n",
       "3     DEPARTMENT: Program OperationsPOSITION LOCATIO...\n",
       "4     DESCRIPTION\\nThe Emory University Department o...\n",
       "5     Qualifications\\nBachelor’s degree in Computer ...\n",
       "6     Qualifications\\nBachelor’s degree\\n5-7 years o...\n",
       "7     Overview / Responsibilities\\nWood Environment ...\n",
       "8     Works closely with senior CIB professionals. P...\n",
       "9     Known for being a great place to work and buil...\n",
       "10    :\\n\\nThe Statistical Forecast Analyst position...\n",
       "11    Chenega Professional &amp; Technical Services,...\n",
       "12    Innovate. Collaborate. Shine. Lighthouse — KPM...\n",
       "13    DESCRIPTION\\nUnder minimal supervision, the As...\n",
       "14    Data Science Analyst– Business Intelligence\\nL...\n",
       "15    Cotiviti is looking for an industry leading Da...\n",
       "16    Description\\nExecutes complex assignments requ...\n",
       "17    Overview\\n\\n\\n\\nAt Perficient you’ll deliver m...\n",
       "18    DATA SCIENTIST\\n\\nSUMMARY:\\nAs an Amazon Web S...\n",
       "19    This position is critical to understanding dri...\n",
       "Name: description, dtype: object"
      ]
     },
     "metadata": {},
     "execution_count": 18
    }
   ],
   "source": [
    "df['description'].head(20)"
   ]
  },
  {
   "cell_type": "code",
   "execution_count": 21,
   "metadata": {},
   "outputs": [],
   "source": [
    "data['numbers'] = data['description'].str.extract(r'(\\d)')"
   ]
  },
  {
   "cell_type": "code",
   "execution_count": 22,
   "metadata": {},
   "outputs": [
    {
     "output_type": "execute_result",
     "data": {
      "text/plain": [
       "0       6\n",
       "1       5\n",
       "2       1\n",
       "3       2\n",
       "4       2\n",
       "       ..\n",
       "6959    5\n",
       "6960    2\n",
       "6961    5\n",
       "6962    3\n",
       "6963    1\n",
       "Name: numbers, Length: 6964, dtype: object"
      ]
     },
     "metadata": {},
     "execution_count": 22
    }
   ],
   "source": [
    "data['numbers']"
   ]
  },
  {
   "cell_type": "code",
   "execution_count": 48,
   "metadata": {},
   "outputs": [
    {
     "output_type": "execute_result",
     "data": {
      "text/plain": [
       "0                       [6-8 years]\n",
       "1                                []\n",
       "2                                []\n",
       "3                        [25 years]\n",
       "4                                []\n",
       "                   ...             \n",
       "6959             [5 years, 7 years]\n",
       "6960                      [5 years]\n",
       "6961                             []\n",
       "6962                             []\n",
       "6963    [5 years, 3 years, 2 years]\n",
       "Name: work experience, Length: 6964, dtype: object"
      ]
     },
     "metadata": {},
     "execution_count": 48
    }
   ],
   "source": [
    "df['work experience'] = df['description'].str.findall(r'\\d+\\s\\byears\\b|[\\d]+\\S?[\\d]+\\s\\byears\\b')\n",
    "df['work experience']"
   ]
  },
  {
   "cell_type": "code",
   "execution_count": 49,
   "metadata": {},
   "outputs": [
    {
     "output_type": "execute_result",
     "data": {
      "text/plain": [
       "                                            position             company  \\\n",
       "0                               Development Director             ALS TDI   \n",
       "1  An Ostentatiously-Excitable Principal Research...  The Hexagon Lavish   \n",
       "2                                     Data Scientist      Xpert Staffing   \n",
       "3                                       Data Analyst      Operation HOPE   \n",
       "4  Assistant Professor -TT - Signal Processing & ...    Emory University   \n",
       "\n",
       "                                         description  reviews  \\\n",
       "0  Development Director\\nALS Therapy Development ...      NaN   \n",
       "1  Job Description\\n\\n\"The road that leads to acc...      NaN   \n",
       "2  Growing company located in the Atlanta, GA are...      NaN   \n",
       "3  DEPARTMENT: Program OperationsPOSITION LOCATIO...     44.0   \n",
       "4  DESCRIPTION\\nThe Emory University Department o...    550.0   \n",
       "\n",
       "             location   city,state state            ds yes     city  \\\n",
       "0  Atlanta, GA 30301   Atlanta, GA    GA                []  Atlanta   \n",
       "1         Atlanta, GA  Atlanta, GA    GA                []  Atlanta   \n",
       "2         Atlanta, GA  Atlanta, GA    GA  [Data Scientist]  Atlanta   \n",
       "3  Atlanta, GA 30303   Atlanta, GA    GA                []  Atlanta   \n",
       "4         Atlanta, GA  Atlanta, GA    GA                []  Atlanta   \n",
       "\n",
       "  work experience  \n",
       "0     [6-8 years]  \n",
       "1              []  \n",
       "2              []  \n",
       "3      [25 years]  \n",
       "4              []  "
      ],
      "text/html": "<div>\n<style scoped>\n    .dataframe tbody tr th:only-of-type {\n        vertical-align: middle;\n    }\n\n    .dataframe tbody tr th {\n        vertical-align: top;\n    }\n\n    .dataframe thead th {\n        text-align: right;\n    }\n</style>\n<table border=\"1\" class=\"dataframe\">\n  <thead>\n    <tr style=\"text-align: right;\">\n      <th></th>\n      <th>position</th>\n      <th>company</th>\n      <th>description</th>\n      <th>reviews</th>\n      <th>location</th>\n      <th>city,state</th>\n      <th>state</th>\n      <th>ds yes</th>\n      <th>city</th>\n      <th>work experience</th>\n    </tr>\n  </thead>\n  <tbody>\n    <tr>\n      <th>0</th>\n      <td>Development Director</td>\n      <td>ALS TDI</td>\n      <td>Development Director\\nALS Therapy Development ...</td>\n      <td>NaN</td>\n      <td>Atlanta, GA 30301</td>\n      <td>Atlanta, GA</td>\n      <td>GA</td>\n      <td>[]</td>\n      <td>Atlanta</td>\n      <td>[6-8 years]</td>\n    </tr>\n    <tr>\n      <th>1</th>\n      <td>An Ostentatiously-Excitable Principal Research...</td>\n      <td>The Hexagon Lavish</td>\n      <td>Job Description\\n\\n\"The road that leads to acc...</td>\n      <td>NaN</td>\n      <td>Atlanta, GA</td>\n      <td>Atlanta, GA</td>\n      <td>GA</td>\n      <td>[]</td>\n      <td>Atlanta</td>\n      <td>[]</td>\n    </tr>\n    <tr>\n      <th>2</th>\n      <td>Data Scientist</td>\n      <td>Xpert Staffing</td>\n      <td>Growing company located in the Atlanta, GA are...</td>\n      <td>NaN</td>\n      <td>Atlanta, GA</td>\n      <td>Atlanta, GA</td>\n      <td>GA</td>\n      <td>[Data Scientist]</td>\n      <td>Atlanta</td>\n      <td>[]</td>\n    </tr>\n    <tr>\n      <th>3</th>\n      <td>Data Analyst</td>\n      <td>Operation HOPE</td>\n      <td>DEPARTMENT: Program OperationsPOSITION LOCATIO...</td>\n      <td>44.0</td>\n      <td>Atlanta, GA 30303</td>\n      <td>Atlanta, GA</td>\n      <td>GA</td>\n      <td>[]</td>\n      <td>Atlanta</td>\n      <td>[25 years]</td>\n    </tr>\n    <tr>\n      <th>4</th>\n      <td>Assistant Professor -TT - Signal Processing &amp; ...</td>\n      <td>Emory University</td>\n      <td>DESCRIPTION\\nThe Emory University Department o...</td>\n      <td>550.0</td>\n      <td>Atlanta, GA</td>\n      <td>Atlanta, GA</td>\n      <td>GA</td>\n      <td>[]</td>\n      <td>Atlanta</td>\n      <td>[]</td>\n    </tr>\n  </tbody>\n</table>\n</div>"
     },
     "metadata": {},
     "execution_count": 49
    }
   ],
   "source": [
    "df.head()"
   ]
  },
  {
   "cell_type": "code",
   "execution_count": null,
   "metadata": {},
   "outputs": [],
   "source": []
  }
 ],
 "metadata": {
  "kernelspec": {
   "display_name": "Python 3",
   "language": "python",
   "name": "python3"
  },
  "language_info": {
   "codemirror_mode": {
    "name": "ipython",
    "version": 3
   },
   "file_extension": ".py",
   "mimetype": "text/x-python",
   "name": "python",
   "nbconvert_exporter": "python",
   "pygments_lexer": "ipython3",
   "version": "3.9.0"
  }
 },
 "nbformat": 4,
 "nbformat_minor": 5
}