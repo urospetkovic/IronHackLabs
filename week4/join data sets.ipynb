{
 "cells": [
  {
   "cell_type": "code",
   "execution_count": 1,
   "id": "numerical-visitor",
   "metadata": {},
   "outputs": [],
   "source": [
    "import pandas as pd"
   ]
  },
  {
   "cell_type": "code",
   "execution_count": 7,
   "metadata": {},
   "outputs": [],
   "source": [
    "df1 = pd.read_excel('/Users/uce/Desktop/DataAnalytics/data-labs/LabsUros/week4/old_faithful/oldfaithful_1.xlsx')"
   ]
  },
  {
   "cell_type": "code",
   "execution_count": 8,
   "metadata": {},
   "outputs": [],
   "source": [
    "df2 = pd.read_excel('/Users/uce/Desktop/DataAnalytics/data-labs/LabsUros/week4/old_faithful/oldfaithful_2.xlsx')"
   ]
  },
  {
   "cell_type": "code",
   "execution_count": 9,
   "metadata": {},
   "outputs": [],
   "source": [
    "df3 = pd.read_excel('/Users/uce/Desktop/DataAnalytics/data-labs/LabsUros/week4/old_faithful/oldfaithful_3.xlsx')"
   ]
  },
  {
   "cell_type": "code",
   "execution_count": 10,
   "metadata": {},
   "outputs": [],
   "source": [
    "df4 = pd.read_excel('/Users/uce/Desktop/DataAnalytics/data-labs/LabsUros/week4/old_faithful/oldfaithful_4.xlsx')"
   ]
  },
  {
   "cell_type": "code",
   "execution_count": 11,
   "metadata": {},
   "outputs": [],
   "source": [
    "df5 = pd.read_excel('/Users/uce/Desktop/DataAnalytics/data-labs/LabsUros/week4/old_faithful/oldfaithful_5.xlsx')"
   ]
  },
  {
   "cell_type": "code",
   "execution_count": 12,
   "metadata": {},
   "outputs": [
    {
     "output_type": "execute_result",
     "data": {
      "text/plain": [
       "   Eruption ID data_team\n",
       "0            1         B\n",
       "1            2         B\n",
       "2            3         B\n",
       "3            4         C\n",
       "4            5         C"
      ],
      "text/html": "<div>\n<style scoped>\n    .dataframe tbody tr th:only-of-type {\n        vertical-align: middle;\n    }\n\n    .dataframe tbody tr th {\n        vertical-align: top;\n    }\n\n    .dataframe thead th {\n        text-align: right;\n    }\n</style>\n<table border=\"1\" class=\"dataframe\">\n  <thead>\n    <tr style=\"text-align: right;\">\n      <th></th>\n      <th>Eruption ID</th>\n      <th>data_team</th>\n    </tr>\n  </thead>\n  <tbody>\n    <tr>\n      <th>0</th>\n      <td>1</td>\n      <td>B</td>\n    </tr>\n    <tr>\n      <th>1</th>\n      <td>2</td>\n      <td>B</td>\n    </tr>\n    <tr>\n      <th>2</th>\n      <td>3</td>\n      <td>B</td>\n    </tr>\n    <tr>\n      <th>3</th>\n      <td>4</td>\n      <td>C</td>\n    </tr>\n    <tr>\n      <th>4</th>\n      <td>5</td>\n      <td>C</td>\n    </tr>\n  </tbody>\n</table>\n</div>"
     },
     "metadata": {},
     "execution_count": 12
    }
   ],
   "source": [
    "df5.head()"
   ]
  },
  {
   "cell_type": "code",
   "execution_count": 13,
   "metadata": {},
   "outputs": [],
   "source": [
    "df_new = pd.concat([df1, df5], axis=1)"
   ]
  },
  {
   "cell_type": "code",
   "execution_count": 14,
   "metadata": {},
   "outputs": [
    {
     "output_type": "execute_result",
     "data": {
      "text/plain": [
       "   Eruption ID  Eruption duration (in minutes)  Wait Time (in minutes)  \\\n",
       "0            1                           3.600                      79   \n",
       "1            2                           1.800                      54   \n",
       "2            3                           3.333                      74   \n",
       "3            4                           2.283                      62   \n",
       "4            5                           4.533                      85   \n",
       "\n",
       "   Eruption ID data_team  \n",
       "0          1.0         B  \n",
       "1          2.0         B  \n",
       "2          3.0         B  \n",
       "3          4.0         C  \n",
       "4          5.0         C  "
      ],
      "text/html": "<div>\n<style scoped>\n    .dataframe tbody tr th:only-of-type {\n        vertical-align: middle;\n    }\n\n    .dataframe tbody tr th {\n        vertical-align: top;\n    }\n\n    .dataframe thead th {\n        text-align: right;\n    }\n</style>\n<table border=\"1\" class=\"dataframe\">\n  <thead>\n    <tr style=\"text-align: right;\">\n      <th></th>\n      <th>Eruption ID</th>\n      <th>Eruption duration (in minutes)</th>\n      <th>Wait Time (in minutes)</th>\n      <th>Eruption ID</th>\n      <th>data_team</th>\n    </tr>\n  </thead>\n  <tbody>\n    <tr>\n      <th>0</th>\n      <td>1</td>\n      <td>3.600</td>\n      <td>79</td>\n      <td>1.0</td>\n      <td>B</td>\n    </tr>\n    <tr>\n      <th>1</th>\n      <td>2</td>\n      <td>1.800</td>\n      <td>54</td>\n      <td>2.0</td>\n      <td>B</td>\n    </tr>\n    <tr>\n      <th>2</th>\n      <td>3</td>\n      <td>3.333</td>\n      <td>74</td>\n      <td>3.0</td>\n      <td>B</td>\n    </tr>\n    <tr>\n      <th>3</th>\n      <td>4</td>\n      <td>2.283</td>\n      <td>62</td>\n      <td>4.0</td>\n      <td>C</td>\n    </tr>\n    <tr>\n      <th>4</th>\n      <td>5</td>\n      <td>4.533</td>\n      <td>85</td>\n      <td>5.0</td>\n      <td>C</td>\n    </tr>\n  </tbody>\n</table>\n</div>"
     },
     "metadata": {},
     "execution_count": 14
    }
   ],
   "source": [
    "df_new.head()"
   ]
  },
  {
   "source": [
    "# concat :\n",
    "## axis, columns, rows, ignore_index, join(inner, outer(for diff))"
   ],
   "cell_type": "markdown",
   "metadata": {}
  },
  {
   "source": [
    "df_new2 = pd.concat([df2, df3])"
   ],
   "cell_type": "code",
   "metadata": {},
   "execution_count": 15,
   "outputs": []
  },
  {
   "cell_type": "code",
   "execution_count": 16,
   "metadata": {},
   "outputs": [
    {
     "output_type": "execute_result",
     "data": {
      "text/plain": [
       "   Eruption ID  Eruption duration (in minutes)  Wait Time (in minutes)\n",
       "0          232                           2.417                      54\n",
       "1          233                           4.183                      86\n",
       "2          234                           2.217                      50\n",
       "3          235                           4.450                      90\n",
       "4          236                           1.883                      54"
      ],
      "text/html": "<div>\n<style scoped>\n    .dataframe tbody tr th:only-of-type {\n        vertical-align: middle;\n    }\n\n    .dataframe tbody tr th {\n        vertical-align: top;\n    }\n\n    .dataframe thead th {\n        text-align: right;\n    }\n</style>\n<table border=\"1\" class=\"dataframe\">\n  <thead>\n    <tr style=\"text-align: right;\">\n      <th></th>\n      <th>Eruption ID</th>\n      <th>Eruption duration (in minutes)</th>\n      <th>Wait Time (in minutes)</th>\n    </tr>\n  </thead>\n  <tbody>\n    <tr>\n      <th>0</th>\n      <td>232</td>\n      <td>2.417</td>\n      <td>54</td>\n    </tr>\n    <tr>\n      <th>1</th>\n      <td>233</td>\n      <td>4.183</td>\n      <td>86</td>\n    </tr>\n    <tr>\n      <th>2</th>\n      <td>234</td>\n      <td>2.217</td>\n      <td>50</td>\n    </tr>\n    <tr>\n      <th>3</th>\n      <td>235</td>\n      <td>4.450</td>\n      <td>90</td>\n    </tr>\n    <tr>\n      <th>4</th>\n      <td>236</td>\n      <td>1.883</td>\n      <td>54</td>\n    </tr>\n  </tbody>\n</table>\n</div>"
     },
     "metadata": {},
     "execution_count": 16
    }
   ],
   "source": [
    "df_new2.head()"
   ]
  },
  {
   "cell_type": "code",
   "execution_count": null,
   "metadata": {},
   "outputs": [],
   "source": []
  }
 ],
 "metadata": {
  "kernelspec": {
   "name": "python3",
   "display_name": "Python 3.9.0 64-bit"
  },
  "language_info": {
   "codemirror_mode": {
    "name": "ipython",
    "version": 3
   },
   "file_extension": ".py",
   "mimetype": "text/x-python",
   "name": "python",
   "nbconvert_exporter": "python",
   "pygments_lexer": "ipython3",
   "version": "3.9.0"
  },
  "interpreter": {
   "hash": "4cd7ab41f5fca4b9b44701077e38c5ffd31fe66a6cab21e0214b68d958d0e462"
  }
 },
 "nbformat": 4,
 "nbformat_minor": 5
}