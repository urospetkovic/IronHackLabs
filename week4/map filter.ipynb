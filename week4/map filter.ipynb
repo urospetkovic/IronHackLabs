{
 "cells": [
  {
   "source": [
    "# 1 MAP"
   ],
   "cell_type": "markdown",
   "metadata": {}
  },
  {
   "cell_type": "code",
   "execution_count": 1,
   "metadata": {},
   "outputs": [],
   "source": [
    "import pandas as pd"
   ]
  },
  {
   "cell_type": "code",
   "execution_count": 2,
   "metadata": {},
   "outputs": [],
   "source": [
    "df = pd.DataFrame({'A':['Wednesday', 'THURSDAY']})"
   ]
  },
  {
   "cell_type": "code",
   "execution_count": 3,
   "metadata": {},
   "outputs": [
    {
     "output_type": "execute_result",
     "data": {
      "text/plain": [
       "           A\n",
       "0  Wednesday\n",
       "1   THURSDAY"
      ],
      "text/html": "<div>\n<style scoped>\n    .dataframe tbody tr th:only-of-type {\n        vertical-align: middle;\n    }\n\n    .dataframe tbody tr th {\n        vertical-align: top;\n    }\n\n    .dataframe thead th {\n        text-align: right;\n    }\n</style>\n<table border=\"1\" class=\"dataframe\">\n  <thead>\n    <tr style=\"text-align: right;\">\n      <th></th>\n      <th>A</th>\n    </tr>\n  </thead>\n  <tbody>\n    <tr>\n      <th>0</th>\n      <td>Wednesday</td>\n    </tr>\n    <tr>\n      <th>1</th>\n      <td>THURSDAY</td>\n    </tr>\n  </tbody>\n</table>\n</div>"
     },
     "metadata": {},
     "execution_count": 3
    }
   ],
   "source": [
    "df"
   ]
  },
  {
   "cell_type": "code",
   "execution_count": 5,
   "metadata": {},
   "outputs": [],
   "source": [
    "def make_lower(x):\n",
    "    return x.lower()"
   ]
  },
  {
   "cell_type": "code",
   "execution_count": 7,
   "metadata": {},
   "outputs": [
    {
     "output_type": "execute_result",
     "data": {
      "text/plain": [
       "['wednesday', 'thursday']"
      ]
     },
     "metadata": {},
     "execution_count": 7
    }
   ],
   "source": [
    "list(map(make_lower, df['A']))"
   ]
  },
  {
   "cell_type": "code",
   "execution_count": 8,
   "metadata": {},
   "outputs": [
    {
     "output_type": "execute_result",
     "data": {
      "text/plain": [
       "0    wednesday\n",
       "1     thursday\n",
       "Name: A, dtype: object"
      ]
     },
     "metadata": {},
     "execution_count": 8
    }
   ],
   "source": [
    "df['A'].apply(make_lower)"
   ]
  },
  {
   "cell_type": "code",
   "execution_count": 10,
   "metadata": {},
   "outputs": [
    {
     "output_type": "execute_result",
     "data": {
      "text/plain": [
       "['1', '2', '3', '4', '5']"
      ]
     },
     "metadata": {},
     "execution_count": 10
    }
   ],
   "source": [
    "list(map(str, [1,2,3,4,5]))"
   ]
  },
  {
   "cell_type": "code",
   "execution_count": 11,
   "metadata": {},
   "outputs": [],
   "source": [
    "def square_it(x):\n",
    "    return x**2"
   ]
  },
  {
   "cell_type": "code",
   "execution_count": 12,
   "metadata": {},
   "outputs": [
    {
     "output_type": "execute_result",
     "data": {
      "text/plain": [
       "[1, 4, 9, 16, 25]"
      ]
     },
     "metadata": {},
     "execution_count": 12
    }
   ],
   "source": [
    "list(map(square_it, [1,2,3,4,5]))"
   ]
  },
  {
   "cell_type": "code",
   "execution_count": 13,
   "metadata": {},
   "outputs": [],
   "source": [
    "def judge_groceries(x, y):\n",
    "    return f'What is this? A {x}, {y}!'"
   ]
  },
  {
   "cell_type": "code",
   "execution_count": 15,
   "metadata": {},
   "outputs": [],
   "source": [
    "fruits = ['apple', 'kiwi', 'cherry', 'sprouts']\n",
    "words = ['yummy', 'yummy', 'meh', 'yummy']"
   ]
  },
  {
   "cell_type": "code",
   "execution_count": 16,
   "metadata": {},
   "outputs": [
    {
     "output_type": "execute_result",
     "data": {
      "text/plain": [
       "['What is this? A apple, yummy!',\n",
       " 'What is this? A kiwi, yummy!',\n",
       " 'What is this? A cherry, meh!',\n",
       " 'What is this? A sprouts, yummy!']"
      ]
     },
     "metadata": {},
     "execution_count": 16
    }
   ],
   "source": [
    "list(map(judge_groceries, fruits, words))"
   ]
  },
  {
   "cell_type": "code",
   "execution_count": 17,
   "metadata": {},
   "outputs": [
    {
     "output_type": "execute_result",
     "data": {
      "text/plain": [
       "[1, 4, 9, 16, 25, 36]"
      ]
     },
     "metadata": {},
     "execution_count": 17
    }
   ],
   "source": [
    "[square_it(i) for i in [1,2,3,4,5,6]]"
   ]
  },
  {
   "source": [
    "# 2 FILTER"
   ],
   "cell_type": "markdown",
   "metadata": {}
  },
  {
   "cell_type": "code",
   "execution_count": 18,
   "metadata": {},
   "outputs": [
    {
     "output_type": "execute_result",
     "data": {
      "text/plain": [
       "True"
      ]
     },
     "metadata": {},
     "execution_count": 18
    }
   ],
   "source": [
    "(lambda x: x < 0)(-10)"
   ]
  },
  {
   "cell_type": "code",
   "execution_count": 19,
   "metadata": {},
   "outputs": [
    {
     "output_type": "execute_result",
     "data": {
      "text/plain": [
       "[-1, -5, -10]"
      ]
     },
     "metadata": {},
     "execution_count": 19
    }
   ],
   "source": [
    "list(filter(lambda x: x < 0, [-1, 2, -5, 10, 2, -10]))"
   ]
  },
  {
   "cell_type": "code",
   "execution_count": 30,
   "metadata": {},
   "outputs": [],
   "source": [
    "df = pd.DataFrame({'A':[21, -10, 40, 3], 'B':['wed', 'thu', 'fri', 'sat']})"
   ]
  },
  {
   "cell_type": "code",
   "execution_count": 35,
   "metadata": {},
   "outputs": [
    {
     "output_type": "execute_result",
     "data": {
      "text/plain": [
       "      A\n",
       "B      \n",
       "fri  40\n",
       "sat   3\n",
       "thu -10\n",
       "wed  21"
      ],
      "text/html": "<div>\n<style scoped>\n    .dataframe tbody tr th:only-of-type {\n        vertical-align: middle;\n    }\n\n    .dataframe tbody tr th {\n        vertical-align: top;\n    }\n\n    .dataframe thead th {\n        text-align: right;\n    }\n</style>\n<table border=\"1\" class=\"dataframe\">\n  <thead>\n    <tr style=\"text-align: right;\">\n      <th></th>\n      <th>A</th>\n    </tr>\n    <tr>\n      <th>B</th>\n      <th></th>\n    </tr>\n  </thead>\n  <tbody>\n    <tr>\n      <th>fri</th>\n      <td>40</td>\n    </tr>\n    <tr>\n      <th>sat</th>\n      <td>3</td>\n    </tr>\n    <tr>\n      <th>thu</th>\n      <td>-10</td>\n    </tr>\n    <tr>\n      <th>wed</th>\n      <td>21</td>\n    </tr>\n  </tbody>\n</table>\n</div>"
     },
     "metadata": {},
     "execution_count": 35
    }
   ],
   "source": [
    "df.groupby('B').agg({'A':'sum'})"
   ]
  },
  {
   "source": [
    "# 3 REDUCE"
   ],
   "cell_type": "markdown",
   "metadata": {}
  },
  {
   "cell_type": "code",
   "execution_count": 36,
   "metadata": {},
   "outputs": [],
   "source": [
    "from functools import reduce"
   ]
  },
  {
   "cell_type": "code",
   "execution_count": 39,
   "metadata": {},
   "outputs": [
    {
     "output_type": "execute_result",
     "data": {
      "text/plain": [
       "720"
      ]
     },
     "metadata": {},
     "execution_count": 39
    }
   ],
   "source": [
    "reduce((lambda x, y: x * y),[1,2,3,4,5,6])"
   ]
  },
  {
   "cell_type": "code",
   "execution_count": 40,
   "metadata": {},
   "outputs": [
    {
     "output_type": "execute_result",
     "data": {
      "text/plain": [
       "21"
      ]
     },
     "metadata": {},
     "execution_count": 40
    }
   ],
   "source": [
    "reduce((lambda x, y: x + y),[1,2,3,4,5,6])"
   ]
  },
  {
   "cell_type": "code",
   "execution_count": 41,
   "metadata": {},
   "outputs": [
    {
     "output_type": "execute_result",
     "data": {
      "text/plain": [
       "10123456"
      ]
     },
     "metadata": {},
     "execution_count": 41
    }
   ],
   "source": [
    "reduce(lambda a, d: 10*a + d, [1,2,3,4,5,6], 10)"
   ]
  },
  {
   "cell_type": "code",
   "execution_count": 42,
   "metadata": {},
   "outputs": [
    {
     "output_type": "execute_result",
     "data": {
      "text/plain": [
       "1"
      ]
     },
     "metadata": {},
     "execution_count": 42
    }
   ],
   "source": [
    "reduce((lambda x, y: x * y),[], 1)"
   ]
  },
  {
   "source": [
    "# 4 APPLY"
   ],
   "cell_type": "markdown",
   "metadata": {}
  },
  {
   "cell_type": "code",
   "execution_count": 43,
   "metadata": {},
   "outputs": [],
   "source": [
    "data = pd.read_csv('/Users/uce/Desktop/DataAnalytics/data-labs/LabsUros/week1/data_case_study_1/file4.csv')"
   ]
  },
  {
   "cell_type": "code",
   "execution_count": 44,
   "metadata": {},
   "outputs": [],
   "source": [
    "df = pd.DataFrame(data)"
   ]
  },
  {
   "cell_type": "code",
   "execution_count": 45,
   "metadata": {},
   "outputs": [
    {
     "output_type": "execute_result",
     "data": {
      "text/plain": [
       "   CONTROLN STATE GENDER      HV1  IC1  IC4  HVP1    IC5  POBC1  POBC2  IC2  \\\n",
       "0    186307    CA      M  AAA1229  345  438     3  15915      2     58  388   \n",
       "1     34174    WV      F      529  198  291     0  10816      0     80  218   \n",
       "2    101388    MO      M      526  340  342     0   9687      0     89  348   \n",
       "3    159472    CA      F      621  231  279     0   6184     43     41  237   \n",
       "4    179143    WA   male     1688  496  564    35  22963      2     63  520   \n",
       "\n",
       "   IC3    AVGGIFT  TCODE   DOB DOMAIN  TARGET_D  \n",
       "0  417  16.142857      1  2511     C2      20.0  \n",
       "1  257   6.083333      2  3001     T2      12.0  \n",
       "2  321   5.800000      1  5501     R2      10.0  \n",
       "3  272  11.666667      1  1512     R3      15.0  \n",
       "4  521  23.900000      1  3709     T1      25.0  "
      ],
      "text/html": "<div>\n<style scoped>\n    .dataframe tbody tr th:only-of-type {\n        vertical-align: middle;\n    }\n\n    .dataframe tbody tr th {\n        vertical-align: top;\n    }\n\n    .dataframe thead th {\n        text-align: right;\n    }\n</style>\n<table border=\"1\" class=\"dataframe\">\n  <thead>\n    <tr style=\"text-align: right;\">\n      <th></th>\n      <th>CONTROLN</th>\n      <th>STATE</th>\n      <th>GENDER</th>\n      <th>HV1</th>\n      <th>IC1</th>\n      <th>IC4</th>\n      <th>HVP1</th>\n      <th>IC5</th>\n      <th>POBC1</th>\n      <th>POBC2</th>\n      <th>IC2</th>\n      <th>IC3</th>\n      <th>AVGGIFT</th>\n      <th>TCODE</th>\n      <th>DOB</th>\n      <th>DOMAIN</th>\n      <th>TARGET_D</th>\n    </tr>\n  </thead>\n  <tbody>\n    <tr>\n      <th>0</th>\n      <td>186307</td>\n      <td>CA</td>\n      <td>M</td>\n      <td>AAA1229</td>\n      <td>345</td>\n      <td>438</td>\n      <td>3</td>\n      <td>15915</td>\n      <td>2</td>\n      <td>58</td>\n      <td>388</td>\n      <td>417</td>\n      <td>16.142857</td>\n      <td>1</td>\n      <td>2511</td>\n      <td>C2</td>\n      <td>20.0</td>\n    </tr>\n    <tr>\n      <th>1</th>\n      <td>34174</td>\n      <td>WV</td>\n      <td>F</td>\n      <td>529</td>\n      <td>198</td>\n      <td>291</td>\n      <td>0</td>\n      <td>10816</td>\n      <td>0</td>\n      <td>80</td>\n      <td>218</td>\n      <td>257</td>\n      <td>6.083333</td>\n      <td>2</td>\n      <td>3001</td>\n      <td>T2</td>\n      <td>12.0</td>\n    </tr>\n    <tr>\n      <th>2</th>\n      <td>101388</td>\n      <td>MO</td>\n      <td>M</td>\n      <td>526</td>\n      <td>340</td>\n      <td>342</td>\n      <td>0</td>\n      <td>9687</td>\n      <td>0</td>\n      <td>89</td>\n      <td>348</td>\n      <td>321</td>\n      <td>5.800000</td>\n      <td>1</td>\n      <td>5501</td>\n      <td>R2</td>\n      <td>10.0</td>\n    </tr>\n    <tr>\n      <th>3</th>\n      <td>159472</td>\n      <td>CA</td>\n      <td>F</td>\n      <td>621</td>\n      <td>231</td>\n      <td>279</td>\n      <td>0</td>\n      <td>6184</td>\n      <td>43</td>\n      <td>41</td>\n      <td>237</td>\n      <td>272</td>\n      <td>11.666667</td>\n      <td>1</td>\n      <td>1512</td>\n      <td>R3</td>\n      <td>15.0</td>\n    </tr>\n    <tr>\n      <th>4</th>\n      <td>179143</td>\n      <td>WA</td>\n      <td>male</td>\n      <td>1688</td>\n      <td>496</td>\n      <td>564</td>\n      <td>35</td>\n      <td>22963</td>\n      <td>2</td>\n      <td>63</td>\n      <td>520</td>\n      <td>521</td>\n      <td>23.900000</td>\n      <td>1</td>\n      <td>3709</td>\n      <td>T1</td>\n      <td>25.0</td>\n    </tr>\n  </tbody>\n</table>\n</div>"
     },
     "metadata": {},
     "execution_count": 45
    }
   ],
   "source": [
    "df.head()"
   ]
  },
  {
   "cell_type": "code",
   "execution_count": 46,
   "metadata": {},
   "outputs": [],
   "source": [
    "domain_categories = {'U': 'Urban',\n",
    "                    'C': 'City',\n",
    "                    'S': 'Suburban',\n",
    "                    'T': 'Town',\n",
    "                    'R': 'Rural'}"
   ]
  },
  {
   "cell_type": "code",
   "execution_count": 47,
   "metadata": {},
   "outputs": [],
   "source": [
    "import numpy as np\n"
   ]
  },
  {
   "cell_type": "code",
   "execution_count": 52,
   "metadata": {},
   "outputs": [],
   "source": [
    "def clean_domain(x):\n",
    "    if x[0] in list(domain_categories.keys()):\n",
    "        return domain_categories[x[0]]\n",
    "    else:\n",
    "        return np.NaN"
   ]
  },
  {
   "cell_type": "code",
   "execution_count": 53,
   "metadata": {},
   "outputs": [
    {
     "output_type": "error",
     "ename": "NameError",
     "evalue": "name 'domain_cleaned' is not defined",
     "traceback": [
      "\u001b[0;31m---------------------------------------------------------------------------\u001b[0m",
      "\u001b[0;31mNameError\u001b[0m                                 Traceback (most recent call last)",
      "\u001b[0;32m<ipython-input-53-61b4b7b30e44>\u001b[0m in \u001b[0;36m<module>\u001b[0;34m\u001b[0m\n\u001b[0;32m----> 1\u001b[0;31m \u001b[0mdf\u001b[0m\u001b[0;34m[\u001b[0m\u001b[0mdomain_cleaned\u001b[0m\u001b[0;34m]\u001b[0m \u001b[0;34m=\u001b[0m \u001b[0mdf\u001b[0m\u001b[0;34m[\u001b[0m\u001b[0;34m'DOMAIN'\u001b[0m\u001b[0;34m]\u001b[0m\u001b[0;34m.\u001b[0m\u001b[0mapply\u001b[0m\u001b[0;34m(\u001b[0m\u001b[0mclean_domain\u001b[0m\u001b[0;34m)\u001b[0m\u001b[0;34m\u001b[0m\u001b[0;34m\u001b[0m\u001b[0m\n\u001b[0m",
      "\u001b[0;31mNameError\u001b[0m: name 'domain_cleaned' is not defined"
     ]
    }
   ],
   "source": [
    "df[domain_cleaned] = df['DOMAIN'].apply(clean_domain)"
   ]
  },
  {
   "cell_type": "code",
   "execution_count": null,
   "metadata": {},
   "outputs": [],
   "source": []
  }
 ],
 "metadata": {
  "kernelspec": {
   "name": "python3",
   "display_name": "Python 3.9.0 64-bit"
  },
  "language_info": {
   "codemirror_mode": {
    "name": "ipython",
    "version": 3
   },
   "file_extension": ".py",
   "mimetype": "text/x-python",
   "name": "python",
   "nbconvert_exporter": "python",
   "pygments_lexer": "ipython3",
   "version": "3.9.0"
  },
  "interpreter": {
   "hash": "4cd7ab41f5fca4b9b44701077e38c5ffd31fe66a6cab21e0214b68d958d0e462"
  }
 },
 "nbformat": 4,
 "nbformat_minor": 5
}