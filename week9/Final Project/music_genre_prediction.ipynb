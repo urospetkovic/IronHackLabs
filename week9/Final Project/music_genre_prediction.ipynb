{
 "cells": [
  {
   "cell_type": "code",
   "execution_count": 17,
   "source": [
    "import pandas as pd\n",
    "import numpy as np\n",
    "from tqdm import tqdm\n",
    "import getpass\n",
    "import spotipy\n",
    "from spotipy.oauth2 import SpotifyClientCredentials\n",
    "from sklearn.model_selection import train_test_split\n",
    "from sklearn.metrics import accuracy_score\n",
    "from sklearn.metrics import recall_score\n",
    "from sklearn.metrics import classification_report\n",
    "from sklearn.ensemble import RandomForestClassifier\n",
    "from sklearn.model_selection import GridSearchCV\n",
    "from sklearn.model_selection import RandomizedSearchCV"
   ],
   "outputs": [],
   "metadata": {}
  },
  {
   "cell_type": "code",
   "execution_count": 2,
   "source": [
    "client_id = str(getpass.getpass('client_id?'))\n",
    "client_sectret = str(getpass.getpass('client_secret?'))\n",
    "sp = spotipy.Spotify(auth_manager=SpotifyClientCredentials(\n",
    "    client_id=client_id, client_secret=client_sectret))"
   ],
   "outputs": [],
   "metadata": {}
  },
  {
   "cell_type": "code",
   "execution_count": 3,
   "source": [
    "def all_albums_from_artist(artist_id):\n",
    "    albums_ids = []\n",
    "    albums = sp.artist_albums(artist_id)\n",
    "    for album in range(len(albums['items'])):\n",
    "        albums_ids.append(albums['items'][album]['id'])\n",
    "    return list(set(albums_ids))"
   ],
   "outputs": [],
   "metadata": {}
  },
  {
   "cell_type": "code",
   "execution_count": 4,
   "source": [
    "def all_songs_from_albums(albums_id_list):\n",
    "    ids = []\n",
    "    for album_id in tqdm(albums_id_list):\n",
    "        songs_ids = sp.album_tracks(album_id)\n",
    "        for id in range(len(songs_ids['items'])):\n",
    "            ids.append(songs_ids['items'][id]['id'])         \n",
    "    ids_chunks = []\n",
    "    for i in tqdm(range(0, len(ids), 100)):\n",
    "        ids_chunks.append(ids[i:i + 100])\n",
    "    audio_feat = []\n",
    "    for i in tqdm(ids_chunks):\n",
    "        audio_feat.append(sp.audio_features(tracks=i))\n",
    "    audio_feat_total = []\n",
    "    for i in tqdm(range(len(audio_feat))):\n",
    "        audio_feat_total += audio_feat[i]\n",
    "    audio_feats_clean = [dct for dct in audio_feat_total if dct]\n",
    "    df = pd.DataFrame(audio_feats_clean)\n",
    "    return df.drop(['type', 'track_href', 'uri', 'analysis_url'], axis=1)\n",
    "    "
   ],
   "outputs": [],
   "metadata": {}
  },
  {
   "cell_type": "code",
   "execution_count": 5,
   "source": [
    "def release_year(df):\n",
    "    years = []\n",
    "    for id in tqdm(df['id']):\n",
    "        track = sp.track(id)\n",
    "        years.append(track['album']['release_date'][0:4])\n",
    "    return years"
   ],
   "outputs": [],
   "metadata": {}
  },
  {
   "cell_type": "code",
   "execution_count": 6,
   "source": [
    "def fix_tempo(df):\n",
    "    df['tempo'] = df['tempo'].apply(lambda x: x*2 if x < 60 else x)\n",
    "    df['tempo'] = df['tempo'].apply(lambda x: x/2 if x > 200 else x)\n",
    "    df['tempo'] = df['tempo'].apply(lambda x: 120 if x == 0 else x)\n",
    "    return df"
   ],
   "outputs": [],
   "metadata": {}
  },
  {
   "cell_type": "code",
   "execution_count": 139,
   "source": [
    "def genre_predict():\n",
    "    artist_name = input('Enter artist name:')\n",
    "    print('Listening to', artist_name.upper())\n",
    "    artist = sp.search(artist_name)\n",
    "    artist_id = artist['tracks']['items'][0]['artists'][0]['id']\n",
    "    albums = all_albums_from_artist(artist_id)\n",
    "    songs = all_songs_from_albums(albums)\n",
    "    print(\"I've just heard\", len(songs), 'songs')\n",
    "    songs = fix_tempo(songs)\n",
    "    X = songs.drop(['id'], axis=1)\n",
    "    prediction = forest_model.predict(X)\n",
    "    pred_genres = np.unique(prediction, return_counts=True)\n",
    "    genres_list = ['jazz', 'rock', 'hip-hop', 'pop', 'electronic']\n",
    "    genres_dict = dict(zip(pred_genres[0], pred_genres[1]))\n",
    "    if len(genres_dict) > 1:\n",
    "        genres_sorted = sorted(genres_dict.items(), key=lambda x: x[1], reverse=True)\n",
    "        main_genre = genres_list[int(genres_sorted[0][0])-1]\n",
    "        print('Sounds like', artist_name.upper(), 'plays', main_genre, 'music')\n",
    "    else:\n",
    "        print('Sounds like', artist_name.upper(), 'plays', genres_list[int(pred_genres[0])-1], 'music')"
   ],
   "outputs": [],
   "metadata": {}
  },
  {
   "cell_type": "code",
   "execution_count": 99,
   "source": [
    "def genre_predict2():\n",
    "    #predictor function with release year\n",
    "    artist_name = input('Enter artist name:')\n",
    "    print('Listening to', artist_name.upper())\n",
    "    artist = sp.search(artist_name)\n",
    "    artist_id = artist['tracks']['items'][0]['artists'][0]['id']\n",
    "    albums = all_albums_from_artist(artist_id)\n",
    "    songs = all_songs_from_albums(albums)\n",
    "    print(\"I've just heard\", len(songs), 'songs')\n",
    "    print('Getting release years (can take a while)')\n",
    "    songs['year'] = release_year(songs)\n",
    "    songs = fix_tempo(songs)\n",
    "    X = songs.drop(['id'], axis=1)\n",
    "    prediction = forest_model2.predict(X)\n",
    "    pred_genres = np.unique(prediction, return_counts=True)\n",
    "    genres_list = ['jazz', 'rock', 'hip-hop', 'pop', 'electronic']\n",
    "    genres_dict = dict(zip(pred_genres[0], pred_genres[1]))\n",
    "    if len(genres_dict) > 1:\n",
    "        genres_sorted = sorted(genres_dict.items(), key=lambda x: x[1], reverse=True)\n",
    "        main_genre = genres_list[int(genres_sorted[0][0])-1]\n",
    "        print('Sounds like', artist_name.upper(), 'plays', main_genre, 'music')\n",
    "    else:\n",
    "        print('Sounds like', artist_name.upper(), 'plays', genres_list[int(pred_genres[0])-1], 'music')"
   ],
   "outputs": [],
   "metadata": {}
  },
  {
   "cell_type": "code",
   "execution_count": 38,
   "source": [
    "music = pd.read_csv('data/music.csv')"
   ],
   "outputs": [],
   "metadata": {}
  },
  {
   "cell_type": "code",
   "execution_count": 41,
   "source": [
    "music.drop(['Unnamed: 0'], axis=1, inplace=True)\n",
    "music = music.drop(music[(music['genre'] == 5) & (music['year'] < 1990)].index)\n",
    "music.reset_index(drop=True, inplace=True)"
   ],
   "outputs": [],
   "metadata": {}
  },
  {
   "cell_type": "code",
   "execution_count": 43,
   "source": [
    "music['genre'].value_counts()"
   ],
   "outputs": [
    {
     "output_type": "execute_result",
     "data": {
      "text/plain": [
       "5    37658\n",
       "2    34062\n",
       "4    26390\n",
       "1    25968\n",
       "3    18633\n",
       "Name: genre, dtype: int64"
      ]
     },
     "metadata": {},
     "execution_count": 43
    }
   ],
   "metadata": {}
  },
  {
   "cell_type": "code",
   "execution_count": 47,
   "source": [
    "music.to_csv('data/music_final.csv', index=False)"
   ],
   "outputs": [],
   "metadata": {}
  },
  {
   "cell_type": "markdown",
   "source": [
    "# It 1"
   ],
   "metadata": {}
  },
  {
   "cell_type": "code",
   "execution_count": 50,
   "source": [
    "y = music['genre']\n",
    "X = music.drop(['genre', 'id', 'year'], axis=1)"
   ],
   "outputs": [],
   "metadata": {}
  },
  {
   "cell_type": "code",
   "execution_count": 69,
   "source": [
    "r_tree = RandomForestClassifier(n_estimators=152, max_depth=203, max_features='auto', bootstrap=False)"
   ],
   "outputs": [],
   "metadata": {}
  },
  {
   "cell_type": "code",
   "execution_count": 70,
   "source": [
    "X_train, X_test, y_train, y_test = train_test_split(X, y, test_size=0.3, random_state=40)\n",
    "forest_model = r_tree.fit(X_train, y_train)\n",
    "y_pred = forest_model.predict(X_test)\n",
    "accuracy_score(y_test, y_pred)"
   ],
   "outputs": [
    {
     "output_type": "execute_result",
     "data": {
      "text/plain": [
       "0.8575465969075536"
      ]
     },
     "metadata": {},
     "execution_count": 70
    }
   ],
   "metadata": {}
  },
  {
   "cell_type": "code",
   "execution_count": 72,
   "source": [
    "print(classification_report(y_test, y_pred))"
   ],
   "outputs": [
    {
     "output_type": "stream",
     "name": "stdout",
     "text": [
      "              precision    recall  f1-score   support\n",
      "\n",
      "           1       0.83      0.82      0.83      7887\n",
      "           2       0.85      0.85      0.85     10179\n",
      "           3       0.83      0.86      0.84      5538\n",
      "           4       0.85      0.80      0.83      7964\n",
      "           5       0.91      0.93      0.92     11246\n",
      "\n",
      "    accuracy                           0.86     42814\n",
      "   macro avg       0.85      0.85      0.85     42814\n",
      "weighted avg       0.86      0.86      0.86     42814\n",
      "\n"
     ]
    }
   ],
   "metadata": {}
  },
  {
   "cell_type": "code",
   "execution_count": 64,
   "source": [
    "param_grid = [\n",
    "{'bootstrap': [False], 'n_estimators': range(100, 200), 'max_depth': range(30, 300), \n",
    "'max_features': ['auto', 'sqrt', 'log2']},]\n",
    "forest_class = RandomForestClassifier()\n",
    "grid_random = RandomizedSearchCV(forest_class, param_grid, cv=5,\n",
    "scoring='neg_mean_squared_error',\n",
    "return_train_score=True)\n",
    "grid_random.fit(X_train, y_train)"
   ],
   "outputs": [
    {
     "output_type": "execute_result",
     "data": {
      "text/plain": [
       "RandomizedSearchCV(cv=5, estimator=RandomForestClassifier(),\n",
       "                   param_distributions=[{'bootstrap': [False],\n",
       "                                         'max_depth': range(30, 300),\n",
       "                                         'max_features': ['auto', 'sqrt',\n",
       "                                                          'log2'],\n",
       "                                         'n_estimators': range(100, 200)}],\n",
       "                   return_train_score=True, scoring='neg_mean_squared_error')"
      ]
     },
     "metadata": {},
     "execution_count": 64
    }
   ],
   "metadata": {}
  },
  {
   "cell_type": "code",
   "execution_count": 65,
   "source": [
    "cvres = grid_random.cv_results_\n",
    "for mean_score, params in zip(cvres[\"mean_test_score\"], cvres[\"params\"]):\n",
    "    print(np.sqrt(-mean_score), params)"
   ],
   "outputs": [
    {
     "output_type": "stream",
     "name": "stdout",
     "text": [
      "0.9266740412006719 {'n_estimators': 184, 'max_features': 'sqrt', 'max_depth': 30, 'bootstrap': False}\n",
      "0.9275378698372042 {'n_estimators': 191, 'max_features': 'log2', 'max_depth': 82, 'bootstrap': False}\n",
      "0.9283091464002605 {'n_estimators': 181, 'max_features': 'log2', 'max_depth': 101, 'bootstrap': False}\n",
      "0.923454737564431 {'n_estimators': 152, 'max_features': 'auto', 'max_depth': 203, 'bootstrap': False}\n",
      "0.9284169407527151 {'n_estimators': 154, 'max_features': 'sqrt', 'max_depth': 92, 'bootstrap': False}\n",
      "0.9296776595213949 {'n_estimators': 170, 'max_features': 'log2', 'max_depth': 152, 'bootstrap': False}\n",
      "0.9258689065039226 {'n_estimators': 179, 'max_features': 'auto', 'max_depth': 238, 'bootstrap': False}\n",
      "0.9249873322517723 {'n_estimators': 169, 'max_features': 'sqrt', 'max_depth': 264, 'bootstrap': False}\n",
      "0.9276672565147991 {'n_estimators': 123, 'max_features': 'auto', 'max_depth': 285, 'bootstrap': False}\n",
      "0.9276565599115458 {'n_estimators': 118, 'max_features': 'log2', 'max_depth': 144, 'bootstrap': False}\n"
     ]
    }
   ],
   "metadata": {}
  },
  {
   "cell_type": "code",
   "execution_count": 66,
   "source": [
    "param_grid = [\n",
    "{'bootstrap': [False], 'max_features': ['sqrt', 'auto'], \n",
    "'n_estimators': [179, 169, 152], 'max_depth': [203, 264, 238]},]\n",
    "forest_class = RandomForestClassifier()\n",
    "grid_search = GridSearchCV(forest_class, param_grid, cv=5,\n",
    "scoring='neg_mean_squared_error',\n",
    "return_train_score=True)\n",
    "grid_search.fit(X_train, y_train)"
   ],
   "outputs": [
    {
     "output_type": "execute_result",
     "data": {
      "text/plain": [
       "GridSearchCV(cv=5, estimator=RandomForestClassifier(),\n",
       "             param_grid=[{'bootstrap': [False], 'max_depth': [203, 264, 238],\n",
       "                          'max_features': ['sqrt', 'auto'],\n",
       "                          'n_estimators': [179, 169, 152]}],\n",
       "             return_train_score=True, scoring='neg_mean_squared_error')"
      ]
     },
     "metadata": {},
     "execution_count": 66
    }
   ],
   "metadata": {}
  },
  {
   "cell_type": "code",
   "execution_count": 68,
   "source": [
    "cvres = grid_search.cv_results_\n",
    "for mean_score, params in zip(cvres[\"mean_test_score\"], cvres[\"params\"]):\n",
    "    print(np.sqrt(-mean_score), params)"
   ],
   "outputs": [
    {
     "output_type": "stream",
     "name": "stdout",
     "text": [
      "0.9235305917463078 {'bootstrap': False, 'max_depth': 203, 'max_features': 'sqrt', 'n_estimators': 179}\n",
      "0.927122199005623 {'bootstrap': False, 'max_depth': 203, 'max_features': 'sqrt', 'n_estimators': 169}\n",
      "0.9268738990070701 {'bootstrap': False, 'max_depth': 203, 'max_features': 'sqrt', 'n_estimators': 152}\n",
      "0.9235089129771112 {'bootstrap': False, 'max_depth': 203, 'max_features': 'auto', 'n_estimators': 179}\n",
      "0.9267226744397411 {'bootstrap': False, 'max_depth': 203, 'max_features': 'auto', 'n_estimators': 169}\n",
      "0.9225979509302774 {'bootstrap': False, 'max_depth': 203, 'max_features': 'auto', 'n_estimators': 152}\n",
      "0.9255282479588417 {'bootstrap': False, 'max_depth': 264, 'max_features': 'sqrt', 'n_estimators': 179}\n",
      "0.9295214632261419 {'bootstrap': False, 'max_depth': 264, 'max_features': 'sqrt', 'n_estimators': 169}\n",
      "0.9261445397298806 {'bootstrap': False, 'max_depth': 264, 'max_features': 'sqrt', 'n_estimators': 152}\n",
      "0.925658133396836 {'bootstrap': False, 'max_depth': 264, 'max_features': 'auto', 'n_estimators': 179}\n",
      "0.9249494438687255 {'bootstrap': False, 'max_depth': 264, 'max_features': 'auto', 'n_estimators': 169}\n",
      "0.926258077915342 {'bootstrap': False, 'max_depth': 264, 'max_features': 'auto', 'n_estimators': 152}\n",
      "0.9275486890755885 {'bootstrap': False, 'max_depth': 238, 'max_features': 'sqrt', 'n_estimators': 179}\n",
      "0.9277751883593013 {'bootstrap': False, 'max_depth': 238, 'max_features': 'sqrt', 'n_estimators': 169}\n",
      "0.9238448389060333 {'bootstrap': False, 'max_depth': 238, 'max_features': 'sqrt', 'n_estimators': 152}\n",
      "0.924056167675048 {'bootstrap': False, 'max_depth': 238, 'max_features': 'auto', 'n_estimators': 179}\n",
      "0.9237364782029821 {'bootstrap': False, 'max_depth': 238, 'max_features': 'auto', 'n_estimators': 169}\n",
      "0.9277590048644961 {'bootstrap': False, 'max_depth': 238, 'max_features': 'auto', 'n_estimators': 152}\n"
     ]
    }
   ],
   "metadata": {}
  },
  {
   "cell_type": "code",
   "execution_count": 67,
   "source": [
    "grid_search.best_estimator_"
   ],
   "outputs": [
    {
     "output_type": "execute_result",
     "data": {
      "text/plain": [
       "RandomForestClassifier(bootstrap=False, max_depth=203, n_estimators=152)"
      ]
     },
     "metadata": {},
     "execution_count": 67
    }
   ],
   "metadata": {}
  },
  {
   "cell_type": "markdown",
   "source": [
    "# It 2"
   ],
   "metadata": {}
  },
  {
   "cell_type": "code",
   "execution_count": 44,
   "source": [
    "y2 = music['genre']\n",
    "X2 = music.drop(['genre', 'id'], axis=1)"
   ],
   "outputs": [],
   "metadata": {}
  },
  {
   "cell_type": "code",
   "execution_count": 45,
   "source": [
    "r_tree2 = RandomForestClassifier(n_estimators=135, max_depth=226, max_features='auto', bootstrap=False)\n",
    "X_train2, X_test2, y_train2, y_test2 = train_test_split(X2, y2, test_size=0.3, random_state=40)\n",
    "forest_model2 = r_tree2.fit(X_train2, y_train2)\n",
    "y_pred2 = forest_model2.predict(X_test2)\n",
    "accuracy_score(y_test2, y_pred2)"
   ],
   "outputs": [
    {
     "output_type": "execute_result",
     "data": {
      "text/plain": [
       "0.8756247956275984"
      ]
     },
     "metadata": {},
     "execution_count": 45
    }
   ],
   "metadata": {}
  },
  {
   "cell_type": "code",
   "execution_count": 46,
   "source": [
    "print(classification_report(y_test2, y_pred2))"
   ],
   "outputs": [
    {
     "output_type": "stream",
     "name": "stdout",
     "text": [
      "              precision    recall  f1-score   support\n",
      "\n",
      "           1       0.85      0.86      0.85      7887\n",
      "           2       0.87      0.86      0.87     10179\n",
      "           3       0.84      0.87      0.85      5538\n",
      "           4       0.87      0.82      0.84      7964\n",
      "           5       0.93      0.94      0.93     11246\n",
      "\n",
      "    accuracy                           0.88     42814\n",
      "   macro avg       0.87      0.87      0.87     42814\n",
      "weighted avg       0.88      0.88      0.88     42814\n",
      "\n"
     ]
    }
   ],
   "metadata": {}
  },
  {
   "cell_type": "code",
   "execution_count": 20,
   "source": [
    "fi = pd.DataFrame({'feature': list(X_train.columns),\n",
    "                   'importance': forest_model.feature_importances_}).\\\n",
    "                    sort_values('importance', ascending = False)\n",
    "fi"
   ],
   "outputs": [
    {
     "output_type": "execute_result",
     "data": {
      "text/plain": [
       "             feature  importance\n",
       "6       acousticness    0.144174\n",
       "3           loudness    0.134417\n",
       "0       danceability    0.116744\n",
       "5        speechiness    0.099363\n",
       "1             energy    0.098274\n",
       "7   instrumentalness    0.088261\n",
       "11       duration_ms    0.084672\n",
       "9            valence    0.077698\n",
       "8           liveness    0.057693\n",
       "10             tempo    0.055101\n",
       "2                key    0.027935\n",
       "4               mode    0.008566\n",
       "12    time_signature    0.007102"
      ],
      "text/html": [
       "<div>\n",
       "<style scoped>\n",
       "    .dataframe tbody tr th:only-of-type {\n",
       "        vertical-align: middle;\n",
       "    }\n",
       "\n",
       "    .dataframe tbody tr th {\n",
       "        vertical-align: top;\n",
       "    }\n",
       "\n",
       "    .dataframe thead th {\n",
       "        text-align: right;\n",
       "    }\n",
       "</style>\n",
       "<table border=\"1\" class=\"dataframe\">\n",
       "  <thead>\n",
       "    <tr style=\"text-align: right;\">\n",
       "      <th></th>\n",
       "      <th>feature</th>\n",
       "      <th>importance</th>\n",
       "    </tr>\n",
       "  </thead>\n",
       "  <tbody>\n",
       "    <tr>\n",
       "      <th>6</th>\n",
       "      <td>acousticness</td>\n",
       "      <td>0.144174</td>\n",
       "    </tr>\n",
       "    <tr>\n",
       "      <th>3</th>\n",
       "      <td>loudness</td>\n",
       "      <td>0.134417</td>\n",
       "    </tr>\n",
       "    <tr>\n",
       "      <th>0</th>\n",
       "      <td>danceability</td>\n",
       "      <td>0.116744</td>\n",
       "    </tr>\n",
       "    <tr>\n",
       "      <th>5</th>\n",
       "      <td>speechiness</td>\n",
       "      <td>0.099363</td>\n",
       "    </tr>\n",
       "    <tr>\n",
       "      <th>1</th>\n",
       "      <td>energy</td>\n",
       "      <td>0.098274</td>\n",
       "    </tr>\n",
       "    <tr>\n",
       "      <th>7</th>\n",
       "      <td>instrumentalness</td>\n",
       "      <td>0.088261</td>\n",
       "    </tr>\n",
       "    <tr>\n",
       "      <th>11</th>\n",
       "      <td>duration_ms</td>\n",
       "      <td>0.084672</td>\n",
       "    </tr>\n",
       "    <tr>\n",
       "      <th>9</th>\n",
       "      <td>valence</td>\n",
       "      <td>0.077698</td>\n",
       "    </tr>\n",
       "    <tr>\n",
       "      <th>8</th>\n",
       "      <td>liveness</td>\n",
       "      <td>0.057693</td>\n",
       "    </tr>\n",
       "    <tr>\n",
       "      <th>10</th>\n",
       "      <td>tempo</td>\n",
       "      <td>0.055101</td>\n",
       "    </tr>\n",
       "    <tr>\n",
       "      <th>2</th>\n",
       "      <td>key</td>\n",
       "      <td>0.027935</td>\n",
       "    </tr>\n",
       "    <tr>\n",
       "      <th>4</th>\n",
       "      <td>mode</td>\n",
       "      <td>0.008566</td>\n",
       "    </tr>\n",
       "    <tr>\n",
       "      <th>12</th>\n",
       "      <td>time_signature</td>\n",
       "      <td>0.007102</td>\n",
       "    </tr>\n",
       "  </tbody>\n",
       "</table>\n",
       "</div>"
      ]
     },
     "metadata": {},
     "execution_count": 20
    }
   ],
   "metadata": {}
  },
  {
   "cell_type": "code",
   "execution_count": 34,
   "source": [
    "param_grid = [\n",
    "{'n_estimators': range(10, 300), 'max_depth': range(30, 300), 'max_features': ['auto', 'sqrt', 'log2']},\n",
    "{'bootstrap': [False], 'n_estimators': range(10, 300), 'max_depth': range(30, 300), \n",
    "'max_features': ['auto', 'sqrt', 'log2']},]\n",
    "forest_class = RandomForestClassifier()\n",
    "grid_random = RandomizedSearchCV(forest_class, param_grid, cv=5,\n",
    "scoring='neg_mean_squared_error',\n",
    "return_train_score=True)\n",
    "grid_random.fit(X_train2, y_train2)"
   ],
   "outputs": [
    {
     "output_type": "execute_result",
     "data": {
      "text/plain": [
       "RandomizedSearchCV(cv=5, estimator=RandomForestClassifier(),\n",
       "                   param_distributions=[{'max_depth': range(30, 300),\n",
       "                                         'max_features': ['auto', 'sqrt',\n",
       "                                                          'log2'],\n",
       "                                         'n_estimators': range(10, 300)},\n",
       "                                        {'bootstrap': [False],\n",
       "                                         'max_depth': range(30, 300),\n",
       "                                         'max_features': ['auto', 'sqrt',\n",
       "                                                          'log2'],\n",
       "                                         'n_estimators': range(10, 300)}],\n",
       "                   return_train_score=True, scoring='neg_mean_squared_error')"
      ]
     },
     "metadata": {},
     "execution_count": 34
    }
   ],
   "metadata": {}
  },
  {
   "cell_type": "code",
   "execution_count": 35,
   "source": [
    "grid_random.best_params_"
   ],
   "outputs": [
    {
     "output_type": "execute_result",
     "data": {
      "text/plain": [
       "{'n_estimators': 135,\n",
       " 'max_features': 'auto',\n",
       " 'max_depth': 226,\n",
       " 'bootstrap': False}"
      ]
     },
     "metadata": {},
     "execution_count": 35
    }
   ],
   "metadata": {}
  },
  {
   "cell_type": "code",
   "execution_count": 36,
   "source": [
    "cvres = grid_random.cv_results_\n",
    "for mean_score, params in zip(cvres[\"mean_test_score\"], cvres[\"params\"]):\n",
    "    print(np.sqrt(-mean_score), params)"
   ],
   "outputs": [
    {
     "output_type": "stream",
     "name": "stdout",
     "text": [
      "0.9684033431732536 {'n_estimators': 180, 'max_features': 'auto', 'max_depth': 174}\n",
      "0.9549771937690785 {'n_estimators': 120, 'max_features': 'log2', 'max_depth': 290, 'bootstrap': False}\n",
      "0.956021208188892 {'n_estimators': 104, 'max_features': 'sqrt', 'max_depth': 189, 'bootstrap': False}\n",
      "0.9858943787589568 {'n_estimators': 21, 'max_features': 'sqrt', 'max_depth': 174, 'bootstrap': False}\n",
      "0.95312536326296 {'n_estimators': 135, 'max_features': 'auto', 'max_depth': 226, 'bootstrap': False}\n",
      "0.9723842133563206 {'n_estimators': 126, 'max_features': 'sqrt', 'max_depth': 70}\n",
      "0.9542589304541248 {'n_estimators': 111, 'max_features': 'sqrt', 'max_depth': 187, 'bootstrap': False}\n",
      "0.9683579451067175 {'n_estimators': 284, 'max_features': 'sqrt', 'max_depth': 199}\n",
      "0.9683716221504488 {'n_estimators': 286, 'max_features': 'auto', 'max_depth': 271}\n",
      "0.9547239329700499 {'n_estimators': 131, 'max_features': 'auto', 'max_depth': 69, 'bootstrap': False}\n"
     ]
    }
   ],
   "metadata": {}
  },
  {
   "cell_type": "code",
   "execution_count": 80,
   "source": [
    "param_grid = [\n",
    "{'bootstrap': [False], 'max_features': ['log2'], 'n_estimators': [154, 175, 192], 'max_depth': [35, 124, 185]},\n",
    "]\n",
    "forest_class = RandomForestClassifier()\n",
    "grid_search = GridSearchCV(forest_class, param_grid, cv=5,\n",
    "scoring='neg_mean_squared_error',\n",
    "return_train_score=True)\n",
    "grid_search.fit(X_train2, y_train2)"
   ],
   "outputs": [
    {
     "output_type": "execute_result",
     "data": {
      "text/plain": [
       "GridSearchCV(cv=5, estimator=RandomForestClassifier(),\n",
       "             param_grid=[{'bootstrap': [False], 'max_depth': [35, 124, 185],\n",
       "                          'max_features': ['log2'],\n",
       "                          'n_estimators': [154, 175, 192]}],\n",
       "             return_train_score=True, scoring='neg_mean_squared_error')"
      ]
     },
     "metadata": {},
     "execution_count": 80
    }
   ],
   "metadata": {}
  },
  {
   "cell_type": "code",
   "execution_count": 81,
   "source": [
    "cvres = grid_search.cv_results_\n",
    "for mean_score, params in zip(cvres[\"mean_test_score\"], cvres[\"params\"]):\n",
    "    print(np.sqrt(-mean_score), params)"
   ],
   "outputs": [
    {
     "output_type": "stream",
     "name": "stdout",
     "text": [
      "0.8514440251191804 {'bootstrap': False, 'max_depth': 35, 'max_features': 'log2', 'n_estimators': 154}\n",
      "0.851332366839121 {'bootstrap': False, 'max_depth': 35, 'max_features': 'log2', 'n_estimators': 175}\n",
      "0.8519374837719975 {'bootstrap': False, 'max_depth': 35, 'max_features': 'log2', 'n_estimators': 192}\n",
      "0.8541658958930421 {'bootstrap': False, 'max_depth': 124, 'max_features': 'log2', 'n_estimators': 154}\n",
      "0.8523600740228342 {'bootstrap': False, 'max_depth': 124, 'max_features': 'log2', 'n_estimators': 175}\n",
      "0.8514969359872422 {'bootstrap': False, 'max_depth': 124, 'max_features': 'log2', 'n_estimators': 192}\n",
      "0.8510033330426251 {'bootstrap': False, 'max_depth': 185, 'max_features': 'log2', 'n_estimators': 154}\n",
      "0.849638395527666 {'bootstrap': False, 'max_depth': 185, 'max_features': 'log2', 'n_estimators': 175}\n",
      "0.8510032280562068 {'bootstrap': False, 'max_depth': 185, 'max_features': 'log2', 'n_estimators': 192}\n"
     ]
    }
   ],
   "metadata": {}
  },
  {
   "cell_type": "code",
   "execution_count": 27,
   "source": [
    "grid_search.best_estimator_"
   ],
   "outputs": [
    {
     "output_type": "execute_result",
     "data": {
      "text/plain": [
       "RandomForestClassifier(bootstrap=False, max_depth=100, n_estimators=130)"
      ]
     },
     "metadata": {},
     "execution_count": 27
    }
   ],
   "metadata": {}
  },
  {
   "cell_type": "markdown",
   "source": [
    "error_rate"
   ],
   "metadata": {}
  },
  {
   "cell_type": "code",
   "execution_count": 138,
   "source": [
    "genre_predict()"
   ],
   "outputs": [
    {
     "output_type": "stream",
     "name": "stderr",
     "text": [
      "  0%|          | 0/20 [00:00<?, ?it/s]"
     ]
    },
    {
     "output_type": "stream",
     "name": "stdout",
     "text": [
      "Listening to NIRVANA\n"
     ]
    },
    {
     "output_type": "stream",
     "name": "stderr",
     "text": [
      "100%|██████████| 20/20 [00:01<00:00, 15.44it/s]\n",
      "100%|██████████| 6/6 [00:00<00:00, 56679.78it/s]\n",
      "100%|██████████| 6/6 [00:01<00:00,  5.28it/s]\n",
      "100%|██████████| 6/6 [00:00<00:00, 29262.59it/s]"
     ]
    },
    {
     "output_type": "stream",
     "name": "stdout",
     "text": [
      "False    142711\n",
      "dtype: int64\n",
      "I've just heard 506 songs\n",
      "Sounds like NIRVANA plays rock music\n"
     ]
    },
    {
     "output_type": "stream",
     "name": "stderr",
     "text": [
      "\n"
     ]
    }
   ],
   "metadata": {}
  },
  {
   "cell_type": "code",
   "execution_count": null,
   "source": [],
   "outputs": [],
   "metadata": {}
  },
  {
   "cell_type": "code",
   "execution_count": null,
   "source": [],
   "outputs": [],
   "metadata": {}
  }
 ],
 "metadata": {
  "kernelspec": {
   "name": "python3",
   "display_name": "Python 3.9.0 64-bit"
  },
  "language_info": {
   "codemirror_mode": {
    "name": "ipython",
    "version": 3
   },
   "file_extension": ".py",
   "mimetype": "text/x-python",
   "name": "python",
   "nbconvert_exporter": "python",
   "pygments_lexer": "ipython3",
   "version": "3.9.0"
  },
  "interpreter": {
   "hash": "4cd7ab41f5fca4b9b44701077e38c5ffd31fe66a6cab21e0214b68d958d0e462"
  }
 },
 "nbformat": 4,
 "nbformat_minor": 5
}