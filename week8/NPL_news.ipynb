{
 "cells": [
  {
   "cell_type": "code",
   "execution_count": 8,
   "source": [
    "import docx2txt"
   ],
   "outputs": [],
   "metadata": {}
  },
  {
   "cell_type": "code",
   "execution_count": 1,
   "source": [
    "import nltk"
   ],
   "outputs": [],
   "metadata": {}
  },
  {
   "cell_type": "code",
   "execution_count": 5,
   "source": [
    "nltk.download()"
   ],
   "outputs": [
    {
     "output_type": "stream",
     "name": "stdout",
     "text": [
      "showing info https://raw.githubusercontent.com/nltk/nltk_data/gh-pages/index.xml\n"
     ]
    },
    {
     "output_type": "execute_result",
     "data": {
      "text/plain": [
       "True"
      ]
     },
     "metadata": {},
     "execution_count": 5
    }
   ],
   "metadata": {}
  },
  {
   "cell_type": "code",
   "execution_count": 1,
   "source": [
    "import certifi"
   ],
   "outputs": [],
   "metadata": {}
  },
  {
   "cell_type": "code",
   "execution_count": 2,
   "source": [
    "certifi.where()"
   ],
   "outputs": [
    {
     "output_type": "execute_result",
     "data": {
      "text/plain": [
       "'/Library/Frameworks/Python.framework/Versions/3.9/lib/python3.9/site-packages/certifi/cacert.pem'"
      ]
     },
     "metadata": {},
     "execution_count": 2
    }
   ],
   "metadata": {}
  },
  {
   "cell_type": "code",
   "execution_count": 1,
   "source": [
    "import nltk\n",
    "import ssl\n",
    "\n",
    "try:\n",
    "    _create_unverified_https_context = ssl._create_unverified_context\n",
    "except AttributeError:\n",
    "    pass\n",
    "else:\n",
    "    ssl._create_default_https_context = _create_unverified_https_context\n",
    "\n",
    "nltk.download()"
   ],
   "outputs": [
    {
     "output_type": "stream",
     "name": "stdout",
     "text": [
      "showing info https://raw.githubusercontent.com/nltk/nltk_data/gh-pages/index.xml\n"
     ]
    },
    {
     "output_type": "execute_result",
     "data": {
      "text/plain": [
       "True"
      ]
     },
     "metadata": {},
     "execution_count": 1
    }
   ],
   "metadata": {}
  },
  {
   "cell_type": "code",
   "execution_count": 2,
   "source": [
    "import nltk\n",
    "from nltk.tokenize import word_tokenize\n",
    "from nltk.text import Text"
   ],
   "outputs": [],
   "metadata": {}
  },
  {
   "cell_type": "code",
   "execution_count": 3,
   "source": [
    "# def variable 'textfile' doc2txt.process() \n",
    "# use nltk to separate the individual words - word_tokenise \n",
    "# textfile=docx2txt.process('news.txt')"
   ],
   "outputs": [],
   "metadata": {}
  },
  {
   "cell_type": "code",
   "execution_count": 4,
   "source": [
    "f = open('news.txt', 'r')"
   ],
   "outputs": [],
   "metadata": {}
  },
  {
   "cell_type": "code",
   "execution_count": 5,
   "source": [
    "text = f.read()"
   ],
   "outputs": [],
   "metadata": {}
  },
  {
   "cell_type": "code",
   "execution_count": 6,
   "source": [
    "tokens = word_tokenize(text)"
   ],
   "outputs": [],
   "metadata": {}
  },
  {
   "cell_type": "code",
   "execution_count": 7,
   "source": [
    "len(tokens)"
   ],
   "outputs": [
    {
     "output_type": "execute_result",
     "data": {
      "text/plain": [
       "1695"
      ]
     },
     "metadata": {},
     "execution_count": 7
    }
   ],
   "metadata": {}
  },
  {
   "cell_type": "code",
   "execution_count": 8,
   "source": [
    "fdist1 = nltk.FreqDist(tokens)"
   ],
   "outputs": [],
   "metadata": {}
  },
  {
   "cell_type": "code",
   "execution_count": 9,
   "source": [
    "word_freq = dict((word, freq) for word, freq in fdist1.items() if not word.isdigit())"
   ],
   "outputs": [],
   "metadata": {}
  },
  {
   "cell_type": "markdown",
   "source": [
    "# Cleaning / Wrangling\n",
    "+ prepositions for, in, the, a, in - 'stop words'\n",
    "+ pronouns - personal: i, you, he - not sure if it adds meanning\n",
    "+ stemming - covid, covid-19...\n",
    "+ punctuation - ,.!?\n",
    "+ lower case"
   ],
   "metadata": {}
  },
  {
   "cell_type": "markdown",
   "source": [],
   "metadata": {}
  },
  {
   "cell_type": "code",
   "execution_count": 10,
   "source": [
    "sorted = sorted(word_freq.items(), key = lambda x: x[1], reverse=True)"
   ],
   "outputs": [],
   "metadata": {}
  },
  {
   "cell_type": "code",
   "execution_count": 29,
   "source": [
    "clean_words = [word for word in tokens if word.isalpha()]"
   ],
   "outputs": [],
   "metadata": {}
  },
  {
   "cell_type": "code",
   "execution_count": 33,
   "source": [
    "lower_words = [word.lower() for word in clean_words]"
   ],
   "outputs": [],
   "metadata": {}
  },
  {
   "cell_type": "code",
   "execution_count": 35,
   "source": [
    "from nltk.corpus import stopwords"
   ],
   "outputs": [],
   "metadata": {}
  },
  {
   "cell_type": "code",
   "execution_count": 36,
   "source": [
    "stop_words = stopwords.words('english')"
   ],
   "outputs": [],
   "metadata": {}
  },
  {
   "cell_type": "code",
   "execution_count": 37,
   "source": [
    "words_without_stop = [word for word in lower_words if not word in stop_words]"
   ],
   "outputs": [],
   "metadata": {}
  },
  {
   "cell_type": "code",
   "execution_count": 38,
   "source": [
    "len(words_without_stop)"
   ],
   "outputs": [
    {
     "output_type": "execute_result",
     "data": {
      "text/plain": [
       "672"
      ]
     },
     "metadata": {},
     "execution_count": 38
    }
   ],
   "metadata": {}
  },
  {
   "cell_type": "code",
   "execution_count": 39,
   "source": [
    "fdist2 = nltk.FreqDist(words_without_stop)"
   ],
   "outputs": [],
   "metadata": {}
  },
  {
   "cell_type": "code",
   "execution_count": 40,
   "source": [
    "fdist2.most_common()"
   ],
   "outputs": [
    {
     "output_type": "execute_result",
     "data": {
      "text/plain": [
       "[('susanne', 17),\n",
       " ('people', 14),\n",
       " ('vaccine', 13),\n",
       " ('get', 13),\n",
       " ('vaccinated', 13),\n",
       " ('richard', 12),\n",
       " ('says', 10),\n",
       " ('vaccination', 8),\n",
       " ('say', 8),\n",
       " ('many', 7),\n",
       " ('vaccines', 7),\n",
       " ('media', 6),\n",
       " ('covid', 5),\n",
       " ('want', 5),\n",
       " ('would', 5),\n",
       " ('infection', 5),\n",
       " ('lot', 5),\n",
       " ('everyone', 5),\n",
       " ('even', 4),\n",
       " ('think', 4),\n",
       " ('feel', 4),\n",
       " ('make', 4),\n",
       " ('german', 4),\n",
       " ('kids', 4),\n",
       " ('risk', 4),\n",
       " ('may', 4),\n",
       " ('study', 4),\n",
       " ('getting', 3),\n",
       " ('arguments', 3),\n",
       " ('sign', 3),\n",
       " ('meet', 3),\n",
       " ('park', 3),\n",
       " ('like', 3),\n",
       " ('understand', 3),\n",
       " ('germany', 3),\n",
       " ('trust', 3),\n",
       " ('still', 3),\n",
       " ('infected', 3),\n",
       " ('either', 3),\n",
       " ('cases', 3),\n",
       " ('died', 3),\n",
       " ('lying', 3),\n",
       " ('accompanying', 3),\n",
       " ('also', 3),\n",
       " ('cosmo', 3),\n",
       " ('called', 3),\n",
       " ('experts', 3),\n",
       " ('india', 3),\n",
       " ('watch', 3),\n",
       " ('two', 3),\n",
       " ('seem', 3),\n",
       " ('whether', 3),\n",
       " ('person', 2),\n",
       " ('back', 2),\n",
       " ('please', 2),\n",
       " ('crazy', 2),\n",
       " ('works', 2),\n",
       " ('administration', 2),\n",
       " ('hospital', 2),\n",
       " ('groups', 2),\n",
       " ('information', 2),\n",
       " ('case', 2),\n",
       " ('decision', 2),\n",
       " ('mean', 2),\n",
       " ('half', 2),\n",
       " ('least', 2),\n",
       " ('first', 2),\n",
       " ('protest', 2),\n",
       " ('holds', 2),\n",
       " ('reading', 2),\n",
       " ('friends', 2),\n",
       " ('could', 2),\n",
       " ('severe', 2),\n",
       " ('normal', 2),\n",
       " ('deaths', 2),\n",
       " ('fake', 2),\n",
       " ('press', 2),\n",
       " ('destasis', 2),\n",
       " ('report', 2),\n",
       " ('disease', 2),\n",
       " ('live', 2),\n",
       " ('willingness', 2),\n",
       " ('wanted', 2),\n",
       " ('much', 2),\n",
       " ('lower', 2),\n",
       " ('start', 2),\n",
       " ('images', 2),\n",
       " ('always', 2),\n",
       " ('fungal', 2),\n",
       " ('black', 2),\n",
       " ('fungus', 2),\n",
       " ('really', 2),\n",
       " ('situation', 2),\n",
       " ('agencies', 2),\n",
       " ('tried', 2),\n",
       " ('write', 2),\n",
       " ('employers', 2),\n",
       " ('extent', 2),\n",
       " ('probably', 2),\n",
       " ('decide', 2),\n",
       " ('wonder', 2),\n",
       " ('number', 1),\n",
       " ('seems', 1),\n",
       " ('going', 1),\n",
       " ('ever', 1),\n",
       " ('base', 1),\n",
       " ('carrying', 1),\n",
       " ('baby', 1),\n",
       " ('syringe', 1),\n",
       " ('red', 1),\n",
       " ('line', 1),\n",
       " ('thanks', 1),\n",
       " ('photos', 1),\n",
       " ('names', 1),\n",
       " ('rather', 1),\n",
       " ('labeled', 1),\n",
       " ('conspiracy', 1),\n",
       " ('theorist', 1),\n",
       " ('fair', 1),\n",
       " ('enough', 1),\n",
       " ('let', 1),\n",
       " ('call', 1),\n",
       " ('pair', 1),\n",
       " ('outskirts', 1),\n",
       " ('cologne', 1),\n",
       " ('packaging', 1),\n",
       " ('industry', 1),\n",
       " ('among', 1),\n",
       " ('agree', 1),\n",
       " ('recovered', 1),\n",
       " ('written', 1),\n",
       " ('virus', 1),\n",
       " ('wondering', 1),\n",
       " ('concerns', 1),\n",
       " ('argue', 1),\n",
       " ('doubters', 1),\n",
       " ('rise', 1),\n",
       " ('huge', 1),\n",
       " ('intervention', 1),\n",
       " ('body', 1),\n",
       " ('irresponsible', 1),\n",
       " ('tired', 1),\n",
       " ('life', 1),\n",
       " ('nods', 1),\n",
       " ('agreement', 1),\n",
       " ('couple', 1),\n",
       " ('alone', 1),\n",
       " ('although', 1),\n",
       " ('nearly', 1),\n",
       " ('population', 1),\n",
       " ('fully', 1),\n",
       " ('received', 1),\n",
       " ('dose', 1),\n",
       " ('july', 1),\n",
       " ('rate', 1),\n",
       " ('slowing', 1),\n",
       " ('spinner', 1),\n",
       " ('whacko', 1),\n",
       " ('principle', 1),\n",
       " ('got', 1),\n",
       " ('standard', 1),\n",
       " ('acquaintances', 1),\n",
       " ('experienced', 1),\n",
       " ('rejection', 1),\n",
       " ('lack', 1),\n",
       " ('understanding', 1),\n",
       " ('makes', 1),\n",
       " ('immortal', 1),\n",
       " ('despite', 1),\n",
       " ('indignantly', 1),\n",
       " ('calculated', 1),\n",
       " ('decrease', 1),\n",
       " ('well', 1),\n",
       " ('analysis', 1),\n",
       " ('anything', 1),\n",
       " ('anytime', 1),\n",
       " ('happen', 1),\n",
       " ('colleagues', 1),\n",
       " ('symptoms', 1),\n",
       " ('weak', 1),\n",
       " ('flu', 1),\n",
       " ('jumps', 1),\n",
       " ('hear', 1),\n",
       " ('stories', 1),\n",
       " ('directly', 1),\n",
       " ('indirectly', 1),\n",
       " ('ask', 1),\n",
       " ('old', 1),\n",
       " ('find', 1),\n",
       " ('already', 1),\n",
       " ('something', 1),\n",
       " ('convince', 1),\n",
       " ('man', 1),\n",
       " ('lügenpresse', 1),\n",
       " ('frankfurt', 1),\n",
       " ('refrain', 1),\n",
       " ('calling', 1),\n",
       " ('coronavirus', 1),\n",
       " ('coverage', 1),\n",
       " ('federal', 1),\n",
       " ('statistical', 1),\n",
       " ('office', 1),\n",
       " ('country', 1),\n",
       " ('last', 1),\n",
       " ('year', 1),\n",
       " ('recent', 1),\n",
       " ('cause', 1),\n",
       " ('due', 1),\n",
       " ('indeed', 1),\n",
       " ('older', 1),\n",
       " ('elderly', 1),\n",
       " ('certainly', 1),\n",
       " ('ones', 1),\n",
       " ('city', 1),\n",
       " ('go', 1),\n",
       " ('clubs', 1),\n",
       " ('hug', 1),\n",
       " ('calculate', 1),\n",
       " ('decreasing', 1),\n",
       " ('asked', 1),\n",
       " ('said', 1),\n",
       " ('june', 1),\n",
       " ('participants', 1),\n",
       " ('run', 1),\n",
       " ('university', 1),\n",
       " ('erfurt', 1),\n",
       " ('robert', 1),\n",
       " ('koch', 1),\n",
       " ('institute', 1),\n",
       " ('research', 1),\n",
       " ('bodies', 1),\n",
       " ('involved', 1),\n",
       " ('inclined', 1),\n",
       " ('weigh', 1),\n",
       " ('pros', 1),\n",
       " ('cons', 1),\n",
       " ('lacked', 1),\n",
       " ('felt', 1),\n",
       " ('need', 1),\n",
       " ('bother', 1),\n",
       " ('worried', 1),\n",
       " ('chances', 1),\n",
       " ('graphic', 1),\n",
       " ('rates', 1),\n",
       " ('different', 1),\n",
       " ('continents', 1),\n",
       " ('distorted', 1),\n",
       " ('exaggerated', 1),\n",
       " ('risks', 1),\n",
       " ('opinions', 1),\n",
       " ('patient', 1),\n",
       " ('bed', 1),\n",
       " ('suffering', 1),\n",
       " ('patients', 1),\n",
       " ('naturally', 1),\n",
       " ('shocking', 1),\n",
       " ('compare', 1),\n",
       " ('look', 1),\n",
       " ('hygiene', 1),\n",
       " ('standards', 1),\n",
       " ('terrible', 1),\n",
       " ('state', 1),\n",
       " ('hospitals', 1),\n",
       " ('bet', 1),\n",
       " ('almost', 1),\n",
       " ('every', 1),\n",
       " ('turns', 1),\n",
       " ('catastrophe', 1),\n",
       " ('picks', 1),\n",
       " ('lead', 1),\n",
       " ('take', 1),\n",
       " ('wrangling', 1),\n",
       " ('astrazeneca', 1),\n",
       " ('conflicting', 1),\n",
       " ('statements', 1),\n",
       " ('vaccinations', 1),\n",
       " ('points', 1),\n",
       " ('mixing', 1),\n",
       " ('matching', 1),\n",
       " ('partially', 1),\n",
       " ('support', 1),\n",
       " ('america', 1),\n",
       " ('hundred', 1),\n",
       " ('based', 1),\n",
       " ('fda', 1),\n",
       " ('united', 1),\n",
       " ('states', 1),\n",
       " ('food', 1),\n",
       " ('drug', 1),\n",
       " ('decided', 1),\n",
       " ('okay', 1),\n",
       " ('vaccinate', 1),\n",
       " ('young', 1),\n",
       " ('continues', 1),\n",
       " ('european', 1),\n",
       " ('countries', 1),\n",
       " ('ready', 1),\n",
       " ('approve', 1),\n",
       " ('children', 1),\n",
       " ('risky', 1),\n",
       " ('science', 1),\n",
       " ('finland', 1),\n",
       " ('trials', 1),\n",
       " ('biontech', 1),\n",
       " ('pretty', 1),\n",
       " ('wound', 1),\n",
       " ('bat', 1),\n",
       " ('forth', 1),\n",
       " ('tell', 1),\n",
       " ('often', 1),\n",
       " ('deal', 1),\n",
       " ('critique', 1),\n",
       " ('definitely', 1),\n",
       " ('spent', 1),\n",
       " ('time', 1),\n",
       " ('thinking', 1),\n",
       " ('issues', 1),\n",
       " ('someone', 1),\n",
       " ('naively', 1),\n",
       " ('taken', 1),\n",
       " ('jab', 1),\n",
       " ('job', 1),\n",
       " ('requirement', 1),\n",
       " ('researchers', 1),\n",
       " ('behind', 1),\n",
       " ('programs', 1),\n",
       " ('workplaces', 1),\n",
       " ('education', 1),\n",
       " ('sector', 1),\n",
       " ('improve', 1),\n",
       " ('access', 1),\n",
       " ('easier', 1),\n",
       " ('reach', 1),\n",
       " ('contact', 1),\n",
       " ('lots', 1),\n",
       " ('suggest', 1),\n",
       " ('mandatory', 1),\n",
       " ('pensive', 1),\n",
       " ('problem', 1),\n",
       " ('wants', 1),\n",
       " ('conceivable', 1),\n",
       " ('might', 1),\n",
       " ('demand', 1),\n",
       " ('refuse', 1),\n",
       " ('see', 1),\n",
       " ('grounds', 1),\n",
       " ('redundant', 1),\n",
       " ('contract', 1),\n",
       " ('russia', 1),\n",
       " ('legal', 1),\n",
       " ('possible', 1),\n",
       " ('employer', 1),\n",
       " ('right', 1),\n",
       " ('adds', 1),\n",
       " ('medical', 1),\n",
       " ('ethicist', 1),\n",
       " ('healthcare', 1),\n",
       " ('workers', 1),\n",
       " ('absolutely', 1),\n",
       " ('must', 1),\n",
       " ('moments', 1),\n",
       " ('silence', 1),\n",
       " ('enjoying', 1),\n",
       " ('reclaimed', 1),\n",
       " ('lives', 1),\n",
       " ('parting', 1),\n",
       " ('words', 1),\n",
       " ('stay', 1),\n",
       " ('healthy', 1),\n",
       " ('wish', 1),\n",
       " ('part', 1),\n",
       " ('nod', 1),\n",
       " ('little', 1),\n",
       " ('agonized', 1),\n",
       " ('us', 1),\n",
       " ('crazies', 1),\n",
       " ('able', 1),\n",
       " ('else', 1),\n",
       " ('accept', 1),\n",
       " ('leave', 1),\n",
       " ('sitting', 1),\n",
       " ('persuade', 1),\n",
       " ('change', 1),\n",
       " ('minds', 1),\n",
       " ('status', 1),\n",
       " ('actually', 1),\n",
       " ('business', 1),\n",
       " ('allowed', 1),\n",
       " ('biggest', 1),\n",
       " ('takeaways', 1),\n",
       " ('conversation', 1),\n",
       " ('annoyed', 1),\n",
       " ('confusing', 1),\n",
       " ('reports', 1),\n",
       " ('tas', 1),\n",
       " ('result', 1),\n",
       " ('anxious', 1),\n",
       " ('insecure', 1),\n",
       " ('pose', 1),\n",
       " ('moved', 1),\n",
       " ('leaves', 1),\n",
       " ('confused', 1),\n",
       " ('lasting', 1),\n",
       " ('feeling', 1),\n",
       " ('incomprehension', 1),\n",
       " ('mutual', 1)]"
      ]
     },
     "metadata": {},
     "execution_count": 40
    }
   ],
   "metadata": {}
  },
  {
   "cell_type": "code",
   "execution_count": 41,
   "source": [
    "textlist = Text(words_without_stop)"
   ],
   "outputs": [],
   "metadata": {}
  },
  {
   "cell_type": "code",
   "execution_count": 42,
   "source": [
    "textlist.collocations()"
   ],
   "outputs": [
    {
     "output_type": "stream",
     "name": "stdout",
     "text": [
      "get vaccinated; richard susanne; black fungus; says susanne;\n",
      "accompanying fungal; called black; fake lying; holds sign; lying\n",
      "press; sign reading; wonder whether; fungal infection; cosmo study;\n",
      "want vaccine; destasis says; infection called; wanted get; trust\n",
      "vaccines; many people; say trust\n"
     ]
    }
   ],
   "metadata": {}
  },
  {
   "cell_type": "code",
   "execution_count": 44,
   "source": [
    "# find fragments with keywords\n",
    "textlist.concordance('covid')"
   ],
   "outputs": [
    {
     "output_type": "stream",
     "name": "stdout",
     "text": [
      "Displaying 5 of 5 matches:\n",
      " covid many people vaccination number peopl\n",
      "july rate vaccination slowing person covid protest holds sign reading spinner g\n",
      "s accompanying disease many died due covid infection indeed older elderly peopl\n",
      "experts always opinions says richard covid patient india lying hospital bed suf\n",
      "l infection called black fungus many covid patients india accompanying fungal i\n"
     ]
    }
   ],
   "metadata": {}
  },
  {
   "cell_type": "code",
   "execution_count": 46,
   "source": [
    " # lexical dispersion plot - apperiance of words\n",
    " textlist.dispersion_plot(['covid', 'vaccination', 'infection', 'disease', 'protest'])"
   ],
   "outputs": [
    {
     "output_type": "display_data",
     "data": {
      "text/plain": [
       "<Figure size 432x288 with 1 Axes>"
      ],
      "image/png": "[encoded data removed]"
     },
     "metadata": {
      "needs_background": "light"
     }
    }
   ],
   "metadata": {}
  },
  {
   "cell_type": "code",
   "execution_count": null,
   "source": [],
   "outputs": [],
   "metadata": {}
  }
 ],
 "metadata": {
  "kernelspec": {
   "display_name": "Python 3",
   "language": "python",
   "name": "python3"
  },
  "language_info": {
   "codemirror_mode": {
    "name": "ipython",
    "version": 3
   },
   "file_extension": ".py",
   "mimetype": "text/x-python",
   "name": "python",
   "nbconvert_exporter": "python",
   "pygments_lexer": "ipython3",
   "version": "3.9.2"
  }
 },
 "nbformat": 4,
 "nbformat_minor": 5
}