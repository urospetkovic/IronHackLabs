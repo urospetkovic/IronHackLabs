{
 "cells": [
  {
   "cell_type": "code",
   "execution_count": 1,
   "source": [
    "import pandas as pd\n",
    "import numpy as np\n",
    "from tqdm import tqdm\n",
    "import getpass\n",
    "import spotipy\n",
    "from spotipy.oauth2 import SpotifyClientCredentials\n",
    "from sklearn.model_selection import train_test_split\n",
    "from sklearn.metrics import accuracy_score\n",
    "from sklearn.metrics import recall_score\n",
    "from sklearn.metrics import classification_report\n",
    "from sklearn.ensemble import RandomForestClassifier"
   ],
   "outputs": [],
   "metadata": {}
  },
  {
   "cell_type": "code",
   "execution_count": 2,
   "source": [
    "client_id = str(getpass.getpass('client_id?'))\n",
    "client_sectret = str(getpass.getpass('client_secret?'))\n",
    "sp = spotipy.Spotify(auth_manager=SpotifyClientCredentials(\n",
    "    client_id=client_id, client_secret=client_sectret))"
   ],
   "outputs": [],
   "metadata": {}
  },
  {
   "cell_type": "code",
   "execution_count": 3,
   "source": [
    "def all_albums_from_artist(artist_id):\n",
    "    albums_ids = []\n",
    "    albums = sp.artist_albums(artist_id)\n",
    "    for album in range(len(albums['items'])):\n",
    "        albums_ids.append(albums['items'][album]['id'])\n",
    "    return list(set(albums_ids))"
   ],
   "outputs": [],
   "metadata": {}
  },
  {
   "cell_type": "code",
   "execution_count": 4,
   "source": [
    "def all_songs_from_albums(albums_id_list):\n",
    "    ids = []\n",
    "    for album_id in tqdm(albums_id_list):\n",
    "        songs_ids = sp.album_tracks(album_id)\n",
    "        for id in range(len(songs_ids['items'])):\n",
    "            ids.append(songs_ids['items'][id]['id'])         \n",
    "    ids_chunks = []\n",
    "    for i in tqdm(range(0, len(ids), 100)):\n",
    "        ids_chunks.append(ids[i:i + 100])\n",
    "    audio_feat = []\n",
    "    for i in tqdm(ids_chunks):\n",
    "        audio_feat.append(sp.audio_features(tracks=i))\n",
    "    audio_feat_total = []\n",
    "    for i in tqdm(range(len(audio_feat))):\n",
    "        audio_feat_total += audio_feat[i]\n",
    "    audio_feats_clean = [dct for dct in audio_feat_total if dct]\n",
    "    df = pd.DataFrame(audio_feats_clean)\n",
    "    return df.drop(['type', 'track_href', 'uri', 'analysis_url'], axis=1)\n",
    "    "
   ],
   "outputs": [],
   "metadata": {}
  },
  {
   "cell_type": "code",
   "execution_count": 5,
   "source": [
    "def release_year(df):\n",
    "    years = []\n",
    "    for id in tqdm(df['id']):\n",
    "        track = sp.track(id)\n",
    "        years.append(track['album']['release_date'][0:4])\n",
    "    return years"
   ],
   "outputs": [],
   "metadata": {}
  },
  {
   "cell_type": "code",
   "execution_count": 6,
   "source": [
    "def fix_tempo(df):\n",
    "    df['tempo'] = df['tempo'].apply(lambda x: x*2 if x < 60 else x)\n",
    "    df['tempo'] = df['tempo'].apply(lambda x: x/2 if x > 200 else x)\n",
    "    df['tempo'] = df['tempo'].apply(lambda x: 120 if x == 0 else x)\n",
    "    return df"
   ],
   "outputs": [],
   "metadata": {}
  },
  {
   "cell_type": "code",
   "execution_count": 144,
   "source": [
    "def genre_predict():\n",
    "    artist_name = input('Enter artist name:')\n",
    "    print('Listening to', artist_name.upper())\n",
    "    artist = sp.search(artist_name)\n",
    "    artist_id = artist['tracks']['items'][0]['artists'][0]['id']\n",
    "    albums = all_albums_from_artist(artist_id)\n",
    "    songs = all_songs_from_albums(albums)\n",
    "    print(len(songs), 'songs')\n",
    "    songs = fix_tempo(songs)\n",
    "    X = songs.drop(['id'], axis=1)\n",
    "    prediction = forest_model.predict(X)\n",
    "    pred_genres = np.unique(prediction, return_counts=True)\n",
    "    genres_list = ['jazz', 'rock', 'hip-hop', 'pop', 'electronic']\n",
    "    genres_dict = dict(zip(pred_genres[0], pred_genres[1]))\n",
    "    if len(genres_dict) > 1:\n",
    "        genres_sorted = sorted(genres_dict.items(), key=lambda x: x[1], reverse=True)\n",
    "        main_genre = genres_list[int(genres_sorted[0][0])-1]\n",
    "        print('Sounds like', artist_name.upper(), 'plays', main_genre, 'music')\n",
    "    else:\n",
    "        print('Sounds like', artist_name.upper(), 'plays', genres_list[int(pred_genres[0])-1], 'music')"
   ],
   "outputs": [],
   "metadata": {}
  },
  {
   "cell_type": "code",
   "execution_count": 145,
   "source": [
    "def genre_predict2():\n",
    "    artist_name = input('Enter artist name:')\n",
    "    print('Listening to', artist_name.upper())\n",
    "    artist = sp.search(artist_name)\n",
    "    artist_id = artist['tracks']['items'][0]['artists'][0]['id']\n",
    "    albums = all_albums_from_artist(artist_id)\n",
    "    songs = all_songs_from_albums(albums)\n",
    "    print(len(songs), 'songs')\n",
    "    print('Getting release years (can take a while)')\n",
    "    songs['year'] = release_year(songs)\n",
    "    songs = fix_tempo(songs)\n",
    "    X = songs.drop(['id'], axis=1)\n",
    "    prediction = forest_model2.predict(X)\n",
    "    pred_genres = np.unique(prediction, return_counts=True)\n",
    "    genres_list = ['jazz', 'rock', 'hip-hop', 'pop', 'electronic']\n",
    "    genres_dict = dict(zip(pred_genres[0], pred_genres[1]))\n",
    "    if len(genres_dict) > 1:\n",
    "        genres_sorted = sorted(genres_dict.items(), key=lambda x: x[1], reverse=True)\n",
    "        main_genre = genres_list[int(genres_sorted[0][0])-1]\n",
    "        print('Sounds like', artist_name.upper(), 'plays', main_genre, 'music')\n",
    "    else:\n",
    "        print('Sounds like', artist_name.upper(), 'plays', genres_list[int(pred_genres[0])-1], 'music')"
   ],
   "outputs": [],
   "metadata": {}
  },
  {
   "cell_type": "code",
   "execution_count": 8,
   "source": [
    "music = pd.read_csv('data/music.csv')"
   ],
   "outputs": [],
   "metadata": {}
  },
  {
   "cell_type": "code",
   "execution_count": 9,
   "source": [
    "music.head()"
   ],
   "outputs": [
    {
     "output_type": "execute_result",
     "data": {
      "text/plain": [
       "   Unnamed: 0  danceability  energy  key  loudness  mode  speechiness  \\\n",
       "0           0         0.706   0.742    5    -6.431     1       0.1000   \n",
       "1           1         0.842   0.420    7    -9.656     1       0.1120   \n",
       "2           2         0.766   0.963   10    -5.000     1       0.2860   \n",
       "3           3         0.650   0.827    5    -8.784     1       0.0452   \n",
       "4           4         0.749   0.863    7    -6.865     1       0.1310   \n",
       "\n",
       "   acousticness  instrumentalness  liveness  valence   tempo  \\\n",
       "0       0.17800           0.01910    0.4330    0.299  82.483   \n",
       "1       0.07430           0.09640    0.1220    0.583  92.005   \n",
       "2       0.58400           0.00565    0.4650    0.692  98.023   \n",
       "3       0.00127           0.46800    0.1170    0.248  96.016   \n",
       "4       0.01120           0.15700    0.0969    0.627  87.959   \n",
       "\n",
       "                       id  duration_ms  time_signature  genre  year  \n",
       "0  6t4CS8bsKY5Gu1LwvfgATh       310680               4      1  2007  \n",
       "1  4c0FWOg4R7KsSlq4vdQDrX       311080               4      1  2007  \n",
       "2  04zDTgL1znpSw5SkobWMk9       240960               4      1  2007  \n",
       "3  1dioz5qr8Rxm2ADIKkyaHc       303333               4      1  2007  \n",
       "4  1AE7Kt2nz88jjaqyOYEg7r       228360               4      1  2007  "
      ],
      "text/html": [
       "<div>\n",
       "<style scoped>\n",
       "    .dataframe tbody tr th:only-of-type {\n",
       "        vertical-align: middle;\n",
       "    }\n",
       "\n",
       "    .dataframe tbody tr th {\n",
       "        vertical-align: top;\n",
       "    }\n",
       "\n",
       "    .dataframe thead th {\n",
       "        text-align: right;\n",
       "    }\n",
       "</style>\n",
       "<table border=\"1\" class=\"dataframe\">\n",
       "  <thead>\n",
       "    <tr style=\"text-align: right;\">\n",
       "      <th></th>\n",
       "      <th>Unnamed: 0</th>\n",
       "      <th>danceability</th>\n",
       "      <th>energy</th>\n",
       "      <th>key</th>\n",
       "      <th>loudness</th>\n",
       "      <th>mode</th>\n",
       "      <th>speechiness</th>\n",
       "      <th>acousticness</th>\n",
       "      <th>instrumentalness</th>\n",
       "      <th>liveness</th>\n",
       "      <th>valence</th>\n",
       "      <th>tempo</th>\n",
       "      <th>id</th>\n",
       "      <th>duration_ms</th>\n",
       "      <th>time_signature</th>\n",
       "      <th>genre</th>\n",
       "      <th>year</th>\n",
       "    </tr>\n",
       "  </thead>\n",
       "  <tbody>\n",
       "    <tr>\n",
       "      <th>0</th>\n",
       "      <td>0</td>\n",
       "      <td>0.706</td>\n",
       "      <td>0.742</td>\n",
       "      <td>5</td>\n",
       "      <td>-6.431</td>\n",
       "      <td>1</td>\n",
       "      <td>0.1000</td>\n",
       "      <td>0.17800</td>\n",
       "      <td>0.01910</td>\n",
       "      <td>0.4330</td>\n",
       "      <td>0.299</td>\n",
       "      <td>82.483</td>\n",
       "      <td>6t4CS8bsKY5Gu1LwvfgATh</td>\n",
       "      <td>310680</td>\n",
       "      <td>4</td>\n",
       "      <td>1</td>\n",
       "      <td>2007</td>\n",
       "    </tr>\n",
       "    <tr>\n",
       "      <th>1</th>\n",
       "      <td>1</td>\n",
       "      <td>0.842</td>\n",
       "      <td>0.420</td>\n",
       "      <td>7</td>\n",
       "      <td>-9.656</td>\n",
       "      <td>1</td>\n",
       "      <td>0.1120</td>\n",
       "      <td>0.07430</td>\n",
       "      <td>0.09640</td>\n",
       "      <td>0.1220</td>\n",
       "      <td>0.583</td>\n",
       "      <td>92.005</td>\n",
       "      <td>4c0FWOg4R7KsSlq4vdQDrX</td>\n",
       "      <td>311080</td>\n",
       "      <td>4</td>\n",
       "      <td>1</td>\n",
       "      <td>2007</td>\n",
       "    </tr>\n",
       "    <tr>\n",
       "      <th>2</th>\n",
       "      <td>2</td>\n",
       "      <td>0.766</td>\n",
       "      <td>0.963</td>\n",
       "      <td>10</td>\n",
       "      <td>-5.000</td>\n",
       "      <td>1</td>\n",
       "      <td>0.2860</td>\n",
       "      <td>0.58400</td>\n",
       "      <td>0.00565</td>\n",
       "      <td>0.4650</td>\n",
       "      <td>0.692</td>\n",
       "      <td>98.023</td>\n",
       "      <td>04zDTgL1znpSw5SkobWMk9</td>\n",
       "      <td>240960</td>\n",
       "      <td>4</td>\n",
       "      <td>1</td>\n",
       "      <td>2007</td>\n",
       "    </tr>\n",
       "    <tr>\n",
       "      <th>3</th>\n",
       "      <td>3</td>\n",
       "      <td>0.650</td>\n",
       "      <td>0.827</td>\n",
       "      <td>5</td>\n",
       "      <td>-8.784</td>\n",
       "      <td>1</td>\n",
       "      <td>0.0452</td>\n",
       "      <td>0.00127</td>\n",
       "      <td>0.46800</td>\n",
       "      <td>0.1170</td>\n",
       "      <td>0.248</td>\n",
       "      <td>96.016</td>\n",
       "      <td>1dioz5qr8Rxm2ADIKkyaHc</td>\n",
       "      <td>303333</td>\n",
       "      <td>4</td>\n",
       "      <td>1</td>\n",
       "      <td>2007</td>\n",
       "    </tr>\n",
       "    <tr>\n",
       "      <th>4</th>\n",
       "      <td>4</td>\n",
       "      <td>0.749</td>\n",
       "      <td>0.863</td>\n",
       "      <td>7</td>\n",
       "      <td>-6.865</td>\n",
       "      <td>1</td>\n",
       "      <td>0.1310</td>\n",
       "      <td>0.01120</td>\n",
       "      <td>0.15700</td>\n",
       "      <td>0.0969</td>\n",
       "      <td>0.627</td>\n",
       "      <td>87.959</td>\n",
       "      <td>1AE7Kt2nz88jjaqyOYEg7r</td>\n",
       "      <td>228360</td>\n",
       "      <td>4</td>\n",
       "      <td>1</td>\n",
       "      <td>2007</td>\n",
       "    </tr>\n",
       "  </tbody>\n",
       "</table>\n",
       "</div>"
      ]
     },
     "metadata": {},
     "execution_count": 9
    }
   ],
   "metadata": {}
  },
  {
   "cell_type": "code",
   "execution_count": 10,
   "source": [
    "music.info()"
   ],
   "outputs": [
    {
     "output_type": "stream",
     "name": "stdout",
     "text": [
      "<class 'pandas.core.frame.DataFrame'>\n",
      "RangeIndex: 142783 entries, 0 to 142782\n",
      "Data columns (total 17 columns):\n",
      " #   Column            Non-Null Count   Dtype  \n",
      "---  ------            --------------   -----  \n",
      " 0   Unnamed: 0        142783 non-null  int64  \n",
      " 1   danceability      142783 non-null  float64\n",
      " 2   energy            142783 non-null  float64\n",
      " 3   key               142783 non-null  int64  \n",
      " 4   loudness          142783 non-null  float64\n",
      " 5   mode              142783 non-null  int64  \n",
      " 6   speechiness       142783 non-null  float64\n",
      " 7   acousticness      142783 non-null  float64\n",
      " 8   instrumentalness  142783 non-null  float64\n",
      " 9   liveness          142783 non-null  float64\n",
      " 10  valence           142783 non-null  float64\n",
      " 11  tempo             142783 non-null  float64\n",
      " 12  id                142783 non-null  object \n",
      " 13  duration_ms       142783 non-null  int64  \n",
      " 14  time_signature    142783 non-null  int64  \n",
      " 15  genre             142783 non-null  int64  \n",
      " 16  year              142783 non-null  int64  \n",
      "dtypes: float64(9), int64(7), object(1)\n",
      "memory usage: 18.5+ MB\n"
     ]
    }
   ],
   "metadata": {}
  },
  {
   "cell_type": "code",
   "execution_count": 11,
   "source": [
    "music['genre'].value_counts()"
   ],
   "outputs": [
    {
     "output_type": "execute_result",
     "data": {
      "text/plain": [
       "5    37730\n",
       "2    34062\n",
       "4    26390\n",
       "1    25968\n",
       "3    18633\n",
       "Name: genre, dtype: int64"
      ]
     },
     "metadata": {},
     "execution_count": 11
    }
   ],
   "metadata": {}
  },
  {
   "cell_type": "code",
   "execution_count": 12,
   "source": [
    "len(music.loc[music['tempo'] == 0])"
   ],
   "outputs": [
    {
     "output_type": "execute_result",
     "data": {
      "text/plain": [
       "0"
      ]
     },
     "metadata": {},
     "execution_count": 12
    }
   ],
   "metadata": {}
  },
  {
   "cell_type": "code",
   "execution_count": 13,
   "source": [
    "len(music.loc[music['tempo'] > 200])"
   ],
   "outputs": [
    {
     "output_type": "execute_result",
     "data": {
      "text/plain": [
       "0"
      ]
     },
     "metadata": {},
     "execution_count": 13
    }
   ],
   "metadata": {}
  },
  {
   "cell_type": "code",
   "execution_count": 14,
   "source": [
    "music.info()"
   ],
   "outputs": [
    {
     "output_type": "stream",
     "name": "stdout",
     "text": [
      "<class 'pandas.core.frame.DataFrame'>\n",
      "RangeIndex: 142783 entries, 0 to 142782\n",
      "Data columns (total 17 columns):\n",
      " #   Column            Non-Null Count   Dtype  \n",
      "---  ------            --------------   -----  \n",
      " 0   Unnamed: 0        142783 non-null  int64  \n",
      " 1   danceability      142783 non-null  float64\n",
      " 2   energy            142783 non-null  float64\n",
      " 3   key               142783 non-null  int64  \n",
      " 4   loudness          142783 non-null  float64\n",
      " 5   mode              142783 non-null  int64  \n",
      " 6   speechiness       142783 non-null  float64\n",
      " 7   acousticness      142783 non-null  float64\n",
      " 8   instrumentalness  142783 non-null  float64\n",
      " 9   liveness          142783 non-null  float64\n",
      " 10  valence           142783 non-null  float64\n",
      " 11  tempo             142783 non-null  float64\n",
      " 12  id                142783 non-null  object \n",
      " 13  duration_ms       142783 non-null  int64  \n",
      " 14  time_signature    142783 non-null  int64  \n",
      " 15  genre             142783 non-null  int64  \n",
      " 16  year              142783 non-null  int64  \n",
      "dtypes: float64(9), int64(7), object(1)\n",
      "memory usage: 18.5+ MB\n"
     ]
    }
   ],
   "metadata": {}
  },
  {
   "cell_type": "markdown",
   "source": [
    "## Fixing the tempo from 60 to 200 BPM"
   ],
   "metadata": {}
  },
  {
   "cell_type": "code",
   "execution_count": 15,
   "source": [
    "#music.to_csv('music.csv, index=False')"
   ],
   "outputs": [],
   "metadata": {}
  },
  {
   "cell_type": "markdown",
   "source": [
    "# It 1"
   ],
   "metadata": {}
  },
  {
   "cell_type": "code",
   "execution_count": null,
   "source": [
    "y = music['genre']\n",
    "X = music.drop(['Unnamed: 0', 'genre', 'id', 'years'], axis=1)"
   ],
   "outputs": [],
   "metadata": {}
  },
  {
   "cell_type": "code",
   "execution_count": 118,
   "source": [
    "r_tree = RandomForestClassifier(n_estimators=186, max_depth=196, max_features='log2', bootstrap=False)"
   ],
   "outputs": [],
   "metadata": {}
  },
  {
   "cell_type": "code",
   "execution_count": 119,
   "source": [
    "X_train, X_test, y_train, y_test = train_test_split(X, y, test_size=0.3, random_state=40)\n",
    "forest_model = r_tree.fit(X_train, y_train)\n",
    "y_pred = forest_model.predict(X_test)"
   ],
   "outputs": [],
   "metadata": {}
  },
  {
   "cell_type": "code",
   "execution_count": 115,
   "source": [
    "accuracy_score(y_test, y_pred)"
   ],
   "outputs": [
    {
     "data": {
      "text/plain": [
       "0.8701450316555162"
      ]
     },
     "metadata": {},
     "output_type": "display_data"
    }
   ],
   "metadata": {}
  },
  {
   "cell_type": "code",
   "execution_count": 104,
   "source": [
    "param_grid = [\n",
    "{'n_estimators': range(100, 200), 'max_depth': range(30, 300), 'max_features': ['auto', 'sqrt', 'log2']},\n",
    "{'bootstrap': [False], 'n_estimators': range(100, 200), 'max_depth': range(30, 300), 'max_features': ['auto', 'sqrt', 'log2']},\n",
    "]\n",
    "forest_class = RandomForestClassifier()\n",
    "grid_random = RandomizedSearchCV(forest_class, param_grid, cv=5,\n",
    "scoring='neg_mean_squared_error',\n",
    "return_train_score=True)\n",
    "grid_random.fit(X_train, y_train)"
   ],
   "outputs": [
    {
     "data": {
      "text/plain": [
       "RandomizedSearchCV(cv=5, estimator=RandomForestClassifier(),\n",
       "                   param_distributions=[{'max_depth': range(30, 300),\n",
       "                                         'max_features': ['auto', 'sqrt',\n",
       "                                                          'log2'],\n",
       "                                         'n_estimators': range(100, 200)},\n",
       "                                        {'bootstrap': [False],\n",
       "                                         'max_depth': range(30, 300),\n",
       "                                         'max_features': ['auto', 'sqrt',\n",
       "                                                          'log2'],\n",
       "                                         'n_estimators': range(100, 200)}],\n",
       "                   return_train_score=True, scoring='neg_mean_squared_error')"
      ]
     },
     "metadata": {},
     "output_type": "display_data"
    }
   ],
   "metadata": {}
  },
  {
   "cell_type": "code",
   "execution_count": null,
   "source": [
    "grid_random.best_params_"
   ],
   "outputs": [
    {
     "data": {
      "text/plain": [
       "{'n_estimators': 186,\n",
       " 'max_features': 'sqrt',\n",
       " 'max_depth': 196,\n",
       " 'bootstrap': False}"
      ]
     },
     "metadata": {},
     "output_type": "display_data"
    }
   ],
   "metadata": {}
  },
  {
   "cell_type": "code",
   "execution_count": null,
   "source": [
    "cvres = grid_random.cv_results_\n",
    "for mean_score, params in zip(cvres[\"mean_test_score\"], cvres[\"params\"]):\n",
    "    print(np.sqrt(-mean_score), params)"
   ],
   "outputs": [
    {
     "output_type": "stream",
     "name": "stdout",
     "text": [
      "0.8575637286956567 {'n_estimators': 189, 'max_features': 'auto', 'max_depth': 231}\n",
      "0.8424916569965112 {'n_estimators': 130, 'max_features': 'log2', 'max_depth': 276, 'bootstrap': False}\n",
      "0.8401013715296373 {'n_estimators': 185, 'max_features': 'auto', 'max_depth': 45, 'bootstrap': False}\n",
      "0.8633004931290037 {'n_estimators': 173, 'max_features': 'log2', 'max_depth': 126}\n",
      "0.8379167198672101 {'n_estimators': 186, 'max_features': 'sqrt', 'max_depth': 196, 'bootstrap': False}\n",
      "0.8622074499874272 {'n_estimators': 102, 'max_features': 'log2', 'max_depth': 90}\n",
      "0.8385365772180744 {'n_estimators': 138, 'max_features': 'log2', 'max_depth': 104, 'bootstrap': False}\n",
      "0.8394654614932588 {'n_estimators': 169, 'max_features': 'auto', 'max_depth': 197, 'bootstrap': False}\n",
      "0.8590659061422943 {'n_estimators': 138, 'max_features': 'log2', 'max_depth': 143}\n",
      "0.8612304502712474 {'n_estimators': 125, 'max_features': 'sqrt', 'max_depth': 192}\n"
     ]
    }
   ],
   "metadata": {}
  },
  {
   "cell_type": "code",
   "execution_count": 110,
   "source": [
    "param_grid = [\n",
    "{'bootstrap': [False], 'max_features': ['log2', 'sqrt', 'auto'], 'n_estimators': [186, 138, 169], 'max_depth': [196, 104, 197]},]\n",
    "forest_class = RandomForestClassifier()\n",
    "grid_search = GridSearchCV(forest_class, param_grid, cv=5,\n",
    "scoring='neg_mean_squared_error',\n",
    "return_train_score=True)\n",
    "grid_search.fit(X_train, y_train)"
   ],
   "outputs": [
    {
     "data": {
      "text/plain": [
       "GridSearchCV(cv=5, estimator=RandomForestClassifier(),\n",
       "             param_grid=[{'bootstrap': [False], 'max_depth': [196, 104, 197],\n",
       "                          'max_features': ['log2', 'sqrt', 'auto'],\n",
       "                          'n_estimators': [186, 138, 169]}],\n",
       "             return_train_score=True, scoring='neg_mean_squared_error')"
      ]
     },
     "metadata": {},
     "output_type": "display_data"
    }
   ],
   "metadata": {}
  },
  {
   "cell_type": "code",
   "execution_count": 117,
   "source": [
    "cvres = grid_search.cv_results_\n",
    "for mean_score, params in zip(cvres[\"mean_test_score\"], cvres[\"params\"]):\n",
    "    print(np.sqrt(-mean_score), params)"
   ],
   "outputs": [
    {
     "output_type": "stream",
     "name": "stdout",
     "text": [
      "0.8417947886952329 {'bootstrap': False, 'max_depth': 196, 'max_features': 'log2', 'n_estimators': 186}\n",
      "0.8451542631010868 {'bootstrap': False, 'max_depth': 196, 'max_features': 'log2', 'n_estimators': 138}\n",
      "0.8431139481468152 {'bootstrap': False, 'max_depth': 196, 'max_features': 'log2', 'n_estimators': 169}\n",
      "0.8406051841971591 {'bootstrap': False, 'max_depth': 196, 'max_features': 'sqrt', 'n_estimators': 186}\n",
      "0.8414345915875927 {'bootstrap': False, 'max_depth': 196, 'max_features': 'sqrt', 'n_estimators': 138}\n",
      "0.8431995782511502 {'bootstrap': False, 'max_depth': 196, 'max_features': 'sqrt', 'n_estimators': 169}\n",
      "0.8413716999451758 {'bootstrap': False, 'max_depth': 196, 'max_features': 'auto', 'n_estimators': 186}\n",
      "0.8440207131566922 {'bootstrap': False, 'max_depth': 196, 'max_features': 'auto', 'n_estimators': 138}\n",
      "0.8426858225686871 {'bootstrap': False, 'max_depth': 196, 'max_features': 'auto', 'n_estimators': 169}\n",
      "0.842006156035994 {'bootstrap': False, 'max_depth': 104, 'max_features': 'log2', 'n_estimators': 186}\n",
      "0.8428285450971534 {'bootstrap': False, 'max_depth': 104, 'max_features': 'log2', 'n_estimators': 138}\n",
      "0.8401643654271035 {'bootstrap': False, 'max_depth': 104, 'max_features': 'log2', 'n_estimators': 169}\n",
      "0.8429427197800058 {'bootstrap': False, 'max_depth': 104, 'max_features': 'sqrt', 'n_estimators': 186}\n",
      "0.8427372446950855 {'bootstrap': False, 'max_depth': 104, 'max_features': 'sqrt', 'n_estimators': 138}\n",
      "0.8419776021344213 {'bootstrap': False, 'max_depth': 104, 'max_features': 'sqrt', 'n_estimators': 169}\n",
      "0.8414974867814055 {'bootstrap': False, 'max_depth': 104, 'max_features': 'auto', 'n_estimators': 186}\n",
      "0.844670310644729 {'bootstrap': False, 'max_depth': 104, 'max_features': 'auto', 'n_estimators': 138}\n",
      "0.8430226190743839 {'bootstrap': False, 'max_depth': 104, 'max_features': 'auto', 'n_estimators': 169}\n",
      "0.8398951801070385 {'bootstrap': False, 'max_depth': 197, 'max_features': 'log2', 'n_estimators': 186}\n",
      "0.8417947628487963 {'bootstrap': False, 'max_depth': 197, 'max_features': 'log2', 'n_estimators': 138}\n",
      "0.8423317588933898 {'bootstrap': False, 'max_depth': 197, 'max_features': 'log2', 'n_estimators': 169}\n",
      "0.8436273105894616 {'bootstrap': False, 'max_depth': 197, 'max_features': 'sqrt', 'n_estimators': 186}\n",
      "0.8406395049230412 {'bootstrap': False, 'max_depth': 197, 'max_features': 'sqrt', 'n_estimators': 138}\n",
      "0.8422518215426084 {'bootstrap': False, 'max_depth': 197, 'max_features': 'sqrt', 'n_estimators': 169}\n",
      "0.8413831558711952 {'bootstrap': False, 'max_depth': 197, 'max_features': 'auto', 'n_estimators': 186}\n",
      "0.8421376065106189 {'bootstrap': False, 'max_depth': 197, 'max_features': 'auto', 'n_estimators': 138}\n",
      "0.8411029777962648 {'bootstrap': False, 'max_depth': 197, 'max_features': 'auto', 'n_estimators': 169}\n"
     ]
    }
   ],
   "metadata": {}
  },
  {
   "cell_type": "code",
   "execution_count": 112,
   "source": [
    "grid_search.best_estimator_"
   ],
   "outputs": [
    {
     "data": {
      "text/plain": [
       "RandomForestClassifier(bootstrap=False, max_depth=197, max_features='log2',\n",
       "                       n_estimators=186)"
      ]
     },
     "metadata": {},
     "output_type": "display_data"
    }
   ],
   "metadata": {}
  },
  {
   "cell_type": "markdown",
   "source": [
    "error_rate"
   ],
   "metadata": {}
  },
  {
   "cell_type": "code",
   "execution_count": 116,
   "source": [
    "print(classification_report(y_test, y_pred))"
   ],
   "outputs": [
    {
     "output_type": "stream",
     "name": "stdout",
     "text": [
      "              precision    recall  f1-score   support\n",
      "\n",
      "           1       0.83      0.85      0.84      7807\n",
      "           2       0.86      0.86      0.86     10226\n",
      "           3       0.84      0.86      0.85      7226\n",
      "           4       0.86      0.82      0.84      8045\n",
      "           5       0.92      0.94      0.93     11238\n",
      "\n",
      "    accuracy                           0.87     44542\n",
      "   macro avg       0.87      0.87      0.87     44542\n",
      "weighted avg       0.87      0.87      0.87     44542\n",
      "\n"
     ]
    }
   ],
   "metadata": {}
  },
  {
   "cell_type": "markdown",
   "source": [
    "# It 2"
   ],
   "metadata": {}
  },
  {
   "cell_type": "code",
   "execution_count": 138,
   "source": [
    "y2 = music['genre']\n",
    "X2 = music.drop(['Unnamed: 0', 'genre', 'id'], axis=1)"
   ],
   "outputs": [],
   "metadata": {}
  },
  {
   "cell_type": "code",
   "execution_count": 139,
   "source": [
    "r_tree2 = RandomForestClassifier(n_estimators=175, max_depth=185, max_features='log2', bootstrap=False)\n",
    "X_train2, X_test2, y_train2, y_test2 = train_test_split(X2, y2, test_size=0.3, random_state=40)\n",
    "forest_model2 = r_tree2.fit(X_train2, y_train2)\n",
    "y_pred2 = forest_model2.predict(X_test2)\n",
    "accuracy_score(y_test2, y_pred2)"
   ],
   "outputs": [],
   "metadata": {}
  },
  {
   "cell_type": "code",
   "execution_count": 20,
   "source": [
    "fi = pd.DataFrame({'feature': list(X_train.columns),\n",
    "                   'importance': forest_model.feature_importances_}).\\\n",
    "                    sort_values('importance', ascending = False)\n",
    "fi"
   ],
   "outputs": [
    {
     "output_type": "execute_result",
     "data": {
      "text/plain": [
       "             feature  importance\n",
       "6       acousticness    0.144174\n",
       "3           loudness    0.134417\n",
       "0       danceability    0.116744\n",
       "5        speechiness    0.099363\n",
       "1             energy    0.098274\n",
       "7   instrumentalness    0.088261\n",
       "11       duration_ms    0.084672\n",
       "9            valence    0.077698\n",
       "8           liveness    0.057693\n",
       "10             tempo    0.055101\n",
       "2                key    0.027935\n",
       "4               mode    0.008566\n",
       "12    time_signature    0.007102"
      ],
      "text/html": [
       "<div>\n",
       "<style scoped>\n",
       "    .dataframe tbody tr th:only-of-type {\n",
       "        vertical-align: middle;\n",
       "    }\n",
       "\n",
       "    .dataframe tbody tr th {\n",
       "        vertical-align: top;\n",
       "    }\n",
       "\n",
       "    .dataframe thead th {\n",
       "        text-align: right;\n",
       "    }\n",
       "</style>\n",
       "<table border=\"1\" class=\"dataframe\">\n",
       "  <thead>\n",
       "    <tr style=\"text-align: right;\">\n",
       "      <th></th>\n",
       "      <th>feature</th>\n",
       "      <th>importance</th>\n",
       "    </tr>\n",
       "  </thead>\n",
       "  <tbody>\n",
       "    <tr>\n",
       "      <th>6</th>\n",
       "      <td>acousticness</td>\n",
       "      <td>0.144174</td>\n",
       "    </tr>\n",
       "    <tr>\n",
       "      <th>3</th>\n",
       "      <td>loudness</td>\n",
       "      <td>0.134417</td>\n",
       "    </tr>\n",
       "    <tr>\n",
       "      <th>0</th>\n",
       "      <td>danceability</td>\n",
       "      <td>0.116744</td>\n",
       "    </tr>\n",
       "    <tr>\n",
       "      <th>5</th>\n",
       "      <td>speechiness</td>\n",
       "      <td>0.099363</td>\n",
       "    </tr>\n",
       "    <tr>\n",
       "      <th>1</th>\n",
       "      <td>energy</td>\n",
       "      <td>0.098274</td>\n",
       "    </tr>\n",
       "    <tr>\n",
       "      <th>7</th>\n",
       "      <td>instrumentalness</td>\n",
       "      <td>0.088261</td>\n",
       "    </tr>\n",
       "    <tr>\n",
       "      <th>11</th>\n",
       "      <td>duration_ms</td>\n",
       "      <td>0.084672</td>\n",
       "    </tr>\n",
       "    <tr>\n",
       "      <th>9</th>\n",
       "      <td>valence</td>\n",
       "      <td>0.077698</td>\n",
       "    </tr>\n",
       "    <tr>\n",
       "      <th>8</th>\n",
       "      <td>liveness</td>\n",
       "      <td>0.057693</td>\n",
       "    </tr>\n",
       "    <tr>\n",
       "      <th>10</th>\n",
       "      <td>tempo</td>\n",
       "      <td>0.055101</td>\n",
       "    </tr>\n",
       "    <tr>\n",
       "      <th>2</th>\n",
       "      <td>key</td>\n",
       "      <td>0.027935</td>\n",
       "    </tr>\n",
       "    <tr>\n",
       "      <th>4</th>\n",
       "      <td>mode</td>\n",
       "      <td>0.008566</td>\n",
       "    </tr>\n",
       "    <tr>\n",
       "      <th>12</th>\n",
       "      <td>time_signature</td>\n",
       "      <td>0.007102</td>\n",
       "    </tr>\n",
       "  </tbody>\n",
       "</table>\n",
       "</div>"
      ]
     },
     "metadata": {},
     "execution_count": 20
    }
   ],
   "metadata": {}
  },
  {
   "cell_type": "code",
   "execution_count": 21,
   "source": [
    "from sklearn.model_selection import GridSearchCV\n",
    "from sklearn.model_selection import RandomizedSearchCV"
   ],
   "outputs": [],
   "metadata": {}
  },
  {
   "cell_type": "code",
   "execution_count": 72,
   "source": [
    "param_grid = [\n",
    "{'n_estimators': range(100, 200), 'max_depth': range(30, 300), 'max_features': ['auto', 'sqrt', 'log2']},\n",
    "{'bootstrap': [False], 'n_estimators': range(100, 200), 'max_depth': range(30, 300), 'max_features': ['auto', 'sqrt', 'log2']},\n",
    "]\n",
    "forest_class = RandomForestClassifier()\n",
    "grid_random = RandomizedSearchCV(forest_class, param_grid, cv=5,\n",
    "scoring='neg_mean_squared_error',\n",
    "return_train_score=True)\n",
    "grid_random.fit(X_train2, y_train2)"
   ],
   "outputs": [
    {
     "output_type": "execute_result",
     "data": {
      "text/plain": [
       "RandomizedSearchCV(cv=5, estimator=RandomForestClassifier(),\n",
       "                   param_distributions=[{'max_depth': range(30, 300),\n",
       "                                         'max_features': ['auto', 'sqrt',\n",
       "                                                          'log2'],\n",
       "                                         'n_estimators': range(100, 200)},\n",
       "                                        {'bootstrap': [False],\n",
       "                                         'max_depth': range(30, 300),\n",
       "                                         'max_features': ['auto', 'sqrt',\n",
       "                                                          'log2'],\n",
       "                                         'n_estimators': range(100, 200)}],\n",
       "                   return_train_score=True, scoring='neg_mean_squared_error')"
      ]
     },
     "metadata": {},
     "execution_count": 72
    }
   ],
   "metadata": {}
  },
  {
   "cell_type": "code",
   "execution_count": null,
   "source": [
    "grid_random.best_params_"
   ],
   "outputs": [
    {
     "output_type": "execute_result",
     "data": {
      "text/plain": [
       "{'n_estimators': 175,\n",
       " 'max_features': 'log2',\n",
       " 'max_depth': 124,\n",
       " 'bootstrap': False}"
      ]
     },
     "metadata": {},
     "execution_count": 73
    }
   ],
   "metadata": {}
  },
  {
   "cell_type": "code",
   "execution_count": null,
   "source": [
    "cvres = grid_random.cv_results_\n",
    "for mean_score, params in zip(cvres[\"mean_test_score\"], cvres[\"params\"]):\n",
    "    print(np.sqrt(-mean_score), params)"
   ],
   "outputs": [
    {
     "output_type": "stream",
     "name": "stdout",
     "text": [
      "0.8715588897194868 {'n_estimators': 115, 'max_features': 'log2', 'max_depth': 31}\n",
      "0.8516202980453987 {'n_estimators': 192, 'max_features': 'log2', 'max_depth': 185, 'bootstrap': False}\n",
      "0.8748302305955142 {'n_estimators': 139, 'max_features': 'sqrt', 'max_depth': 194}\n",
      "0.8739090203232966 {'n_estimators': 124, 'max_features': 'sqrt', 'max_depth': 256}\n",
      "0.8548098826579991 {'n_estimators': 100, 'max_features': 'log2', 'max_depth': 40, 'bootstrap': False}\n",
      "0.8723277891925433 {'n_estimators': 133, 'max_features': 'auto', 'max_depth': 99}\n",
      "0.8465239047372541 {'n_estimators': 175, 'max_features': 'log2', 'max_depth': 124, 'bootstrap': False}\n",
      "0.8728494236745805 {'n_estimators': 177, 'max_features': 'auto', 'max_depth': 109}\n",
      "0.8509150445950879 {'n_estimators': 154, 'max_features': 'log2', 'max_depth': 35, 'bootstrap': False}\n",
      "0.8677796823327274 {'n_estimators': 148, 'max_features': 'auto', 'max_depth': 46}\n"
     ]
    }
   ],
   "metadata": {}
  },
  {
   "cell_type": "code",
   "execution_count": 80,
   "source": [
    "param_grid = [\n",
    "{'bootstrap': [False], 'max_features': ['log2'], 'n_estimators': [154, 175, 192], 'max_depth': [35, 124, 185]},\n",
    "]\n",
    "forest_class = RandomForestClassifier()\n",
    "grid_search = GridSearchCV(forest_class, param_grid, cv=5,\n",
    "scoring='neg_mean_squared_error',\n",
    "return_train_score=True)\n",
    "grid_search.fit(X_train2, y_train2)"
   ],
   "outputs": [
    {
     "output_type": "execute_result",
     "data": {
      "text/plain": [
       "GridSearchCV(cv=5, estimator=RandomForestClassifier(),\n",
       "             param_grid=[{'bootstrap': [False], 'max_depth': [35, 124, 185],\n",
       "                          'max_features': ['log2'],\n",
       "                          'n_estimators': [154, 175, 192]}],\n",
       "             return_train_score=True, scoring='neg_mean_squared_error')"
      ]
     },
     "metadata": {},
     "execution_count": 80
    }
   ],
   "metadata": {}
  },
  {
   "cell_type": "code",
   "execution_count": 81,
   "source": [
    "cvres = grid_search.cv_results_\n",
    "for mean_score, params in zip(cvres[\"mean_test_score\"], cvres[\"params\"]):\n",
    "    print(np.sqrt(-mean_score), params)"
   ],
   "outputs": [
    {
     "output_type": "stream",
     "name": "stdout",
     "text": [
      "0.8514440251191804 {'bootstrap': False, 'max_depth': 35, 'max_features': 'log2', 'n_estimators': 154}\n",
      "0.851332366839121 {'bootstrap': False, 'max_depth': 35, 'max_features': 'log2', 'n_estimators': 175}\n",
      "0.8519374837719975 {'bootstrap': False, 'max_depth': 35, 'max_features': 'log2', 'n_estimators': 192}\n",
      "0.8541658958930421 {'bootstrap': False, 'max_depth': 124, 'max_features': 'log2', 'n_estimators': 154}\n",
      "0.8523600740228342 {'bootstrap': False, 'max_depth': 124, 'max_features': 'log2', 'n_estimators': 175}\n",
      "0.8514969359872422 {'bootstrap': False, 'max_depth': 124, 'max_features': 'log2', 'n_estimators': 192}\n",
      "0.8510033330426251 {'bootstrap': False, 'max_depth': 185, 'max_features': 'log2', 'n_estimators': 154}\n",
      "0.849638395527666 {'bootstrap': False, 'max_depth': 185, 'max_features': 'log2', 'n_estimators': 175}\n",
      "0.8510032280562068 {'bootstrap': False, 'max_depth': 185, 'max_features': 'log2', 'n_estimators': 192}\n"
     ]
    }
   ],
   "metadata": {}
  },
  {
   "cell_type": "code",
   "execution_count": 27,
   "source": [
    "grid_search.best_estimator_"
   ],
   "outputs": [
    {
     "output_type": "execute_result",
     "data": {
      "text/plain": [
       "RandomForestClassifier(bootstrap=False, max_depth=100, n_estimators=130)"
      ]
     },
     "metadata": {},
     "execution_count": 27
    }
   ],
   "metadata": {}
  },
  {
   "cell_type": "markdown",
   "source": [
    "error_rate"
   ],
   "metadata": {}
  },
  {
   "cell_type": "code",
   "execution_count": 133,
   "source": [
    "print(classification_report(y_test2, y_pred2))"
   ],
   "outputs": [
    {
     "output_type": "stream",
     "name": "stdout",
     "text": [
      "              precision    recall  f1-score   support\n",
      "\n",
      "           1       0.85      0.85      0.85      7884\n",
      "           2       0.87      0.86      0.87     10150\n",
      "           3       0.83      0.87      0.85      5553\n",
      "           4       0.87      0.83      0.85      7969\n",
      "           5       0.93      0.94      0.93     11279\n",
      "\n",
      "    accuracy                           0.88     42835\n",
      "   macro avg       0.87      0.87      0.87     42835\n",
      "weighted avg       0.88      0.88      0.88     42835\n",
      "\n"
     ]
    }
   ],
   "metadata": {}
  },
  {
   "cell_type": "code",
   "execution_count": 146,
   "source": [
    "genre_predict2()"
   ],
   "outputs": [
    {
     "output_type": "stream",
     "name": "stdout",
     "text": [
      "Listening to QUEEN\n"
     ]
    },
    {
     "output_type": "stream",
     "name": "stderr",
     "text": [
      "100%|██████████| 20/20 [00:01<00:00, 17.01it/s]\n",
      "100%|██████████| 3/3 [00:00<00:00, 15968.16it/s]\n",
      "100%|██████████| 3/3 [00:00<00:00,  4.31it/s]\n",
      "100%|██████████| 3/3 [00:00<00:00, 18423.00it/s]\n",
      "  1%|▏         | 3/233 [00:00<00:10, 21.24it/s]"
     ]
    },
    {
     "output_type": "stream",
     "name": "stdout",
     "text": [
      "233 songs\n",
      "Getting release years (can take a while)\n"
     ]
    },
    {
     "output_type": "stream",
     "name": "stderr",
     "text": [
      "100%|██████████| 233/233 [00:20<00:00, 11.40it/s]"
     ]
    },
    {
     "output_type": "stream",
     "name": "stdout",
     "text": [
      "Sounds like QUEEN plays rock music\n"
     ]
    },
    {
     "output_type": "stream",
     "name": "stderr",
     "text": [
      "\n"
     ]
    }
   ],
   "metadata": {}
  },
  {
   "cell_type": "code",
   "execution_count": null,
   "source": [],
   "outputs": [],
   "metadata": {}
  }
 ],
 "metadata": {
  "kernelspec": {
   "name": "python3",
   "display_name": "Python 3.9.0 64-bit"
  },
  "language_info": {
   "codemirror_mode": {
    "name": "ipython",
    "version": 3
   },
   "file_extension": ".py",
   "mimetype": "text/x-python",
   "name": "python",
   "nbconvert_exporter": "python",
   "pygments_lexer": "ipython3",
   "version": "3.9.0"
  },
  "interpreter": {
   "hash": "4cd7ab41f5fca4b9b44701077e38c5ffd31fe66a6cab21e0214b68d958d0e462"
  }
 },
 "nbformat": 4,
 "nbformat_minor": 5
}