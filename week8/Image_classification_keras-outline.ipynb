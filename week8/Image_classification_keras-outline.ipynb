{
 "cells": [
  {
   "cell_type": "markdown",
   "source": [
    "# Small image classification project\n",
    "\n",
    "+ option 1 - work locally \n",
    "+ option 2 - work in google colab \n",
    "\n",
    "\n",
    "eg https://colab.research.google.com/drive/12HYIBBZl1gmqMYN98Rr3c-7kDUipS5LD"
   ],
   "metadata": {}
  },
  {
   "cell_type": "markdown",
   "source": [
    "## first lets import tensor and keras and confirm versions"
   ],
   "metadata": {}
  },
  {
   "cell_type": "code",
   "execution_count": 1,
   "source": [
    "import tensorflow as tf\n",
    "from tensorflow import keras"
   ],
   "outputs": [],
   "metadata": {}
  },
  {
   "cell_type": "code",
   "execution_count": 2,
   "source": [
    "tf.__version__"
   ],
   "outputs": [
    {
     "output_type": "execute_result",
     "data": {
      "text/plain": [
       "'2.5.0'"
      ]
     },
     "metadata": {},
     "execution_count": 2
    }
   ],
   "metadata": {}
  },
  {
   "cell_type": "code",
   "execution_count": 3,
   "source": [
    "keras.__version__"
   ],
   "outputs": [
    {
     "output_type": "execute_result",
     "data": {
      "text/plain": [
       "'2.5.0'"
      ]
     },
     "metadata": {},
     "execution_count": 3
    }
   ],
   "metadata": {}
  },
  {
   "cell_type": "code",
   "execution_count": 4,
   "source": [
    "import warnings\n",
    "warnings.filterwarnings(\"ignore\")"
   ],
   "outputs": [],
   "metadata": {}
  },
  {
   "cell_type": "code",
   "execution_count": 5,
   "source": [
    "import pandas as pd \n",
    "import numpy as np"
   ],
   "outputs": [],
   "metadata": {}
  },
  {
   "cell_type": "markdown",
   "source": [
    "## load and define data set\n",
    "\n",
    "+ we will use MNIST, which is a famous/frequently used training db for images. \n",
    "+ This version Fashion MNIST includes 70000 grey scale images 28x28 px,10 classes, representing fashion items \n",
    "+ with keras you can load MNIST, Fashion MNIST, housing data set out of the box "
   ],
   "metadata": {}
  },
  {
   "cell_type": "code",
   "execution_count": 6,
   "source": [
    "fashion = keras.datasets.fashion_mnist"
   ],
   "outputs": [],
   "metadata": {}
  },
  {
   "cell_type": "code",
   "execution_count": 8,
   "source": [
    "(X_train_full, y_train_full), (X_test, y_test) = fashion.load_data() "
   ],
   "outputs": [
    {
     "output_type": "stream",
     "name": "stdout",
     "text": [
      "Downloading data from https://storage.googleapis.com/tensorflow/tf-keras-datasets/train-labels-idx1-ubyte.gz\n",
      "32768/29515 [=================================] - 0s 1us/step\n",
      "Downloading data from https://storage.googleapis.com/tensorflow/tf-keras-datasets/train-images-idx3-ubyte.gz\n",
      "26427392/26421880 [==============================] - 10s 0us/step\n",
      "Downloading data from https://storage.googleapis.com/tensorflow/tf-keras-datasets/t10k-labels-idx1-ubyte.gz\n",
      "8192/5148 [===============================================] - 0s 0us/step\n",
      "Downloading data from https://storage.googleapis.com/tensorflow/tf-keras-datasets/t10k-images-idx3-ubyte.gz\n",
      "4423680/4422102 [==============================] - 2s 0us/step\n"
     ]
    }
   ],
   "metadata": {}
  },
  {
   "cell_type": "markdown",
   "source": [
    "+ Training data — used for training the model\n",
    "+ Validation data — used for tuning the hyperparameters and evaluate the models (we will create this one)\n",
    "+ Test data — used to test the model after the model has gone through initial vetting by the validation set.\n",
    "\n"
   ],
   "metadata": {}
  },
  {
   "cell_type": "markdown",
   "source": [
    "## Explore the data set  "
   ],
   "metadata": {}
  },
  {
   "cell_type": "code",
   "execution_count": 9,
   "source": [
    "X_train_full.shape"
   ],
   "outputs": [
    {
     "output_type": "execute_result",
     "data": {
      "text/plain": [
       "(60000, 28, 28)"
      ]
     },
     "metadata": {},
     "execution_count": 9
    }
   ],
   "metadata": {}
  },
  {
   "cell_type": "code",
   "execution_count": 10,
   "source": [
    "X_test.shape"
   ],
   "outputs": [
    {
     "output_type": "execute_result",
     "data": {
      "text/plain": [
       "(10000, 28, 28)"
      ]
     },
     "metadata": {},
     "execution_count": 10
    }
   ],
   "metadata": {}
  },
  {
   "cell_type": "code",
   "execution_count": 12,
   "source": [
    "y_train_full.shape"
   ],
   "outputs": [
    {
     "output_type": "execute_result",
     "data": {
      "text/plain": [
       "(60000,)"
      ]
     },
     "metadata": {},
     "execution_count": 12
    }
   ],
   "metadata": {}
  },
  {
   "cell_type": "code",
   "execution_count": 11,
   "source": [
    "y_test.shape"
   ],
   "outputs": [
    {
     "output_type": "execute_result",
     "data": {
      "text/plain": [
       "(10000,)"
      ]
     },
     "metadata": {},
     "execution_count": 11
    }
   ],
   "metadata": {}
  },
  {
   "cell_type": "code",
   "execution_count": 13,
   "source": [
    "y_test"
   ],
   "outputs": [
    {
     "output_type": "execute_result",
     "data": {
      "text/plain": [
       "array([9, 2, 1, ..., 8, 1, 5], dtype=uint8)"
      ]
     },
     "metadata": {},
     "execution_count": 13
    }
   ],
   "metadata": {}
  },
  {
   "cell_type": "code",
   "execution_count": 14,
   "source": [
    "from matplotlib import pyplot"
   ],
   "outputs": [],
   "metadata": {}
  },
  {
   "cell_type": "code",
   "execution_count": 16,
   "source": [
    "for i in range(10):\n",
    "    pyplot.subplot(330+1+i)\n",
    "    pyplot.imshow(X_test[i])"
   ],
   "outputs": [
    {
     "output_type": "error",
     "ename": "IndexError",
     "evalue": "GridSpec slice would result in no space allocated for subplot",
     "traceback": [
      "\u001b[0;31m---------------------------------------------------------------------------\u001b[0m",
      "\u001b[0;31mIndexError\u001b[0m                                Traceback (most recent call last)",
      "\u001b[0;32m<ipython-input-16-00dd7e6418b5>\u001b[0m in \u001b[0;36m<module>\u001b[0;34m\u001b[0m\n\u001b[1;32m      1\u001b[0m \u001b[0;32mfor\u001b[0m \u001b[0mi\u001b[0m \u001b[0;32min\u001b[0m \u001b[0mrange\u001b[0m\u001b[0;34m(\u001b[0m\u001b[0;36m10\u001b[0m\u001b[0;34m)\u001b[0m\u001b[0;34m:\u001b[0m\u001b[0;34m\u001b[0m\u001b[0;34m\u001b[0m\u001b[0m\n\u001b[0;32m----> 2\u001b[0;31m     \u001b[0mpyplot\u001b[0m\u001b[0;34m.\u001b[0m\u001b[0msubplot\u001b[0m\u001b[0;34m(\u001b[0m\u001b[0;36m330\u001b[0m\u001b[0;34m+\u001b[0m\u001b[0;36m1\u001b[0m\u001b[0;34m+\u001b[0m\u001b[0mi\u001b[0m\u001b[0;34m)\u001b[0m\u001b[0;34m\u001b[0m\u001b[0;34m\u001b[0m\u001b[0m\n\u001b[0m\u001b[1;32m      3\u001b[0m     \u001b[0mpyplot\u001b[0m\u001b[0;34m.\u001b[0m\u001b[0mimshow\u001b[0m\u001b[0;34m(\u001b[0m\u001b[0mX_test\u001b[0m\u001b[0;34m[\u001b[0m\u001b[0mi\u001b[0m\u001b[0;34m]\u001b[0m\u001b[0;34m)\u001b[0m\u001b[0;34m\u001b[0m\u001b[0;34m\u001b[0m\u001b[0m\n",
      "\u001b[0;32m/Library/Frameworks/Python.framework/Versions/3.9/lib/python3.9/site-packages/matplotlib/pyplot.py\u001b[0m in \u001b[0;36msubplot\u001b[0;34m(*args, **kwargs)\u001b[0m\n\u001b[1;32m   1241\u001b[0m \u001b[0;34m\u001b[0m\u001b[0m\n\u001b[1;32m   1242\u001b[0m     \u001b[0;31m# First, search for an existing subplot with a matching spec.\u001b[0m\u001b[0;34m\u001b[0m\u001b[0;34m\u001b[0m\u001b[0;34m\u001b[0m\u001b[0m\n\u001b[0;32m-> 1243\u001b[0;31m     \u001b[0mkey\u001b[0m \u001b[0;34m=\u001b[0m \u001b[0mSubplotSpec\u001b[0m\u001b[0;34m.\u001b[0m\u001b[0m_from_subplot_args\u001b[0m\u001b[0;34m(\u001b[0m\u001b[0mfig\u001b[0m\u001b[0;34m,\u001b[0m \u001b[0margs\u001b[0m\u001b[0;34m)\u001b[0m\u001b[0;34m\u001b[0m\u001b[0;34m\u001b[0m\u001b[0m\n\u001b[0m\u001b[1;32m   1244\u001b[0m \u001b[0;34m\u001b[0m\u001b[0m\n\u001b[1;32m   1245\u001b[0m     \u001b[0;32mfor\u001b[0m \u001b[0max\u001b[0m \u001b[0;32min\u001b[0m \u001b[0mfig\u001b[0m\u001b[0;34m.\u001b[0m\u001b[0maxes\u001b[0m\u001b[0;34m:\u001b[0m\u001b[0;34m\u001b[0m\u001b[0;34m\u001b[0m\u001b[0m\n",
      "\u001b[0;32m/Library/Frameworks/Python.framework/Versions/3.9/lib/python3.9/site-packages/matplotlib/gridspec.py\u001b[0m in \u001b[0;36m_from_subplot_args\u001b[0;34m(figure, args)\u001b[0m\n\u001b[1;32m    661\u001b[0m         \u001b[0;32mif\u001b[0m \u001b[0mgs\u001b[0m \u001b[0;32mis\u001b[0m \u001b[0;32mNone\u001b[0m\u001b[0;34m:\u001b[0m\u001b[0;34m\u001b[0m\u001b[0;34m\u001b[0m\u001b[0m\n\u001b[1;32m    662\u001b[0m             \u001b[0mgs\u001b[0m \u001b[0;34m=\u001b[0m \u001b[0mGridSpec\u001b[0m\u001b[0;34m(\u001b[0m\u001b[0mrows\u001b[0m\u001b[0;34m,\u001b[0m \u001b[0mcols\u001b[0m\u001b[0;34m,\u001b[0m \u001b[0mfigure\u001b[0m\u001b[0;34m=\u001b[0m\u001b[0mfigure\u001b[0m\u001b[0;34m)\u001b[0m\u001b[0;34m\u001b[0m\u001b[0;34m\u001b[0m\u001b[0m\n\u001b[0;32m--> 663\u001b[0;31m         \u001b[0;32mreturn\u001b[0m \u001b[0mgs\u001b[0m\u001b[0;34m[\u001b[0m\u001b[0mi\u001b[0m\u001b[0;34m-\u001b[0m\u001b[0;36m1\u001b[0m\u001b[0;34m:\u001b[0m\u001b[0mj\u001b[0m\u001b[0;34m]\u001b[0m\u001b[0;34m\u001b[0m\u001b[0;34m\u001b[0m\u001b[0m\n\u001b[0m\u001b[1;32m    664\u001b[0m \u001b[0;34m\u001b[0m\u001b[0m\n\u001b[1;32m    665\u001b[0m     \u001b[0;31m# num2 is a property only to handle the case where it is None and someone\u001b[0m\u001b[0;34m\u001b[0m\u001b[0;34m\u001b[0m\u001b[0;34m\u001b[0m\u001b[0m\n",
      "\u001b[0;32m/Library/Frameworks/Python.framework/Versions/3.9/lib/python3.9/site-packages/matplotlib/gridspec.py\u001b[0m in \u001b[0;36m__getitem__\u001b[0;34m(self, key)\u001b[0m\n\u001b[1;32m    258\u001b[0m                 (nrows, ncols))\n\u001b[1;32m    259\u001b[0m         \u001b[0;32melse\u001b[0m\u001b[0;34m:\u001b[0m  \u001b[0;31m# Single key\u001b[0m\u001b[0;34m\u001b[0m\u001b[0;34m\u001b[0m\u001b[0m\n\u001b[0;32m--> 260\u001b[0;31m             \u001b[0mnum1\u001b[0m\u001b[0;34m,\u001b[0m \u001b[0mnum2\u001b[0m \u001b[0;34m=\u001b[0m \u001b[0m_normalize\u001b[0m\u001b[0;34m(\u001b[0m\u001b[0mkey\u001b[0m\u001b[0;34m,\u001b[0m \u001b[0mnrows\u001b[0m \u001b[0;34m*\u001b[0m \u001b[0mncols\u001b[0m\u001b[0;34m,\u001b[0m \u001b[0;32mNone\u001b[0m\u001b[0;34m)\u001b[0m\u001b[0;34m\u001b[0m\u001b[0;34m\u001b[0m\u001b[0m\n\u001b[0m\u001b[1;32m    261\u001b[0m \u001b[0;34m\u001b[0m\u001b[0m\n\u001b[1;32m    262\u001b[0m         \u001b[0;32mreturn\u001b[0m \u001b[0mSubplotSpec\u001b[0m\u001b[0;34m(\u001b[0m\u001b[0mself\u001b[0m\u001b[0;34m,\u001b[0m \u001b[0mnum1\u001b[0m\u001b[0;34m,\u001b[0m \u001b[0mnum2\u001b[0m\u001b[0;34m)\u001b[0m\u001b[0;34m\u001b[0m\u001b[0;34m\u001b[0m\u001b[0m\n",
      "\u001b[0;32m/Library/Frameworks/Python.framework/Versions/3.9/lib/python3.9/site-packages/matplotlib/gridspec.py\u001b[0m in \u001b[0;36m_normalize\u001b[0;34m(key, size, axis)\u001b[0m\n\u001b[1;32m    235\u001b[0m                 \u001b[0;32mif\u001b[0m \u001b[0mstop\u001b[0m \u001b[0;34m>\u001b[0m \u001b[0mstart\u001b[0m\u001b[0;34m:\u001b[0m\u001b[0;34m\u001b[0m\u001b[0;34m\u001b[0m\u001b[0m\n\u001b[1;32m    236\u001b[0m                     \u001b[0;32mreturn\u001b[0m \u001b[0mstart\u001b[0m\u001b[0;34m,\u001b[0m \u001b[0mstop\u001b[0m \u001b[0;34m-\u001b[0m \u001b[0;36m1\u001b[0m\u001b[0;34m\u001b[0m\u001b[0;34m\u001b[0m\u001b[0m\n\u001b[0;32m--> 237\u001b[0;31m                 raise IndexError(\"GridSpec slice would result in no space \"\n\u001b[0m\u001b[1;32m    238\u001b[0m                                  \"allocated for subplot\")\n\u001b[1;32m    239\u001b[0m             \u001b[0;32melse\u001b[0m\u001b[0;34m:\u001b[0m\u001b[0;34m\u001b[0m\u001b[0;34m\u001b[0m\u001b[0m\n",
      "\u001b[0;31mIndexError\u001b[0m: GridSpec slice would result in no space allocated for subplot"
     ]
    },
    {
     "output_type": "display_data",
     "data": {
      "text/plain": [
       "<Figure size 432x288 with 9 Axes>"
      ],
      "image/png": "[encoded data removed]"
     },
     "metadata": {
      "needs_background": "light"
     }
    }
   ],
   "metadata": {}
  },
  {
   "cell_type": "code",
   "execution_count": 17,
   "source": [
    "pyplot.imshow(X_test[456])"
   ],
   "outputs": [
    {
     "output_type": "execute_result",
     "data": {
      "text/plain": [
       "<matplotlib.image.AxesImage at 0x7ff5090e9cd0>"
      ]
     },
     "metadata": {},
     "execution_count": 17
    },
    {
     "output_type": "display_data",
     "data": {
      "text/plain": [
       "<Figure size 432x288 with 1 Axes>"
      ],
      "image/png": "[encoded data removed]"
     },
     "metadata": {
      "needs_background": "light"
     }
    }
   ],
   "metadata": {}
  },
  {
   "cell_type": "markdown",
   "source": [
    "## Create data validation set "
   ],
   "metadata": {}
  },
  {
   "cell_type": "code",
   "execution_count": 18,
   "source": [
    "X_valid, X_train = X_train_full[:5000]/255.0, X_train_full[5000:]/255.0\n",
    "y_valid, y_train = y_train_full[:5000], y_train_full[5000:]"
   ],
   "outputs": [],
   "metadata": {}
  },
  {
   "cell_type": "markdown",
   "source": [
    "## Define the classes of the data set"
   ],
   "metadata": {}
  },
  {
   "cell_type": "code",
   "execution_count": 19,
   "source": [
    "#we know there are 10 classes, but there are currently no labels in the data set (0-9) \n",
    "# as we need labels for the validation lets add them\n",
    "# its a standard list which you can look up on the keras documentation and kaggle\n",
    "class_names = [\"T-shirt/top\", \"Trouser\", \"Pullover\", \"Dress\", \"Coat\",\n",
    "\"Sandal\", \"Shirt\", \"Sneaker\", \"Bag\", \"Ankle boot\"]"
   ],
   "outputs": [],
   "metadata": {}
  },
  {
   "cell_type": "code",
   "execution_count": 20,
   "source": [
    "#validate the classes using selected images from the data set (hint: index!)\n",
    "\n",
    "class_names[y_test[456]]"
   ],
   "outputs": [
    {
     "output_type": "execute_result",
     "data": {
      "text/plain": [
       "'Ankle boot'"
      ]
     },
     "metadata": {},
     "execution_count": 20
    }
   ],
   "metadata": {}
  },
  {
   "cell_type": "markdown",
   "source": [
    "## Create the model (NN) - using the keras Sequential API - in this case a single stack of linear layers, connected sequentially "
   ],
   "metadata": {}
  },
  {
   "cell_type": "code",
   "execution_count": 21,
   "source": [
    "model = keras.models.Sequential() # create model\n",
    "model.add(keras.layers.Flatten(input_shape=[28, 28])) #first layer - flattens each image into a 1d array (Pre-pr)\n",
    "model.add(keras.layers.Dense(300, activation=\"relu\")) # add a 300 neuron dense layer\n",
    "model.add(keras.layers.Dense(100, activation=\"relu\")) # add a second layer of neurons\n",
    "model.add(keras.layers.Dense(10, activation=\"softmax\")) # add a third layer of 10 neurons (one per class)\n",
    "\n",
    "# note : dense layers often have tonnes of parameters ( first dense layer = 235500 p's)\n",
    "# this adds flexibility, but risks overfit if training data not substantial /varied"
   ],
   "outputs": [],
   "metadata": {}
  },
  {
   "cell_type": "markdown",
   "source": [
    "### information about the layers "
   ],
   "metadata": {}
  },
  {
   "cell_type": "markdown",
   "source": [
    "Relu : \n",
    "\n",
    "In order to use stochastic gradient descent with backpropagation of errors to train deep neural networks, an activation function is needed that looks and acts like a linear function, but is, in fact, a nonlinear function allowing complex relationships in the data to be learned.\n",
    "\n",
    "The function must also provide more sensitivity to the activation sum input and avoid easy saturation.\n",
    "\n",
    "The rectified linear activation function is a simple calculation that returns the value provided as input directly, or the value 0.0 if the input is 0.0 or less. ie IF input > 0 return input, else 0 \n",
    "\n",
    "The rectifier function mostly looks and acts like a linear activation function.\n",
    "\n",
    "In general, a neural network is easier to optimize when its behavior is linear or close to linear."
   ],
   "metadata": {}
  },
  {
   "cell_type": "markdown",
   "source": [
    "Softmax : \n",
    "    \n",
    "Recall that logistic regression produces a decimal between 0 and 1.0. For example, a logistic regression output of 0.8 from an email classifier suggests an 80% chance of an email being spam and a 20% chance of it being not spam. Clearly, the sum of the probabilities of an email being either spam or not spam is 1.0.\n",
    "\n",
    "Softmax extends this idea into a multi-class world. That is, Softmax assigns decimal probabilities to each class in a multi-class problem. Those decimal probabilities must add up to 1.0. This additional constraint helps training converge more quickly than it otherwise would.\n",
    "\n",
    "Softmax is implemented through a neural network layer just before the output layer. The Softmax layer must have the same number of nodes as the output layer."
   ],
   "metadata": {}
  },
  {
   "cell_type": "markdown",
   "source": [
    "### Compile the model\n",
    "\n",
    "- optionally we can specify metrics for compute in training and evaluation stage"
   ],
   "metadata": {}
  },
  {
   "cell_type": "code",
   "execution_count": 22,
   "source": [
    "model.compile(loss=\"sparse_categorical_crossentropy\", # we have few labels and they are exclusive (0-9, trousers/ankle boots)\n",
    "optimizer=\"sgd\", #using stochastic gradient descent to train model\n",
    "metrics=[\"accuracy\"]) # as its a classifer, we are interested in accuracy \n"
   ],
   "outputs": [],
   "metadata": {}
  },
  {
   "cell_type": "markdown",
   "source": [
    "## Train and evaluate the model"
   ],
   "metadata": {}
  },
  {
   "cell_type": "code",
   "execution_count": 23,
   "source": [
    "#create a history of the learning epochs which can be visualised later on \n",
    "\n",
    "history = model.fit(X_train, y_train, epochs=50, validation_data=(X_valid, y_valid))"
   ],
   "outputs": [
    {
     "output_type": "stream",
     "name": "stdout",
     "text": [
      "Epoch 1/50\n",
      "1719/1719 [==============================] - 5s 2ms/step - loss: 0.7200 - accuracy: 0.7687 - val_loss: 0.5328 - val_accuracy: 0.8190\n",
      "Epoch 2/50\n",
      "1719/1719 [==============================] - 4s 2ms/step - loss: 0.4874 - accuracy: 0.8308 - val_loss: 0.4525 - val_accuracy: 0.8454\n",
      "Epoch 3/50\n",
      "1719/1719 [==============================] - 4s 2ms/step - loss: 0.4426 - accuracy: 0.8465 - val_loss: 0.4074 - val_accuracy: 0.8584\n",
      "Epoch 4/50\n",
      "1719/1719 [==============================] - 5s 3ms/step - loss: 0.4149 - accuracy: 0.8560 - val_loss: 0.3995 - val_accuracy: 0.8636\n",
      "Epoch 5/50\n",
      "1719/1719 [==============================] - 4s 3ms/step - loss: 0.3949 - accuracy: 0.8605 - val_loss: 0.4310 - val_accuracy: 0.8522\n",
      "Epoch 6/50\n",
      "1719/1719 [==============================] - 5s 3ms/step - loss: 0.3781 - accuracy: 0.8660 - val_loss: 0.3804 - val_accuracy: 0.8694\n",
      "Epoch 7/50\n",
      "1719/1719 [==============================] - 5s 3ms/step - loss: 0.3639 - accuracy: 0.8716 - val_loss: 0.3745 - val_accuracy: 0.8726\n",
      "Epoch 8/50\n",
      "1719/1719 [==============================] - 5s 3ms/step - loss: 0.3526 - accuracy: 0.8745 - val_loss: 0.3598 - val_accuracy: 0.8760\n",
      "Epoch 9/50\n",
      "1719/1719 [==============================] - 5s 3ms/step - loss: 0.3421 - accuracy: 0.8781 - val_loss: 0.3409 - val_accuracy: 0.8812\n",
      "Epoch 10/50\n",
      "1719/1719 [==============================] - 5s 3ms/step - loss: 0.3326 - accuracy: 0.8817 - val_loss: 0.3503 - val_accuracy: 0.8746\n",
      "Epoch 11/50\n",
      "1719/1719 [==============================] - 4s 3ms/step - loss: 0.3244 - accuracy: 0.8838 - val_loss: 0.3488 - val_accuracy: 0.8800\n",
      "Epoch 12/50\n",
      "1719/1719 [==============================] - 4s 3ms/step - loss: 0.3163 - accuracy: 0.8876 - val_loss: 0.3345 - val_accuracy: 0.8824\n",
      "Epoch 13/50\n",
      "1719/1719 [==============================] - 4s 3ms/step - loss: 0.3100 - accuracy: 0.8890 - val_loss: 0.3420 - val_accuracy: 0.8820\n",
      "Epoch 14/50\n",
      "1719/1719 [==============================] - 4s 3ms/step - loss: 0.3022 - accuracy: 0.8914 - val_loss: 0.3226 - val_accuracy: 0.8890\n",
      "Epoch 15/50\n",
      "1719/1719 [==============================] - 5s 3ms/step - loss: 0.2965 - accuracy: 0.8927 - val_loss: 0.3225 - val_accuracy: 0.8882\n",
      "Epoch 16/50\n",
      "1719/1719 [==============================] - 5s 3ms/step - loss: 0.2904 - accuracy: 0.8942 - val_loss: 0.3178 - val_accuracy: 0.8866\n",
      "Epoch 17/50\n",
      "1719/1719 [==============================] - 4s 3ms/step - loss: 0.2849 - accuracy: 0.8967 - val_loss: 0.3330 - val_accuracy: 0.8842\n",
      "Epoch 18/50\n",
      "1719/1719 [==============================] - 4s 3ms/step - loss: 0.2804 - accuracy: 0.8984 - val_loss: 0.3138 - val_accuracy: 0.8894\n",
      "Epoch 19/50\n",
      "1719/1719 [==============================] - 4s 3ms/step - loss: 0.2745 - accuracy: 0.9008 - val_loss: 0.3243 - val_accuracy: 0.8854\n",
      "Epoch 20/50\n",
      "1719/1719 [==============================] - 5s 3ms/step - loss: 0.2707 - accuracy: 0.9015 - val_loss: 0.3117 - val_accuracy: 0.8918\n",
      "Epoch 21/50\n",
      "1719/1719 [==============================] - 5s 3ms/step - loss: 0.2657 - accuracy: 0.9040 - val_loss: 0.3094 - val_accuracy: 0.8880\n",
      "Epoch 22/50\n",
      "1719/1719 [==============================] - 5s 3ms/step - loss: 0.2603 - accuracy: 0.9055 - val_loss: 0.3199 - val_accuracy: 0.8826\n",
      "Epoch 23/50\n",
      "1719/1719 [==============================] - 5s 3ms/step - loss: 0.2561 - accuracy: 0.9071 - val_loss: 0.3069 - val_accuracy: 0.8924\n",
      "Epoch 24/50\n",
      "1719/1719 [==============================] - 4s 3ms/step - loss: 0.2516 - accuracy: 0.9101 - val_loss: 0.3074 - val_accuracy: 0.8860\n",
      "Epoch 25/50\n",
      "1719/1719 [==============================] - 5s 3ms/step - loss: 0.2478 - accuracy: 0.9109 - val_loss: 0.3002 - val_accuracy: 0.8902\n",
      "Epoch 26/50\n",
      "1719/1719 [==============================] - 4s 3ms/step - loss: 0.2438 - accuracy: 0.9120 - val_loss: 0.3009 - val_accuracy: 0.8904\n",
      "Epoch 27/50\n",
      "1719/1719 [==============================] - 5s 3ms/step - loss: 0.2401 - accuracy: 0.9125 - val_loss: 0.3080 - val_accuracy: 0.8926\n",
      "Epoch 28/50\n",
      "1719/1719 [==============================] - 5s 3ms/step - loss: 0.2351 - accuracy: 0.9162 - val_loss: 0.3149 - val_accuracy: 0.8866\n",
      "Epoch 29/50\n",
      "1719/1719 [==============================] - 5s 3ms/step - loss: 0.2321 - accuracy: 0.9172 - val_loss: 0.2934 - val_accuracy: 0.8964\n",
      "Epoch 30/50\n",
      "1719/1719 [==============================] - 5s 3ms/step - loss: 0.2279 - accuracy: 0.9185 - val_loss: 0.2970 - val_accuracy: 0.8942\n",
      "Epoch 31/50\n",
      "1719/1719 [==============================] - 4s 3ms/step - loss: 0.2252 - accuracy: 0.9187 - val_loss: 0.3003 - val_accuracy: 0.8934\n",
      "Epoch 32/50\n",
      "1719/1719 [==============================] - 5s 3ms/step - loss: 0.2208 - accuracy: 0.9206 - val_loss: 0.2943 - val_accuracy: 0.8976\n",
      "Epoch 33/50\n",
      "1719/1719 [==============================] - 5s 3ms/step - loss: 0.2187 - accuracy: 0.9213 - val_loss: 0.2989 - val_accuracy: 0.8960\n",
      "Epoch 34/50\n",
      "1719/1719 [==============================] - 5s 3ms/step - loss: 0.2146 - accuracy: 0.9225 - val_loss: 0.3018 - val_accuracy: 0.8912\n",
      "Epoch 35/50\n",
      "1719/1719 [==============================] - 5s 3ms/step - loss: 0.2113 - accuracy: 0.9240 - val_loss: 0.3030 - val_accuracy: 0.8896\n",
      "Epoch 36/50\n",
      "1719/1719 [==============================] - 5s 3ms/step - loss: 0.2078 - accuracy: 0.9257 - val_loss: 0.2900 - val_accuracy: 0.8956\n",
      "Epoch 37/50\n",
      "1719/1719 [==============================] - 5s 3ms/step - loss: 0.2053 - accuracy: 0.9274 - val_loss: 0.3093 - val_accuracy: 0.8926\n",
      "Epoch 38/50\n",
      "1719/1719 [==============================] - 5s 3ms/step - loss: 0.2014 - accuracy: 0.9287 - val_loss: 0.2917 - val_accuracy: 0.8958\n",
      "Epoch 39/50\n",
      "1719/1719 [==============================] - 5s 3ms/step - loss: 0.1991 - accuracy: 0.9284 - val_loss: 0.2886 - val_accuracy: 0.8996\n",
      "Epoch 40/50\n",
      "1719/1719 [==============================] - 5s 3ms/step - loss: 0.1957 - accuracy: 0.9300 - val_loss: 0.2959 - val_accuracy: 0.8970\n",
      "Epoch 41/50\n",
      "1719/1719 [==============================] - 5s 3ms/step - loss: 0.1921 - accuracy: 0.9305 - val_loss: 0.3552 - val_accuracy: 0.8728\n",
      "Epoch 42/50\n",
      "1719/1719 [==============================] - 4s 3ms/step - loss: 0.1900 - accuracy: 0.9331 - val_loss: 0.3065 - val_accuracy: 0.8950\n",
      "Epoch 43/50\n",
      "1719/1719 [==============================] - 5s 3ms/step - loss: 0.1873 - accuracy: 0.9335 - val_loss: 0.3114 - val_accuracy: 0.8872\n",
      "Epoch 44/50\n",
      "1719/1719 [==============================] - 5s 3ms/step - loss: 0.1840 - accuracy: 0.9349 - val_loss: 0.3004 - val_accuracy: 0.8918\n",
      "Epoch 45/50\n",
      "1719/1719 [==============================] - 5s 3ms/step - loss: 0.1821 - accuracy: 0.9357 - val_loss: 0.2885 - val_accuracy: 0.8954\n",
      "Epoch 46/50\n",
      "1719/1719 [==============================] - 5s 3ms/step - loss: 0.1800 - accuracy: 0.9351 - val_loss: 0.3142 - val_accuracy: 0.8920\n",
      "Epoch 47/50\n",
      "1719/1719 [==============================] - 5s 3ms/step - loss: 0.1758 - accuracy: 0.9375 - val_loss: 0.3081 - val_accuracy: 0.8894\n",
      "Epoch 48/50\n",
      "1719/1719 [==============================] - 5s 3ms/step - loss: 0.1728 - accuracy: 0.9387 - val_loss: 0.2823 - val_accuracy: 0.9002\n",
      "Epoch 49/50\n",
      "1719/1719 [==============================] - 5s 3ms/step - loss: 0.1700 - accuracy: 0.9394 - val_loss: 0.3025 - val_accuracy: 0.8918\n",
      "Epoch 50/50\n",
      "1719/1719 [==============================] - 5s 3ms/step - loss: 0.1668 - accuracy: 0.9398 - val_loss: 0.2990 - val_accuracy: 0.8942\n"
     ]
    }
   ],
   "metadata": {}
  },
  {
   "cell_type": "markdown",
   "source": [
    "**What are doing here?**\n",
    "\n",
    "+ at each stage we can see the number of instances processed\n",
    "+ the mean training time per sample\n",
    "- plus the loss and accuracy or any other metrics requested in the last stage \n",
    "\n",
    "\n",
    "(your computer is likely working hard at this point!)\n",
    "- note that for complex models, more CPU is needed than an average computer can supply\n",
    "\n",
    "https://stackoverflow.com/questions/51704808/what-is-the-difference-between-loss-accuracy-validation-loss-validation-accur"
   ],
   "metadata": {}
  },
  {
   "cell_type": "code",
   "execution_count": 24,
   "source": [
    "# we can even plot the learning curve \n",
    "\n",
    "pd.DataFrame(history.history).plot(figsize=(8, 5))\n",
    "pyplot.grid(True)\n",
    "pyplot.gca().set_ylim(0, 1) # set the vertical range to [0-1]\n",
    "pyplot.show()\n",
    "# IDEALLY training and validation accuracy increase, training and val loss steadily decrease \n",
    "# if you arent satisfied with model performance, go back and tune parameters - eg no of layers, neruons, activation fx, epochs, batch size"
   ],
   "outputs": [
    {
     "output_type": "display_data",
     "data": {
      "text/plain": [
       "<Figure size 576x360 with 1 Axes>"
      ],
      "image/png": "[encoded data removed]"
     },
     "metadata": {
      "needs_background": "light"
     }
    }
   ],
   "metadata": {}
  },
  {
   "cell_type": "code",
   "execution_count": null,
   "source": [
    "# try other metrics for evaluation \n"
   ],
   "outputs": [],
   "metadata": {}
  },
  {
   "cell_type": "markdown",
   "source": [
    "## Use model to make image predictions"
   ],
   "metadata": {}
  },
  {
   "cell_type": "code",
   "execution_count": 25,
   "source": [
    "X_testing = X_test[30:50]\n",
    "y_prob = model.predict(X_testing)\n",
    "y_prob.round(5)\n",
    "# how likely is the image to be in n class or other class"
   ],
   "outputs": [
    {
     "output_type": "execute_result",
     "data": {
      "text/plain": [
       "array([[0., 0., 0., 0., 0., 0., 0., 0., 1., 0.],\n",
       "       [0., 0., 0., 0., 0., 0., 0., 0., 1., 0.],\n",
       "       [0., 0., 0., 1., 0., 0., 0., 0., 0., 0.],\n",
       "       [0., 0., 0., 0., 0., 0., 0., 0., 1., 0.],\n",
       "       [0., 0., 0., 0., 0., 0., 0., 0., 1., 0.],\n",
       "       [1., 0., 0., 0., 0., 0., 0., 0., 0., 0.],\n",
       "       [0., 0., 0., 0., 0., 0., 0., 1., 0., 0.],\n",
       "       [0., 0., 0., 0., 0., 1., 0., 0., 0., 0.],\n",
       "       [0., 0., 0., 0., 0., 0., 0., 1., 0., 0.],\n",
       "       [0., 0., 0., 0., 0., 0., 0., 0., 0., 1.],\n",
       "       [0., 0., 0., 0., 0., 0., 1., 0., 0., 0.],\n",
       "       [0., 1., 0., 0., 0., 0., 0., 0., 0., 0.],\n",
       "       [0., 0., 0., 0., 0., 0., 1., 0., 0., 0.],\n",
       "       [0., 0., 0., 0., 0., 0., 0., 0., 0., 1.],\n",
       "       [0., 0., 0., 0., 0., 0., 1., 0., 0., 0.],\n",
       "       [0., 0., 0., 0., 0., 0., 0., 1., 0., 0.],\n",
       "       [0., 0., 1., 0., 0., 0., 0., 0., 0., 0.],\n",
       "       [0., 1., 0., 0., 0., 0., 0., 0., 0., 0.],\n",
       "       [0., 0., 0., 0., 0., 0., 1., 0., 0., 0.],\n",
       "       [0., 0., 0., 0., 0., 0., 1., 0., 0., 0.]], dtype=float32)"
      ]
     },
     "metadata": {},
     "execution_count": 25
    }
   ],
   "metadata": {}
  },
  {
   "cell_type": "code",
   "execution_count": 27,
   "source": [
    "y_predict = model.predict_classes(X_testing)\n",
    "y_predict"
   ],
   "outputs": [
    {
     "output_type": "execute_result",
     "data": {
      "text/plain": [
       "array([8, 8, 3, 8, 8, 0, 7, 5, 7, 9, 6, 1, 6, 9, 6, 7, 2, 1, 6, 6])"
      ]
     },
     "metadata": {},
     "execution_count": 27
    }
   ],
   "metadata": {}
  },
  {
   "cell_type": "code",
   "execution_count": 28,
   "source": [
    "np.array(class_names)[y_predict]"
   ],
   "outputs": [
    {
     "output_type": "execute_result",
     "data": {
      "text/plain": [
       "array(['Bag', 'Bag', 'Dress', 'Bag', 'Bag', 'T-shirt/top', 'Sneaker',\n",
       "       'Sandal', 'Sneaker', 'Ankle boot', 'Shirt', 'Trouser', 'Shirt',\n",
       "       'Ankle boot', 'Shirt', 'Sneaker', 'Pullover', 'Trouser', 'Shirt',\n",
       "       'Shirt'], dtype='<U11')"
      ]
     },
     "metadata": {},
     "execution_count": 28
    }
   ],
   "metadata": {}
  },
  {
   "cell_type": "code",
   "execution_count": 31,
   "source": [
    "actual = y_test[30:50]"
   ],
   "outputs": [],
   "metadata": {}
  },
  {
   "cell_type": "code",
   "execution_count": 32,
   "source": [
    "np.array(class_names)[actual]"
   ],
   "outputs": [
    {
     "output_type": "execute_result",
     "data": {
      "text/plain": [
       "array(['Bag', 'Bag', 'Dress', 'Dress', 'Bag', 'T-shirt/top', 'Sneaker',\n",
       "       'Sandal', 'Sneaker', 'Ankle boot', 'Shirt', 'Trouser', 'Dress',\n",
       "       'Sneaker', 'Shirt', 'Sneaker', 'Pullover', 'Trouser', 'Pullover',\n",
       "       'Pullover'], dtype='<U11')"
      ]
     },
     "metadata": {},
     "execution_count": 32
    }
   ],
   "metadata": {}
  },
  {
   "cell_type": "markdown",
   "source": [
    "## What do you think of your image classification model ?"
   ],
   "metadata": {}
  },
  {
   "cell_type": "markdown",
   "source": [
    "## Pretty good, image resolution is too small for higher accuracy"
   ],
   "metadata": {}
  },
  {
   "cell_type": "code",
   "execution_count": null,
   "source": [],
   "outputs": [],
   "metadata": {}
  },
  {
   "cell_type": "code",
   "execution_count": null,
   "source": [],
   "outputs": [],
   "metadata": {}
  }
 ],
 "metadata": {
  "kernelspec": {
   "name": "python3",
   "display_name": "Python 3.9.0 64-bit"
  },
  "language_info": {
   "codemirror_mode": {
    "name": "ipython",
    "version": 3
   },
   "file_extension": ".py",
   "mimetype": "text/x-python",
   "name": "python",
   "nbconvert_exporter": "python",
   "pygments_lexer": "ipython3",
   "version": "3.9.0"
  },
  "toc": {
   "base_numbering": 1,
   "nav_menu": {},
   "number_sections": true,
   "sideBar": true,
   "skip_h1_title": false,
   "title_cell": "Table of Contents",
   "title_sidebar": "Contents",
   "toc_cell": false,
   "toc_position": {},
   "toc_section_display": true,
   "toc_window_display": false
  },
  "varInspector": {
   "cols": {
    "lenName": 16,
    "lenType": 16,
    "lenVar": 40
   },
   "kernels_config": {
    "python": {
     "delete_cmd_postfix": "",
     "delete_cmd_prefix": "del ",
     "library": "var_list.py",
     "varRefreshCmd": "print(var_dic_list())"
    },
    "r": {
     "delete_cmd_postfix": ") ",
     "delete_cmd_prefix": "rm(",
     "library": "var_list.r",
     "varRefreshCmd": "cat(var_dic_list()) "
    }
   },
   "types_to_exclude": [
    "module",
    "function",
    "builtin_function_or_method",
    "instance",
    "_Feature"
   ],
   "window_display": false
  },
  "interpreter": {
   "hash": "4cd7ab41f5fca4b9b44701077e38c5ffd31fe66a6cab21e0214b68d958d0e462"
  }
 },
 "nbformat": 4,
 "nbformat_minor": 4
}