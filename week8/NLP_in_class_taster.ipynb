{
 "cells": [
  {
   "cell_type": "markdown",
   "id": "c9b0f592",
   "metadata": {},
   "source": [
    "+ gellert - spyware - bbc \n",
    "+ marta - (not online)\n",
    "+ walter - nyt - loving animals more since pandemic \n",
    "+ nayib - financial times - jobs lost in pandemic \n",
    "+ majed - spyware - bbc \n",
    "+ pedro - nyt - china anti trust law - ( not following )\n",
    "+ uros - deutschew - people are anti vaxx \n",
    "+ angela - meat alternatives - el mundo \n",
    "+ anna - bitcoin - bbc \n",
    "+ andrea - europe carbon tax - NYT \n",
    "+ sathiya - NDTV - indian pm speech \n",
    "+ fernando - bitcoin - cointleger\n",
    "+ andre - time magazine - plan to avoid pandemic disaster olympics \n",
    "+ hector - price of energy - heraldo \n",
    "+ jennifer - olympics toyota sponsorship pull - reuter\n",
    "+ axana - fish addicted to illegal drugs - bbc \n",
    "+ damaris - bbc - danish cartoonist death/ drew the prophet \n",
    "+ julia - el pais - men and women in academia salaries pandemic \n",
    "+ lucas - uk entering freedom day - NYT \n"
   ]
  },
  {
   "cell_type": "markdown",
   "id": "b3cac55b",
   "metadata": {},
   "source": [
    "# word doc into text \n",
    "step 1 install docx2txt \n",
    "step 2 import docx2txt\n",
    "\n",
    "# nltk - once installed import and download \n",
    "step 1 install\n",
    "step 2 import nltk \n",
    "step 3 nltk.download() - "
   ]
  },
  {
   "cell_type": "code",
   "execution_count": 1,
   "id": "9e058139",
   "metadata": {},
   "outputs": [],
   "source": [
    "import docx2txt"
   ]
  },
  {
   "cell_type": "code",
   "execution_count": 2,
   "id": "9a438b65",
   "metadata": {},
   "outputs": [],
   "source": [
    "import nltk "
   ]
  },
  {
   "cell_type": "code",
   "execution_count": 3,
   "id": "b5aca77c",
   "metadata": {},
   "outputs": [
    {
     "name": "stdout",
     "output_type": "stream",
     "text": [
      "showing info https://raw.githubusercontent.com/nltk/nltk_data/gh-pages/index.xml\n"
     ]
    },
    {
     "data": {
      "text/plain": [
       "True"
      ]
     },
     "execution_count": 3,
     "metadata": {},
     "output_type": "execute_result"
    }
   ],
   "source": [
    "nltk.download() "
   ]
  },
  {
   "cell_type": "code",
   "execution_count": 4,
   "id": "558b9741",
   "metadata": {},
   "outputs": [],
   "source": [
    "from nltk.tokenize import word_tokenize\n",
    "from nltk.text import Text"
   ]
  },
  {
   "cell_type": "code",
   "execution_count": 5,
   "id": "ac427c2d",
   "metadata": {},
   "outputs": [],
   "source": [
    "# def variable 'textfile' doc2txt.process() \n",
    "# use nltk to separate the individual words - word_tokenise \n",
    "textfile=docx2txt.process(\"Horseracing.docx\")"
   ]
  },
  {
   "cell_type": "code",
   "execution_count": 6,
   "id": "4415e829",
   "metadata": {
    "collapsed": true
   },
   "outputs": [
    {
     "data": {
      "text/plain": [
       "'Thousands of racehorses are being sent to slaughterhouses in Britain and Ireland, a BBC Panorama investigation has found.\\n\\nSome of the slaughtered animals were once owned and trained by some of the biggest names in racing.\\n\\nCovert recording also showed how rules designed to protect horses from a cruel death appear to be regularly ignored at one of the UK\\'s biggest abattoirs.\\n\\nThe abattoir told the BBC it did not accept any form of animal abuse.\\n\\nOne expert described the covert footage, from cameras installed by the campaign group Animal Aid, as evidence of clear breaches of the regulations.\\n\\nLast February, a picture of top trainer Gordon Elliott sitting on a dead horse\\xa0sent shockwaves through the world of racing and beyond.\\n\\nElliott, who has trained three winners of the Grand National, was roundly condemned, and suspended from the sport until 9 September this year.\\n\\nThe incident caused uproar, but it also highlighted the fate of many horses in the industry who die while racing, in training or in abattoirs.\\n\\nFreedom of information requests revealed that 4,000 former racehorses were slaughtered in Britain and Ireland since the beginning of 2019. Most, but not all, were trained in Ireland.\\n\\nAnimal Aid, which has long campaigned for an end to horse racing, set up covert cameras at Drury and Sons, an abattoir in England which has a licence to kill horses.\\n\\n\"When we looked at the footage we were absolutely astounded at the sheer volume of young thoroughbreds,\" said Animal Aid spokesman Dene Stansall.\\n\\nThe footage was recorded over four days at the end of 2019 and the start of 2020.\\n\\nIt captured dozens of former racehorses being slaughtered, the majority of them from Ireland and the majority young.\\n\\nSome of the horses shot in the abattoir had previous illustrious racing careers, winning thousands of pounds.\\n\\nThree of them had been trained by Gordon Elliott at his state-of-the-art stables in County Meath, Ireland.\\n\\nHe told Panorama none of the three animals were sent to the abattoir by him.\\n\\nThe horses had retired from racing due to injury, he said, and were not under his care when they were killed.\\n\\nElliott said two of the horses were sent to a horse dealer \"to be rehomed if possible, and if not, to be humanely euthanised\" in line with the regulations.\\n\\nHe said he gave the third horse to another rider as requested by its owner.\\n\\nAnd he said the first time he learned of their fate was when Panorama contacted him.\\n\\nElliott said he has ensured the appropriate and proper treatment and welfare of animals that have been in his possession and has rehomed a substantial number of them.\\n\\n\\n\\nAnimal Aid\\'s cameras also captured what appear to be breaches of rules designed to protect animals from unnecessary cruelty.\\n\\nThe regulations say horses should not be killed in sight of each other.\\n\\nThe footage recorded horses being shot together 26 times over the four days of filming.\\n\\nProf Daniel Mills, a veterinary behavioural specialist from the University of Lincoln, who has seen the footage, said: \"A gunshot going off is going to be startling, seeing another horse suddenly drop, these are all going to be very distressing for a horse in this situation.\"\\n\\nThat is not the only breach of the rules.\\n\\nThe regulations also say every effort should be made to ensure a rapid death. But the footage showed that sometimes the death was far from instant.\\n\\nOn 91 occasions the cameras recorded a slaughterman shooting horses, not close up, but from a distance.\\n\\nReviewing the footage of one such killing, Prof Mills said: \"It doesn\\'t look like the horse is even stunned. You can see it\\'s turning its head. It seems to have got some control actually over its head and neck.\\n\\n\"Taking a shot from a distance at a horse, to me, that\\'s completely out of order. If you\\'re going to euthanise a horse, you\\'ve got to get a bullet in the right place.\\n\\n\"If that\\'s representative of how they\\'re being killed, then we\\'ve got a really serious problem.\"\\n\\nThe abattoir, Drury and Sons, told Panorama that they \"take great care to maintain high welfare conditions and do not accept any form of animal abuse\".\\n\\nThey said all horses are \"humanely destroyed\\'\\' and that on occasions where issues do occur, they take \\'\\'swift action to review and rectify\" them.\\n\\nSome of the racehorses killed while Animal Aid cameras were filming had been transported from Ireland, travelling more than 350 miles (560km) by road and sea.\\n\\nSome animals were said to be carrying career-ending injuries.\\n\\nVeterinary expert Dr Hannah Donovan, who reviewed the footage, said: \"[Travelling] 350 miles potentially carrying an injury is not a humane process. This is unnecessary suffering.\"\\n\\nDr Donovan said: \"The bottom line is horses, if they are to be euthanised, could and should be euthanised at home. Simple as that.\"\\n\\nProf Mills said the racing authorities\\' own guidelines clearly set out what should happen to horses when their racing career ends.\\n\\n\"The industry\\'s own regulations recommend that you should make provision for all the animals that you\\'re responsible for,\" he said.\\n\\nHorse Racing Ireland, the governing body for racing in Ireland, said it placed great importance on the welfare of the people and horses in the industry.\\n\\nThe British Horseracing Authority said it has demonstrated \"a clear commitment to improving already high standards of care for racehorses… before, during and after racing\".\\n\\nIt said it would \"consider carefully any issues raised\" by the Panorama programme.\\n\\nDene Stansall of Animal Aid said: \"I can understand why people are attracted to racing, because I was attracted to it myself.\\n\\n\"[But] because of the poor welfare record, the number of horses dying and being killed in slaughterhouses, I can no longer support that - and I think a lot of the public would feel the same way.\"\\n\\nPanorama: The Dark Side of Horse Racing, is on BBC One on Monday at 20:30 BST, or watch later on BBC iPlayer.'"
      ]
     },
     "execution_count": 6,
     "metadata": {},
     "output_type": "execute_result"
    }
   ],
   "source": [
    "textfile"
   ]
  },
  {
   "cell_type": "code",
   "execution_count": 7,
   "id": "d99b472d",
   "metadata": {},
   "outputs": [],
   "source": [
    "tokens=word_tokenize(textfile)"
   ]
  },
  {
   "cell_type": "code",
   "execution_count": 9,
   "id": "f31f3846",
   "metadata": {
    "collapsed": true
   },
   "outputs": [
    {
     "data": {
      "text/plain": [
       "['Thousands',\n",
       " 'of',\n",
       " 'racehorses',\n",
       " 'are',\n",
       " 'being',\n",
       " 'sent',\n",
       " 'to',\n",
       " 'slaughterhouses',\n",
       " 'in',\n",
       " 'Britain',\n",
       " 'and',\n",
       " 'Ireland',\n",
       " ',',\n",
       " 'a',\n",
       " 'BBC',\n",
       " 'Panorama',\n",
       " 'investigation',\n",
       " 'has',\n",
       " 'found',\n",
       " '.']"
      ]
     },
     "execution_count": 9,
     "metadata": {},
     "output_type": "execute_result"
    }
   ],
   "source": [
    "tokens[:20]"
   ]
  },
  {
   "cell_type": "code",
   "execution_count": 10,
   "id": "e5111e6f",
   "metadata": {},
   "outputs": [
    {
     "data": {
      "text/plain": [
       "1155"
      ]
     },
     "execution_count": 10,
     "metadata": {},
     "output_type": "execute_result"
    }
   ],
   "source": [
    "len(tokens)"
   ]
  },
  {
   "cell_type": "code",
   "execution_count": null,
   "id": "d095d97f",
   "metadata": {},
   "outputs": [],
   "source": []
  }
 ],
 "metadata": {
  "kernelspec": {
   "display_name": "Python 3 (ipykernel)",
   "language": "python",
   "name": "python3"
  },
  "language_info": {
   "codemirror_mode": {
    "name": "ipython",
    "version": 3
   },
   "file_extension": ".py",
   "mimetype": "text/x-python",
   "name": "python",
   "nbconvert_exporter": "python",
   "pygments_lexer": "ipython3",
   "version": "3.8.3"
  },
  "toc": {
   "base_numbering": 1,
   "nav_menu": {},
   "number_sections": true,
   "sideBar": true,
   "skip_h1_title": false,
   "title_cell": "Table of Contents",
   "title_sidebar": "Contents",
   "toc_cell": false,
   "toc_position": {},
   "toc_section_display": true,
   "toc_window_display": false
  },
  "varInspector": {
   "cols": {
    "lenName": 16,
    "lenType": 16,
    "lenVar": 40
   },
   "kernels_config": {
    "python": {
     "delete_cmd_postfix": "",
     "delete_cmd_prefix": "del ",
     "library": "var_list.py",
     "varRefreshCmd": "print(var_dic_list())"
    },
    "r": {
     "delete_cmd_postfix": ") ",
     "delete_cmd_prefix": "rm(",
     "library": "var_list.r",
     "varRefreshCmd": "cat(var_dic_list()) "
    }
   },
   "types_to_exclude": [
    "module",
    "function",
    "builtin_function_or_method",
    "instance",
    "_Feature"
   ],
   "window_display": false
  }
 },
 "nbformat": 4,
 "nbformat_minor": 5
}
