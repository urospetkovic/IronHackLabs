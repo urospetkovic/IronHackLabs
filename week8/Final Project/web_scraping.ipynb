{
 "cells": [
  {
   "cell_type": "code",
   "execution_count": 2,
   "source": [
    "import pandas as pd\n",
    "from tqdm.notebook import tqdm\n",
    "import spotipy\n",
    "from spotipy.oauth2 import SpotifyClientCredentials\n",
    "import getpass"
   ],
   "outputs": [],
   "metadata": {}
  },
  {
   "cell_type": "markdown",
   "source": [
    "# Spotify\n"
   ],
   "metadata": {}
  },
  {
   "cell_type": "code",
   "execution_count": 7,
   "source": [
    "client_id = str(getpass.getpass('client_id?'))\n",
    "client_sectret = str(getpass.getpass('client_secret?'))"
   ],
   "outputs": [],
   "metadata": {}
  },
  {
   "cell_type": "code",
   "execution_count": 8,
   "source": [
    "sp = spotipy.Spotify(auth_manager=SpotifyClientCredentials(\n",
    "    client_id=client_id, client_secret=client_sectret))"
   ],
   "outputs": [],
   "metadata": {}
  },
  {
   "cell_type": "markdown",
   "source": [
    "# Functions"
   ],
   "metadata": {}
  },
  {
   "cell_type": "code",
   "execution_count": 18,
   "source": [
    "def artists_from_playlist(playlist):\n",
    "    songs = playlist['items']\n",
    "    while playlist['next']:\n",
    "        playlist = sp.next(playlist)\n",
    "        songs.extend(playlist['items'])\n",
    "    artists = []\n",
    "    for item in songs:\n",
    "        artists.append(item['track']['artists'][0]['name'])\n",
    "    artist_id_list = []\n",
    "    for artist in artists:\n",
    "        artist_id = sp.search(artist)['tracks']['items'][0]['artists'][0]['id']\n",
    "        artist_id_list.append(artist_id)\n",
    "    return list(set(artist_id_list))"
   ],
   "outputs": [],
   "metadata": {}
  },
  {
   "cell_type": "code",
   "execution_count": 19,
   "source": [
    "def all_albums_from_artists(artists_id_list):\n",
    "    albums_ids = []\n",
    "    for artist_id in artists_id_list:\n",
    "        albums = sp.artist_albums(artist_id)\n",
    "        for album in range(len(albums['items'])):\n",
    "            albums_ids.append(albums['items'][album]['id'])\n",
    "    return list(set(albums_ids))"
   ],
   "outputs": [],
   "metadata": {}
  },
  {
   "cell_type": "code",
   "execution_count": 20,
   "source": [
    "def all_songs_from_albums(albums_id_list):\n",
    "    ids = []\n",
    "    for album_id in tqdm(albums_id_list):\n",
    "        songs_ids = sp.album_tracks(album_id)\n",
    "        for id in range(len(songs_ids['items'])):\n",
    "            ids.append(songs_ids['items'][id]['id'])         \n",
    "    ids_chunks = []\n",
    "    for i in tqdm(range(0, len(ids), 100)):\n",
    "        ids_chunks.append(ids[i:i + 100])\n",
    "    audio_feat = []\n",
    "    for i in tqdm(ids_chunks):\n",
    "        audio_feat.append(sp.audio_features(tracks=i))\n",
    "    audio_feat_total = []\n",
    "    for i in tqdm(range(len(audio_feat))):\n",
    "        audio_feat_total += audio_feat[i]\n",
    "    audio_feats_clean = [dct for dct in audio_feat_total if dct]\n",
    "    df = pd.DataFrame(audio_feats_clean)\n",
    "    return df.drop(['type', 'track_href', 'uri', 'analysis_url'], axis=1)\n",
    "    "
   ],
   "outputs": [],
   "metadata": {}
  },
  {
   "cell_type": "code",
   "execution_count": 21,
   "source": [
    "def get_track_id(song):\n",
    "    id_search = sp.search(song)\n",
    "    if len(id_search['tracks']['items']) > 0:\n",
    "        print()\n",
    "        return id_search['tracks']['items'][0]['id']\n",
    "    else:\n",
    "        print('Typo? Try again')"
   ],
   "outputs": [],
   "metadata": {}
  },
  {
   "cell_type": "code",
   "execution_count": 22,
   "source": [
    "def get_audio_features(song_id):\n",
    "    a_f = sp.audio_features(tracks=song_id)\n",
    "    if a_f:\n",
    "        df = pd.DataFrame(a_f)\n",
    "        return df.drop(['type', 'track_href', 'uri', 'analysis_url', 'id'], axis=1)\n",
    "    else:\n",
    "        return print('no features :(..')"
   ],
   "outputs": [],
   "metadata": {}
  },
  {
   "cell_type": "code",
   "execution_count": 5,
   "source": [
    "def release_year(df):\n",
    "    years = []\n",
    "    for id in tqdm(df['id']):\n",
    "        track = sp.track(id)\n",
    "        years.append(track['album']['release_date'][0:4])\n",
    "    return years"
   ],
   "outputs": [],
   "metadata": {}
  },
  {
   "cell_type": "code",
   "execution_count": 24,
   "source": [
    "def scrape(playlist, name):\n",
    "    artists = artists_from_playlist(playlist)\n",
    "    albums = all_albums_from_artists(artists)\n",
    "    songs = all_songs_from_albums(albums)\n",
    "    songs.to_csv(name + '.csv', index=False)"
   ],
   "outputs": [],
   "metadata": {}
  },
  {
   "cell_type": "markdown",
   "source": [
    "# Playlists"
   ],
   "metadata": {}
  },
  {
   "cell_type": "code",
   "execution_count": 57,
   "source": [
    "rock_playlist = sp.user_playlist_tracks('spotify', '37i9dQZF1DWXRqgorJj26U')"
   ],
   "outputs": [],
   "metadata": {}
  },
  {
   "cell_type": "code",
   "execution_count": 58,
   "source": [
    "hard_rock_playlist = sp.user_playlist_tracks('spotify', '37i9dQZF1DX68H8ZujdnN7')"
   ],
   "outputs": [],
   "metadata": {}
  },
  {
   "cell_type": "code",
   "execution_count": 59,
   "source": [
    "jazz_playlist = sp.user_playlist_tracks('spotify', '37i9dQZF1DXbITWG1ZJKYt')"
   ],
   "outputs": [],
   "metadata": {}
  },
  {
   "cell_type": "code",
   "execution_count": 60,
   "source": [
    "jazz_cool_playlist = sp.user_playlist_tracks('spotify', '37i9dQZF1DXbOVU4mpMJjh')"
   ],
   "outputs": [],
   "metadata": {}
  },
  {
   "cell_type": "code",
   "execution_count": 64,
   "source": [
    "pop_playlist = sp.user_playlist_tracks('spotify', '3ZgmfR6lsnCwdffZUan8EA')"
   ],
   "outputs": [],
   "metadata": {}
  },
  {
   "cell_type": "code",
   "execution_count": 65,
   "source": [
    "hiphop_playlist = sp.user_playlist_tracks('spotify', '37i9dQZF1DX30w0JtSIv4j')"
   ],
   "outputs": [],
   "metadata": {}
  },
  {
   "cell_type": "code",
   "execution_count": 66,
   "source": [
    "rap_playlist = sp.user_playlist_tracks('spotify', '37i9dQZF1DX48TTZL62Yht')"
   ],
   "outputs": [],
   "metadata": {}
  },
  {
   "cell_type": "code",
   "execution_count": 67,
   "source": [
    "trap_playlist = sp.user_playlist_tracks('spotify', '37i9dQZF1DXde9tuMHuIsj')"
   ],
   "outputs": [],
   "metadata": {}
  },
  {
   "cell_type": "code",
   "execution_count": 68,
   "source": [
    "deephouse_playlist = sp.user_playlist_tracks('spotify', '37i9dQZF1DWWEJlAGA9gs0')"
   ],
   "outputs": [],
   "metadata": {}
  },
  {
   "cell_type": "code",
   "execution_count": 69,
   "source": [
    "techno_playlist = sp.user_playlist_tracks('spotify', '37i9dQZF1DX6J5NfMJS675')"
   ],
   "outputs": [],
   "metadata": {}
  },
  {
   "cell_type": "markdown",
   "source": [
    "# Scraping"
   ],
   "metadata": {}
  },
  {
   "cell_type": "code",
   "execution_count": 70,
   "source": [
    "scrape(rock_playlist, 'rock_songs')"
   ],
   "outputs": [],
   "metadata": {}
  },
  {
   "cell_type": "code",
   "execution_count": null,
   "source": [
    "scrape(hard_rock_playlist, 'hard_rock_songs')"
   ],
   "outputs": [],
   "metadata": {}
  },
  {
   "cell_type": "code",
   "execution_count": null,
   "source": [
    "scrape(jazz_playlist, 'jazz_songs')"
   ],
   "outputs": [
    {
     "output_type": "display_data",
     "data": {
      "text/plain": [
       "  0%|          | 0/1500 [00:00<?, ?it/s]"
      ],
      "application/vnd.jupyter.widget-view+json": {
       "version_major": 2,
       "version_minor": 0,
       "model_id": "a20aefad8f6b4f5f8654ebc93572de52"
      }
     },
     "metadata": {}
    },
    {
     "output_type": "display_data",
     "data": {
      "text/plain": [
       "  0%|          | 0/237 [00:00<?, ?it/s]"
      ],
      "application/vnd.jupyter.widget-view+json": {
       "version_major": 2,
       "version_minor": 0,
       "model_id": "957aac660fb34b9bb66b076c46a0d360"
      }
     },
     "metadata": {}
    },
    {
     "output_type": "display_data",
     "data": {
      "text/plain": [
       "  0%|          | 0/237 [00:00<?, ?it/s]"
      ],
      "application/vnd.jupyter.widget-view+json": {
       "version_major": 2,
       "version_minor": 0,
       "model_id": "2d733551010d41f397c687a19dd2c4a5"
      }
     },
     "metadata": {}
    },
    {
     "output_type": "display_data",
     "data": {
      "text/plain": [
       "  0%|          | 0/237 [00:00<?, ?it/s]"
      ],
      "application/vnd.jupyter.widget-view+json": {
       "version_major": 2,
       "version_minor": 0,
       "model_id": "63f6b9d48b49473ba78a9b851dda1f95"
      }
     },
     "metadata": {}
    }
   ],
   "metadata": {}
  },
  {
   "cell_type": "code",
   "execution_count": null,
   "source": [
    "scrape(jazz_cool_playlist, 'jazz_cool_songs')"
   ],
   "outputs": [
    {
     "output_type": "display_data",
     "data": {
      "text/plain": [
       "  0%|          | 0/336 [00:00<?, ?it/s]"
      ],
      "application/vnd.jupyter.widget-view+json": {
       "version_major": 2,
       "version_minor": 0,
       "model_id": "54ccc83f1e4c42c9a6a2dc8bdb3aefd6"
      }
     },
     "metadata": {}
    },
    {
     "output_type": "display_data",
     "data": {
      "text/plain": [
       "  0%|          | 0/32 [00:00<?, ?it/s]"
      ],
      "application/vnd.jupyter.widget-view+json": {
       "version_major": 2,
       "version_minor": 0,
       "model_id": "f950ed92794a4f03b0dbdecb4939b0f0"
      }
     },
     "metadata": {}
    },
    {
     "output_type": "display_data",
     "data": {
      "text/plain": [
       "  0%|          | 0/32 [00:00<?, ?it/s]"
      ],
      "application/vnd.jupyter.widget-view+json": {
       "version_major": 2,
       "version_minor": 0,
       "model_id": "74f08f562f414b9fae5ceec908ef1ef0"
      }
     },
     "metadata": {}
    },
    {
     "output_type": "display_data",
     "data": {
      "text/plain": [
       "  0%|          | 0/32 [00:00<?, ?it/s]"
      ],
      "application/vnd.jupyter.widget-view+json": {
       "version_major": 2,
       "version_minor": 0,
       "model_id": "e926e87da76f442bacea95adb881b9d7"
      }
     },
     "metadata": {}
    }
   ],
   "metadata": {}
  },
  {
   "cell_type": "code",
   "execution_count": null,
   "source": [
    "scrape(pop_playlist, 'pop_songs')"
   ],
   "outputs": [
    {
     "output_type": "display_data",
     "data": {
      "text/plain": [
       "  0%|          | 0/2707 [00:00<?, ?it/s]"
      ],
      "application/vnd.jupyter.widget-view+json": {
       "version_major": 2,
       "version_minor": 0,
       "model_id": "eacdd618c1744bd184cfe7e4eb89ab0b"
      }
     },
     "metadata": {}
    },
    {
     "output_type": "display_data",
     "data": {
      "text/plain": [
       "  0%|          | 0/283 [00:00<?, ?it/s]"
      ],
      "application/vnd.jupyter.widget-view+json": {
       "version_major": 2,
       "version_minor": 0,
       "model_id": "eef935145c1d4464a85b1b03eb243a17"
      }
     },
     "metadata": {}
    },
    {
     "output_type": "display_data",
     "data": {
      "text/plain": [
       "  0%|          | 0/283 [00:00<?, ?it/s]"
      ],
      "application/vnd.jupyter.widget-view+json": {
       "version_major": 2,
       "version_minor": 0,
       "model_id": "36fa7b9aa3404660a3485fe4fffcccd9"
      }
     },
     "metadata": {}
    },
    {
     "output_type": "display_data",
     "data": {
      "text/plain": [
       "  0%|          | 0/283 [00:00<?, ?it/s]"
      ],
      "application/vnd.jupyter.widget-view+json": {
       "version_major": 2,
       "version_minor": 0,
       "model_id": "ba90b51c1d6247108d76faf2b1a830a6"
      }
     },
     "metadata": {}
    }
   ],
   "metadata": {}
  },
  {
   "cell_type": "code",
   "execution_count": null,
   "source": [
    "scrape(hiphop_playlist, 'hiphop_songs')"
   ],
   "outputs": [
    {
     "output_type": "display_data",
     "data": {
      "text/plain": [
       "  0%|          | 0/696 [00:00<?, ?it/s]"
      ],
      "application/vnd.jupyter.widget-view+json": {
       "version_major": 2,
       "version_minor": 0,
       "model_id": "91fcad3989d44d6ebbcce3f864d8b121"
      }
     },
     "metadata": {}
    },
    {
     "output_type": "display_data",
     "data": {
      "text/plain": [
       "  0%|          | 0/88 [00:00<?, ?it/s]"
      ],
      "application/vnd.jupyter.widget-view+json": {
       "version_major": 2,
       "version_minor": 0,
       "model_id": "5e9c77a70a4b4c1ab7d069e4e9ce36c9"
      }
     },
     "metadata": {}
    },
    {
     "output_type": "display_data",
     "data": {
      "text/plain": [
       "  0%|          | 0/88 [00:00<?, ?it/s]"
      ],
      "application/vnd.jupyter.widget-view+json": {
       "version_major": 2,
       "version_minor": 0,
       "model_id": "5195f6880e7242ed94d2586e2348dcf2"
      }
     },
     "metadata": {}
    },
    {
     "output_type": "display_data",
     "data": {
      "text/plain": [
       "  0%|          | 0/88 [00:00<?, ?it/s]"
      ],
      "application/vnd.jupyter.widget-view+json": {
       "version_major": 2,
       "version_minor": 0,
       "model_id": "1b7952f4d73144a0b111ef46f6ba854d"
      }
     },
     "metadata": {}
    }
   ],
   "metadata": {}
  },
  {
   "cell_type": "code",
   "execution_count": null,
   "source": [
    "scrape(rap_playlist, 'rap_songs')"
   ],
   "outputs": [
    {
     "output_type": "display_data",
     "data": {
      "text/plain": [
       "  0%|          | 0/1260 [00:00<?, ?it/s]"
      ],
      "application/vnd.jupyter.widget-view+json": {
       "version_major": 2,
       "version_minor": 0,
       "model_id": "dd093361f83640f8b5095911194d1846"
      }
     },
     "metadata": {}
    },
    {
     "output_type": "display_data",
     "data": {
      "text/plain": [
       "  0%|          | 0/103 [00:00<?, ?it/s]"
      ],
      "application/vnd.jupyter.widget-view+json": {
       "version_major": 2,
       "version_minor": 0,
       "model_id": "3b7417d57813402093c93790d8446e6e"
      }
     },
     "metadata": {}
    },
    {
     "output_type": "display_data",
     "data": {
      "text/plain": [
       "  0%|          | 0/103 [00:00<?, ?it/s]"
      ],
      "application/vnd.jupyter.widget-view+json": {
       "version_major": 2,
       "version_minor": 0,
       "model_id": "f35f5ac06aac49a09ad95926d02aedf8"
      }
     },
     "metadata": {}
    },
    {
     "output_type": "display_data",
     "data": {
      "text/plain": [
       "  0%|          | 0/103 [00:00<?, ?it/s]"
      ],
      "application/vnd.jupyter.widget-view+json": {
       "version_major": 2,
       "version_minor": 0,
       "model_id": "47b8bcaed4154fbb8f2c9a7bf94ba594"
      }
     },
     "metadata": {}
    }
   ],
   "metadata": {}
  },
  {
   "cell_type": "code",
   "execution_count": null,
   "source": [
    "scrape(deephouse_playlist, 'deephouse_songs')"
   ],
   "outputs": [
    {
     "output_type": "display_data",
     "data": {
      "text/plain": [
       "  0%|          | 0/1727 [00:00<?, ?it/s]"
      ],
      "application/vnd.jupyter.widget-view+json": {
       "version_major": 2,
       "version_minor": 0,
       "model_id": "13a1af26b61a4632b507905c9c2a2917"
      }
     },
     "metadata": {}
    },
    {
     "output_type": "display_data",
     "data": {
      "text/plain": [
       "  0%|          | 0/339 [00:00<?, ?it/s]"
      ],
      "application/vnd.jupyter.widget-view+json": {
       "version_major": 2,
       "version_minor": 0,
       "model_id": "f04ebb20855f482f8994bc9ed1d677e2"
      }
     },
     "metadata": {}
    },
    {
     "output_type": "display_data",
     "data": {
      "text/plain": [
       "  0%|          | 0/339 [00:00<?, ?it/s]"
      ],
      "application/vnd.jupyter.widget-view+json": {
       "version_major": 2,
       "version_minor": 0,
       "model_id": "e09cf88a77c44b96b7c245547847535f"
      }
     },
     "metadata": {}
    },
    {
     "output_type": "display_data",
     "data": {
      "text/plain": [
       "  0%|          | 0/339 [00:00<?, ?it/s]"
      ],
      "application/vnd.jupyter.widget-view+json": {
       "version_major": 2,
       "version_minor": 0,
       "model_id": "af9ced7a3ca94c4e851e7ecfdb323a95"
      }
     },
     "metadata": {}
    }
   ],
   "metadata": {}
  },
  {
   "cell_type": "code",
   "execution_count": null,
   "source": [
    "scrape(techno_playlist, 'techno_songs')"
   ],
   "outputs": [
    {
     "output_type": "display_data",
     "data": {
      "text/plain": [
       "  0%|          | 0/942 [00:00<?, ?it/s]"
      ],
      "application/vnd.jupyter.widget-view+json": {
       "version_major": 2,
       "version_minor": 0,
       "model_id": "6d9eb40098034035b3f18cb6e09b12c5"
      }
     },
     "metadata": {}
    },
    {
     "output_type": "display_data",
     "data": {
      "text/plain": [
       "  0%|          | 0/43 [00:00<?, ?it/s]"
      ],
      "application/vnd.jupyter.widget-view+json": {
       "version_major": 2,
       "version_minor": 0,
       "model_id": "60173cfb3b954281897e06740e26b121"
      }
     },
     "metadata": {}
    },
    {
     "output_type": "display_data",
     "data": {
      "text/plain": [
       "  0%|          | 0/43 [00:00<?, ?it/s]"
      ],
      "application/vnd.jupyter.widget-view+json": {
       "version_major": 2,
       "version_minor": 0,
       "model_id": "a45bcd463cc84a1ca501a3b3173db952"
      }
     },
     "metadata": {}
    },
    {
     "output_type": "display_data",
     "data": {
      "text/plain": [
       "  0%|          | 0/43 [00:00<?, ?it/s]"
      ],
      "application/vnd.jupyter.widget-view+json": {
       "version_major": 2,
       "version_minor": 0,
       "model_id": "b499d38ec1cf42ef82bbcd7f8f60f8f4"
      }
     },
     "metadata": {}
    }
   ],
   "metadata": {}
  },
  {
   "cell_type": "code",
   "execution_count": null,
   "source": [
    "scrape(trap_playlist, 'trap_songs')"
   ],
   "outputs": [
    {
     "output_type": "display_data",
     "data": {
      "text/plain": [
       "  0%|          | 0/498 [00:00<?, ?it/s]"
      ],
      "application/vnd.jupyter.widget-view+json": {
       "version_major": 2,
       "version_minor": 0,
       "model_id": "2199f047f07141bfb78512701f49b603"
      }
     },
     "metadata": {}
    },
    {
     "output_type": "display_data",
     "data": {
      "text/plain": [
       "  0%|          | 0/22 [00:00<?, ?it/s]"
      ],
      "application/vnd.jupyter.widget-view+json": {
       "version_major": 2,
       "version_minor": 0,
       "model_id": "014c6e95a8d44f77ab19785941af81fe"
      }
     },
     "metadata": {}
    },
    {
     "output_type": "display_data",
     "data": {
      "text/plain": [
       "  0%|          | 0/22 [00:00<?, ?it/s]"
      ],
      "application/vnd.jupyter.widget-view+json": {
       "version_major": 2,
       "version_minor": 0,
       "model_id": "8bba0d1c34bc4659b2885a8b949c9ce9"
      }
     },
     "metadata": {}
    },
    {
     "output_type": "display_data",
     "data": {
      "text/plain": [
       "  0%|          | 0/22 [00:00<?, ?it/s]"
      ],
      "application/vnd.jupyter.widget-view+json": {
       "version_major": 2,
       "version_minor": 0,
       "model_id": "c2c6cd9619ba498390da7c39a9820ba9"
      }
     },
     "metadata": {}
    }
   ],
   "metadata": {}
  },
  {
   "cell_type": "code",
   "execution_count": null,
   "source": [
    "genres_dict = {'jazz': 1 , 'rock': 2, 'hiphop':3, 'pop': 4, 'electronic': 5} "
   ],
   "outputs": [],
   "metadata": {}
  },
  {
   "cell_type": "markdown",
   "source": [
    "# Wrangling & Cleaning"
   ],
   "metadata": {}
  },
  {
   "cell_type": "code",
   "execution_count": 6,
   "source": [
    "jazz = pd.read_csv('data/jazz_songs.csv')"
   ],
   "outputs": [],
   "metadata": {}
  },
  {
   "cell_type": "code",
   "execution_count": 7,
   "source": [
    "jazz_cool = pd.read_csv('data/jazz_cool_songs.csv')"
   ],
   "outputs": [],
   "metadata": {}
  },
  {
   "cell_type": "code",
   "execution_count": 8,
   "source": [
    "rock = pd.read_csv('data/rock_songs.csv')"
   ],
   "outputs": [],
   "metadata": {}
  },
  {
   "cell_type": "code",
   "execution_count": 9,
   "source": [
    "hard_rock = pd.read_csv('data/hard_rock_songs.csv')"
   ],
   "outputs": [],
   "metadata": {}
  },
  {
   "cell_type": "code",
   "execution_count": 10,
   "source": [
    "hiphop = pd.read_csv('data/hiphop_songs.csv')"
   ],
   "outputs": [],
   "metadata": {}
  },
  {
   "cell_type": "code",
   "execution_count": 11,
   "source": [
    "rap = pd.read_csv('data/rap_songs.csv')"
   ],
   "outputs": [],
   "metadata": {}
  },
  {
   "cell_type": "code",
   "execution_count": 12,
   "source": [
    "trap = pd.read_csv('data/trap_songs.csv')"
   ],
   "outputs": [],
   "metadata": {}
  },
  {
   "cell_type": "code",
   "execution_count": 13,
   "source": [
    "pop = pd.read_csv('data/pop_songs.csv')"
   ],
   "outputs": [],
   "metadata": {}
  },
  {
   "cell_type": "code",
   "execution_count": 14,
   "source": [
    "techno = pd.read_csv('data/techno_songs.csv')"
   ],
   "outputs": [],
   "metadata": {}
  },
  {
   "cell_type": "code",
   "execution_count": 15,
   "source": [
    "deep = pd.read_csv('data/deephouse_songs.csv')"
   ],
   "outputs": [],
   "metadata": {}
  },
  {
   "cell_type": "markdown",
   "source": [
    "## Genres and release years"
   ],
   "metadata": {}
  },
  {
   "cell_type": "code",
   "execution_count": 16,
   "source": [
    "jazz['genre'] = 1\n",
    "jazz['year'] = release_year(jazz)"
   ],
   "outputs": [
    {
     "output_type": "display_data",
     "data": {
      "text/plain": [
       "  0%|          | 0/23686 [00:00<?, ?it/s]"
      ],
      "application/vnd.jupyter.widget-view+json": {
       "version_major": 2,
       "version_minor": 0,
       "model_id": "0e39c289285a4f93859a9f523322925f"
      }
     },
     "metadata": {}
    }
   ],
   "metadata": {}
  },
  {
   "cell_type": "code",
   "execution_count": 17,
   "source": [
    "jazz_cool['genre'] = 1\n",
    "jazz_cool['year'] = release_year(jazz_cool)"
   ],
   "outputs": [
    {
     "output_type": "display_data",
     "data": {
      "text/plain": [
       "  0%|          | 0/3198 [00:00<?, ?it/s]"
      ],
      "application/vnd.jupyter.widget-view+json": {
       "version_major": 2,
       "version_minor": 0,
       "model_id": "4fe13a0632f84e93bb8e30ec15ac7f00"
      }
     },
     "metadata": {}
    }
   ],
   "metadata": {}
  },
  {
   "cell_type": "code",
   "execution_count": 23,
   "source": [
    "rock['genre'] = 2\n",
    "rock['year'] = release_year(rock)"
   ],
   "outputs": [
    {
     "output_type": "display_data",
     "data": {
      "text/plain": [
       "  0%|          | 0/23458 [00:00<?, ?it/s]"
      ],
      "application/vnd.jupyter.widget-view+json": {
       "version_major": 2,
       "version_minor": 0,
       "model_id": "2a02d1d9b693488ea81151e489fde4e8"
      }
     },
     "metadata": {}
    }
   ],
   "metadata": {}
  },
  {
   "cell_type": "code",
   "execution_count": 27,
   "source": [
    "hard_rock['genre'] = 2\n",
    "hard_rock['year'] = release_year(hard_rock)"
   ],
   "outputs": [
    {
     "output_type": "display_data",
     "data": {
      "text/plain": [
       "  0%|          | 0/14533 [00:00<?, ?it/s]"
      ],
      "application/vnd.jupyter.widget-view+json": {
       "version_major": 2,
       "version_minor": 0,
       "model_id": "f2a51a128c1c4456b1ec68a03ae315b6"
      }
     },
     "metadata": {}
    }
   ],
   "metadata": {}
  },
  {
   "cell_type": "code",
   "execution_count": 29,
   "source": [
    "hiphop['genre'] = 3\n",
    "hiphop['year'] = release_year(hiphop)"
   ],
   "outputs": [
    {
     "output_type": "display_data",
     "data": {
      "text/plain": [
       "  0%|          | 0/8797 [00:00<?, ?it/s]"
      ],
      "application/vnd.jupyter.widget-view+json": {
       "version_major": 2,
       "version_minor": 0,
       "model_id": "63af881282b04d5eaba6d32a9c436719"
      }
     },
     "metadata": {}
    }
   ],
   "metadata": {}
  },
  {
   "cell_type": "code",
   "execution_count": 30,
   "source": [
    "rap['genre'] = 3\n",
    "rap['year'] = release_year(rap)"
   ],
   "outputs": [
    {
     "output_type": "display_data",
     "data": {
      "text/plain": [
       "  0%|          | 0/10241 [00:00<?, ?it/s]"
      ],
      "application/vnd.jupyter.widget-view+json": {
       "version_major": 2,
       "version_minor": 0,
       "model_id": "a991574f5a4f4490b09a5c3d62f97068"
      }
     },
     "metadata": {}
    }
   ],
   "metadata": {}
  },
  {
   "cell_type": "code",
   "execution_count": 31,
   "source": [
    "trap['genre'] = 3\n",
    "trap['year'] = release_year(trap)"
   ],
   "outputs": [
    {
     "output_type": "display_data",
     "data": {
      "text/plain": [
       "  0%|          | 0/2117 [00:00<?, ?it/s]"
      ],
      "application/vnd.jupyter.widget-view+json": {
       "version_major": 2,
       "version_minor": 0,
       "model_id": "d466f307dea7411993e817c55f04179a"
      }
     },
     "metadata": {}
    }
   ],
   "metadata": {}
  },
  {
   "cell_type": "code",
   "execution_count": 32,
   "source": [
    "pop['genre'] = 4\n",
    "pop['year'] = release_year(pop)"
   ],
   "outputs": [
    {
     "output_type": "display_data",
     "data": {
      "text/plain": [
       "  0%|          | 0/28274 [00:00<?, ?it/s]"
      ],
      "application/vnd.jupyter.widget-view+json": {
       "version_major": 2,
       "version_minor": 0,
       "model_id": "0211929dd8f14d57a25eae8b11cf8ad2"
      }
     },
     "metadata": {}
    }
   ],
   "metadata": {}
  },
  {
   "cell_type": "code",
   "execution_count": 33,
   "source": [
    "techno['genre'] = 5\n",
    "techno['year'] = release_year(techno)"
   ],
   "outputs": [
    {
     "output_type": "display_data",
     "data": {
      "text/plain": [
       "  0%|          | 0/4202 [00:00<?, ?it/s]"
      ],
      "application/vnd.jupyter.widget-view+json": {
       "version_major": 2,
       "version_minor": 0,
       "model_id": "b360970d8dee4090a8b1c525444e16c8"
      }
     },
     "metadata": {}
    }
   ],
   "metadata": {}
  },
  {
   "cell_type": "code",
   "execution_count": 34,
   "source": [
    "deep['genre'] = 5\n",
    "deep['year'] = release_year(deep)"
   ],
   "outputs": [
    {
     "output_type": "display_data",
     "data": {
      "text/plain": [
       "  0%|          | 0/33792 [00:00<?, ?it/s]"
      ],
      "application/vnd.jupyter.widget-view+json": {
       "version_major": 2,
       "version_minor": 0,
       "model_id": "ee51fddcc1dc4273ac67f2f3593baca4"
      }
     },
     "metadata": {}
    }
   ],
   "metadata": {}
  },
  {
   "cell_type": "markdown",
   "source": [
    "## Making the main DataFrame"
   ],
   "metadata": {}
  },
  {
   "cell_type": "code",
   "execution_count": 35,
   "source": [
    "music = pd.concat([jazz, jazz_cool, rock, hard_rock, hiphop, rap, trap, pop, techno, deep], axis=0, ignore_index=True)"
   ],
   "outputs": [],
   "metadata": {}
  },
  {
   "cell_type": "code",
   "execution_count": 36,
   "source": [
    "music.info()"
   ],
   "outputs": [
    {
     "output_type": "stream",
     "name": "stdout",
     "text": [
      "<class 'pandas.core.frame.DataFrame'>\n",
      "RangeIndex: 152298 entries, 0 to 152297\n",
      "Data columns (total 16 columns):\n",
      " #   Column            Non-Null Count   Dtype  \n",
      "---  ------            --------------   -----  \n",
      " 0   danceability      152298 non-null  float64\n",
      " 1   energy            152298 non-null  float64\n",
      " 2   key               152298 non-null  int64  \n",
      " 3   loudness          152298 non-null  float64\n",
      " 4   mode              152298 non-null  int64  \n",
      " 5   speechiness       152298 non-null  float64\n",
      " 6   acousticness      152298 non-null  float64\n",
      " 7   instrumentalness  152298 non-null  float64\n",
      " 8   liveness          152298 non-null  float64\n",
      " 9   valence           152298 non-null  float64\n",
      " 10  tempo             152298 non-null  float64\n",
      " 11  id                152298 non-null  object \n",
      " 12  duration_ms       152298 non-null  int64  \n",
      " 13  time_signature    152298 non-null  int64  \n",
      " 14  genre             152298 non-null  int64  \n",
      " 15  year              152298 non-null  object \n",
      "dtypes: float64(9), int64(5), object(2)\n",
      "memory usage: 18.6+ MB\n"
     ]
    }
   ],
   "metadata": {}
  },
  {
   "cell_type": "code",
   "execution_count": 37,
   "source": [
    "music.tail()"
   ],
   "outputs": [
    {
     "output_type": "execute_result",
     "data": {
      "text/plain": [
       "        danceability   energy  key  loudness  mode  speechiness  acousticness  \\\n",
       "152293         0.373  0.07400    1   -24.595     1       0.0509         0.745   \n",
       "152294         0.123  0.01280    2   -27.916     0       0.0401         0.692   \n",
       "152295         0.342  0.02570    0   -31.669     1       0.0447         0.776   \n",
       "152296         0.142  0.00248    7   -34.535     1       0.0476         0.270   \n",
       "152297         0.165  0.09830   10   -24.322     1       0.0432         0.721   \n",
       "\n",
       "        instrumentalness  liveness  valence    tempo                      id  \\\n",
       "152293            0.8190    0.1020   0.1350  122.238  41PhuLu40MhT6vg3vr4778   \n",
       "152294            0.2910    0.1090   0.0383   71.621  7Fa0w7GNcS57sMfTofiG4R   \n",
       "152295            0.0956    0.1120   0.3620  158.439  4SniQ36o6fHpIKwHVNnJoN   \n",
       "152296            0.0232    0.0596   0.0366   74.570  0lotD0m9lAMrmZZ85N9QDC   \n",
       "152297            0.6430    0.3050   0.0461   72.211  1rlxhEmCV8D2eyL6rJwXLD   \n",
       "\n",
       "        duration_ms  time_signature  genre  year  \n",
       "152293       375773               4      5  2021  \n",
       "152294       824013               4      5  2021  \n",
       "152295       305600               3      5  2021  \n",
       "152296       750187               4      5  2021  \n",
       "152297       600280               4      5  2021  "
      ],
      "text/html": [
       "<div>\n",
       "<style scoped>\n",
       "    .dataframe tbody tr th:only-of-type {\n",
       "        vertical-align: middle;\n",
       "    }\n",
       "\n",
       "    .dataframe tbody tr th {\n",
       "        vertical-align: top;\n",
       "    }\n",
       "\n",
       "    .dataframe thead th {\n",
       "        text-align: right;\n",
       "    }\n",
       "</style>\n",
       "<table border=\"1\" class=\"dataframe\">\n",
       "  <thead>\n",
       "    <tr style=\"text-align: right;\">\n",
       "      <th></th>\n",
       "      <th>danceability</th>\n",
       "      <th>energy</th>\n",
       "      <th>key</th>\n",
       "      <th>loudness</th>\n",
       "      <th>mode</th>\n",
       "      <th>speechiness</th>\n",
       "      <th>acousticness</th>\n",
       "      <th>instrumentalness</th>\n",
       "      <th>liveness</th>\n",
       "      <th>valence</th>\n",
       "      <th>tempo</th>\n",
       "      <th>id</th>\n",
       "      <th>duration_ms</th>\n",
       "      <th>time_signature</th>\n",
       "      <th>genre</th>\n",
       "      <th>year</th>\n",
       "    </tr>\n",
       "  </thead>\n",
       "  <tbody>\n",
       "    <tr>\n",
       "      <th>152293</th>\n",
       "      <td>0.373</td>\n",
       "      <td>0.07400</td>\n",
       "      <td>1</td>\n",
       "      <td>-24.595</td>\n",
       "      <td>1</td>\n",
       "      <td>0.0509</td>\n",
       "      <td>0.745</td>\n",
       "      <td>0.8190</td>\n",
       "      <td>0.1020</td>\n",
       "      <td>0.1350</td>\n",
       "      <td>122.238</td>\n",
       "      <td>41PhuLu40MhT6vg3vr4778</td>\n",
       "      <td>375773</td>\n",
       "      <td>4</td>\n",
       "      <td>5</td>\n",
       "      <td>2021</td>\n",
       "    </tr>\n",
       "    <tr>\n",
       "      <th>152294</th>\n",
       "      <td>0.123</td>\n",
       "      <td>0.01280</td>\n",
       "      <td>2</td>\n",
       "      <td>-27.916</td>\n",
       "      <td>0</td>\n",
       "      <td>0.0401</td>\n",
       "      <td>0.692</td>\n",
       "      <td>0.2910</td>\n",
       "      <td>0.1090</td>\n",
       "      <td>0.0383</td>\n",
       "      <td>71.621</td>\n",
       "      <td>7Fa0w7GNcS57sMfTofiG4R</td>\n",
       "      <td>824013</td>\n",
       "      <td>4</td>\n",
       "      <td>5</td>\n",
       "      <td>2021</td>\n",
       "    </tr>\n",
       "    <tr>\n",
       "      <th>152295</th>\n",
       "      <td>0.342</td>\n",
       "      <td>0.02570</td>\n",
       "      <td>0</td>\n",
       "      <td>-31.669</td>\n",
       "      <td>1</td>\n",
       "      <td>0.0447</td>\n",
       "      <td>0.776</td>\n",
       "      <td>0.0956</td>\n",
       "      <td>0.1120</td>\n",
       "      <td>0.3620</td>\n",
       "      <td>158.439</td>\n",
       "      <td>4SniQ36o6fHpIKwHVNnJoN</td>\n",
       "      <td>305600</td>\n",
       "      <td>3</td>\n",
       "      <td>5</td>\n",
       "      <td>2021</td>\n",
       "    </tr>\n",
       "    <tr>\n",
       "      <th>152296</th>\n",
       "      <td>0.142</td>\n",
       "      <td>0.00248</td>\n",
       "      <td>7</td>\n",
       "      <td>-34.535</td>\n",
       "      <td>1</td>\n",
       "      <td>0.0476</td>\n",
       "      <td>0.270</td>\n",
       "      <td>0.0232</td>\n",
       "      <td>0.0596</td>\n",
       "      <td>0.0366</td>\n",
       "      <td>74.570</td>\n",
       "      <td>0lotD0m9lAMrmZZ85N9QDC</td>\n",
       "      <td>750187</td>\n",
       "      <td>4</td>\n",
       "      <td>5</td>\n",
       "      <td>2021</td>\n",
       "    </tr>\n",
       "    <tr>\n",
       "      <th>152297</th>\n",
       "      <td>0.165</td>\n",
       "      <td>0.09830</td>\n",
       "      <td>10</td>\n",
       "      <td>-24.322</td>\n",
       "      <td>1</td>\n",
       "      <td>0.0432</td>\n",
       "      <td>0.721</td>\n",
       "      <td>0.6430</td>\n",
       "      <td>0.3050</td>\n",
       "      <td>0.0461</td>\n",
       "      <td>72.211</td>\n",
       "      <td>1rlxhEmCV8D2eyL6rJwXLD</td>\n",
       "      <td>600280</td>\n",
       "      <td>4</td>\n",
       "      <td>5</td>\n",
       "      <td>2021</td>\n",
       "    </tr>\n",
       "  </tbody>\n",
       "</table>\n",
       "</div>"
      ]
     },
     "metadata": {},
     "execution_count": 37
    }
   ],
   "metadata": {}
  },
  {
   "cell_type": "markdown",
   "source": [
    "## Check and drop duplicates"
   ],
   "metadata": {}
  },
  {
   "cell_type": "code",
   "execution_count": 38,
   "source": [
    "music.duplicated(subset=['id']).value_counts()"
   ],
   "outputs": [
    {
     "output_type": "execute_result",
     "data": {
      "text/plain": [
       "False    142783\n",
       "True       9515\n",
       "dtype: int64"
      ]
     },
     "metadata": {},
     "execution_count": 38
    }
   ],
   "metadata": {}
  },
  {
   "cell_type": "code",
   "execution_count": 39,
   "source": [
    "music.drop_duplicates(subset=['id'], inplace=True, ignore_index=True)"
   ],
   "outputs": [],
   "metadata": {}
  },
  {
   "cell_type": "code",
   "execution_count": 40,
   "source": [
    "music.info()"
   ],
   "outputs": [
    {
     "output_type": "stream",
     "name": "stdout",
     "text": [
      "<class 'pandas.core.frame.DataFrame'>\n",
      "RangeIndex: 142783 entries, 0 to 142782\n",
      "Data columns (total 16 columns):\n",
      " #   Column            Non-Null Count   Dtype  \n",
      "---  ------            --------------   -----  \n",
      " 0   danceability      142783 non-null  float64\n",
      " 1   energy            142783 non-null  float64\n",
      " 2   key               142783 non-null  int64  \n",
      " 3   loudness          142783 non-null  float64\n",
      " 4   mode              142783 non-null  int64  \n",
      " 5   speechiness       142783 non-null  float64\n",
      " 6   acousticness      142783 non-null  float64\n",
      " 7   instrumentalness  142783 non-null  float64\n",
      " 8   liveness          142783 non-null  float64\n",
      " 9   valence           142783 non-null  float64\n",
      " 10  tempo             142783 non-null  float64\n",
      " 11  id                142783 non-null  object \n",
      " 12  duration_ms       142783 non-null  int64  \n",
      " 13  time_signature    142783 non-null  int64  \n",
      " 14  genre             142783 non-null  int64  \n",
      " 15  year              142783 non-null  object \n",
      "dtypes: float64(9), int64(5), object(2)\n",
      "memory usage: 17.4+ MB\n"
     ]
    }
   ],
   "metadata": {}
  },
  {
   "cell_type": "code",
   "execution_count": 41,
   "source": [
    "music.tail()"
   ],
   "outputs": [
    {
     "output_type": "execute_result",
     "data": {
      "text/plain": [
       "        danceability   energy  key  loudness  mode  speechiness  acousticness  \\\n",
       "142778         0.373  0.07400    1   -24.595     1       0.0509         0.745   \n",
       "142779         0.123  0.01280    2   -27.916     0       0.0401         0.692   \n",
       "142780         0.342  0.02570    0   -31.669     1       0.0447         0.776   \n",
       "142781         0.142  0.00248    7   -34.535     1       0.0476         0.270   \n",
       "142782         0.165  0.09830   10   -24.322     1       0.0432         0.721   \n",
       "\n",
       "        instrumentalness  liveness  valence    tempo                      id  \\\n",
       "142778            0.8190    0.1020   0.1350  122.238  41PhuLu40MhT6vg3vr4778   \n",
       "142779            0.2910    0.1090   0.0383   71.621  7Fa0w7GNcS57sMfTofiG4R   \n",
       "142780            0.0956    0.1120   0.3620  158.439  4SniQ36o6fHpIKwHVNnJoN   \n",
       "142781            0.0232    0.0596   0.0366   74.570  0lotD0m9lAMrmZZ85N9QDC   \n",
       "142782            0.6430    0.3050   0.0461   72.211  1rlxhEmCV8D2eyL6rJwXLD   \n",
       "\n",
       "        duration_ms  time_signature  genre  year  \n",
       "142778       375773               4      5  2021  \n",
       "142779       824013               4      5  2021  \n",
       "142780       305600               3      5  2021  \n",
       "142781       750187               4      5  2021  \n",
       "142782       600280               4      5  2021  "
      ],
      "text/html": [
       "<div>\n",
       "<style scoped>\n",
       "    .dataframe tbody tr th:only-of-type {\n",
       "        vertical-align: middle;\n",
       "    }\n",
       "\n",
       "    .dataframe tbody tr th {\n",
       "        vertical-align: top;\n",
       "    }\n",
       "\n",
       "    .dataframe thead th {\n",
       "        text-align: right;\n",
       "    }\n",
       "</style>\n",
       "<table border=\"1\" class=\"dataframe\">\n",
       "  <thead>\n",
       "    <tr style=\"text-align: right;\">\n",
       "      <th></th>\n",
       "      <th>danceability</th>\n",
       "      <th>energy</th>\n",
       "      <th>key</th>\n",
       "      <th>loudness</th>\n",
       "      <th>mode</th>\n",
       "      <th>speechiness</th>\n",
       "      <th>acousticness</th>\n",
       "      <th>instrumentalness</th>\n",
       "      <th>liveness</th>\n",
       "      <th>valence</th>\n",
       "      <th>tempo</th>\n",
       "      <th>id</th>\n",
       "      <th>duration_ms</th>\n",
       "      <th>time_signature</th>\n",
       "      <th>genre</th>\n",
       "      <th>year</th>\n",
       "    </tr>\n",
       "  </thead>\n",
       "  <tbody>\n",
       "    <tr>\n",
       "      <th>142778</th>\n",
       "      <td>0.373</td>\n",
       "      <td>0.07400</td>\n",
       "      <td>1</td>\n",
       "      <td>-24.595</td>\n",
       "      <td>1</td>\n",
       "      <td>0.0509</td>\n",
       "      <td>0.745</td>\n",
       "      <td>0.8190</td>\n",
       "      <td>0.1020</td>\n",
       "      <td>0.1350</td>\n",
       "      <td>122.238</td>\n",
       "      <td>41PhuLu40MhT6vg3vr4778</td>\n",
       "      <td>375773</td>\n",
       "      <td>4</td>\n",
       "      <td>5</td>\n",
       "      <td>2021</td>\n",
       "    </tr>\n",
       "    <tr>\n",
       "      <th>142779</th>\n",
       "      <td>0.123</td>\n",
       "      <td>0.01280</td>\n",
       "      <td>2</td>\n",
       "      <td>-27.916</td>\n",
       "      <td>0</td>\n",
       "      <td>0.0401</td>\n",
       "      <td>0.692</td>\n",
       "      <td>0.2910</td>\n",
       "      <td>0.1090</td>\n",
       "      <td>0.0383</td>\n",
       "      <td>71.621</td>\n",
       "      <td>7Fa0w7GNcS57sMfTofiG4R</td>\n",
       "      <td>824013</td>\n",
       "      <td>4</td>\n",
       "      <td>5</td>\n",
       "      <td>2021</td>\n",
       "    </tr>\n",
       "    <tr>\n",
       "      <th>142780</th>\n",
       "      <td>0.342</td>\n",
       "      <td>0.02570</td>\n",
       "      <td>0</td>\n",
       "      <td>-31.669</td>\n",
       "      <td>1</td>\n",
       "      <td>0.0447</td>\n",
       "      <td>0.776</td>\n",
       "      <td>0.0956</td>\n",
       "      <td>0.1120</td>\n",
       "      <td>0.3620</td>\n",
       "      <td>158.439</td>\n",
       "      <td>4SniQ36o6fHpIKwHVNnJoN</td>\n",
       "      <td>305600</td>\n",
       "      <td>3</td>\n",
       "      <td>5</td>\n",
       "      <td>2021</td>\n",
       "    </tr>\n",
       "    <tr>\n",
       "      <th>142781</th>\n",
       "      <td>0.142</td>\n",
       "      <td>0.00248</td>\n",
       "      <td>7</td>\n",
       "      <td>-34.535</td>\n",
       "      <td>1</td>\n",
       "      <td>0.0476</td>\n",
       "      <td>0.270</td>\n",
       "      <td>0.0232</td>\n",
       "      <td>0.0596</td>\n",
       "      <td>0.0366</td>\n",
       "      <td>74.570</td>\n",
       "      <td>0lotD0m9lAMrmZZ85N9QDC</td>\n",
       "      <td>750187</td>\n",
       "      <td>4</td>\n",
       "      <td>5</td>\n",
       "      <td>2021</td>\n",
       "    </tr>\n",
       "    <tr>\n",
       "      <th>142782</th>\n",
       "      <td>0.165</td>\n",
       "      <td>0.09830</td>\n",
       "      <td>10</td>\n",
       "      <td>-24.322</td>\n",
       "      <td>1</td>\n",
       "      <td>0.0432</td>\n",
       "      <td>0.721</td>\n",
       "      <td>0.6430</td>\n",
       "      <td>0.3050</td>\n",
       "      <td>0.0461</td>\n",
       "      <td>72.211</td>\n",
       "      <td>1rlxhEmCV8D2eyL6rJwXLD</td>\n",
       "      <td>600280</td>\n",
       "      <td>4</td>\n",
       "      <td>5</td>\n",
       "      <td>2021</td>\n",
       "    </tr>\n",
       "  </tbody>\n",
       "</table>\n",
       "</div>"
      ]
     },
     "metadata": {},
     "execution_count": 41
    }
   ],
   "metadata": {}
  },
  {
   "cell_type": "code",
   "execution_count": 42,
   "source": [
    "music.to_csv('music.csv', index=False)"
   ],
   "outputs": [],
   "metadata": {}
  },
  {
   "cell_type": "code",
   "execution_count": 60,
   "source": [
    "music['year'].value_counts()"
   ],
   "outputs": [
    {
     "output_type": "execute_result",
     "data": {
      "text/plain": [
       "2021    27730\n",
       "2020    20319\n",
       "2019    13010\n",
       "2018     7493\n",
       "2017     7104\n",
       "        ...  \n",
       "1958       35\n",
       "1960       24\n",
       "0000       24\n",
       "1954       11\n",
       "1956        6\n",
       "Name: year, Length: 68, dtype: int64"
      ]
     },
     "metadata": {},
     "execution_count": 60
    }
   ],
   "metadata": {}
  }
 ],
 "metadata": {
  "kernelspec": {
   "name": "python3",
   "display_name": "Python 3.9.0 64-bit"
  },
  "language_info": {
   "codemirror_mode": {
    "name": "ipython",
    "version": 3
   },
   "file_extension": ".py",
   "mimetype": "text/x-python",
   "name": "python",
   "nbconvert_exporter": "python",
   "pygments_lexer": "ipython3",
   "version": "3.9.0"
  },
  "toc": {
   "base_numbering": 1,
   "nav_menu": {},
   "number_sections": true,
   "sideBar": true,
   "skip_h1_title": false,
   "title_cell": "Table of Contents",
   "title_sidebar": "Contents",
   "toc_cell": false,
   "toc_position": {},
   "toc_section_display": true,
   "toc_window_display": false
  },
  "varInspector": {
   "cols": {
    "lenName": 16,
    "lenType": 16,
    "lenVar": 40
   },
   "kernels_config": {
    "python": {
     "delete_cmd_postfix": "",
     "delete_cmd_prefix": "del ",
     "library": "var_list.py",
     "varRefreshCmd": "print(var_dic_list())"
    },
    "r": {
     "delete_cmd_postfix": ") ",
     "delete_cmd_prefix": "rm(",
     "library": "var_list.r",
     "varRefreshCmd": "cat(var_dic_list()) "
    }
   },
   "types_to_exclude": [
    "module",
    "function",
    "builtin_function_or_method",
    "instance",
    "_Feature"
   ],
   "window_display": false
  },
  "interpreter": {
   "hash": "4cd7ab41f5fca4b9b44701077e38c5ffd31fe66a6cab21e0214b68d958d0e462"
  }
 },
 "nbformat": 4,
 "nbformat_minor": 4
}