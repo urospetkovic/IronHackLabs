{
 "cells": [
  {
   "cell_type": "code",
   "execution_count": 116,
   "source": [
    "import pandas as pd\n",
    "from tqdm.notebook import tqdm\n",
    "import spotipy # install if needed\n",
    "from spotipy.oauth2 import SpotifyClientCredentials\n",
    "import getpass\n",
    "from sklearn.model_selection import train_test_split\n",
    "from sklearn import linear_model\n",
    "from sklearn.metrics import accuracy_score\n",
    "from sklearn.ensemble import RandomForestClassifier\n"
   ],
   "outputs": [],
   "metadata": {}
  },
  {
   "cell_type": "code",
   "execution_count": 3,
   "source": [
    "client_id = str(getpass.getpass('client_id?'))\n",
    "client_sectret = str(getpass.getpass('client_secret?'))"
   ],
   "outputs": [],
   "metadata": {}
  },
  {
   "cell_type": "code",
   "execution_count": 4,
   "source": [
    "sp = spotipy.Spotify(auth_manager=SpotifyClientCredentials(\n",
    "    client_id=client_id, client_secret=client_sectret))"
   ],
   "outputs": [],
   "metadata": {}
  },
  {
   "cell_type": "code",
   "execution_count": 140,
   "source": [
    "jazz = pd.read_csv('data/jazz_songs.csv')"
   ],
   "outputs": [],
   "metadata": {}
  },
  {
   "cell_type": "code",
   "execution_count": 141,
   "source": [
    "rock = pd.read_csv('data/rock_clean.csv')"
   ],
   "outputs": [],
   "metadata": {}
  },
  {
   "cell_type": "code",
   "execution_count": 142,
   "source": [
    "hiphop = pd.read_csv('data/hiphop_songs.csv')"
   ],
   "outputs": [],
   "metadata": {}
  },
  {
   "cell_type": "code",
   "execution_count": 143,
   "source": [
    "pop = pd.read_csv('data/pop_songs.csv')"
   ],
   "outputs": [],
   "metadata": {}
  },
  {
   "cell_type": "code",
   "execution_count": 144,
   "source": [
    "rock.drop(['Unnamed: 0.1'], inplace=True, axis=1)"
   ],
   "outputs": [],
   "metadata": {}
  },
  {
   "cell_type": "code",
   "execution_count": 145,
   "source": [
    "jazz['genre'] = 1"
   ],
   "outputs": [],
   "metadata": {}
  },
  {
   "cell_type": "code",
   "execution_count": 146,
   "source": [
    "jazz.head()"
   ],
   "outputs": [
    {
     "output_type": "execute_result",
     "data": {
      "text/plain": [
       "   Unnamed: 0  danceability  energy  key  loudness  mode  speechiness  \\\n",
       "0           0         0.523   0.279    4   -21.715     0       0.0466   \n",
       "1           1         0.335   0.154    1   -25.574     1       0.0499   \n",
       "2           2         0.424   0.184    5   -23.582     0       0.0395   \n",
       "3           3         0.416   0.424    2   -17.458     1       0.0459   \n",
       "4           4         0.298   0.111    7   -24.838     1       0.0676   \n",
       "\n",
       "   acousticness  instrumentalness  liveness  valence    tempo  \\\n",
       "0         0.936             0.921     0.974   0.5940   97.101   \n",
       "1         0.984             0.914     0.856   0.1130  184.044   \n",
       "2         0.963             0.891     0.683   0.2460   79.817   \n",
       "3         0.980             0.939     0.633   0.3850  108.886   \n",
       "4         0.995             0.944     0.663   0.0398   69.560   \n",
       "\n",
       "                       id  duration_ms  time_signature  genre  \n",
       "0  04yW9pKk983TGpcHmn8KQP       330667               4      1  \n",
       "1  5vXJmlnBBQwl9RE6Vg75fU       299533               3      1  \n",
       "2  3WuNyS0A9Qlb9UXxM51VkU       377560               3      1  \n",
       "3  66j2M4V2NQsyWmR0OgnA5v       284667               4      1  \n",
       "4  3xUifJSdMNedjkIpOoNsMC       819560               4      1  "
      ],
      "text/html": [
       "<div>\n",
       "<style scoped>\n",
       "    .dataframe tbody tr th:only-of-type {\n",
       "        vertical-align: middle;\n",
       "    }\n",
       "\n",
       "    .dataframe tbody tr th {\n",
       "        vertical-align: top;\n",
       "    }\n",
       "\n",
       "    .dataframe thead th {\n",
       "        text-align: right;\n",
       "    }\n",
       "</style>\n",
       "<table border=\"1\" class=\"dataframe\">\n",
       "  <thead>\n",
       "    <tr style=\"text-align: right;\">\n",
       "      <th></th>\n",
       "      <th>Unnamed: 0</th>\n",
       "      <th>danceability</th>\n",
       "      <th>energy</th>\n",
       "      <th>key</th>\n",
       "      <th>loudness</th>\n",
       "      <th>mode</th>\n",
       "      <th>speechiness</th>\n",
       "      <th>acousticness</th>\n",
       "      <th>instrumentalness</th>\n",
       "      <th>liveness</th>\n",
       "      <th>valence</th>\n",
       "      <th>tempo</th>\n",
       "      <th>id</th>\n",
       "      <th>duration_ms</th>\n",
       "      <th>time_signature</th>\n",
       "      <th>genre</th>\n",
       "    </tr>\n",
       "  </thead>\n",
       "  <tbody>\n",
       "    <tr>\n",
       "      <th>0</th>\n",
       "      <td>0</td>\n",
       "      <td>0.523</td>\n",
       "      <td>0.279</td>\n",
       "      <td>4</td>\n",
       "      <td>-21.715</td>\n",
       "      <td>0</td>\n",
       "      <td>0.0466</td>\n",
       "      <td>0.936</td>\n",
       "      <td>0.921</td>\n",
       "      <td>0.974</td>\n",
       "      <td>0.5940</td>\n",
       "      <td>97.101</td>\n",
       "      <td>04yW9pKk983TGpcHmn8KQP</td>\n",
       "      <td>330667</td>\n",
       "      <td>4</td>\n",
       "      <td>1</td>\n",
       "    </tr>\n",
       "    <tr>\n",
       "      <th>1</th>\n",
       "      <td>1</td>\n",
       "      <td>0.335</td>\n",
       "      <td>0.154</td>\n",
       "      <td>1</td>\n",
       "      <td>-25.574</td>\n",
       "      <td>1</td>\n",
       "      <td>0.0499</td>\n",
       "      <td>0.984</td>\n",
       "      <td>0.914</td>\n",
       "      <td>0.856</td>\n",
       "      <td>0.1130</td>\n",
       "      <td>184.044</td>\n",
       "      <td>5vXJmlnBBQwl9RE6Vg75fU</td>\n",
       "      <td>299533</td>\n",
       "      <td>3</td>\n",
       "      <td>1</td>\n",
       "    </tr>\n",
       "    <tr>\n",
       "      <th>2</th>\n",
       "      <td>2</td>\n",
       "      <td>0.424</td>\n",
       "      <td>0.184</td>\n",
       "      <td>5</td>\n",
       "      <td>-23.582</td>\n",
       "      <td>0</td>\n",
       "      <td>0.0395</td>\n",
       "      <td>0.963</td>\n",
       "      <td>0.891</td>\n",
       "      <td>0.683</td>\n",
       "      <td>0.2460</td>\n",
       "      <td>79.817</td>\n",
       "      <td>3WuNyS0A9Qlb9UXxM51VkU</td>\n",
       "      <td>377560</td>\n",
       "      <td>3</td>\n",
       "      <td>1</td>\n",
       "    </tr>\n",
       "    <tr>\n",
       "      <th>3</th>\n",
       "      <td>3</td>\n",
       "      <td>0.416</td>\n",
       "      <td>0.424</td>\n",
       "      <td>2</td>\n",
       "      <td>-17.458</td>\n",
       "      <td>1</td>\n",
       "      <td>0.0459</td>\n",
       "      <td>0.980</td>\n",
       "      <td>0.939</td>\n",
       "      <td>0.633</td>\n",
       "      <td>0.3850</td>\n",
       "      <td>108.886</td>\n",
       "      <td>66j2M4V2NQsyWmR0OgnA5v</td>\n",
       "      <td>284667</td>\n",
       "      <td>4</td>\n",
       "      <td>1</td>\n",
       "    </tr>\n",
       "    <tr>\n",
       "      <th>4</th>\n",
       "      <td>4</td>\n",
       "      <td>0.298</td>\n",
       "      <td>0.111</td>\n",
       "      <td>7</td>\n",
       "      <td>-24.838</td>\n",
       "      <td>1</td>\n",
       "      <td>0.0676</td>\n",
       "      <td>0.995</td>\n",
       "      <td>0.944</td>\n",
       "      <td>0.663</td>\n",
       "      <td>0.0398</td>\n",
       "      <td>69.560</td>\n",
       "      <td>3xUifJSdMNedjkIpOoNsMC</td>\n",
       "      <td>819560</td>\n",
       "      <td>4</td>\n",
       "      <td>1</td>\n",
       "    </tr>\n",
       "  </tbody>\n",
       "</table>\n",
       "</div>"
      ]
     },
     "metadata": {},
     "execution_count": 146
    }
   ],
   "metadata": {}
  },
  {
   "cell_type": "code",
   "execution_count": 147,
   "source": [
    "rock['genre'] = 2"
   ],
   "outputs": [],
   "metadata": {}
  },
  {
   "cell_type": "code",
   "execution_count": 148,
   "source": [
    "hiphop['genre'] = 3"
   ],
   "outputs": [],
   "metadata": {}
  },
  {
   "cell_type": "code",
   "execution_count": 149,
   "source": [
    "pop['genre'] = 4"
   ],
   "outputs": [],
   "metadata": {}
  },
  {
   "cell_type": "code",
   "execution_count": 150,
   "source": [
    "test_df = pd.concat([jazz, rock, hiphop, pop], axis=0, ignore_index=True)"
   ],
   "outputs": [],
   "metadata": {}
  },
  {
   "cell_type": "code",
   "execution_count": 151,
   "source": [
    "test_df.tail()"
   ],
   "outputs": [
    {
     "output_type": "execute_result",
     "data": {
      "text/plain": [
       "       Unnamed: 0  danceability  energy  key  loudness  mode  speechiness  \\\n",
       "83803       28828         0.505   0.680    7    -4.990     1       0.0713   \n",
       "83804       28829         0.371   0.329    0    -9.667     0       0.0574   \n",
       "83805       28830         0.501   0.403    9    -9.607     0       0.0752   \n",
       "83806       28831         0.550   0.404    0   -12.755     0       0.0398   \n",
       "83807       28832         0.626   0.583   10    -7.574     0       0.0435   \n",
       "\n",
       "       acousticness  instrumentalness  liveness  valence    tempo  \\\n",
       "83803        0.0796          0.000000    0.0465   0.5390  168.021   \n",
       "83804        0.1310          0.006250    0.2790   0.0539  173.661   \n",
       "83805        0.1140          0.000011    0.1240   0.2700  132.608   \n",
       "83806        0.4410          0.000220    0.1100   0.3290  135.016   \n",
       "83807        0.1050          0.000000    0.1150   0.3350  127.956   \n",
       "\n",
       "                           id  duration_ms  time_signature  genre  \n",
       "83803  3MaQvpdNb4Vv7J7K9jYw1t       235653               3      4  \n",
       "83804  6MkumkB800IlwJXGOln4Th       340493               4      4  \n",
       "83805  41oeGHsIkl8UfgwEbyRuP8       260640               3      4  \n",
       "83806  3dkeFXyOlKg0THR22hxvsv       274960               4      4  \n",
       "83807  3Df2uB1b5XDbJAiu2xOHvH       377347               4      4  "
      ],
      "text/html": [
       "<div>\n",
       "<style scoped>\n",
       "    .dataframe tbody tr th:only-of-type {\n",
       "        vertical-align: middle;\n",
       "    }\n",
       "\n",
       "    .dataframe tbody tr th {\n",
       "        vertical-align: top;\n",
       "    }\n",
       "\n",
       "    .dataframe thead th {\n",
       "        text-align: right;\n",
       "    }\n",
       "</style>\n",
       "<table border=\"1\" class=\"dataframe\">\n",
       "  <thead>\n",
       "    <tr style=\"text-align: right;\">\n",
       "      <th></th>\n",
       "      <th>Unnamed: 0</th>\n",
       "      <th>danceability</th>\n",
       "      <th>energy</th>\n",
       "      <th>key</th>\n",
       "      <th>loudness</th>\n",
       "      <th>mode</th>\n",
       "      <th>speechiness</th>\n",
       "      <th>acousticness</th>\n",
       "      <th>instrumentalness</th>\n",
       "      <th>liveness</th>\n",
       "      <th>valence</th>\n",
       "      <th>tempo</th>\n",
       "      <th>id</th>\n",
       "      <th>duration_ms</th>\n",
       "      <th>time_signature</th>\n",
       "      <th>genre</th>\n",
       "    </tr>\n",
       "  </thead>\n",
       "  <tbody>\n",
       "    <tr>\n",
       "      <th>83803</th>\n",
       "      <td>28828</td>\n",
       "      <td>0.505</td>\n",
       "      <td>0.680</td>\n",
       "      <td>7</td>\n",
       "      <td>-4.990</td>\n",
       "      <td>1</td>\n",
       "      <td>0.0713</td>\n",
       "      <td>0.0796</td>\n",
       "      <td>0.000000</td>\n",
       "      <td>0.0465</td>\n",
       "      <td>0.5390</td>\n",
       "      <td>168.021</td>\n",
       "      <td>3MaQvpdNb4Vv7J7K9jYw1t</td>\n",
       "      <td>235653</td>\n",
       "      <td>3</td>\n",
       "      <td>4</td>\n",
       "    </tr>\n",
       "    <tr>\n",
       "      <th>83804</th>\n",
       "      <td>28829</td>\n",
       "      <td>0.371</td>\n",
       "      <td>0.329</td>\n",
       "      <td>0</td>\n",
       "      <td>-9.667</td>\n",
       "      <td>0</td>\n",
       "      <td>0.0574</td>\n",
       "      <td>0.1310</td>\n",
       "      <td>0.006250</td>\n",
       "      <td>0.2790</td>\n",
       "      <td>0.0539</td>\n",
       "      <td>173.661</td>\n",
       "      <td>6MkumkB800IlwJXGOln4Th</td>\n",
       "      <td>340493</td>\n",
       "      <td>4</td>\n",
       "      <td>4</td>\n",
       "    </tr>\n",
       "    <tr>\n",
       "      <th>83805</th>\n",
       "      <td>28830</td>\n",
       "      <td>0.501</td>\n",
       "      <td>0.403</td>\n",
       "      <td>9</td>\n",
       "      <td>-9.607</td>\n",
       "      <td>0</td>\n",
       "      <td>0.0752</td>\n",
       "      <td>0.1140</td>\n",
       "      <td>0.000011</td>\n",
       "      <td>0.1240</td>\n",
       "      <td>0.2700</td>\n",
       "      <td>132.608</td>\n",
       "      <td>41oeGHsIkl8UfgwEbyRuP8</td>\n",
       "      <td>260640</td>\n",
       "      <td>3</td>\n",
       "      <td>4</td>\n",
       "    </tr>\n",
       "    <tr>\n",
       "      <th>83806</th>\n",
       "      <td>28831</td>\n",
       "      <td>0.550</td>\n",
       "      <td>0.404</td>\n",
       "      <td>0</td>\n",
       "      <td>-12.755</td>\n",
       "      <td>0</td>\n",
       "      <td>0.0398</td>\n",
       "      <td>0.4410</td>\n",
       "      <td>0.000220</td>\n",
       "      <td>0.1100</td>\n",
       "      <td>0.3290</td>\n",
       "      <td>135.016</td>\n",
       "      <td>3dkeFXyOlKg0THR22hxvsv</td>\n",
       "      <td>274960</td>\n",
       "      <td>4</td>\n",
       "      <td>4</td>\n",
       "    </tr>\n",
       "    <tr>\n",
       "      <th>83807</th>\n",
       "      <td>28832</td>\n",
       "      <td>0.626</td>\n",
       "      <td>0.583</td>\n",
       "      <td>10</td>\n",
       "      <td>-7.574</td>\n",
       "      <td>0</td>\n",
       "      <td>0.0435</td>\n",
       "      <td>0.1050</td>\n",
       "      <td>0.000000</td>\n",
       "      <td>0.1150</td>\n",
       "      <td>0.3350</td>\n",
       "      <td>127.956</td>\n",
       "      <td>3Df2uB1b5XDbJAiu2xOHvH</td>\n",
       "      <td>377347</td>\n",
       "      <td>4</td>\n",
       "      <td>4</td>\n",
       "    </tr>\n",
       "  </tbody>\n",
       "</table>\n",
       "</div>"
      ]
     },
     "metadata": {},
     "execution_count": 151
    }
   ],
   "metadata": {}
  },
  {
   "cell_type": "code",
   "execution_count": 152,
   "source": [
    "test_df.info()"
   ],
   "outputs": [
    {
     "output_type": "stream",
     "name": "stdout",
     "text": [
      "<class 'pandas.core.frame.DataFrame'>\n",
      "RangeIndex: 83808 entries, 0 to 83807\n",
      "Data columns (total 16 columns):\n",
      " #   Column            Non-Null Count  Dtype  \n",
      "---  ------            --------------  -----  \n",
      " 0   Unnamed: 0        83808 non-null  int64  \n",
      " 1   danceability      83808 non-null  float64\n",
      " 2   energy            83808 non-null  float64\n",
      " 3   key               83808 non-null  int64  \n",
      " 4   loudness          83808 non-null  float64\n",
      " 5   mode              83808 non-null  int64  \n",
      " 6   speechiness       83808 non-null  float64\n",
      " 7   acousticness      83808 non-null  float64\n",
      " 8   instrumentalness  83808 non-null  float64\n",
      " 9   liveness          83808 non-null  float64\n",
      " 10  valence           83808 non-null  float64\n",
      " 11  tempo             83808 non-null  float64\n",
      " 12  id                83808 non-null  object \n",
      " 13  duration_ms       83808 non-null  int64  \n",
      " 14  time_signature    83808 non-null  int64  \n",
      " 15  genre             83808 non-null  int64  \n",
      "dtypes: float64(9), int64(6), object(1)\n",
      "memory usage: 10.2+ MB\n"
     ]
    }
   ],
   "metadata": {}
  },
  {
   "cell_type": "code",
   "execution_count": 153,
   "source": [
    "y = test_df['genre']\n",
    "X = test_df.drop(['genre', 'id', 'Unnamed: 0'], axis=1)"
   ],
   "outputs": [],
   "metadata": {}
  },
  {
   "cell_type": "code",
   "execution_count": 154,
   "source": [
    "X.head()"
   ],
   "outputs": [
    {
     "output_type": "execute_result",
     "data": {
      "text/plain": [
       "   danceability  energy  key  loudness  mode  speechiness  acousticness  \\\n",
       "0         0.523   0.279    4   -21.715     0       0.0466         0.936   \n",
       "1         0.335   0.154    1   -25.574     1       0.0499         0.984   \n",
       "2         0.424   0.184    5   -23.582     0       0.0395         0.963   \n",
       "3         0.416   0.424    2   -17.458     1       0.0459         0.980   \n",
       "4         0.298   0.111    7   -24.838     1       0.0676         0.995   \n",
       "\n",
       "   instrumentalness  liveness  valence    tempo  duration_ms  time_signature  \n",
       "0             0.921     0.974   0.5940   97.101       330667               4  \n",
       "1             0.914     0.856   0.1130  184.044       299533               3  \n",
       "2             0.891     0.683   0.2460   79.817       377560               3  \n",
       "3             0.939     0.633   0.3850  108.886       284667               4  \n",
       "4             0.944     0.663   0.0398   69.560       819560               4  "
      ],
      "text/html": [
       "<div>\n",
       "<style scoped>\n",
       "    .dataframe tbody tr th:only-of-type {\n",
       "        vertical-align: middle;\n",
       "    }\n",
       "\n",
       "    .dataframe tbody tr th {\n",
       "        vertical-align: top;\n",
       "    }\n",
       "\n",
       "    .dataframe thead th {\n",
       "        text-align: right;\n",
       "    }\n",
       "</style>\n",
       "<table border=\"1\" class=\"dataframe\">\n",
       "  <thead>\n",
       "    <tr style=\"text-align: right;\">\n",
       "      <th></th>\n",
       "      <th>danceability</th>\n",
       "      <th>energy</th>\n",
       "      <th>key</th>\n",
       "      <th>loudness</th>\n",
       "      <th>mode</th>\n",
       "      <th>speechiness</th>\n",
       "      <th>acousticness</th>\n",
       "      <th>instrumentalness</th>\n",
       "      <th>liveness</th>\n",
       "      <th>valence</th>\n",
       "      <th>tempo</th>\n",
       "      <th>duration_ms</th>\n",
       "      <th>time_signature</th>\n",
       "    </tr>\n",
       "  </thead>\n",
       "  <tbody>\n",
       "    <tr>\n",
       "      <th>0</th>\n",
       "      <td>0.523</td>\n",
       "      <td>0.279</td>\n",
       "      <td>4</td>\n",
       "      <td>-21.715</td>\n",
       "      <td>0</td>\n",
       "      <td>0.0466</td>\n",
       "      <td>0.936</td>\n",
       "      <td>0.921</td>\n",
       "      <td>0.974</td>\n",
       "      <td>0.5940</td>\n",
       "      <td>97.101</td>\n",
       "      <td>330667</td>\n",
       "      <td>4</td>\n",
       "    </tr>\n",
       "    <tr>\n",
       "      <th>1</th>\n",
       "      <td>0.335</td>\n",
       "      <td>0.154</td>\n",
       "      <td>1</td>\n",
       "      <td>-25.574</td>\n",
       "      <td>1</td>\n",
       "      <td>0.0499</td>\n",
       "      <td>0.984</td>\n",
       "      <td>0.914</td>\n",
       "      <td>0.856</td>\n",
       "      <td>0.1130</td>\n",
       "      <td>184.044</td>\n",
       "      <td>299533</td>\n",
       "      <td>3</td>\n",
       "    </tr>\n",
       "    <tr>\n",
       "      <th>2</th>\n",
       "      <td>0.424</td>\n",
       "      <td>0.184</td>\n",
       "      <td>5</td>\n",
       "      <td>-23.582</td>\n",
       "      <td>0</td>\n",
       "      <td>0.0395</td>\n",
       "      <td>0.963</td>\n",
       "      <td>0.891</td>\n",
       "      <td>0.683</td>\n",
       "      <td>0.2460</td>\n",
       "      <td>79.817</td>\n",
       "      <td>377560</td>\n",
       "      <td>3</td>\n",
       "    </tr>\n",
       "    <tr>\n",
       "      <th>3</th>\n",
       "      <td>0.416</td>\n",
       "      <td>0.424</td>\n",
       "      <td>2</td>\n",
       "      <td>-17.458</td>\n",
       "      <td>1</td>\n",
       "      <td>0.0459</td>\n",
       "      <td>0.980</td>\n",
       "      <td>0.939</td>\n",
       "      <td>0.633</td>\n",
       "      <td>0.3850</td>\n",
       "      <td>108.886</td>\n",
       "      <td>284667</td>\n",
       "      <td>4</td>\n",
       "    </tr>\n",
       "    <tr>\n",
       "      <th>4</th>\n",
       "      <td>0.298</td>\n",
       "      <td>0.111</td>\n",
       "      <td>7</td>\n",
       "      <td>-24.838</td>\n",
       "      <td>1</td>\n",
       "      <td>0.0676</td>\n",
       "      <td>0.995</td>\n",
       "      <td>0.944</td>\n",
       "      <td>0.663</td>\n",
       "      <td>0.0398</td>\n",
       "      <td>69.560</td>\n",
       "      <td>819560</td>\n",
       "      <td>4</td>\n",
       "    </tr>\n",
       "  </tbody>\n",
       "</table>\n",
       "</div>"
      ]
     },
     "metadata": {},
     "execution_count": 154
    }
   ],
   "metadata": {}
  },
  {
   "cell_type": "code",
   "execution_count": 155,
   "source": [
    "r_tree = RandomForestClassifier()"
   ],
   "outputs": [],
   "metadata": {}
  },
  {
   "cell_type": "code",
   "execution_count": 156,
   "source": [
    "X_train, X_test, y_train, y_test = train_test_split(X, y,test_size=0.3,random_state=40)\n"
   ],
   "outputs": [],
   "metadata": {}
  },
  {
   "cell_type": "code",
   "execution_count": 157,
   "source": [
    "forest_model = r_tree.fit(X_train,y_train)"
   ],
   "outputs": [],
   "metadata": {}
  },
  {
   "cell_type": "code",
   "execution_count": 158,
   "source": [
    "y_pred = forest_model.predict(X_test)"
   ],
   "outputs": [],
   "metadata": {}
  },
  {
   "cell_type": "code",
   "execution_count": 159,
   "source": [
    "accuracy_score(y_test, y_pred)"
   ],
   "outputs": [
    {
     "output_type": "execute_result",
     "data": {
      "text/plain": [
       "0.8417849898580122"
      ]
     },
     "metadata": {},
     "execution_count": 159
    }
   ],
   "metadata": {}
  },
  {
   "cell_type": "code",
   "execution_count": 160,
   "source": [
    "from sklearn.metrics import classification_report"
   ],
   "outputs": [],
   "metadata": {}
  },
  {
   "cell_type": "code",
   "execution_count": 161,
   "source": [
    "print(classification_report(y_test, y_pred))"
   ],
   "outputs": [
    {
     "output_type": "stream",
     "name": "stdout",
     "text": [
      "              precision    recall  f1-score   support\n",
      "\n",
      "           1       0.87      0.92      0.89      6521\n",
      "           2       0.85      0.81      0.83      7312\n",
      "           3       0.76      0.69      0.73      2639\n",
      "           4       0.84      0.85      0.85      8671\n",
      "\n",
      "    accuracy                           0.84     25143\n",
      "   macro avg       0.83      0.82      0.82     25143\n",
      "weighted avg       0.84      0.84      0.84     25143\n",
      "\n"
     ]
    }
   ],
   "metadata": {}
  },
  {
   "cell_type": "code",
   "execution_count": null,
   "source": [],
   "outputs": [],
   "metadata": {}
  }
 ],
 "metadata": {
  "kernelspec": {
   "name": "python3",
   "display_name": "Python 3.9.0 64-bit"
  },
  "language_info": {
   "codemirror_mode": {
    "name": "ipython",
    "version": 3
   },
   "file_extension": ".py",
   "mimetype": "text/x-python",
   "name": "python",
   "nbconvert_exporter": "python",
   "pygments_lexer": "ipython3",
   "version": "3.9.0"
  },
  "interpreter": {
   "hash": "4cd7ab41f5fca4b9b44701077e38c5ffd31fe66a6cab21e0214b68d958d0e462"
  }
 },
 "nbformat": 4,
 "nbformat_minor": 5
}