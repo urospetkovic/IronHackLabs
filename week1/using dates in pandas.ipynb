{
 "cells": [
  {
   "cell_type": "code",
   "execution_count": 3,
   "id": "patent-connectivity",
   "metadata": {},
   "outputs": [],
   "source": [
    "import pandas as pd\n",
    "import numpy as np\n",
    "import time\n",
    "from datetime import date"
   ]
  },
  {
   "cell_type": "code",
   "execution_count": 4,
   "metadata": {},
   "outputs": [],
   "source": [
    "web = pd.read_csv('web_data.csv')"
   ]
  },
  {
   "cell_type": "code",
   "execution_count": 5,
   "metadata": {},
   "outputs": [
    {
     "output_type": "execute_result",
     "data": {
      "text/plain": [
       "   web_id  client_id            visitor_id                      visit_id  \\\n",
       "0       0    9988021  580560515_7732621733  781255054_21935453173_531117   \n",
       "1       1    9988021  580560515_7732621733  781255054_21935453173_531117   \n",
       "2       2    9988021  580560515_7732621733  781255054_21935453173_531117   \n",
       "3       3    9988021  580560515_7732621733  781255054_21935453173_531117   \n",
       "4       4    9988021  580560515_7732621733  781255054_21935453173_531117   \n",
       "\n",
       "  process_step      date_time  \n",
       "0       step_3  4/17/17 15:27  \n",
       "1       step_2  4/17/17 15:26  \n",
       "2       step_3  4/17/17 15:19  \n",
       "3       step_2  4/17/17 15:19  \n",
       "4       step_3  4/17/17 15:18  "
      ],
      "text/html": "<div>\n<style scoped>\n    .dataframe tbody tr th:only-of-type {\n        vertical-align: middle;\n    }\n\n    .dataframe tbody tr th {\n        vertical-align: top;\n    }\n\n    .dataframe thead th {\n        text-align: right;\n    }\n</style>\n<table border=\"1\" class=\"dataframe\">\n  <thead>\n    <tr style=\"text-align: right;\">\n      <th></th>\n      <th>web_id</th>\n      <th>client_id</th>\n      <th>visitor_id</th>\n      <th>visit_id</th>\n      <th>process_step</th>\n      <th>date_time</th>\n    </tr>\n  </thead>\n  <tbody>\n    <tr>\n      <th>0</th>\n      <td>0</td>\n      <td>9988021</td>\n      <td>580560515_7732621733</td>\n      <td>781255054_21935453173_531117</td>\n      <td>step_3</td>\n      <td>4/17/17 15:27</td>\n    </tr>\n    <tr>\n      <th>1</th>\n      <td>1</td>\n      <td>9988021</td>\n      <td>580560515_7732621733</td>\n      <td>781255054_21935453173_531117</td>\n      <td>step_2</td>\n      <td>4/17/17 15:26</td>\n    </tr>\n    <tr>\n      <th>2</th>\n      <td>2</td>\n      <td>9988021</td>\n      <td>580560515_7732621733</td>\n      <td>781255054_21935453173_531117</td>\n      <td>step_3</td>\n      <td>4/17/17 15:19</td>\n    </tr>\n    <tr>\n      <th>3</th>\n      <td>3</td>\n      <td>9988021</td>\n      <td>580560515_7732621733</td>\n      <td>781255054_21935453173_531117</td>\n      <td>step_2</td>\n      <td>4/17/17 15:19</td>\n    </tr>\n    <tr>\n      <th>4</th>\n      <td>4</td>\n      <td>9988021</td>\n      <td>580560515_7732621733</td>\n      <td>781255054_21935453173_531117</td>\n      <td>step_3</td>\n      <td>4/17/17 15:18</td>\n    </tr>\n  </tbody>\n</table>\n</div>"
     },
     "metadata": {},
     "execution_count": 5
    }
   ],
   "source": [
    "web.head()"
   ]
  },
  {
   "cell_type": "code",
   "execution_count": 7,
   "metadata": {},
   "outputs": [
    {
     "output_type": "execute_result",
     "data": {
      "text/plain": [
       "web_id           int64\n",
       "client_id        int64\n",
       "visitor_id      object\n",
       "visit_id        object\n",
       "process_step    object\n",
       "date_time       object\n",
       "dtype: object"
      ]
     },
     "metadata": {},
     "execution_count": 7
    }
   ],
   "source": [
    "web.dtypes"
   ]
  },
  {
   "cell_type": "code",
   "execution_count": 8,
   "metadata": {},
   "outputs": [
    {
     "output_type": "stream",
     "name": "stdout",
     "text": [
      "<class 'pandas.core.frame.DataFrame'>\nRangeIndex: 343141 entries, 0 to 343140\nData columns (total 6 columns):\n #   Column        Non-Null Count   Dtype \n---  ------        --------------   ----- \n 0   web_id        343141 non-null  int64 \n 1   client_id     343141 non-null  int64 \n 2   visitor_id    343141 non-null  object\n 3   visit_id      343141 non-null  object\n 4   process_step  343141 non-null  object\n 5   date_time     343141 non-null  object\ndtypes: int64(2), object(4)\nmemory usage: 15.7+ MB\n"
     ]
    }
   ],
   "source": [
    "web.info()"
   ]
  },
  {
   "cell_type": "code",
   "execution_count": 9,
   "metadata": {},
   "outputs": [],
   "source": [
    "web['date_time'] = pd.to_datetime(web['date_time'], errors='coerce')"
   ]
  },
  {
   "cell_type": "code",
   "execution_count": 10,
   "metadata": {},
   "outputs": [
    {
     "output_type": "stream",
     "name": "stdout",
     "text": [
      "<class 'pandas.core.frame.DataFrame'>\nRangeIndex: 343141 entries, 0 to 343140\nData columns (total 6 columns):\n #   Column        Non-Null Count   Dtype         \n---  ------        --------------   -----         \n 0   web_id        343141 non-null  int64         \n 1   client_id     343141 non-null  int64         \n 2   visitor_id    343141 non-null  object        \n 3   visit_id      343141 non-null  object        \n 4   process_step  343141 non-null  object        \n 5   date_time     343141 non-null  datetime64[ns]\ndtypes: datetime64[ns](1), int64(2), object(3)\nmemory usage: 15.7+ MB\n"
     ]
    }
   ],
   "source": [
    "web.info()"
   ]
  },
  {
   "cell_type": "code",
   "execution_count": 11,
   "metadata": {},
   "outputs": [
    {
     "output_type": "execute_result",
     "data": {
      "text/plain": [
       "datetime.time(15, 27)"
      ]
     },
     "metadata": {},
     "execution_count": 11
    }
   ],
   "source": [
    "web['date_time'][0].time()"
   ]
  },
  {
   "cell_type": "code",
   "execution_count": 17,
   "metadata": {},
   "outputs": [
    {
     "output_type": "execute_result",
     "data": {
      "text/plain": [
       "17"
      ]
     },
     "metadata": {},
     "execution_count": 17
    }
   ],
   "source": [
    "web['date_time'][0].day"
   ]
  },
  {
   "cell_type": "code",
   "execution_count": 18,
   "metadata": {},
   "outputs": [
    {
     "output_type": "execute_result",
     "data": {
      "text/plain": [
       "4"
      ]
     },
     "metadata": {},
     "execution_count": 18
    }
   ],
   "source": [
    "web['date_time'][0].month"
   ]
  },
  {
   "cell_type": "code",
   "execution_count": 19,
   "metadata": {},
   "outputs": [
    {
     "output_type": "execute_result",
     "data": {
      "text/plain": [
       "2017"
      ]
     },
     "metadata": {},
     "execution_count": 19
    }
   ],
   "source": [
    "web['date_time'][0].year"
   ]
  },
  {
   "cell_type": "code",
   "execution_count": 24,
   "metadata": {},
   "outputs": [
    {
     "output_type": "execute_result",
     "data": {
      "text/plain": [
       "15"
      ]
     },
     "metadata": {},
     "execution_count": 24
    }
   ],
   "source": [
    "web['date_time'][0].hour"
   ]
  },
  {
   "cell_type": "code",
   "execution_count": 25,
   "metadata": {},
   "outputs": [
    {
     "output_type": "execute_result",
     "data": {
      "text/plain": [
       "27"
      ]
     },
     "metadata": {},
     "execution_count": 25
    }
   ],
   "source": [
    "web['date_time'][0].minute"
   ]
  },
  {
   "cell_type": "code",
   "execution_count": 27,
   "metadata": {},
   "outputs": [
    {
     "output_type": "execute_result",
     "data": {
      "text/plain": [
       "   web_id  client_id            visitor_id                      visit_id  \\\n",
       "0       0    9988021  580560515_7732621733  781255054_21935453173_531117   \n",
       "\n",
       "  process_step           date_time  \n",
       "0       step_3 2017-04-17 15:27:00  "
      ],
      "text/html": "<div>\n<style scoped>\n    .dataframe tbody tr th:only-of-type {\n        vertical-align: middle;\n    }\n\n    .dataframe tbody tr th {\n        vertical-align: top;\n    }\n\n    .dataframe thead th {\n        text-align: right;\n    }\n</style>\n<table border=\"1\" class=\"dataframe\">\n  <thead>\n    <tr style=\"text-align: right;\">\n      <th></th>\n      <th>web_id</th>\n      <th>client_id</th>\n      <th>visitor_id</th>\n      <th>visit_id</th>\n      <th>process_step</th>\n      <th>date_time</th>\n    </tr>\n  </thead>\n  <tbody>\n    <tr>\n      <th>0</th>\n      <td>0</td>\n      <td>9988021</td>\n      <td>580560515_7732621733</td>\n      <td>781255054_21935453173_531117</td>\n      <td>step_3</td>\n      <td>2017-04-17 15:27:00</td>\n    </tr>\n  </tbody>\n</table>\n</div>"
     },
     "metadata": {},
     "execution_count": 27
    }
   ],
   "source": [
    "web[0:1]"
   ]
  },
  {
   "cell_type": "code",
   "execution_count": 28,
   "metadata": {},
   "outputs": [
    {
     "output_type": "execute_result",
     "data": {
      "text/plain": [
       "4"
      ]
     },
     "metadata": {},
     "execution_count": 28
    }
   ],
   "source": [
    "web['date_time'][123].month"
   ]
  },
  {
   "cell_type": "code",
   "execution_count": 31,
   "metadata": {},
   "outputs": [
    {
     "output_type": "execute_result",
     "data": {
      "text/plain": [
       "'05-04-2017'"
      ]
     },
     "metadata": {},
     "execution_count": 31
    }
   ],
   "source": [
    "web['date_time'][123].strftime(format='%d-%m-%Y') # reformating and converting to string"
   ]
  },
  {
   "cell_type": "code",
   "execution_count": 32,
   "metadata": {},
   "outputs": [],
   "source": [
    "web['Month'] = pd.DatetimeIndex(web['date_time']).month # create a new column 'Month' from web['date_time'].month"
   ]
  },
  {
   "cell_type": "code",
   "execution_count": 50,
   "metadata": {},
   "outputs": [
    {
     "output_type": "execute_result",
     "data": {
      "text/plain": [
       "   web_id  client_id            visitor_id                      visit_id  \\\n",
       "0       0    9988021  580560515_7732621733  781255054_21935453173_531117   \n",
       "1       1    9988021  580560515_7732621733  781255054_21935453173_531117   \n",
       "2       2    9988021  580560515_7732621733  781255054_21935453173_531117   \n",
       "3       3    9988021  580560515_7732621733  781255054_21935453173_531117   \n",
       "4       4    9988021  580560515_7732621733  781255054_21935453173_531117   \n",
       "\n",
       "  process_step           date_time  Month  Day  Weekday       Today  \n",
       "0       step_3 2017-04-17 15:27:00      4   17        0  2021-06-04  \n",
       "1       step_2 2017-04-17 15:26:00      4   17        0  2021-06-04  \n",
       "2       step_3 2017-04-17 15:19:00      4   17        0  2021-06-04  \n",
       "3       step_2 2017-04-17 15:19:00      4   17        0  2021-06-04  \n",
       "4       step_3 2017-04-17 15:18:00      4   17        0  2021-06-04  "
      ],
      "text/html": "<div>\n<style scoped>\n    .dataframe tbody tr th:only-of-type {\n        vertical-align: middle;\n    }\n\n    .dataframe tbody tr th {\n        vertical-align: top;\n    }\n\n    .dataframe thead th {\n        text-align: right;\n    }\n</style>\n<table border=\"1\" class=\"dataframe\">\n  <thead>\n    <tr style=\"text-align: right;\">\n      <th></th>\n      <th>web_id</th>\n      <th>client_id</th>\n      <th>visitor_id</th>\n      <th>visit_id</th>\n      <th>process_step</th>\n      <th>date_time</th>\n      <th>Month</th>\n      <th>Day</th>\n      <th>Weekday</th>\n      <th>Today</th>\n    </tr>\n  </thead>\n  <tbody>\n    <tr>\n      <th>0</th>\n      <td>0</td>\n      <td>9988021</td>\n      <td>580560515_7732621733</td>\n      <td>781255054_21935453173_531117</td>\n      <td>step_3</td>\n      <td>2017-04-17 15:27:00</td>\n      <td>4</td>\n      <td>17</td>\n      <td>0</td>\n      <td>2021-06-04</td>\n    </tr>\n    <tr>\n      <th>1</th>\n      <td>1</td>\n      <td>9988021</td>\n      <td>580560515_7732621733</td>\n      <td>781255054_21935453173_531117</td>\n      <td>step_2</td>\n      <td>2017-04-17 15:26:00</td>\n      <td>4</td>\n      <td>17</td>\n      <td>0</td>\n      <td>2021-06-04</td>\n    </tr>\n    <tr>\n      <th>2</th>\n      <td>2</td>\n      <td>9988021</td>\n      <td>580560515_7732621733</td>\n      <td>781255054_21935453173_531117</td>\n      <td>step_3</td>\n      <td>2017-04-17 15:19:00</td>\n      <td>4</td>\n      <td>17</td>\n      <td>0</td>\n      <td>2021-06-04</td>\n    </tr>\n    <tr>\n      <th>3</th>\n      <td>3</td>\n      <td>9988021</td>\n      <td>580560515_7732621733</td>\n      <td>781255054_21935453173_531117</td>\n      <td>step_2</td>\n      <td>2017-04-17 15:19:00</td>\n      <td>4</td>\n      <td>17</td>\n      <td>0</td>\n      <td>2021-06-04</td>\n    </tr>\n    <tr>\n      <th>4</th>\n      <td>4</td>\n      <td>9988021</td>\n      <td>580560515_7732621733</td>\n      <td>781255054_21935453173_531117</td>\n      <td>step_3</td>\n      <td>2017-04-17 15:18:00</td>\n      <td>4</td>\n      <td>17</td>\n      <td>0</td>\n      <td>2021-06-04</td>\n    </tr>\n  </tbody>\n</table>\n</div>"
     },
     "metadata": {},
     "execution_count": 50
    }
   ],
   "source": [
    "web.head()"
   ]
  },
  {
   "cell_type": "code",
   "execution_count": 34,
   "metadata": {},
   "outputs": [],
   "source": [
    "web['Day'] = pd.DatetimeIndex(web['date_time']).day"
   ]
  },
  {
   "cell_type": "code",
   "execution_count": 41,
   "metadata": {},
   "outputs": [],
   "source": [
    "web_saturdays = web.loc[web['date_time'].dt.weekday == 5] # locate by weekday - monday == 0, sunday == 6\n",
    "web_sundays = web.loc[web['date_time'].dt.weekday == 6]"
   ]
  },
  {
   "cell_type": "code",
   "execution_count": 42,
   "metadata": {},
   "outputs": [
    {
     "output_type": "execute_result",
     "data": {
      "text/plain": [
       "(30224, 8)"
      ]
     },
     "metadata": {},
     "execution_count": 42
    }
   ],
   "source": [
    "web_saturdays.shape"
   ]
  },
  {
   "cell_type": "code",
   "execution_count": 43,
   "metadata": {},
   "outputs": [
    {
     "output_type": "execute_result",
     "data": {
      "text/plain": [
       "(35722, 8)"
      ]
     },
     "metadata": {},
     "execution_count": 43
    }
   ],
   "source": [
    "web_sundays.shape"
   ]
  },
  {
   "cell_type": "code",
   "execution_count": 44,
   "metadata": {},
   "outputs": [],
   "source": [
    "web['Weekday'] = pd.DatetimeIndex(web['date_time']).weekday"
   ]
  },
  {
   "cell_type": "code",
   "execution_count": 47,
   "metadata": {},
   "outputs": [],
   "source": [
    "web['Today'] = date.today()"
   ]
  },
  {
   "cell_type": "code",
   "execution_count": 49,
   "metadata": {},
   "outputs": [
    {
     "output_type": "execute_result",
     "data": {
      "text/plain": [
       "time.struct_time(tm_year=2021, tm_mon=6, tm_mday=4, tm_hour=12, tm_min=1, tm_sec=17, tm_wday=4, tm_yday=155, tm_isdst=1)"
      ]
     },
     "metadata": {},
     "execution_count": 49
    }
   ],
   "source": [
    "time.localtime(time.time())"
   ]
  }
 ],
 "metadata": {
  "kernelspec": {
   "display_name": "Python 3",
   "language": "python",
   "name": "python3"
  },
  "language_info": {
   "codemirror_mode": {
    "name": "ipython",
    "version": 3
   },
   "file_extension": ".py",
   "mimetype": "text/x-python",
   "name": "python",
   "nbconvert_exporter": "python",
   "pygments_lexer": "ipython3",
   "version": "3.9.0"
  }
 },
 "nbformat": 4,
 "nbformat_minor": 5
}