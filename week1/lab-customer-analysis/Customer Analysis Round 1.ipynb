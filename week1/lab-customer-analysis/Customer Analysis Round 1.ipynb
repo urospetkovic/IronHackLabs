{
 "cells": [
  {
   "cell_type": "code",
   "execution_count": 1,
   "id": "photographic-blood",
   "metadata": {},
   "outputs": [],
   "source": [
    "import pandas as pd\n",
    "import numpy as np"
   ]
  },
  {
   "cell_type": "code",
   "execution_count": 2,
   "id": "patent-encounter",
   "metadata": {},
   "outputs": [],
   "source": [
    "file1 = pd.read_csv('file1.csv')\n",
    "file2 = pd.read_csv('file2.csv')\n",
    "file3 = pd.read_csv('file3.csv')"
   ]
  },
  {
   "cell_type": "code",
   "execution_count": 3,
   "metadata": {},
   "outputs": [
    {
     "output_type": "execute_result",
     "data": {
      "text/plain": [
       "  Customer          ST GENDER             Education Customer Lifetime Value  \\\n",
       "0  RB50392  Washington    NaN                Master                     NaN   \n",
       "1  QZ44356     Arizona      F              Bachelor              697953.59%   \n",
       "2  AI49188      Nevada      F              Bachelor             1288743.17%   \n",
       "3  WW63253  California      M              Bachelor              764586.18%   \n",
       "4  GA49547  Washington      M  High School or Below              536307.65%   \n",
       "\n",
       "    Income  Monthly Premium Auto Number of Open Complaints     Policy Type  \\\n",
       "0      0.0                1000.0                    1/0/00   Personal Auto   \n",
       "1      0.0                  94.0                    1/0/00   Personal Auto   \n",
       "2  48767.0                 108.0                    1/0/00   Personal Auto   \n",
       "3      0.0                 106.0                    1/0/00  Corporate Auto   \n",
       "4  36357.0                  68.0                    1/0/00   Personal Auto   \n",
       "\n",
       "   Vehicle Class  Total Claim Amount  \n",
       "0  Four-Door Car            2.704934  \n",
       "1  Four-Door Car         1131.464935  \n",
       "2   Two-Door Car          566.472247  \n",
       "3            SUV          529.881344  \n",
       "4  Four-Door Car           17.269323  "
      ],
      "text/html": "<div>\n<style scoped>\n    .dataframe tbody tr th:only-of-type {\n        vertical-align: middle;\n    }\n\n    .dataframe tbody tr th {\n        vertical-align: top;\n    }\n\n    .dataframe thead th {\n        text-align: right;\n    }\n</style>\n<table border=\"1\" class=\"dataframe\">\n  <thead>\n    <tr style=\"text-align: right;\">\n      <th></th>\n      <th>Customer</th>\n      <th>ST</th>\n      <th>GENDER</th>\n      <th>Education</th>\n      <th>Customer Lifetime Value</th>\n      <th>Income</th>\n      <th>Monthly Premium Auto</th>\n      <th>Number of Open Complaints</th>\n      <th>Policy Type</th>\n      <th>Vehicle Class</th>\n      <th>Total Claim Amount</th>\n    </tr>\n  </thead>\n  <tbody>\n    <tr>\n      <th>0</th>\n      <td>RB50392</td>\n      <td>Washington</td>\n      <td>NaN</td>\n      <td>Master</td>\n      <td>NaN</td>\n      <td>0.0</td>\n      <td>1000.0</td>\n      <td>1/0/00</td>\n      <td>Personal Auto</td>\n      <td>Four-Door Car</td>\n      <td>2.704934</td>\n    </tr>\n    <tr>\n      <th>1</th>\n      <td>QZ44356</td>\n      <td>Arizona</td>\n      <td>F</td>\n      <td>Bachelor</td>\n      <td>697953.59%</td>\n      <td>0.0</td>\n      <td>94.0</td>\n      <td>1/0/00</td>\n      <td>Personal Auto</td>\n      <td>Four-Door Car</td>\n      <td>1131.464935</td>\n    </tr>\n    <tr>\n      <th>2</th>\n      <td>AI49188</td>\n      <td>Nevada</td>\n      <td>F</td>\n      <td>Bachelor</td>\n      <td>1288743.17%</td>\n      <td>48767.0</td>\n      <td>108.0</td>\n      <td>1/0/00</td>\n      <td>Personal Auto</td>\n      <td>Two-Door Car</td>\n      <td>566.472247</td>\n    </tr>\n    <tr>\n      <th>3</th>\n      <td>WW63253</td>\n      <td>California</td>\n      <td>M</td>\n      <td>Bachelor</td>\n      <td>764586.18%</td>\n      <td>0.0</td>\n      <td>106.0</td>\n      <td>1/0/00</td>\n      <td>Corporate Auto</td>\n      <td>SUV</td>\n      <td>529.881344</td>\n    </tr>\n    <tr>\n      <th>4</th>\n      <td>GA49547</td>\n      <td>Washington</td>\n      <td>M</td>\n      <td>High School or Below</td>\n      <td>536307.65%</td>\n      <td>36357.0</td>\n      <td>68.0</td>\n      <td>1/0/00</td>\n      <td>Personal Auto</td>\n      <td>Four-Door Car</td>\n      <td>17.269323</td>\n    </tr>\n  </tbody>\n</table>\n</div>"
     },
     "metadata": {},
     "execution_count": 3
    }
   ],
   "source": [
    "file1.head()"
   ]
  },
  {
   "cell_type": "code",
   "execution_count": 4,
   "metadata": {},
   "outputs": [
    {
     "output_type": "execute_result",
     "data": {
      "text/plain": [
       "Index(['Customer', 'ST', 'GENDER', 'Education', 'Customer Lifetime Value',\n",
       "       'Income', 'Monthly Premium Auto', 'Number of Open Complaints',\n",
       "       'Policy Type', 'Vehicle Class', 'Total Claim Amount'],\n",
       "      dtype='object')"
      ]
     },
     "metadata": {},
     "execution_count": 4
    }
   ],
   "source": [
    "col_names = file1.columns\n",
    "col_names"
   ]
  },
  {
   "cell_type": "code",
   "execution_count": 5,
   "metadata": {},
   "outputs": [],
   "source": [
    "df = pd.DataFrame(columns=col_names)\n"
   ]
  },
  {
   "cell_type": "code",
   "execution_count": 6,
   "metadata": {},
   "outputs": [
    {
     "output_type": "execute_result",
     "data": {
      "text/plain": [
       "(4008, 11)"
      ]
     },
     "metadata": {},
     "execution_count": 6
    }
   ],
   "source": [
    "file1.head()\n",
    "file1.shape"
   ]
  },
  {
   "cell_type": "code",
   "execution_count": 7,
   "metadata": {},
   "outputs": [
    {
     "output_type": "execute_result",
     "data": {
      "text/plain": [
       "  Customer          ST GENDER Education Customer Lifetime Value  Income  \\\n",
       "0  GS98873     Arizona      F  Bachelor              323912.47%   16061   \n",
       "1  CW49887  California      F    Master              462680.11%   79487   \n",
       "2  MY31220  California      F   College              899704.02%   54230   \n",
       "3  UH35128      Oregon      F   College             2580706.30%   71210   \n",
       "4  WH52799     Arizona      F   College              380812.21%   94903   \n",
       "\n",
       "   Monthly Premium Auto Number of Open Complaints     Policy Type  \\\n",
       "0                    88                    1/0/00   Personal Auto   \n",
       "1                   114                    1/0/00    Special Auto   \n",
       "2                   112                    1/0/00   Personal Auto   \n",
       "3                   214                    1/1/00   Personal Auto   \n",
       "4                    94                    1/0/00  Corporate Auto   \n",
       "\n",
       "   Vehicle Class  Total Claim Amount  \n",
       "0  Four-Door Car               633.6  \n",
       "1            SUV               547.2  \n",
       "2   Two-Door Car               537.6  \n",
       "3     Luxury Car              1027.2  \n",
       "4   Two-Door Car               451.2  "
      ],
      "text/html": "<div>\n<style scoped>\n    .dataframe tbody tr th:only-of-type {\n        vertical-align: middle;\n    }\n\n    .dataframe tbody tr th {\n        vertical-align: top;\n    }\n\n    .dataframe thead th {\n        text-align: right;\n    }\n</style>\n<table border=\"1\" class=\"dataframe\">\n  <thead>\n    <tr style=\"text-align: right;\">\n      <th></th>\n      <th>Customer</th>\n      <th>ST</th>\n      <th>GENDER</th>\n      <th>Education</th>\n      <th>Customer Lifetime Value</th>\n      <th>Income</th>\n      <th>Monthly Premium Auto</th>\n      <th>Number of Open Complaints</th>\n      <th>Policy Type</th>\n      <th>Vehicle Class</th>\n      <th>Total Claim Amount</th>\n    </tr>\n  </thead>\n  <tbody>\n    <tr>\n      <th>0</th>\n      <td>GS98873</td>\n      <td>Arizona</td>\n      <td>F</td>\n      <td>Bachelor</td>\n      <td>323912.47%</td>\n      <td>16061</td>\n      <td>88</td>\n      <td>1/0/00</td>\n      <td>Personal Auto</td>\n      <td>Four-Door Car</td>\n      <td>633.6</td>\n    </tr>\n    <tr>\n      <th>1</th>\n      <td>CW49887</td>\n      <td>California</td>\n      <td>F</td>\n      <td>Master</td>\n      <td>462680.11%</td>\n      <td>79487</td>\n      <td>114</td>\n      <td>1/0/00</td>\n      <td>Special Auto</td>\n      <td>SUV</td>\n      <td>547.2</td>\n    </tr>\n    <tr>\n      <th>2</th>\n      <td>MY31220</td>\n      <td>California</td>\n      <td>F</td>\n      <td>College</td>\n      <td>899704.02%</td>\n      <td>54230</td>\n      <td>112</td>\n      <td>1/0/00</td>\n      <td>Personal Auto</td>\n      <td>Two-Door Car</td>\n      <td>537.6</td>\n    </tr>\n    <tr>\n      <th>3</th>\n      <td>UH35128</td>\n      <td>Oregon</td>\n      <td>F</td>\n      <td>College</td>\n      <td>2580706.30%</td>\n      <td>71210</td>\n      <td>214</td>\n      <td>1/1/00</td>\n      <td>Personal Auto</td>\n      <td>Luxury Car</td>\n      <td>1027.2</td>\n    </tr>\n    <tr>\n      <th>4</th>\n      <td>WH52799</td>\n      <td>Arizona</td>\n      <td>F</td>\n      <td>College</td>\n      <td>380812.21%</td>\n      <td>94903</td>\n      <td>94</td>\n      <td>1/0/00</td>\n      <td>Corporate Auto</td>\n      <td>Two-Door Car</td>\n      <td>451.2</td>\n    </tr>\n  </tbody>\n</table>\n</div>"
     },
     "metadata": {},
     "execution_count": 7
    }
   ],
   "source": [
    "file2 = file2.reindex(columns=col_names)\n",
    "file2.head()"
   ]
  },
  {
   "cell_type": "code",
   "execution_count": 8,
   "metadata": {},
   "outputs": [
    {
     "output_type": "execute_result",
     "data": {
      "text/plain": [
       "  Customer          ST GENDER             Education  Customer Lifetime Value  \\\n",
       "0  SA25987  Washington      M  High School or Below              3479.137523   \n",
       "1  TB86706     Arizona      M                Master              2502.637401   \n",
       "2  ZL73902      Nevada      F              Bachelor              3265.156348   \n",
       "3  KX23516  California      F  High School or Below              4455.843406   \n",
       "4  FN77294  California      M  High School or Below              7704.958480   \n",
       "\n",
       "   Income  Monthly Premium Auto  Number of Open Complaints    Policy Type  \\\n",
       "0       0                   104                          0  Personal Auto   \n",
       "1       0                    66                          0  Personal Auto   \n",
       "2   25820                    82                          0  Personal Auto   \n",
       "3       0                   121                          0  Personal Auto   \n",
       "4   30366                   101                          2  Personal Auto   \n",
       "\n",
       "   Vehicle Class  Total Claim Amount  \n",
       "0   Two-Door Car          499.200000  \n",
       "1   Two-Door Car            3.468912  \n",
       "2  Four-Door Car          393.600000  \n",
       "3            SUV          699.615192  \n",
       "4            SUV          484.800000  "
      ],
      "text/html": "<div>\n<style scoped>\n    .dataframe tbody tr th:only-of-type {\n        vertical-align: middle;\n    }\n\n    .dataframe tbody tr th {\n        vertical-align: top;\n    }\n\n    .dataframe thead th {\n        text-align: right;\n    }\n</style>\n<table border=\"1\" class=\"dataframe\">\n  <thead>\n    <tr style=\"text-align: right;\">\n      <th></th>\n      <th>Customer</th>\n      <th>ST</th>\n      <th>GENDER</th>\n      <th>Education</th>\n      <th>Customer Lifetime Value</th>\n      <th>Income</th>\n      <th>Monthly Premium Auto</th>\n      <th>Number of Open Complaints</th>\n      <th>Policy Type</th>\n      <th>Vehicle Class</th>\n      <th>Total Claim Amount</th>\n    </tr>\n  </thead>\n  <tbody>\n    <tr>\n      <th>0</th>\n      <td>SA25987</td>\n      <td>Washington</td>\n      <td>M</td>\n      <td>High School or Below</td>\n      <td>3479.137523</td>\n      <td>0</td>\n      <td>104</td>\n      <td>0</td>\n      <td>Personal Auto</td>\n      <td>Two-Door Car</td>\n      <td>499.200000</td>\n    </tr>\n    <tr>\n      <th>1</th>\n      <td>TB86706</td>\n      <td>Arizona</td>\n      <td>M</td>\n      <td>Master</td>\n      <td>2502.637401</td>\n      <td>0</td>\n      <td>66</td>\n      <td>0</td>\n      <td>Personal Auto</td>\n      <td>Two-Door Car</td>\n      <td>3.468912</td>\n    </tr>\n    <tr>\n      <th>2</th>\n      <td>ZL73902</td>\n      <td>Nevada</td>\n      <td>F</td>\n      <td>Bachelor</td>\n      <td>3265.156348</td>\n      <td>25820</td>\n      <td>82</td>\n      <td>0</td>\n      <td>Personal Auto</td>\n      <td>Four-Door Car</td>\n      <td>393.600000</td>\n    </tr>\n    <tr>\n      <th>3</th>\n      <td>KX23516</td>\n      <td>California</td>\n      <td>F</td>\n      <td>High School or Below</td>\n      <td>4455.843406</td>\n      <td>0</td>\n      <td>121</td>\n      <td>0</td>\n      <td>Personal Auto</td>\n      <td>SUV</td>\n      <td>699.615192</td>\n    </tr>\n    <tr>\n      <th>4</th>\n      <td>FN77294</td>\n      <td>California</td>\n      <td>M</td>\n      <td>High School or Below</td>\n      <td>7704.958480</td>\n      <td>30366</td>\n      <td>101</td>\n      <td>2</td>\n      <td>Personal Auto</td>\n      <td>SUV</td>\n      <td>484.800000</td>\n    </tr>\n  </tbody>\n</table>\n</div>"
     },
     "metadata": {},
     "execution_count": 8
    }
   ],
   "source": [
    "file3 = file3.rename(columns={'State':'ST', 'Gender':'GENDER'})\n",
    "file3 = file3.reindex(columns=col_names)\n",
    "file3.head()"
   ]
  },
  {
   "cell_type": "code",
   "execution_count": 9,
   "metadata": {},
   "outputs": [
    {
     "output_type": "execute_result",
     "data": {
      "text/plain": [
       "(12074, 11)"
      ]
     },
     "metadata": {},
     "execution_count": 9
    }
   ],
   "source": [
    "df = pd.concat([df, file1, file2, file3], axis=0)\n",
    "df.shape"
   ]
  },
  {
   "cell_type": "code",
   "execution_count": 10,
   "metadata": {},
   "outputs": [
    {
     "output_type": "execute_result",
     "data": {
      "text/plain": [
       "  customer          st gender             education customer lifetime value  \\\n",
       "0  RB50392  Washington    NaN                Master                     NaN   \n",
       "1  QZ44356     Arizona      F              Bachelor              697953.59%   \n",
       "2  AI49188      Nevada      F              Bachelor             1288743.17%   \n",
       "3  WW63253  California      M              Bachelor              764586.18%   \n",
       "4  GA49547  Washington      M  High School or Below              536307.65%   \n",
       "\n",
       "    income  monthly premium auto number of open complaints     policy type  \\\n",
       "0      0.0                1000.0                    1/0/00   Personal Auto   \n",
       "1      0.0                  94.0                    1/0/00   Personal Auto   \n",
       "2  48767.0                 108.0                    1/0/00   Personal Auto   \n",
       "3      0.0                 106.0                    1/0/00  Corporate Auto   \n",
       "4  36357.0                  68.0                    1/0/00   Personal Auto   \n",
       "\n",
       "   vehicle class  total claim amount  \n",
       "0  Four-Door Car            2.704934  \n",
       "1  Four-Door Car         1131.464935  \n",
       "2   Two-Door Car          566.472247  \n",
       "3            SUV          529.881344  \n",
       "4  Four-Door Car           17.269323  "
      ],
      "text/html": "<div>\n<style scoped>\n    .dataframe tbody tr th:only-of-type {\n        vertical-align: middle;\n    }\n\n    .dataframe tbody tr th {\n        vertical-align: top;\n    }\n\n    .dataframe thead th {\n        text-align: right;\n    }\n</style>\n<table border=\"1\" class=\"dataframe\">\n  <thead>\n    <tr style=\"text-align: right;\">\n      <th></th>\n      <th>customer</th>\n      <th>st</th>\n      <th>gender</th>\n      <th>education</th>\n      <th>customer lifetime value</th>\n      <th>income</th>\n      <th>monthly premium auto</th>\n      <th>number of open complaints</th>\n      <th>policy type</th>\n      <th>vehicle class</th>\n      <th>total claim amount</th>\n    </tr>\n  </thead>\n  <tbody>\n    <tr>\n      <th>0</th>\n      <td>RB50392</td>\n      <td>Washington</td>\n      <td>NaN</td>\n      <td>Master</td>\n      <td>NaN</td>\n      <td>0.0</td>\n      <td>1000.0</td>\n      <td>1/0/00</td>\n      <td>Personal Auto</td>\n      <td>Four-Door Car</td>\n      <td>2.704934</td>\n    </tr>\n    <tr>\n      <th>1</th>\n      <td>QZ44356</td>\n      <td>Arizona</td>\n      <td>F</td>\n      <td>Bachelor</td>\n      <td>697953.59%</td>\n      <td>0.0</td>\n      <td>94.0</td>\n      <td>1/0/00</td>\n      <td>Personal Auto</td>\n      <td>Four-Door Car</td>\n      <td>1131.464935</td>\n    </tr>\n    <tr>\n      <th>2</th>\n      <td>AI49188</td>\n      <td>Nevada</td>\n      <td>F</td>\n      <td>Bachelor</td>\n      <td>1288743.17%</td>\n      <td>48767.0</td>\n      <td>108.0</td>\n      <td>1/0/00</td>\n      <td>Personal Auto</td>\n      <td>Two-Door Car</td>\n      <td>566.472247</td>\n    </tr>\n    <tr>\n      <th>3</th>\n      <td>WW63253</td>\n      <td>California</td>\n      <td>M</td>\n      <td>Bachelor</td>\n      <td>764586.18%</td>\n      <td>0.0</td>\n      <td>106.0</td>\n      <td>1/0/00</td>\n      <td>Corporate Auto</td>\n      <td>SUV</td>\n      <td>529.881344</td>\n    </tr>\n    <tr>\n      <th>4</th>\n      <td>GA49547</td>\n      <td>Washington</td>\n      <td>M</td>\n      <td>High School or Below</td>\n      <td>536307.65%</td>\n      <td>36357.0</td>\n      <td>68.0</td>\n      <td>1/0/00</td>\n      <td>Personal Auto</td>\n      <td>Four-Door Car</td>\n      <td>17.269323</td>\n    </tr>\n  </tbody>\n</table>\n</div>"
     },
     "metadata": {},
     "execution_count": 10
    }
   ],
   "source": [
    "new_names = [i.lower() for i in df.columns]\n",
    "df.columns = new_names\n",
    "df.head()"
   ]
  },
  {
   "cell_type": "code",
   "execution_count": 11,
   "metadata": {},
   "outputs": [
    {
     "output_type": "stream",
     "name": "stdout",
     "text": [
      "<class 'pandas.core.frame.DataFrame'>\nRangeIndex: 12074 entries, 0 to 12073\nData columns (total 11 columns):\n #   Column                     Non-Null Count  Dtype  \n---  ------                     --------------  -----  \n 0   customer                   9137 non-null   object \n 1   st                         9137 non-null   object \n 2   gender                     9015 non-null   object \n 3   education                  9137 non-null   object \n 4   customer lifetime value    9130 non-null   object \n 5   income                     9137 non-null   float64\n 6   monthly premium auto       9137 non-null   float64\n 7   number of open complaints  9137 non-null   object \n 8   policy type                9137 non-null   object \n 9   vehicle class              9137 non-null   object \n 10  total claim amount         9137 non-null   float64\ndtypes: float64(3), object(8)\nmemory usage: 1.0+ MB\n"
     ]
    }
   ],
   "source": [
    "df.reset_index(drop=True, inplace=True)\n",
    "df.info()"
   ]
  },
  {
   "cell_type": "code",
   "execution_count": 12,
   "metadata": {},
   "outputs": [
    {
     "output_type": "execute_result",
     "data": {
      "text/plain": [
       "customer                      object\n",
       "st                            object\n",
       "gender                        object\n",
       "education                     object\n",
       "customer lifetime value       object\n",
       "income                       float64\n",
       "monthly premium auto         float64\n",
       "number of open complaints     object\n",
       "policy type                   object\n",
       "vehicle class                 object\n",
       "total claim amount           float64\n",
       "dtype: object"
      ]
     },
     "metadata": {},
     "execution_count": 12
    }
   ],
   "source": [
    "df.dtypes"
   ]
  },
  {
   "cell_type": "code",
   "execution_count": 13,
   "metadata": {},
   "outputs": [
    {
     "output_type": "execute_result",
     "data": {
      "text/plain": [
       "        income  monthly premium auto  total claim amount\n",
       "0          0.0                1000.0            2.704934\n",
       "1          0.0                  94.0         1131.464935\n",
       "2      48767.0                 108.0          566.472247\n",
       "3          0.0                 106.0          529.881344\n",
       "4      36357.0                  68.0           17.269323\n",
       "...        ...                   ...                 ...\n",
       "12069  71941.0                  73.0          198.234764\n",
       "12070  21604.0                  79.0          379.200000\n",
       "12071      0.0                  85.0          790.784983\n",
       "12072  21941.0                  96.0          691.200000\n",
       "12073      0.0                  77.0          369.600000\n",
       "\n",
       "[12074 rows x 3 columns]"
      ],
      "text/html": "<div>\n<style scoped>\n    .dataframe tbody tr th:only-of-type {\n        vertical-align: middle;\n    }\n\n    .dataframe tbody tr th {\n        vertical-align: top;\n    }\n\n    .dataframe thead th {\n        text-align: right;\n    }\n</style>\n<table border=\"1\" class=\"dataframe\">\n  <thead>\n    <tr style=\"text-align: right;\">\n      <th></th>\n      <th>income</th>\n      <th>monthly premium auto</th>\n      <th>total claim amount</th>\n    </tr>\n  </thead>\n  <tbody>\n    <tr>\n      <th>0</th>\n      <td>0.0</td>\n      <td>1000.0</td>\n      <td>2.704934</td>\n    </tr>\n    <tr>\n      <th>1</th>\n      <td>0.0</td>\n      <td>94.0</td>\n      <td>1131.464935</td>\n    </tr>\n    <tr>\n      <th>2</th>\n      <td>48767.0</td>\n      <td>108.0</td>\n      <td>566.472247</td>\n    </tr>\n    <tr>\n      <th>3</th>\n      <td>0.0</td>\n      <td>106.0</td>\n      <td>529.881344</td>\n    </tr>\n    <tr>\n      <th>4</th>\n      <td>36357.0</td>\n      <td>68.0</td>\n      <td>17.269323</td>\n    </tr>\n    <tr>\n      <th>...</th>\n      <td>...</td>\n      <td>...</td>\n      <td>...</td>\n    </tr>\n    <tr>\n      <th>12069</th>\n      <td>71941.0</td>\n      <td>73.0</td>\n      <td>198.234764</td>\n    </tr>\n    <tr>\n      <th>12070</th>\n      <td>21604.0</td>\n      <td>79.0</td>\n      <td>379.200000</td>\n    </tr>\n    <tr>\n      <th>12071</th>\n      <td>0.0</td>\n      <td>85.0</td>\n      <td>790.784983</td>\n    </tr>\n    <tr>\n      <th>12072</th>\n      <td>21941.0</td>\n      <td>96.0</td>\n      <td>691.200000</td>\n    </tr>\n    <tr>\n      <th>12073</th>\n      <td>0.0</td>\n      <td>77.0</td>\n      <td>369.600000</td>\n    </tr>\n  </tbody>\n</table>\n<p>12074 rows × 3 columns</p>\n</div>"
     },
     "metadata": {},
     "execution_count": 13
    }
   ],
   "source": [
    "df._get_numeric_data()"
   ]
  },
  {
   "cell_type": "code",
   "execution_count": 14,
   "metadata": {},
   "outputs": [],
   "source": [
    "df = df.drop_duplicates()\n"
   ]
  },
  {
   "cell_type": "code",
   "execution_count": 15,
   "metadata": {},
   "outputs": [
    {
     "output_type": "stream",
     "name": "stdout",
     "text": [
      "<class 'pandas.core.frame.DataFrame'>\nRangeIndex: 9135 entries, 0 to 9134\nData columns (total 11 columns):\n #   Column                     Non-Null Count  Dtype  \n---  ------                     --------------  -----  \n 0   customer                   9134 non-null   object \n 1   st                         9134 non-null   object \n 2   gender                     9012 non-null   object \n 3   education                  9134 non-null   object \n 4   customer lifetime value    9127 non-null   object \n 5   income                     9134 non-null   float64\n 6   monthly premium auto       9134 non-null   float64\n 7   number of open complaints  9134 non-null   object \n 8   policy type                9134 non-null   object \n 9   vehicle class              9134 non-null   object \n 10  total claim amount         9134 non-null   float64\ndtypes: float64(3), object(8)\nmemory usage: 785.2+ KB\n"
     ]
    }
   ],
   "source": [
    "df.reset_index(drop=True, inplace=True)\n",
    "df.info()"
   ]
  },
  {
   "cell_type": "code",
   "execution_count": 16,
   "metadata": {},
   "outputs": [
    {
     "output_type": "execute_result",
     "data": {
      "text/plain": [
       "                           perc\n",
       "customer                   0.01\n",
       "st                         0.01\n",
       "gender                     1.35\n",
       "education                  0.01\n",
       "customer lifetime value    0.09\n",
       "income                     0.01\n",
       "monthly premium auto       0.01\n",
       "number of open complaints  0.01\n",
       "policy type                0.01\n",
       "vehicle class              0.01\n",
       "total claim amount         0.01"
      ],
      "text/html": "<div>\n<style scoped>\n    .dataframe tbody tr th:only-of-type {\n        vertical-align: middle;\n    }\n\n    .dataframe tbody tr th {\n        vertical-align: top;\n    }\n\n    .dataframe thead th {\n        text-align: right;\n    }\n</style>\n<table border=\"1\" class=\"dataframe\">\n  <thead>\n    <tr style=\"text-align: right;\">\n      <th></th>\n      <th>perc</th>\n    </tr>\n  </thead>\n  <tbody>\n    <tr>\n      <th>customer</th>\n      <td>0.01</td>\n    </tr>\n    <tr>\n      <th>st</th>\n      <td>0.01</td>\n    </tr>\n    <tr>\n      <th>gender</th>\n      <td>1.35</td>\n    </tr>\n    <tr>\n      <th>education</th>\n      <td>0.01</td>\n    </tr>\n    <tr>\n      <th>customer lifetime value</th>\n      <td>0.09</td>\n    </tr>\n    <tr>\n      <th>income</th>\n      <td>0.01</td>\n    </tr>\n    <tr>\n      <th>monthly premium auto</th>\n      <td>0.01</td>\n    </tr>\n    <tr>\n      <th>number of open complaints</th>\n      <td>0.01</td>\n    </tr>\n    <tr>\n      <th>policy type</th>\n      <td>0.01</td>\n    </tr>\n    <tr>\n      <th>vehicle class</th>\n      <td>0.01</td>\n    </tr>\n    <tr>\n      <th>total claim amount</th>\n      <td>0.01</td>\n    </tr>\n  </tbody>\n</table>\n</div>"
     },
     "metadata": {},
     "execution_count": 16
    }
   ],
   "source": [
    "nulls_df = pd.DataFrame(round(df.isna().sum()/len(df),4)*100) # round to 4 decimals and get the %\n",
    "nulls_df = nulls_df.rename(columns={'index':'header', 0:'perc'})\n",
    "nulls_df"
   ]
  },
  {
   "cell_type": "code",
   "execution_count": 17,
   "metadata": {},
   "outputs": [
    {
     "output_type": "execute_result",
     "data": {
      "text/plain": [
       "F         4557\n",
       "M         4368\n",
       "Male        40\n",
       "female      30\n",
       "Femal       17\n",
       "Name: gender, dtype: int64"
      ]
     },
     "metadata": {},
     "execution_count": 17
    }
   ],
   "source": [
    "df = df[df['gender'].isna() == False]\n",
    "df['gender'].value_counts()\n"
   ]
  },
  {
   "cell_type": "code",
   "execution_count": 18,
   "metadata": {},
   "outputs": [],
   "source": [
    "df = df.drop(['education'], axis=1)\n",
    "df = df.drop(['number of open complaints'], axis=1)"
   ]
  },
  {
   "cell_type": "code",
   "execution_count": 19,
   "metadata": {},
   "outputs": [
    {
     "output_type": "execute_result",
     "data": {
      "text/plain": [
       "  customer          st gender customer lifetime value   income  \\\n",
       "1  QZ44356     Arizona      F              697953.59%      0.0   \n",
       "2  AI49188      Nevada      F             1288743.17%  48767.0   \n",
       "3  WW63253  California      M              764586.18%      0.0   \n",
       "4  GA49547  Washington      M              536307.65%  36357.0   \n",
       "5  OC83172      Oregon      F              825629.78%  62902.0   \n",
       "\n",
       "   monthly premium auto     policy type  vehicle class  total claim amount  \n",
       "1                  94.0   Personal Auto  Four-Door Car         1131.464935  \n",
       "2                 108.0   Personal Auto   Two-Door Car          566.472247  \n",
       "3                 106.0  Corporate Auto            SUV          529.881344  \n",
       "4                  68.0   Personal Auto  Four-Door Car           17.269323  \n",
       "5                  69.0   Personal Auto   Two-Door Car          159.383042  "
      ],
      "text/html": "<div>\n<style scoped>\n    .dataframe tbody tr th:only-of-type {\n        vertical-align: middle;\n    }\n\n    .dataframe tbody tr th {\n        vertical-align: top;\n    }\n\n    .dataframe thead th {\n        text-align: right;\n    }\n</style>\n<table border=\"1\" class=\"dataframe\">\n  <thead>\n    <tr style=\"text-align: right;\">\n      <th></th>\n      <th>customer</th>\n      <th>st</th>\n      <th>gender</th>\n      <th>customer lifetime value</th>\n      <th>income</th>\n      <th>monthly premium auto</th>\n      <th>policy type</th>\n      <th>vehicle class</th>\n      <th>total claim amount</th>\n    </tr>\n  </thead>\n  <tbody>\n    <tr>\n      <th>1</th>\n      <td>QZ44356</td>\n      <td>Arizona</td>\n      <td>F</td>\n      <td>697953.59%</td>\n      <td>0.0</td>\n      <td>94.0</td>\n      <td>Personal Auto</td>\n      <td>Four-Door Car</td>\n      <td>1131.464935</td>\n    </tr>\n    <tr>\n      <th>2</th>\n      <td>AI49188</td>\n      <td>Nevada</td>\n      <td>F</td>\n      <td>1288743.17%</td>\n      <td>48767.0</td>\n      <td>108.0</td>\n      <td>Personal Auto</td>\n      <td>Two-Door Car</td>\n      <td>566.472247</td>\n    </tr>\n    <tr>\n      <th>3</th>\n      <td>WW63253</td>\n      <td>California</td>\n      <td>M</td>\n      <td>764586.18%</td>\n      <td>0.0</td>\n      <td>106.0</td>\n      <td>Corporate Auto</td>\n      <td>SUV</td>\n      <td>529.881344</td>\n    </tr>\n    <tr>\n      <th>4</th>\n      <td>GA49547</td>\n      <td>Washington</td>\n      <td>M</td>\n      <td>536307.65%</td>\n      <td>36357.0</td>\n      <td>68.0</td>\n      <td>Personal Auto</td>\n      <td>Four-Door Car</td>\n      <td>17.269323</td>\n    </tr>\n    <tr>\n      <th>5</th>\n      <td>OC83172</td>\n      <td>Oregon</td>\n      <td>F</td>\n      <td>825629.78%</td>\n      <td>62902.0</td>\n      <td>69.0</td>\n      <td>Personal Auto</td>\n      <td>Two-Door Car</td>\n      <td>159.383042</td>\n    </tr>\n  </tbody>\n</table>\n</div>"
     },
     "metadata": {},
     "execution_count": 19
    }
   ],
   "source": [
    "df.head()"
   ]
  },
  {
   "cell_type": "code",
   "execution_count": 20,
   "metadata": {},
   "outputs": [
    {
     "output_type": "execute_result",
     "data": {
      "text/plain": [
       "(9012, 9)"
      ]
     },
     "metadata": {},
     "execution_count": 20
    }
   ],
   "source": [
    "df.shape"
   ]
  },
  {
   "cell_type": "code",
   "execution_count": 42,
   "metadata": {},
   "outputs": [
    {
     "output_type": "execute_result",
     "data": {
      "text/plain": [
       "1       697953.59697953.59697953.59697953.59697953.596...\n",
       "2       1288743.171288743.171288743.171288743.17128874...\n",
       "3       764586.18764586.18764586.18764586.18764586.187...\n",
       "4       536307.65536307.65536307.65536307.65536307.655...\n",
       "5       825629.78825629.78825629.78825629.78825629.788...\n",
       "                              ...                        \n",
       "9130    23405.9879823405.9879823405.9879823405.9879823...\n",
       "9131    3096.5112173096.5112173096.5112173096.51121730...\n",
       "9132    8163.8904288163.8904288163.8904288163.89042881...\n",
       "9133    7524.4424367524.4424367524.4424367524.44243675...\n",
       "9134    2611.8368662611.8368662611.8368662611.83686626...\n",
       "Name: customer lifetime value, Length: 9012, dtype: object"
      ]
     },
     "metadata": {},
     "execution_count": 42
    }
   ],
   "source": [
    "df['customer lifetime value'] = list(map(lambda x: str(x), df['customer lifetime value']))\n",
    "df['customer lifetime value'] = list(map(lambda x: x.replace('%', ''), df['customer lifetime value']))\n",
    "pd.to_numeric(df['customer lifetime value'], errors = \"coerce\")\n",
    "df['customer lifetime value'] = list(map(lambda x: x*100, df['customer lifetime value']))\n",
    "df['customer lifetime value']"
   ]
  },
  {
   "cell_type": "code",
   "execution_count": 43,
   "metadata": {},
   "outputs": [
    {
     "output_type": "stream",
     "name": "stdout",
     "text": [
      "<class 'pandas.core.frame.DataFrame'>\nRangeIndex: 9012 entries, 0 to 9011\nData columns (total 9 columns):\n #   Column                   Non-Null Count  Dtype  \n---  ------                   --------------  -----  \n 0   customer                 9012 non-null   object \n 1   st                       9012 non-null   object \n 2   gender                   9012 non-null   object \n 3   customer lifetime value  9012 non-null   object \n 4   income                   9012 non-null   float64\n 5   monthly premium auto     9012 non-null   float64\n 6   policy type              9012 non-null   object \n 7   vehicle class            9012 non-null   object \n 8   total claim amount       9012 non-null   float64\ndtypes: float64(3), object(6)\nmemory usage: 633.8+ KB\n"
     ]
    }
   ],
   "source": [
    "df.reset_index(drop=True, inplace=True)\n",
    "df.info()"
   ]
  },
  {
   "cell_type": "code",
   "execution_count": 44,
   "metadata": {},
   "outputs": [
    {
     "output_type": "execute_result",
     "data": {
      "text/plain": [
       "  customer          st gender  \\\n",
       "0  QZ44356     Arizona      F   \n",
       "1  AI49188      Nevada      F   \n",
       "2  WW63253  California      M   \n",
       "3  GA49547  Washington      M   \n",
       "4  OC83172      Oregon      F   \n",
       "\n",
       "                             customer lifetime value   income  \\\n",
       "0  697953.59697953.59697953.59697953.59697953.596...      0.0   \n",
       "1  1288743.171288743.171288743.171288743.17128874...  48767.0   \n",
       "2  764586.18764586.18764586.18764586.18764586.187...      0.0   \n",
       "3  536307.65536307.65536307.65536307.65536307.655...  36357.0   \n",
       "4  825629.78825629.78825629.78825629.78825629.788...  62902.0   \n",
       "\n",
       "   monthly premium auto     policy type  vehicle class  total claim amount  \n",
       "0                  94.0   Personal Auto  Four-Door Car         1131.464935  \n",
       "1                 108.0   Personal Auto   Two-Door Car          566.472247  \n",
       "2                 106.0  Corporate Auto            SUV          529.881344  \n",
       "3                  68.0   Personal Auto  Four-Door Car           17.269323  \n",
       "4                  69.0   Personal Auto   Two-Door Car          159.383042  "
      ],
      "text/html": "<div>\n<style scoped>\n    .dataframe tbody tr th:only-of-type {\n        vertical-align: middle;\n    }\n\n    .dataframe tbody tr th {\n        vertical-align: top;\n    }\n\n    .dataframe thead th {\n        text-align: right;\n    }\n</style>\n<table border=\"1\" class=\"dataframe\">\n  <thead>\n    <tr style=\"text-align: right;\">\n      <th></th>\n      <th>customer</th>\n      <th>st</th>\n      <th>gender</th>\n      <th>customer lifetime value</th>\n      <th>income</th>\n      <th>monthly premium auto</th>\n      <th>policy type</th>\n      <th>vehicle class</th>\n      <th>total claim amount</th>\n    </tr>\n  </thead>\n  <tbody>\n    <tr>\n      <th>0</th>\n      <td>QZ44356</td>\n      <td>Arizona</td>\n      <td>F</td>\n      <td>697953.59697953.59697953.59697953.59697953.596...</td>\n      <td>0.0</td>\n      <td>94.0</td>\n      <td>Personal Auto</td>\n      <td>Four-Door Car</td>\n      <td>1131.464935</td>\n    </tr>\n    <tr>\n      <th>1</th>\n      <td>AI49188</td>\n      <td>Nevada</td>\n      <td>F</td>\n      <td>1288743.171288743.171288743.171288743.17128874...</td>\n      <td>48767.0</td>\n      <td>108.0</td>\n      <td>Personal Auto</td>\n      <td>Two-Door Car</td>\n      <td>566.472247</td>\n    </tr>\n    <tr>\n      <th>2</th>\n      <td>WW63253</td>\n      <td>California</td>\n      <td>M</td>\n      <td>764586.18764586.18764586.18764586.18764586.187...</td>\n      <td>0.0</td>\n      <td>106.0</td>\n      <td>Corporate Auto</td>\n      <td>SUV</td>\n      <td>529.881344</td>\n    </tr>\n    <tr>\n      <th>3</th>\n      <td>GA49547</td>\n      <td>Washington</td>\n      <td>M</td>\n      <td>536307.65536307.65536307.65536307.65536307.655...</td>\n      <td>36357.0</td>\n      <td>68.0</td>\n      <td>Personal Auto</td>\n      <td>Four-Door Car</td>\n      <td>17.269323</td>\n    </tr>\n    <tr>\n      <th>4</th>\n      <td>OC83172</td>\n      <td>Oregon</td>\n      <td>F</td>\n      <td>825629.78825629.78825629.78825629.78825629.788...</td>\n      <td>62902.0</td>\n      <td>69.0</td>\n      <td>Personal Auto</td>\n      <td>Two-Door Car</td>\n      <td>159.383042</td>\n    </tr>\n  </tbody>\n</table>\n</div>"
     },
     "metadata": {},
     "execution_count": 44
    }
   ],
   "source": [
    "df.head()"
   ]
  },
  {
   "cell_type": "code",
   "execution_count": 47,
   "metadata": {},
   "outputs": [
    {
     "output_type": "execute_result",
     "data": {
      "text/plain": [
       "(6742, 9)"
      ]
     },
     "metadata": {},
     "execution_count": 47
    }
   ],
   "source": [
    "filtered = df[(df['income'] > 0)]\n",
    "filtered.shape"
   ]
  },
  {
   "cell_type": "code",
   "execution_count": null,
   "metadata": {},
   "outputs": [],
   "source": []
  }
 ],
 "metadata": {
  "kernelspec": {
   "display_name": "Python 3",
   "language": "python",
   "name": "python3"
  },
  "language_info": {
   "codemirror_mode": {
    "name": "ipython",
    "version": 3
   },
   "file_extension": ".py",
   "mimetype": "text/x-python",
   "name": "python",
   "nbconvert_exporter": "python",
   "pygments_lexer": "ipython3",
   "version": "3.9.0"
  }
 },
 "nbformat": 4,
 "nbformat_minor": 5
}