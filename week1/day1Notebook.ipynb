{
 "cells": [
  {
   "cell_type": "markdown",
   "id": "strange-texture",
   "metadata": {},
   "source": [
    "# this is a title\n",
    "## and a subtitle\n",
    "print('hallo')"
   ]
  },
  {
   "cell_type": "code",
   "execution_count": 1,
   "id": "vocational-easter",
   "metadata": {},
   "outputs": [],
   "source": [
    "import math\n",
    "import numpy as np\n",
    "\n"
   ]
  },
  {
   "cell_type": "code",
   "execution_count": null,
   "metadata": {},
   "outputs": [],
   "source": []
  }
 ],
 "metadata": {
  "kernelspec": {
   "display_name": "Python 3",
   "language": "python",
   "name": "python3"
  },
  "language_info": {
   "codemirror_mode": {
    "name": "ipython",
    "version": 3
   },
   "file_extension": ".py",
   "mimetype": "text/x-python",
   "name": "python",
   "nbconvert_exporter": "python",
   "pygments_lexer": "ipython3",
   "version": "3.9.0"
  }
 },
 "nbformat": 4,
 "nbformat_minor": 5
}