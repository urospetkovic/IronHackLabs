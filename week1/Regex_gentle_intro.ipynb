{
 "cells": [
  {
   "cell_type": "markdown",
   "id": "9ba48ef2",
   "metadata": {},
   "source": [
    "## Intro to Regex"
   ]
  },
  {
   "cell_type": "markdown",
   "id": "b37e32d9",
   "metadata": {
    "heading_collapsed": true
   },
   "source": [
    "### Why do we need Regular expressions ? \n",
    "\n",
    "Regular expressions, at the most basic level, allow computer users and developers to find desired pieces\n",
    "of text and, often, to replace those pieces of text with something that is preferred. On websites, regular\n",
    "expressions are used to test whether a sequence of characters that might be intended to be a credit card\n",
    "number, email address or a telephone number has an allowed pattern of characters. \n",
    "\n",
    "Whether it’s finding existing sequences of characters or testing sequences of characters for their suitability (or not) for storage, the key aspect of regular expressions is matching a pattern against a sequence of characters.\n"
   ]
  },
  {
   "cell_type": "markdown",
   "id": "7311b76a",
   "metadata": {},
   "source": [
    "### What can data folks do with regex? \n",
    "\n",
    "+ Retrieve useful information from the noise- eg numbers from text\n",
    "+ Finding matching strings or numbers to suit a pre known pattern\n",
    "+ Split strings into useable, very specific portions\n",
    "+ Find repeated words, to count instances of the same pattern, or find sort of words (typos)\n",
    "\n",
    "\n",
    "\n",
    "---- \n",
    "of course if the text you are using is quite long and simple pattern matching isnt enough, then maybe you should use a NLP package instead, eg NLTK"
   ]
  },
  {
   "cell_type": "code",
   "execution_count": 1,
   "id": "a9052474",
   "metadata": {},
   "outputs": [],
   "source": [
    "#Import regex library\n",
    "import re "
   ]
  },
  {
   "cell_type": "markdown",
   "id": "394216ed",
   "metadata": {},
   "source": [
    "### Extracting  numeric information from text \n",
    "\n",
    "Recipe extract : \n",
    "\" Cream 140g softened butter and 140g caster sugar until light and fluffy, then slowly add 2 beaten large eggs with a little of the flour. Fold in the remaining flour, 1 tsp baking powder and 2 mashed bananas\"\n",
    "\n",
    "+ Task - using Regex we want to extract the volumes from the text \n",
    "+ findall is a regex function to search the text for matches eg.findall(pattern,text)\n",
    "+ \\d looks for numeric characters\n",
    "+ find this and other useful re characters on [this link]( https://cheatography.com/davechild/cheat-sheets/regular-expressions/)"
   ]
  },
  {
   "cell_type": "code",
   "execution_count": 2,
   "id": "7e1e69a7",
   "metadata": {},
   "outputs": [
    {
     "output_type": "execute_result",
     "data": {
      "text/plain": [
       "['140', '140', '2', '1', '2']"
      ]
     },
     "metadata": {},
     "execution_count": 2
    }
   ],
   "source": [
    "recipe=\"Cream 140g softened butter and 140g caster sugar until light and  fluffy then slowly add 2 beaten large eggs with a little of the flour.  Fold in the remaining flour, 1 tsp baking powder and 2 mashed bananas\"\n",
    "\n",
    "matches=re.findall('\\d+',recipe)\n",
    "matches"
   ]
  },
  {
   "cell_type": "markdown",
   "id": "c46af874",
   "metadata": {},
   "source": [
    "### Checking a telephone number input is correct \n",
    "\n",
    "This varies depending on the country, because phone number structures vary per country. For example in the UK a valid phone number would be +441176654432 or +447799343821, but sometimes the number is entered without the +44, just starting with 0, and some older people persist in recalling the numbers as starting '0044'. In each case the number is then followed by 10 digits, so to that end it is easy. \n",
    "\n",
    "You will find examples online of regex patterns to validate telephone numbers for your own country, here is one matching re pattern for the UK:\n",
    "\n",
    "> ^(\\\\+44\\s?\\d{10}|0044\\s?\\d{10}|0\\s?\\d{10})?$"
   ]
  },
  {
   "cell_type": "code",
   "execution_count": 3,
   "id": "cad81d81",
   "metadata": {},
   "outputs": [],
   "source": [
    "number = '+447799343821'"
   ]
  },
  {
   "cell_type": "code",
   "execution_count": 4,
   "id": "3fa3b3ca",
   "metadata": {},
   "outputs": [
    {
     "output_type": "stream",
     "name": "stdout",
     "text": [
      "valid phone number\n"
     ]
    }
   ],
   "source": [
    "pattern = '^(\\+44\\s?\\d{10}|0044\\s?\\d{10}|0\\s?\\d{10})?$'\n",
    "result = re.match(pattern, number)\n",
    "\n",
    "if result:\n",
    "  print(\"valid phone number\")\n",
    "else:\n",
    "  print(\"not a valid phone number\")\t"
   ]
  },
  {
   "cell_type": "markdown",
   "id": "07ea2056",
   "metadata": {},
   "source": [
    "### Checking an email number input is correct \n",
    "\n",
    "We could use the same approach for checking any strings where we know what the format should be - eg email addresses, websites, credit card numbers, passport numbers, bank account numbers - you have all probably interacted with a website which does this kind of pattern matching. \n",
    "\n",
    "+ one example regex for email addresses is \n",
    "\n",
    "> ^([a-zA-Z0-9_\\-\\.]+)@([a-zA-Z0-9_\\-\\.]+)\\.([a-zA-z]+)$\n",
    "\n",
    "+ while this may be beaten by some email address forms (exceptions) it will cover the majority"
   ]
  },
  {
   "cell_type": "code",
   "execution_count": 5,
   "id": "2d15b6d9",
   "metadata": {},
   "outputs": [],
   "source": [
    "email = 'sian.davies@ironhack.com'"
   ]
  },
  {
   "cell_type": "code",
   "execution_count": 6,
   "id": "bd48abfc",
   "metadata": {},
   "outputs": [],
   "source": [
    "pattern =  '^([a-zA-Z0-9_\\-\\.]+)@([a-zA-Z0-9_\\-\\.]+)\\.([a-zA-z]+)$'"
   ]
  },
  {
   "cell_type": "code",
   "execution_count": 7,
   "id": "6de81681",
   "metadata": {},
   "outputs": [
    {
     "output_type": "stream",
     "name": "stdout",
     "text": [
      "valid email address\n"
     ]
    }
   ],
   "source": [
    "result = re.match(pattern, email)\n",
    "\n",
    "if result:\n",
    "  print(\"valid email address\")\n",
    "else:\n",
    "  print(\"not a valid email address\")\t"
   ]
  },
  {
   "cell_type": "markdown",
   "id": "a320bfea",
   "metadata": {},
   "source": [
    "if you want to write your own pattern for expected text  - this is a useful place to start \n",
    "\n",
    "https://www.programiz.com/python-programming/regex \n",
    "\n",
    "##### Metacharacters - these are fairly generic and are useful to know for regex, python, SQL (+%)\n",
    "\n",
    "> . ^ $ * + ? { } [ ] \\ | ( )\n",
    "\n",
    "\n",
    "##### special sequences - these are specific to regex \n",
    "\n",
    "+ \\d\n",
    "Matches any decimal digit; this is equivalent to the class [0-9].\n",
    "\n",
    "+ \\D\n",
    "Matches any non-digit character; this is equivalent to the class [^0-9].\n",
    "\n",
    "+ \\s\n",
    "Matches any whitespace character; this is equivalent to the class [ \\t\\n\\r\\f\\v].\n",
    "\n",
    "+ \\S\n",
    "Matches any non-whitespace character; this is equivalent to the class [^ \\t\\n\\r\\f\\v].\n",
    "\n",
    "+ \\w\n",
    "Matches any alphanumeric character; this is equivalent to the class [a-zA-Z0-9_].\n",
    "\n",
    "+ \\W\n",
    "Matches any non-alphanumeric character; this is equivalent to the class [^a-zA-Z0-9_]."
   ]
  },
  {
   "cell_type": "markdown",
   "id": "f06e5dcf",
   "metadata": {},
   "source": [
    "### Split strings of text in useful ways\n",
    "\n",
    "You have learnt how to use python split or rsplit function and this will probably cover many eventualities eg whitespace, specific characters, index position \n",
    "\n",
    "However - what about splitting around certain words or phrases ? "
   ]
  },
  {
   "cell_type": "code",
   "execution_count": 9,
   "id": "c6e23c14",
   "metadata": {},
   "outputs": [],
   "source": [
    "# read file \n",
    "email = open(r\"sianemail.txt\", \"r\").read()"
   ]
  },
  {
   "cell_type": "code",
   "execution_count": null,
   "id": "4213b1aa",
   "metadata": {},
   "outputs": [],
   "source": [
    "email"
   ]
  },
  {
   "cell_type": "code",
   "execution_count": 10,
   "id": "f2996941",
   "metadata": {},
   "outputs": [
    {
     "output_type": "stream",
     "name": "stdout",
     "text": [
      "9:28 AM \nFrom: Sia\n"
     ]
    }
   ],
   "source": [
    "# I want to get the email address from the message, and I can see From: is at the start of that line \n",
    "# so I will use regular python \n",
    "\n",
    "for line in email.split(\"n\"):\n",
    "    if \"From:\" in line:\n",
    "        print(line)"
   ]
  },
  {
   "cell_type": "code",
   "execution_count": 11,
   "id": "f6553ae8",
   "metadata": {},
   "outputs": [
    {
     "output_type": "stream",
     "name": "stdout",
     "text": [
      "From: Sian <sian.davies@ironhack.com>\n"
     ]
    }
   ],
   "source": [
    "# with regex \n",
    "\n",
    "for line in re.findall(\"From:.*\", email):\n",
    "    print(line)"
   ]
  },
  {
   "cell_type": "code",
   "execution_count": null,
   "id": "644b81ad",
   "metadata": {},
   "outputs": [],
   "source": [
    "# use regex to get the email address before the @ \n",
    "\n",
    "match = re.findall(\"From:.*\", email)\n",
    "for line in match:\n",
    "    print(re.findall(\"\\w\\S*@\", line))"
   ]
  },
  {
   "cell_type": "code",
   "execution_count": null,
   "id": "3607ee39",
   "metadata": {},
   "outputs": [],
   "source": [
    "# use regex to get the email address after the @ \n",
    "for line in match:\n",
    "    print(re.findall(\"@.*\", line))"
   ]
  },
  {
   "cell_type": "code",
   "execution_count": null,
   "id": "3f966ae8",
   "metadata": {},
   "outputs": [],
   "source": [
    "# use regex to retrieve specific information \n",
    "match = re.search(\"password is :.*\", email)\n",
    "print(type(match))\n",
    "print(type(match.group()))\n",
    "print(match)\n",
    "print(match.group())"
   ]
  },
  {
   "cell_type": "markdown",
   "id": "970346df",
   "metadata": {},
   "source": [
    "Once we start using pandas in python, you will be working with multiple rows of data - you can see how you might use Regex to retrieve specified information from each string per row \n"
   ]
  },
  {
   "cell_type": "markdown",
   "id": "d510c44e",
   "metadata": {},
   "source": [
    "### Find matching strings, count those strings, deal with typos in matches\n",
    "\n",
    "#### Counting matches \n",
    "\n",
    "Sometimes we want to know how often in a body of text a certain word is mentioned. For example I have noticed many young people use the word LIKE a lot, and it is very easy to fall into the habit of doing so myself. Can we use Regex to count the instances of the word 'like' ? "
   ]
  },
  {
   "cell_type": "code",
   "execution_count": null,
   "id": "bcaa86af",
   "metadata": {},
   "outputs": [],
   "source": [
    "text = \"If you too have been infected with the like epidemic, do not despair; there is hope.  Before we can change a habit, whether it is a speech sound or another verbal speech pattern, we have to be able to hear it.  Record yourself telling a story as if you are talking to a friend or while you are on the phone with a friend, record your half of the conversation.  Go back, and listen to the recording and count all of the times you used the word “like”.  Now, while listening to the recording, say the same sentences again, without using the word “like”.  Stop the recording every two to three sentences and reproduce the same part of the story without the use of like.  After you have completed this process, try telling the same story again, from beginning to end, without relying on the filler like.  Record your narration so that you will be able to hear the new, improved, like-less version.  You have begun to train your ear to scan for the word like and now, more aware of it, you can begin to curtail using it in everyday, conversational speech.\""
   ]
  },
  {
   "cell_type": "code",
   "execution_count": null,
   "id": "c32d438e",
   "metadata": {},
   "outputs": [],
   "source": [
    "patterns= [r'like']\n",
    "\n",
    "    \n",
    "for p in patterns:\n",
    "    match= re.findall(p, text)\n",
    "    print(match)\n",
    "\n",
    "length= len(match)\n",
    "\n",
    "print(length)"
   ]
  },
  {
   "cell_type": "markdown",
   "id": "996a7352",
   "metadata": {},
   "source": [
    "#### Dodgy matches - ie someone has spelt the words a little wrong \n",
    "\n",
    "but we still want to find the words and count them \n",
    "\n",
    "+ note, you dont have to use regex, there are built-in functions in python to search for wildcard strings, but the bigger your task (the more messy your data, or the longer your text/file) the more regex may save you time in the long run "
   ]
  },
  {
   "cell_type": "code",
   "execution_count": 12,
   "id": "12b151bc",
   "metadata": {},
   "outputs": [],
   "source": [
    "typos = \"in matplotlib and seaborn they spell colour like color but in the uk we spell it colour. So I am constantly typing color as colour and my function doesnt work. I am not sure whether colour or color is correct but I think we should all use the same spelling \""
   ]
  },
  {
   "cell_type": "code",
   "execution_count": 13,
   "id": "bbeb39f3",
   "metadata": {},
   "outputs": [
    {
     "output_type": "stream",
     "name": "stdout",
     "text": [
      "['colour', 'color', 'colour', 'color', 'colour', 'colour', 'color']\n7\n"
     ]
    }
   ],
   "source": [
    "patterns= [r'col\\w+r']\n",
    "\n",
    "for p in patterns:\n",
    "    match= re.findall(p, typos)\n",
    "    print(match)\n",
    "\n",
    "length= len(match)\n",
    "\n",
    "print(length)"
   ]
  },
  {
   "cell_type": "markdown",
   "id": "259b11a8",
   "metadata": {},
   "source": [
    "#### extending matches with grouping - whats the next word? \n",
    "\n",
    "Regular expressions allow us to not just match text but also to extract information for further processing. This is done by defining groups of characters and capturing them using  parentheses ( and ) metacharacters.\n",
    "\n",
    "+ in this example I will disregard the varied spelling of colour, and return the next word as long as it starts with 'p'\n"
   ]
  },
  {
   "cell_type": "code",
   "execution_count": 16,
   "id": "f19116c7",
   "metadata": {},
   "outputs": [],
   "source": [
    "list = ['colour wheel', 'colouring pens', 'color blind', 'the color purple - book by A Walker', 'colour palette', 'coloured pink']"
   ]
  },
  {
   "cell_type": "code",
   "execution_count": 17,
   "id": "9c3f559d",
   "metadata": {},
   "outputs": [
    {
     "output_type": "stream",
     "name": "stdout",
     "text": [
      "('colouring', 'pens')\n('colour', 'palette')\n('coloured', 'pink')\n"
     ]
    }
   ],
   "source": [
    "for element in list: \n",
    "    z=re.match(\"(col\\w+)\\W(p\\w+)\", element)\n",
    "    \n",
    "    if z:\n",
    "        print((z.groups()))"
   ]
  },
  {
   "cell_type": "markdown",
   "id": "9a97aab2",
   "metadata": {},
   "source": [
    "+ Note that the fabulous book 'the color purple' by Alice walker was not matched. You will only find matches with this re.match method at the start of the string - you can either set up a regex pattern which allows for other words at the start of the string, or much easier use re. search\n",
    "\n",
    "> re.match() function of re in Python will search the regular expression pattern and return the first occurrence. The Python RegEx Match method checks for a match only at the beginning of the string. So, if a match is found in the first line, it returns the match object. But if a match is found in some other line, the Python RegEx Match function returns null"
   ]
  },
  {
   "cell_type": "code",
   "execution_count": 18,
   "id": "55ea9004",
   "metadata": {},
   "outputs": [
    {
     "output_type": "stream",
     "name": "stdout",
     "text": [
      "('colouring', 'pens')\n('color', 'purple')\n('colour', 'palette')\n('coloured', 'pink')\n"
     ]
    }
   ],
   "source": [
    "for element in list: \n",
    "    z=re.search(\"(col\\w+)\\W(p\\w+)\", element)\n",
    "    \n",
    "    if z:\n",
    "        print((z.groups()))"
   ]
  },
  {
   "cell_type": "markdown",
   "id": "a10acaf9",
   "metadata": {},
   "source": [
    "### TIP - Using compile with regex - for later and frequent usage"
   ]
  },
  {
   "cell_type": "code",
   "execution_count": 19,
   "id": "fdba464f",
   "metadata": {},
   "outputs": [],
   "source": [
    "pattern= re.compile(r\"\\w+(?=\\slooks)\")\n",
    "\n",
    "string = \"Now I think I could have a go with regex, regex looks awesome!\""
   ]
  },
  {
   "cell_type": "code",
   "execution_count": 20,
   "id": "c99d05ea",
   "metadata": {},
   "outputs": [],
   "source": [
    "result = pattern.search(string)"
   ]
  },
  {
   "cell_type": "code",
   "execution_count": 21,
   "id": "ca099d8e",
   "metadata": {},
   "outputs": [
    {
     "output_type": "stream",
     "name": "stdout",
     "text": [
      "<re.Match object; span=(42, 47), match='regex'>\n"
     ]
    }
   ],
   "source": [
    "print(result)"
   ]
  },
  {
   "cell_type": "code",
   "execution_count": 22,
   "id": "3e88a7c3",
   "metadata": {},
   "outputs": [
    {
     "output_type": "stream",
     "name": "stdout",
     "text": [
      "['regex']\n"
     ]
    }
   ],
   "source": [
    "pattern = re.compile(r\"\\w+(?=,)\")\n",
    "result = pattern.findall(string)\n",
    "print(result)"
   ]
  },
  {
   "cell_type": "code",
   "execution_count": null,
   "id": "2f93db57",
   "metadata": {},
   "outputs": [],
   "source": []
  }
 ],
 "metadata": {
  "kernelspec": {
   "display_name": "Python 3",
   "language": "python",
   "name": "python3"
  },
  "language_info": {
   "codemirror_mode": {
    "name": "ipython",
    "version": 3
   },
   "file_extension": ".py",
   "mimetype": "text/x-python",
   "name": "python",
   "nbconvert_exporter": "python",
   "pygments_lexer": "ipython3",
   "version": "3.9.0"
  },
  "toc": {
   "base_numbering": 1,
   "nav_menu": {},
   "number_sections": true,
   "sideBar": true,
   "skip_h1_title": false,
   "title_cell": "Table of Contents",
   "title_sidebar": "Contents",
   "toc_cell": false,
   "toc_position": {},
   "toc_section_display": true,
   "toc_window_display": false
  },
  "varInspector": {
   "cols": {
    "lenName": 16,
    "lenType": 16,
    "lenVar": 40
   },
   "kernels_config": {
    "python": {
     "delete_cmd_postfix": "",
     "delete_cmd_prefix": "del ",
     "library": "var_list.py",
     "varRefreshCmd": "print(var_dic_list())"
    },
    "r": {
     "delete_cmd_postfix": ") ",
     "delete_cmd_prefix": "rm(",
     "library": "var_list.r",
     "varRefreshCmd": "cat(var_dic_list()) "
    }
   },
   "types_to_exclude": [
    "module",
    "function",
    "builtin_function_or_method",
    "instance",
    "_Feature"
   ],
   "window_display": false
  }
 },
 "nbformat": 4,
 "nbformat_minor": 5
}