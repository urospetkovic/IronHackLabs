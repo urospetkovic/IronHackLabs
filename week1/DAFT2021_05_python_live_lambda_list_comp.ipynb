{
 "cells": [
  {
   "cell_type": "markdown",
   "id": "876991f8",
   "metadata": {},
   "source": [
    "# 1. object types"
   ]
  },
  {
   "cell_type": "markdown",
   "id": "7d81292c",
   "metadata": {},
   "source": [
    "Python is an **object oriented programming** (OOP) language. What does that mean? Everything is represented by an object:\n",
    "* Data (int's, float's, ...)\n",
    "* Functions\n",
    "* Code\n",
    "* Exceptions\n",
    "\n",
    "Every object in Python has a \n",
    "* id - call it with `id()`\n",
    "* a value\n",
    "* a type\n",
    "\n",
    "Some are\n",
    "* mutable - lists: `[2,5,7,8,10]`\n",
    "* immutable - e.g. tuples: `(2,5)`, but also all numeric datatypes or chars, like `a = 2.4`, `c = \"Hello\"`\n",
    "\n",
    "Why also numerics and chars?\n",
    "\n",
    "Because with\n",
    "\n",
    "```python\n",
    "a = 'ab'\n",
    "a = 'cd'\n",
    "```\n",
    "`a` is not changed in the second line. Instead a new object of value `cd` is created and the variable `a` is then made to point to that object. It doesn't point to `ab` anymore. The Python-\"Garbage collector\" removes this \"non reachable object\" during runtime of the program.\n",
    "\n",
    "### Types and classes\n",
    "\n",
    "every object belongs to a certain type created according to a \"blueprint\", in Python called a **class**\n",
    "You can find out the type with"
   ]
  },
  {
   "cell_type": "code",
   "execution_count": 2,
   "id": "172a7739",
   "metadata": {},
   "outputs": [
    {
     "data": {
      "text/plain": [
       "139784077649200"
      ]
     },
     "execution_count": 2,
     "metadata": {},
     "output_type": "execute_result"
    }
   ],
   "source": [
    "id(\"Hello World\")"
   ]
  },
  {
   "cell_type": "code",
   "execution_count": 3,
   "id": "8847b4a6",
   "metadata": {},
   "outputs": [
    {
     "data": {
      "text/plain": [
       "139784077549936"
      ]
     },
     "execution_count": 3,
     "metadata": {},
     "output_type": "execute_result"
    }
   ],
   "source": [
    "id(\"Hello World\")"
   ]
  },
  {
   "cell_type": "code",
   "execution_count": 4,
   "id": "f1f24e02",
   "metadata": {},
   "outputs": [
    {
     "data": {
      "text/plain": [
       "str"
      ]
     },
     "execution_count": 4,
     "metadata": {},
     "output_type": "execute_result"
    }
   ],
   "source": [
    "type(\"Hello World\")"
   ]
  },
  {
   "cell_type": "code",
   "execution_count": 5,
   "id": "80b0f746",
   "metadata": {},
   "outputs": [
    {
     "data": {
      "text/plain": [
       "'Hello World'"
      ]
     },
     "execution_count": 5,
     "metadata": {},
     "output_type": "execute_result"
    }
   ],
   "source": [
    "\"Hello World\""
   ]
  },
  {
   "cell_type": "code",
   "execution_count": 6,
   "id": "d39dfeec",
   "metadata": {},
   "outputs": [
    {
     "data": {
      "text/plain": [
       "int"
      ]
     },
     "execution_count": 6,
     "metadata": {},
     "output_type": "execute_result"
    }
   ],
   "source": [
    "type(12345)"
   ]
  },
  {
   "cell_type": "code",
   "execution_count": 7,
   "id": "f784f48f",
   "metadata": {},
   "outputs": [
    {
     "data": {
      "text/plain": [
       "float"
      ]
     },
     "execution_count": 7,
     "metadata": {},
     "output_type": "execute_result"
    }
   ],
   "source": [
    "type(123.244)"
   ]
  },
  {
   "cell_type": "code",
   "execution_count": 8,
   "id": "be2ef348",
   "metadata": {},
   "outputs": [
    {
     "data": {
      "text/plain": [
       "False"
      ]
     },
     "execution_count": 8,
     "metadata": {},
     "output_type": "execute_result"
    }
   ],
   "source": [
    "isinstance(2434.343, str)"
   ]
  },
  {
   "cell_type": "code",
   "execution_count": 9,
   "id": "e787c424",
   "metadata": {},
   "outputs": [
    {
     "data": {
      "text/plain": [
       "True"
      ]
     },
     "execution_count": 9,
     "metadata": {},
     "output_type": "execute_result"
    }
   ],
   "source": [
    "isinstance(\"ddfgf\", str)"
   ]
  },
  {
   "cell_type": "markdown",
   "id": "8d7fea5d",
   "metadata": {},
   "source": [
    "The class contains all the **attributes** (properties, values) and **methods** (functions). It tells us, what the resulting object **is** and what it **can do**.\n",
    "You can always find this out with...."
   ]
  },
  {
   "cell_type": "code",
   "execution_count": 10,
   "id": "541d9ed3",
   "metadata": {},
   "outputs": [
    {
     "data": {
      "text/plain": [
       "'fdsfdghjh'"
      ]
     },
     "execution_count": 10,
     "metadata": {},
     "output_type": "execute_result"
    }
   ],
   "source": [
    "\"fdsfd\" + \"ghjh\""
   ]
  },
  {
   "cell_type": "code",
   "execution_count": 11,
   "id": "daa8fdc6",
   "metadata": {},
   "outputs": [
    {
     "data": {
      "text/plain": [
       "['__add__',\n",
       " '__class__',\n",
       " '__contains__',\n",
       " '__delattr__',\n",
       " '__dir__',\n",
       " '__doc__',\n",
       " '__eq__',\n",
       " '__format__',\n",
       " '__ge__',\n",
       " '__getattribute__',\n",
       " '__getitem__',\n",
       " '__getnewargs__',\n",
       " '__gt__',\n",
       " '__hash__',\n",
       " '__init__',\n",
       " '__init_subclass__',\n",
       " '__iter__',\n",
       " '__le__',\n",
       " '__len__',\n",
       " '__lt__',\n",
       " '__mod__',\n",
       " '__mul__',\n",
       " '__ne__',\n",
       " '__new__',\n",
       " '__reduce__',\n",
       " '__reduce_ex__',\n",
       " '__repr__',\n",
       " '__rmod__',\n",
       " '__rmul__',\n",
       " '__setattr__',\n",
       " '__sizeof__',\n",
       " '__str__',\n",
       " '__subclasshook__',\n",
       " 'capitalize',\n",
       " 'casefold',\n",
       " 'center',\n",
       " 'count',\n",
       " 'encode',\n",
       " 'endswith',\n",
       " 'expandtabs',\n",
       " 'find',\n",
       " 'format',\n",
       " 'format_map',\n",
       " 'index',\n",
       " 'isalnum',\n",
       " 'isalpha',\n",
       " 'isascii',\n",
       " 'isdecimal',\n",
       " 'isdigit',\n",
       " 'isidentifier',\n",
       " 'islower',\n",
       " 'isnumeric',\n",
       " 'isprintable',\n",
       " 'isspace',\n",
       " 'istitle',\n",
       " 'isupper',\n",
       " 'join',\n",
       " 'ljust',\n",
       " 'lower',\n",
       " 'lstrip',\n",
       " 'maketrans',\n",
       " 'partition',\n",
       " 'replace',\n",
       " 'rfind',\n",
       " 'rindex',\n",
       " 'rjust',\n",
       " 'rpartition',\n",
       " 'rsplit',\n",
       " 'rstrip',\n",
       " 'split',\n",
       " 'splitlines',\n",
       " 'startswith',\n",
       " 'strip',\n",
       " 'swapcase',\n",
       " 'title',\n",
       " 'translate',\n",
       " 'upper',\n",
       " 'zfill']"
      ]
     },
     "execution_count": 11,
     "metadata": {},
     "output_type": "execute_result"
    }
   ],
   "source": [
    "dir(\"fdsfd\")"
   ]
  },
  {
   "cell_type": "code",
   "execution_count": 12,
   "id": "86d8bfca",
   "metadata": {},
   "outputs": [
    {
     "data": {
      "text/plain": [
       "'fdsfdghjh'"
      ]
     },
     "execution_count": 12,
     "metadata": {},
     "output_type": "execute_result"
    }
   ],
   "source": [
    "\"fdsfd\" + \"ghjh\""
   ]
  },
  {
   "cell_type": "code",
   "execution_count": 13,
   "id": "a9191d8b",
   "metadata": {},
   "outputs": [
    {
     "data": {
      "text/plain": [
       "'fdsfdghjh'"
      ]
     },
     "execution_count": 13,
     "metadata": {},
     "output_type": "execute_result"
    }
   ],
   "source": [
    "\"fdsfd\".__add__(\"ghjh\")"
   ]
  },
  {
   "cell_type": "code",
   "execution_count": 15,
   "id": "01c1d2fd",
   "metadata": {},
   "outputs": [
    {
     "data": {
      "text/plain": [
       "'dfdf---'"
      ]
     },
     "execution_count": 15,
     "metadata": {},
     "output_type": "execute_result"
    }
   ],
   "source": [
    "\"fdfdf---\".lstrip(\"f\")"
   ]
  },
  {
   "cell_type": "markdown",
   "id": "986e64ef",
   "metadata": {},
   "source": [
    "**The key to successfully working with Python is knowing of what type your object are!**"
   ]
  },
  {
   "cell_type": "code",
   "execution_count": 16,
   "id": "163eb3da",
   "metadata": {},
   "outputs": [],
   "source": [
    "a = \"Hello World\""
   ]
  },
  {
   "cell_type": "code",
   "execution_count": 17,
   "id": "42a8a74b",
   "metadata": {},
   "outputs": [],
   "source": [
    "a = \"Hello Flo\""
   ]
  },
  {
   "cell_type": "markdown",
   "id": "9e7fd83d",
   "metadata": {},
   "source": [
    "# 2. String operations"
   ]
  },
  {
   "cell_type": "markdown",
   "id": "87eb8d93",
   "metadata": {},
   "source": [
    "### `lower()`, `upper()`"
   ]
  },
  {
   "cell_type": "code",
   "execution_count": 18,
   "id": "e997e42b",
   "metadata": {},
   "outputs": [],
   "source": [
    "a = \"Hello World\""
   ]
  },
  {
   "cell_type": "code",
   "execution_count": 19,
   "id": "9c19d976",
   "metadata": {},
   "outputs": [
    {
     "data": {
      "text/plain": [
       "'hello world'"
      ]
     },
     "execution_count": 19,
     "metadata": {},
     "output_type": "execute_result"
    }
   ],
   "source": [
    "a.lower()"
   ]
  },
  {
   "cell_type": "code",
   "execution_count": 20,
   "id": "97ee7224",
   "metadata": {},
   "outputs": [
    {
     "data": {
      "text/plain": [
       "'HELLO WORLD'"
      ]
     },
     "execution_count": 20,
     "metadata": {},
     "output_type": "execute_result"
    }
   ],
   "source": [
    "a.upper()"
   ]
  },
  {
   "cell_type": "code",
   "execution_count": 25,
   "id": "02f2b424",
   "metadata": {},
   "outputs": [],
   "source": [
    "b = \" how are you?\""
   ]
  },
  {
   "cell_type": "markdown",
   "id": "fdbce1e6",
   "metadata": {},
   "source": [
    "### `lstrip()`, `rstrip()`, `strip()`"
   ]
  },
  {
   "cell_type": "code",
   "execution_count": 22,
   "id": "5306f4bc",
   "metadata": {},
   "outputs": [
    {
     "data": {
      "text/plain": [
       "'how are you?'"
      ]
     },
     "execution_count": 22,
     "metadata": {},
     "output_type": "execute_result"
    }
   ],
   "source": [
    "b.strip()"
   ]
  },
  {
   "cell_type": "code",
   "execution_count": 23,
   "id": "d3c5a767",
   "metadata": {},
   "outputs": [
    {
     "data": {
      "text/plain": [
       "'w are you?'"
      ]
     },
     "execution_count": 23,
     "metadata": {},
     "output_type": "execute_result"
    }
   ],
   "source": [
    "b.strip(\" ho\")"
   ]
  },
  {
   "cell_type": "code",
   "execution_count": 33,
   "id": "483e33a1",
   "metadata": {},
   "outputs": [
    {
     "data": {
      "text/plain": [
       "' how are you?'"
      ]
     },
     "execution_count": 33,
     "metadata": {},
     "output_type": "execute_result"
    }
   ],
   "source": [
    "b.lstrip(\"yo \")"
   ]
  },
  {
   "cell_type": "code",
   "execution_count": 34,
   "id": "249cc55b",
   "metadata": {},
   "outputs": [
    {
     "data": {
      "text/plain": [
       "'?'"
      ]
     },
     "execution_count": 34,
     "metadata": {},
     "output_type": "execute_result"
    }
   ],
   "source": [
    "b[-1]"
   ]
  },
  {
   "cell_type": "markdown",
   "id": "f48dcff8",
   "metadata": {},
   "source": [
    "### `join()`"
   ]
  },
  {
   "cell_type": "code",
   "execution_count": 30,
   "id": "5f58a326",
   "metadata": {},
   "outputs": [],
   "source": [
    "a = ['monday', 'tuesday', 'wednesday']"
   ]
  },
  {
   "cell_type": "code",
   "execution_count": 31,
   "id": "79793314",
   "metadata": {},
   "outputs": [
    {
     "data": {
      "text/plain": [
       "'monday-tuesday-wednesday'"
      ]
     },
     "execution_count": 31,
     "metadata": {},
     "output_type": "execute_result"
    }
   ],
   "source": [
    "\"-\".join(a)"
   ]
  },
  {
   "cell_type": "code",
   "execution_count": 32,
   "id": "3aff9131",
   "metadata": {},
   "outputs": [
    {
     "data": {
      "text/plain": [
       "'H*e*l*l*o*W*o*r*l*d'"
      ]
     },
     "execution_count": 32,
     "metadata": {},
     "output_type": "execute_result"
    }
   ],
   "source": [
    "c = \"HelloWorld\"\n",
    "\"*\".join(c)"
   ]
  },
  {
   "cell_type": "markdown",
   "id": "fb217a1e",
   "metadata": {},
   "source": [
    "### `split()`"
   ]
  },
  {
   "cell_type": "code",
   "execution_count": 35,
   "id": "48384107",
   "metadata": {},
   "outputs": [],
   "source": [
    "sentence = \"Hello world! How are you?\""
   ]
  },
  {
   "cell_type": "code",
   "execution_count": 36,
   "id": "96c5f9b9",
   "metadata": {},
   "outputs": [
    {
     "data": {
      "text/plain": [
       "['Hello', 'world!', 'How', 'are', 'you?']"
      ]
     },
     "execution_count": 36,
     "metadata": {},
     "output_type": "execute_result"
    }
   ],
   "source": [
    "sentence.split()"
   ]
  },
  {
   "cell_type": "code",
   "execution_count": 37,
   "id": "7c7fae04",
   "metadata": {},
   "outputs": [
    {
     "data": {
      "text/plain": [
       "['Hello world', ' How are you?']"
      ]
     },
     "execution_count": 37,
     "metadata": {},
     "output_type": "execute_result"
    }
   ],
   "source": [
    "sentence.split(\"!\")"
   ]
  },
  {
   "cell_type": "code",
   "execution_count": 40,
   "id": "ac57edfd",
   "metadata": {},
   "outputs": [
    {
     "data": {
      "text/plain": [
       "['Hello world! How are you?']"
      ]
     },
     "execution_count": 40,
     "metadata": {},
     "output_type": "execute_result"
    }
   ],
   "source": [
    "sentence.split(\"x\")"
   ]
  },
  {
   "cell_type": "code",
   "execution_count": 44,
   "id": "6cb90d83",
   "metadata": {},
   "outputs": [
    {
     "data": {
      "text/plain": [
       "['Hell', ' w', 'rld! How are you?']"
      ]
     },
     "execution_count": 44,
     "metadata": {},
     "output_type": "execute_result"
    }
   ],
   "source": [
    "sentence.split(\"o\", maxsplit=2)"
   ]
  },
  {
   "cell_type": "code",
   "execution_count": 45,
   "id": "6b40a55a",
   "metadata": {},
   "outputs": [
    {
     "data": {
      "text/plain": [
       "['Hello worl', '! How are you?']"
      ]
     },
     "execution_count": 45,
     "metadata": {},
     "output_type": "execute_result"
    }
   ],
   "source": [
    "# split at the 10th letter, return a list\n",
    "[sentence[:10], sentence[11:]]"
   ]
  },
  {
   "cell_type": "code",
   "execution_count": 46,
   "id": "732215eb",
   "metadata": {},
   "outputs": [
    {
     "data": {
      "text/plain": [
       "['Hello world! H', 'w are y', 'u?']"
      ]
     },
     "execution_count": 46,
     "metadata": {},
     "output_type": "execute_result"
    }
   ],
   "source": [
    "# split specifically from the right, maximum 2 times\n",
    "sentence.rsplit(\"o\", maxsplit=2)"
   ]
  },
  {
   "cell_type": "markdown",
   "id": "ceba856a",
   "metadata": {},
   "source": [
    "### `replace()`"
   ]
  },
  {
   "cell_type": "code",
   "execution_count": 48,
   "id": "c752a295",
   "metadata": {},
   "outputs": [
    {
     "data": {
      "text/plain": [
       "'Hello_world!_How_are_you?'"
      ]
     },
     "execution_count": 48,
     "metadata": {},
     "output_type": "execute_result"
    }
   ],
   "source": [
    "sentence.replace(\" \", \"_\")"
   ]
  },
  {
   "cell_type": "code",
   "execution_count": 49,
   "id": "2064cf6e",
   "metadata": {},
   "outputs": [
    {
     "data": {
      "text/plain": [
       "'Helloworld!Howareyou?'"
      ]
     },
     "execution_count": 49,
     "metadata": {},
     "output_type": "execute_result"
    }
   ],
   "source": [
    "sentence.replace(\" \", \"\")"
   ]
  },
  {
   "cell_type": "markdown",
   "id": "bac4b6aa",
   "metadata": {},
   "source": [
    "### format strings"
   ]
  },
  {
   "cell_type": "code",
   "execution_count": 51,
   "id": "532d058a",
   "metadata": {},
   "outputs": [],
   "source": [
    "name = \"flo\"\n",
    "name2 = \"miguel\"\n",
    "\n",
    "sentence1 = \"Hello my name is flo\"\n"
   ]
  },
  {
   "cell_type": "code",
   "execution_count": 52,
   "id": "c53d9d14",
   "metadata": {},
   "outputs": [
    {
     "data": {
      "text/plain": [
       "'Hello my name is miguel'"
      ]
     },
     "execution_count": 52,
     "metadata": {},
     "output_type": "execute_result"
    }
   ],
   "source": [
    "f\"Hello my name is {name2}\""
   ]
  },
  {
   "cell_type": "code",
   "execution_count": 53,
   "id": "21baaa73",
   "metadata": {},
   "outputs": [
    {
     "data": {
      "text/plain": [
       "'Hello my name is flo'"
      ]
     },
     "execution_count": 53,
     "metadata": {},
     "output_type": "execute_result"
    }
   ],
   "source": [
    "f\"Hello my name is {name}\""
   ]
  },
  {
   "cell_type": "code",
   "execution_count": 54,
   "id": "75d30c67",
   "metadata": {},
   "outputs": [
    {
     "data": {
      "text/plain": [
       "'there are 4 lions and 5 giraffes in the zoo'"
      ]
     },
     "execution_count": 54,
     "metadata": {},
     "output_type": "execute_result"
    }
   ],
   "source": [
    "\"there are {} lions and {} giraffes in the zoo\".format(4, 5)"
   ]
  },
  {
   "cell_type": "code",
   "execution_count": 55,
   "id": "e49ae04e",
   "metadata": {},
   "outputs": [
    {
     "data": {
      "text/plain": [
       "'there are 4 lions and 5 giraffes in the zoo'"
      ]
     },
     "execution_count": 55,
     "metadata": {},
     "output_type": "execute_result"
    }
   ],
   "source": [
    "\"there are {l} lions and {g} giraffes in the zoo\".format(g=5, l=4)"
   ]
  },
  {
   "cell_type": "code",
   "execution_count": 59,
   "id": "79c3118b",
   "metadata": {},
   "outputs": [
    {
     "data": {
      "text/plain": [
       "'there are 4 lions and 5 giraffes in the zoo'"
      ]
     },
     "execution_count": 59,
     "metadata": {},
     "output_type": "execute_result"
    }
   ],
   "source": [
    "g=5\n",
    "l=4\n",
    "\"there are \" + str(l) + \" lions and \" + str(g) + \" giraffes in the zoo\""
   ]
  },
  {
   "cell_type": "markdown",
   "id": "d68f7b85",
   "metadata": {},
   "source": [
    "# 3. A bit more on for loops"
   ]
  },
  {
   "cell_type": "code",
   "execution_count": 60,
   "id": "77f3943b",
   "metadata": {},
   "outputs": [
    {
     "name": "stdout",
     "output_type": "stream",
     "text": [
      "a-\n",
      "b-\n",
      "c-\n",
      "d-\n",
      "e-\n",
      "f-\n",
      "g-\n"
     ]
    }
   ],
   "source": [
    "for letter in 'abcdefg':\n",
    "    print(letter + \"-\")"
   ]
  },
  {
   "cell_type": "code",
   "execution_count": 61,
   "id": "450b9b6e",
   "metadata": {},
   "outputs": [
    {
     "name": "stdout",
     "output_type": "stream",
     "text": [
      "2\n",
      "3\n",
      "4\n",
      "5\n",
      "6\n",
      "7\n",
      "8\n",
      "9\n"
     ]
    }
   ],
   "source": [
    "for i in range(2,10):\n",
    "    print(i)"
   ]
  },
  {
   "cell_type": "markdown",
   "id": "746769e6",
   "metadata": {},
   "source": [
    "### `break` and `continue` (also work with `while`)"
   ]
  },
  {
   "cell_type": "code",
   "execution_count": 62,
   "id": "37b7668d",
   "metadata": {},
   "outputs": [
    {
     "name": "stdout",
     "output_type": "stream",
     "text": [
      "0\n",
      "1\n",
      "2\n",
      "3\n",
      "4\n",
      "5\n",
      "6\n",
      "7\n",
      "8\n",
      "9\n"
     ]
    }
   ],
   "source": [
    "for i in range(20):\n",
    "    if i < 10:\n",
    "        print(i)\n",
    "    else:\n",
    "        break"
   ]
  },
  {
   "cell_type": "code",
   "execution_count": 68,
   "id": "eb0224b0",
   "metadata": {},
   "outputs": [
    {
     "name": "stdout",
     "output_type": "stream",
     "text": [
      "0\n",
      "0\n",
      "1\n",
      "1\n",
      "2\n",
      "2\n",
      "3\n",
      "3\n",
      "4\n",
      "4\n",
      "5\n",
      "5\n",
      "6\n",
      "6\n",
      "7\n",
      "7\n",
      "8\n",
      "8\n",
      "9\n",
      "9\n",
      "11\n",
      "12\n",
      "13\n",
      "14\n",
      "15\n",
      "16\n",
      "17\n",
      "18\n",
      "19\n"
     ]
    }
   ],
   "source": [
    "for i in range(20):\n",
    "    if i < 10:\n",
    "        print(i)\n",
    "    elif i == 10:\n",
    "        # print(f\"{i} after continue\")\n",
    "        continue\n",
    "    print(i)"
   ]
  },
  {
   "cell_type": "markdown",
   "id": "e4164495",
   "metadata": {},
   "source": [
    "# 4. debugging and error handling"
   ]
  },
  {
   "cell_type": "code",
   "execution_count": 69,
   "id": "18c393ae",
   "metadata": {},
   "outputs": [],
   "source": [
    "from IPython.display import display, Image"
   ]
  },
  {
   "cell_type": "code",
   "execution_count": 74,
   "id": "d47915dd",
   "metadata": {},
   "outputs": [
    {
     "data": {
      "image/png": "[encoded data removed]",
      "text/plain": [
       "<IPython.core.display.Image object>"
      ]
     },
     "metadata": {
      "image/png": {
       "width": 50
      }
     },
     "output_type": "display_data"
    },
    {
     "data": {
      "image/png": "[encoded data removed]",
      "text/plain": [
       "<IPython.core.display.Image object>"
      ]
     },
     "metadata": {
      "image/png": {
       "width": 50
      }
     },
     "output_type": "display_data"
    },
    {
     "data": {
      "image/png": "[encoded data removed]",
      "text/plain": [
       "<IPython.core.display.Image object>"
      ]
     },
     "metadata": {
      "image/png": {
       "width": 50
      }
     },
     "output_type": "display_data"
    }
   ],
   "source": [
    "urls = [\"https://upload.wikimedia.org/wikipedia/commons/thumb/7/72/Noto_Emoji_Oreo_1f405.svg/240px-Noto_Emoji_Oreo_1f405.svg.png\",\n",
    "        \"https://upload.wikimedia.org/wikipedia/commons/thumb/8/84/Noto_Emoji_Pie_1f52b.svg/240px-Noto_Emoji_Pie_1f52b.svg.png\",\n",
    "        \"https://upload.wikimedia.org/wikipedia/commons/thumb/6/63/Noto_Emoji_Oreo_1f602.svg/240px-Noto_Emoji_Oreo_1f602.svg.png\",\n",
    "       ]\n",
    "\n",
    "def img_displayer(url_lst):\n",
    "    for url in url_lst:\n",
    "        img = Image(url=url, width=50, embed=True)\n",
    "        display(img)\n",
    "\n",
    "img_displayer(urls)"
   ]
  },
  {
   "cell_type": "code",
   "execution_count": 75,
   "id": "32396595",
   "metadata": {},
   "outputs": [],
   "source": [
    "urls2 = [\"https://upload.wikimedia.org/wikipedia/commons/thumb/7/72/Noto_Emoji_Oreo_1f405.svg/240px-Noto_Emoji_Oreo_1f405.svg.png\",\n",
    "         \"https://upload.wikimedia.org/wikipedia/commons/thumb/8/84/Noto_Emoji_Pie_1f52b.svg/240px-Noto_Emoji_Pie_1f52b.svg.png\",\n",
    "         \"https:www.google.com\",\n",
    "         \"https://upload.wikimedia.org/wikipedia/commons/thumb/6/63/Noto_Emoji_Oreo_1f602.svg/240px-Noto_Emoji_Oreo_1f602.svg.png\",\n",
    "                ]"
   ]
  },
  {
   "cell_type": "code",
   "execution_count": 76,
   "id": "4d822514",
   "metadata": {},
   "outputs": [
    {
     "data": {
      "image/png": "[encoded data removed]",
      "text/plain": [
       "<IPython.core.display.Image object>"
      ]
     },
     "metadata": {
      "image/png": {
       "width": 50
      }
     },
     "output_type": "display_data"
    },
    {
     "data": {
      "image/png": "[encoded data removed]",
      "text/plain": [
       "<IPython.core.display.Image object>"
      ]
     },
     "metadata": {
      "image/png": {
       "width": 50
      }
     },
     "output_type": "display_data"
    },
    {
     "ename": "ValueError",
     "evalue": "Cannot embed the 'com' image format",
     "output_type": "error",
     "traceback": [
      "\u001b[0;31m---------------------------------------------------------------------------\u001b[0m",
      "\u001b[0;31mValueError\u001b[0m                                Traceback (most recent call last)",
      "\u001b[0;32m<ipython-input-76-3c88ea8bc417>\u001b[0m in \u001b[0;36m<module>\u001b[0;34m\u001b[0m\n\u001b[0;32m----> 1\u001b[0;31m \u001b[0mimg_displayer\u001b[0m\u001b[0;34m(\u001b[0m\u001b[0murls2\u001b[0m\u001b[0;34m)\u001b[0m\u001b[0;34m\u001b[0m\u001b[0;34m\u001b[0m\u001b[0m\n\u001b[0m",
      "\u001b[0;32m<ipython-input-74-9bed83f01115>\u001b[0m in \u001b[0;36mimg_displayer\u001b[0;34m(url_lst)\u001b[0m\n\u001b[1;32m      6\u001b[0m \u001b[0;32mdef\u001b[0m \u001b[0mimg_displayer\u001b[0m\u001b[0;34m(\u001b[0m\u001b[0murl_lst\u001b[0m\u001b[0;34m)\u001b[0m\u001b[0;34m:\u001b[0m\u001b[0;34m\u001b[0m\u001b[0;34m\u001b[0m\u001b[0m\n\u001b[1;32m      7\u001b[0m     \u001b[0;32mfor\u001b[0m \u001b[0murl\u001b[0m \u001b[0;32min\u001b[0m \u001b[0murl_lst\u001b[0m\u001b[0;34m:\u001b[0m\u001b[0;34m\u001b[0m\u001b[0;34m\u001b[0m\u001b[0m\n\u001b[0;32m----> 8\u001b[0;31m         \u001b[0mimg\u001b[0m \u001b[0;34m=\u001b[0m \u001b[0mImage\u001b[0m\u001b[0;34m(\u001b[0m\u001b[0murl\u001b[0m\u001b[0;34m=\u001b[0m\u001b[0murl\u001b[0m\u001b[0;34m,\u001b[0m \u001b[0mwidth\u001b[0m\u001b[0;34m=\u001b[0m\u001b[0;36m50\u001b[0m\u001b[0;34m,\u001b[0m \u001b[0membed\u001b[0m\u001b[0;34m=\u001b[0m\u001b[0;32mTrue\u001b[0m\u001b[0;34m)\u001b[0m\u001b[0;34m\u001b[0m\u001b[0;34m\u001b[0m\u001b[0m\n\u001b[0m\u001b[1;32m      9\u001b[0m         \u001b[0mdisplay\u001b[0m\u001b[0;34m(\u001b[0m\u001b[0mimg\u001b[0m\u001b[0;34m)\u001b[0m\u001b[0;34m\u001b[0m\u001b[0;34m\u001b[0m\u001b[0m\n\u001b[1;32m     10\u001b[0m \u001b[0;34m\u001b[0m\u001b[0m\n",
      "\u001b[0;32m~/anaconda3/envs/ironhack/lib/python3.8/site-packages/IPython/core/display.py\u001b[0m in \u001b[0;36m__init__\u001b[0;34m(self, data, url, filename, format, embed, width, height, retina, unconfined, metadata)\u001b[0m\n\u001b[1;32m   1214\u001b[0m \u001b[0;34m\u001b[0m\u001b[0m\n\u001b[1;32m   1215\u001b[0m         \u001b[0;32mif\u001b[0m \u001b[0mself\u001b[0m\u001b[0;34m.\u001b[0m\u001b[0membed\u001b[0m \u001b[0;32mand\u001b[0m \u001b[0mself\u001b[0m\u001b[0;34m.\u001b[0m\u001b[0mformat\u001b[0m \u001b[0;32mnot\u001b[0m \u001b[0;32min\u001b[0m \u001b[0mself\u001b[0m\u001b[0;34m.\u001b[0m\u001b[0m_ACCEPTABLE_EMBEDDINGS\u001b[0m\u001b[0;34m:\u001b[0m\u001b[0;34m\u001b[0m\u001b[0;34m\u001b[0m\u001b[0m\n\u001b[0;32m-> 1216\u001b[0;31m             \u001b[0;32mraise\u001b[0m \u001b[0mValueError\u001b[0m\u001b[0;34m(\u001b[0m\u001b[0;34m\"Cannot embed the '%s' image format\"\u001b[0m \u001b[0;34m%\u001b[0m \u001b[0;34m(\u001b[0m\u001b[0mself\u001b[0m\u001b[0;34m.\u001b[0m\u001b[0mformat\u001b[0m\u001b[0;34m)\u001b[0m\u001b[0;34m)\u001b[0m\u001b[0;34m\u001b[0m\u001b[0;34m\u001b[0m\u001b[0m\n\u001b[0m\u001b[1;32m   1217\u001b[0m         \u001b[0;32mif\u001b[0m \u001b[0mself\u001b[0m\u001b[0;34m.\u001b[0m\u001b[0membed\u001b[0m\u001b[0;34m:\u001b[0m\u001b[0;34m\u001b[0m\u001b[0;34m\u001b[0m\u001b[0m\n\u001b[1;32m   1218\u001b[0m             \u001b[0mself\u001b[0m\u001b[0;34m.\u001b[0m\u001b[0m_mimetype\u001b[0m \u001b[0;34m=\u001b[0m \u001b[0mself\u001b[0m\u001b[0;34m.\u001b[0m\u001b[0m_MIMETYPES\u001b[0m\u001b[0;34m.\u001b[0m\u001b[0mget\u001b[0m\u001b[0;34m(\u001b[0m\u001b[0mself\u001b[0m\u001b[0;34m.\u001b[0m\u001b[0mformat\u001b[0m\u001b[0;34m)\u001b[0m\u001b[0;34m\u001b[0m\u001b[0;34m\u001b[0m\u001b[0m\n",
      "\u001b[0;31mValueError\u001b[0m: Cannot embed the 'com' image format"
     ]
    }
   ],
   "source": [
    "img_displayer(urls2)"
   ]
  },
  {
   "cell_type": "code",
   "execution_count": 81,
   "id": "93406e09",
   "metadata": {},
   "outputs": [
    {
     "data": {
      "image/png": "[encoded data removed]",
      "text/plain": [
       "<IPython.core.display.Image object>"
      ]
     },
     "metadata": {
      "image/png": {
       "width": 50
      }
     },
     "output_type": "display_data"
    },
    {
     "data": {
      "image/png": "[encoded data removed]",
      "text/plain": [
       "<IPython.core.display.Image object>"
      ]
     },
     "metadata": {
      "image/png": {
       "width": 50
      }
     },
     "output_type": "display_data"
    },
    {
     "name": "stdout",
     "output_type": "stream",
     "text": [
      "Cannot embed the 'com' image format\n"
     ]
    },
    {
     "data": {
      "image/png": "[encoded data removed]",
      "text/plain": [
       "<IPython.core.display.Image object>"
      ]
     },
     "metadata": {
      "image/png": {
       "width": 50
      }
     },
     "output_type": "display_data"
    }
   ],
   "source": [
    "def img_displayer(url_lst):\n",
    "    for url in url_lst:\n",
    "        try:\n",
    "            img = Image(url=url, width=50, embed=True)\n",
    "        except ValueError as e:\n",
    "            print(e)\n",
    "            continue\n",
    "        display(img)\n",
    "\n",
    "img_displayer(urls2)"
   ]
  },
  {
   "cell_type": "markdown",
   "id": "983688b3",
   "metadata": {},
   "source": [
    "# 5. more on functions "
   ]
  },
  {
   "cell_type": "code",
   "execution_count": 91,
   "id": "9bb943e5",
   "metadata": {},
   "outputs": [],
   "source": [
    "def odd_even_checker(number):\n",
    "    if number % 2 == 0:\n",
    "        print(str(number) + \" is even\")\n",
    "    else:\n",
    "        print(str(number) + \" is odd\")"
   ]
  },
  {
   "cell_type": "code",
   "execution_count": 88,
   "id": "db21d249",
   "metadata": {},
   "outputs": [
    {
     "name": "stdout",
     "output_type": "stream",
     "text": [
      "7 is odd\n"
     ]
    }
   ],
   "source": [
    "odd_even_checker(7)"
   ]
  },
  {
   "cell_type": "code",
   "execution_count": 89,
   "id": "09402038",
   "metadata": {},
   "outputs": [
    {
     "name": "stdout",
     "output_type": "stream",
     "text": [
      "7 is odd\n"
     ]
    },
    {
     "data": {
      "text/plain": [
       "NoneType"
      ]
     },
     "execution_count": 89,
     "metadata": {},
     "output_type": "execute_result"
    }
   ],
   "source": [
    "type(odd_even_checker(7))"
   ]
  },
  {
   "cell_type": "code",
   "execution_count": 85,
   "id": "dbd302db",
   "metadata": {},
   "outputs": [],
   "source": [
    "def return_something():\n",
    "    return"
   ]
  },
  {
   "cell_type": "code",
   "execution_count": 86,
   "id": "49219970",
   "metadata": {},
   "outputs": [
    {
     "data": {
      "text/plain": [
       "NoneType"
      ]
     },
     "execution_count": 86,
     "metadata": {},
     "output_type": "execute_result"
    }
   ],
   "source": [
    "type(return_something())"
   ]
  },
  {
   "cell_type": "code",
   "execution_count": 90,
   "id": "711f1664",
   "metadata": {},
   "outputs": [
    {
     "data": {
      "text/plain": [
       "NoneType"
      ]
     },
     "execution_count": 90,
     "metadata": {},
     "output_type": "execute_result"
    }
   ],
   "source": [
    "def return_pass():\n",
    "    pass\n",
    "\n",
    "type(return_pass())"
   ]
  },
  {
   "cell_type": "code",
   "execution_count": 92,
   "id": "0dbc130a",
   "metadata": {},
   "outputs": [
    {
     "name": "stdout",
     "output_type": "stream",
     "text": [
      "helloworld\n"
     ]
    },
    {
     "data": {
      "text/plain": [
       "NoneType"
      ]
     },
     "execution_count": 92,
     "metadata": {},
     "output_type": "execute_result"
    }
   ],
   "source": [
    "type(print(\"helloworld\"))"
   ]
  },
  {
   "cell_type": "code",
   "execution_count": 94,
   "id": "ae4a5a09",
   "metadata": {},
   "outputs": [],
   "source": [
    "\n",
    "def myfunc():\n",
    "    return 2"
   ]
  },
  {
   "cell_type": "code",
   "execution_count": 95,
   "id": "32c4c166",
   "metadata": {},
   "outputs": [
    {
     "data": {
      "text/plain": [
       "int"
      ]
     },
     "execution_count": 95,
     "metadata": {},
     "output_type": "execute_result"
    }
   ],
   "source": [
    "type(myfunc())"
   ]
  },
  {
   "cell_type": "code",
   "execution_count": 106,
   "id": "3869c872",
   "metadata": {},
   "outputs": [
    {
     "data": {
      "text/plain": [
       "int"
      ]
     },
     "execution_count": 106,
     "metadata": {},
     "output_type": "execute_result"
    }
   ],
   "source": [
    "def inner_function():\n",
    "    return 7\n",
    "\n",
    "type(inner_function())"
   ]
  },
  {
   "cell_type": "code",
   "execution_count": 103,
   "id": "2d0c8497",
   "metadata": {},
   "outputs": [],
   "source": [
    "def outer_function():\n",
    "    inner_function()"
   ]
  },
  {
   "cell_type": "code",
   "execution_count": 104,
   "id": "b30a33f5",
   "metadata": {},
   "outputs": [
    {
     "data": {
      "text/plain": [
       "NoneType"
      ]
     },
     "execution_count": 104,
     "metadata": {},
     "output_type": "execute_result"
    }
   ],
   "source": [
    "type(outer_function())"
   ]
  },
  {
   "cell_type": "markdown",
   "id": "45a6e15c",
   "metadata": {},
   "source": [
    "Key takeaways:\n",
    "* only because a function doesn't return something, that doesn't mean it doesn't do anything. Functions can do something (run other functions), but return nothing and the type of their execution is then a `NoneType`. As for example the `print()` function\n",
    "* if you dont have an explicit `return` statement in your function with a specific value, your function returns a `NoneType`. A simple `return` would also return `NoneType`"
   ]
  },
  {
   "cell_type": "markdown",
   "id": "4349a880",
   "metadata": {},
   "source": [
    "### Anonymous functions"
   ]
  },
  {
   "cell_type": "markdown",
   "id": "9387d531",
   "metadata": {},
   "source": [
    "* important when you want to use a function (declare & call) in one line\n",
    "* watch the line limit (rule of thumb 79 characters) though. If your anonymous function is too long, write it as a proper function\n",
    "* again, very handy when it comes to data cleaning"
   ]
  },
  {
   "cell_type": "code",
   "execution_count": 108,
   "id": "3557a483",
   "metadata": {},
   "outputs": [],
   "source": [
    "def double_me(x):\n",
    "    return 2 * x"
   ]
  },
  {
   "cell_type": "code",
   "execution_count": 111,
   "id": "11a0a182",
   "metadata": {},
   "outputs": [
    {
     "data": {
      "text/plain": [
       "<function __main__.<lambda>(x)>"
      ]
     },
     "execution_count": 111,
     "metadata": {},
     "output_type": "execute_result"
    }
   ],
   "source": [
    "# an anonymous function\n",
    "lambda x: 2*x"
   ]
  },
  {
   "cell_type": "code",
   "execution_count": 113,
   "id": "75192d3c",
   "metadata": {},
   "outputs": [
    {
     "data": {
      "text/plain": [
       "20"
      ]
     },
     "execution_count": 113,
     "metadata": {},
     "output_type": "execute_result"
    }
   ],
   "source": [
    "(lambda x: 2*x)(10)"
   ]
  },
  {
   "cell_type": "code",
   "execution_count": 114,
   "id": "9eae5224",
   "metadata": {},
   "outputs": [
    {
     "data": {
      "text/plain": [
       "<function __main__.<lambda>(x, y)>"
      ]
     },
     "execution_count": 114,
     "metadata": {},
     "output_type": "execute_result"
    }
   ],
   "source": [
    "lambda x, y : x + y"
   ]
  },
  {
   "cell_type": "code",
   "execution_count": 115,
   "id": "aaab6a4d",
   "metadata": {},
   "outputs": [
    {
     "data": {
      "text/plain": [
       "13"
      ]
     },
     "execution_count": 115,
     "metadata": {},
     "output_type": "execute_result"
    }
   ],
   "source": [
    "(lambda x, y : x + y)(4, 9)"
   ]
  },
  {
   "cell_type": "code",
   "execution_count": 116,
   "id": "0b843c32",
   "metadata": {},
   "outputs": [],
   "source": [
    "add = lambda x, y : x + y"
   ]
  },
  {
   "cell_type": "code",
   "execution_count": 117,
   "id": "200aace2",
   "metadata": {},
   "outputs": [
    {
     "data": {
      "text/plain": [
       "13"
      ]
     },
     "execution_count": 117,
     "metadata": {},
     "output_type": "execute_result"
    }
   ],
   "source": [
    "add(4, 9)"
   ]
  },
  {
   "cell_type": "code",
   "execution_count": 118,
   "id": "ed13c34d",
   "metadata": {},
   "outputs": [],
   "source": [
    "# \"data cleaning use case\"... a list with entries with some whitespaces that need to be removed\n",
    "dirty_data = [\" monday\", \"tuesday \", \"  friday\"]"
   ]
  },
  {
   "cell_type": "code",
   "execution_count": 119,
   "id": "eba1f36c",
   "metadata": {},
   "outputs": [
    {
     "name": "stdout",
     "output_type": "stream",
     "text": [
      "monday\n",
      "tuesday\n",
      "friday\n"
     ]
    }
   ],
   "source": [
    "for day in dirty_data:\n",
    "    print((lambda x: x.strip())(day))"
   ]
  },
  {
   "cell_type": "code",
   "execution_count": 121,
   "id": "dc6800c0",
   "metadata": {},
   "outputs": [
    {
     "name": "stdout",
     "output_type": "stream",
     "text": [
      "monday\n",
      "tuesday\n",
      "friday\n"
     ]
    }
   ],
   "source": [
    "for day in dirty_data:\n",
    "    print(day.strip())"
   ]
  },
  {
   "cell_type": "code",
   "execution_count": 122,
   "id": "4b45d37f",
   "metadata": {},
   "outputs": [
    {
     "data": {
      "text/plain": [
       "39"
      ]
     },
     "execution_count": 122,
     "metadata": {},
     "output_type": "execute_result"
    }
   ],
   "source": [
    "(lambda x, y, z: x + y*z)(4,5,7)"
   ]
  },
  {
   "cell_type": "code",
   "execution_count": 123,
   "id": "f0f4b584",
   "metadata": {},
   "outputs": [],
   "source": [
    "def myfunc(x,y,z):\n",
    "    return x + y*z"
   ]
  },
  {
   "cell_type": "markdown",
   "id": "760ff195",
   "metadata": {},
   "source": [
    "# 6. List comprehensions "
   ]
  },
  {
   "cell_type": "code",
   "execution_count": 125,
   "id": "29ce435b",
   "metadata": {},
   "outputs": [
    {
     "data": {
      "text/plain": [
       "['monday', 'tuesday', 'friday']"
      ]
     },
     "execution_count": 125,
     "metadata": {},
     "output_type": "execute_result"
    }
   ],
   "source": [
    "dirty_data = [\" monday\", \"tuesday \", \"  friday\"]\n",
    "\n",
    "clean_data = []\n",
    "for day in dirty_data:\n",
    "    clean_data.append(day.strip())\n",
    "\n",
    "clean_data"
   ]
  },
  {
   "cell_type": "code",
   "execution_count": 128,
   "id": "ff37f47f",
   "metadata": {},
   "outputs": [],
   "source": [
    "# a list comprehension\n",
    "clean_data = [day.strip() for day in dirty_data]"
   ]
  },
  {
   "cell_type": "code",
   "execution_count": 137,
   "id": "d2e85b6c",
   "metadata": {},
   "outputs": [
    {
     "data": {
      "text/plain": [
       "['MONDAY']"
      ]
     },
     "execution_count": 137,
     "metadata": {},
     "output_type": "execute_result"
    }
   ],
   "source": [
    "[day.strip().upper() for day in dirty_data if day.strip() in ['monday', 'wednesday']]"
   ]
  },
  {
   "cell_type": "code",
   "execution_count": 135,
   "id": "9f467ae2",
   "metadata": {},
   "outputs": [
    {
     "data": {
      "text/plain": [
       "True"
      ]
     },
     "execution_count": 135,
     "metadata": {},
     "output_type": "execute_result"
    }
   ],
   "source": []
  },
  {
   "cell_type": "code",
   "execution_count": 138,
   "id": "dc48d938",
   "metadata": {},
   "outputs": [
    {
     "data": {
      "text/plain": [
       "'/home/flo/Documents/coding/ironhack_ta/lectures'"
      ]
     },
     "execution_count": 138,
     "metadata": {},
     "output_type": "execute_result"
    }
   ],
   "source": [
    "pwd"
   ]
  },
  {
   "cell_type": "code",
   "execution_count": 140,
   "id": "04fc5097",
   "metadata": {},
   "outputs": [
    {
     "name": "stdout",
     "output_type": "stream",
     "text": [
      " DAFT2021_05_python.ipynb              mycsv1.csv  \u001b[0m\u001b[01;34m'Plotting lecture'\u001b[0m/\r\n",
      " DAFT2021_05_python_live.ipynb         mycsv2.csv\r\n",
      "\u001b[01;34m'Decision Trees and Random Forests'\u001b[0m/   mytxt.txt\r\n"
     ]
    }
   ],
   "source": [
    "ls"
   ]
  },
  {
   "cell_type": "code",
   "execution_count": 143,
   "id": "f70e3818",
   "metadata": {},
   "outputs": [
    {
     "data": {
      "text/plain": [
       "['mycsv2.csv', 'mycsv1.csv']"
      ]
     },
     "execution_count": 143,
     "metadata": {},
     "output_type": "execute_result"
    }
   ],
   "source": [
    "import os\n",
    "[file for file in os.listdir('.') if file.endswith('.csv')]"
   ]
  },
  {
   "cell_type": "markdown",
   "id": "e833fa66",
   "metadata": {},
   "source": [
    "### `join` with list comprehension expressions. Often used to rebuild strings"
   ]
  },
  {
   "cell_type": "code",
   "execution_count": 145,
   "id": "29782f25",
   "metadata": {},
   "outputs": [
    {
     "data": {
      "text/plain": [
       "'e-l-l-o-o-r-l-d'"
      ]
     },
     "execution_count": 145,
     "metadata": {},
     "output_type": "execute_result"
    }
   ],
   "source": [
    "\"-\".join([letter for letter in \"Hello World\" if letter.islower()])"
   ]
  },
  {
   "cell_type": "code",
   "execution_count": 146,
   "id": "5dbaeea0",
   "metadata": {},
   "outputs": [
    {
     "data": {
      "text/plain": [
       "'e-l-l-o-o-r-l-d'"
      ]
     },
     "execution_count": 146,
     "metadata": {},
     "output_type": "execute_result"
    }
   ],
   "source": [
    "\"-\".join(letter for letter in \"Hello World\" if letter.islower())"
   ]
  },
  {
   "cell_type": "markdown",
   "id": "550afc41",
   "metadata": {},
   "source": [
    "### nested list comprehensions"
   ]
  },
  {
   "cell_type": "code",
   "execution_count": 147,
   "id": "bbdbab61",
   "metadata": {},
   "outputs": [],
   "source": [
    "import numpy as np\n",
    "arr = np.array([[1,6,3,4],\n",
    "                [3,2,6,2],\n",
    "                [0,2,3,9],\n",
    "                [2,5,2,7],\n",
    "               ])"
   ]
  },
  {
   "cell_type": "code",
   "execution_count": 148,
   "id": "18999671",
   "metadata": {},
   "outputs": [
    {
     "data": {
      "text/plain": [
       "array([[1, 6, 3, 4],\n",
       "       [3, 2, 6, 2],\n",
       "       [0, 2, 3, 9],\n",
       "       [2, 5, 2, 7]])"
      ]
     },
     "execution_count": 148,
     "metadata": {},
     "output_type": "execute_result"
    }
   ],
   "source": [
    "arr"
   ]
  },
  {
   "cell_type": "code",
   "execution_count": 149,
   "id": "e04a9642",
   "metadata": {},
   "outputs": [
    {
     "data": {
      "text/plain": [
       "[[2, 3, 4], [7, 3, 2]]"
      ]
     },
     "execution_count": 149,
     "metadata": {},
     "output_type": "execute_result"
    }
   ],
   "source": [
    "[[2,3,4], [7,3,2]]"
   ]
  },
  {
   "cell_type": "markdown",
   "id": "e0263bd5",
   "metadata": {},
   "source": [
    "What do I want? I want to flatten that nested array, so that I have all the numbers in a flat list:\n",
    "```python\n",
    "[1, 6, 3, 4, 3, 2, 6, 2, 0, 2, 3, 9, 2, 5, 2, 7]\n",
    "```"
   ]
  },
  {
   "cell_type": "code",
   "execution_count": 155,
   "id": "a23cc917",
   "metadata": {},
   "outputs": [],
   "source": [
    "my_number_lst = []\n",
    "for sublist in arr:\n",
    "    for number in sublist:\n",
    "        my_number_lst.append(number)"
   ]
  },
  {
   "cell_type": "code",
   "execution_count": 156,
   "id": "858b76a8",
   "metadata": {},
   "outputs": [
    {
     "data": {
      "text/plain": [
       "[1, 6, 3, 4, 3, 2, 6, 2, 0, 2, 3, 9, 2, 5, 2, 7]"
      ]
     },
     "execution_count": 156,
     "metadata": {},
     "output_type": "execute_result"
    }
   ],
   "source": [
    "my_number_lst"
   ]
  },
  {
   "cell_type": "code",
   "execution_count": 159,
   "id": "7468457c",
   "metadata": {},
   "outputs": [
    {
     "data": {
      "text/plain": [
       "[1, 6, 3, 4, 3, 2, 6, 2, 0, 2, 3, 9, 2, 5, 2, 7]"
      ]
     },
     "execution_count": 159,
     "metadata": {},
     "output_type": "execute_result"
    }
   ],
   "source": [
    "[number for sublist in arr for number in sublist]"
   ]
  },
  {
   "cell_type": "code",
   "execution_count": 160,
   "id": "0479e0eb",
   "metadata": {},
   "outputs": [
    {
     "data": {
      "text/plain": [
       "{'1': 1, '2': 4, '3': 9, '4': 16, '5': 25, '6': 36}"
      ]
     },
     "execution_count": 160,
     "metadata": {},
     "output_type": "execute_result"
    }
   ],
   "source": [
    "{str(number):number**2 for number in range(1,7)}"
   ]
  },
  {
   "cell_type": "code",
   "execution_count": null,
   "id": "57d493ec",
   "metadata": {},
   "outputs": [],
   "source": []
  }
 ],
 "metadata": {
  "kernelspec": {
   "display_name": "Python 3",
   "language": "python",
   "name": "python3"
  },
  "language_info": {
   "codemirror_mode": {
    "name": "ipython",
    "version": 3
   },
   "file_extension": ".py",
   "mimetype": "text/x-python",
   "name": "python",
   "nbconvert_exporter": "python",
   "pygments_lexer": "ipython3",
   "version": "3.8.8"
  }
 },
 "nbformat": 4,
 "nbformat_minor": 5
}
