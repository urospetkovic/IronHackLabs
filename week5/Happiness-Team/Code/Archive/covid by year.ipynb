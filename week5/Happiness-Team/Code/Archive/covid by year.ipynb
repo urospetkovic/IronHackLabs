{
 "cells": [
  {
   "cell_type": "code",
   "execution_count": 1,
   "id": "everyday-peter",
   "metadata": {},
   "outputs": [],
   "source": [
    "import pandas as pd\n",
    "import numpy as np\n",
    "import matplotlib as mpl\n",
    "import seaborn as sns"
   ]
  },
  {
   "cell_type": "code",
   "execution_count": 2,
   "metadata": {},
   "outputs": [],
   "source": [
    "covid = pd.read_csv('/Users/uce/Desktop/DataAnalytics/data-labs/LabsUros/week5/Happiness-Team/data/WHO-Covid-cummulativecsv.csv')"
   ]
  },
  {
   "cell_type": "code",
   "execution_count": 3,
   "metadata": {},
   "outputs": [
    {
     "output_type": "stream",
     "name": "stdout",
     "text": [
      "<class 'pandas.core.frame.DataFrame'>\nRangeIndex: 127980 entries, 0 to 127979\nData columns (total 8 columns):\n #   Column             Non-Null Count   Dtype \n---  ------             --------------   ----- \n 0   Date_reported      127980 non-null  object\n 1   Country_code       127440 non-null  object\n 2   Country            127980 non-null  object\n 3   WHO_region         127980 non-null  object\n 4   New_cases          127980 non-null  int64 \n 5   Cumulative_cases   127980 non-null  int64 \n 6   New_deaths         127980 non-null  int64 \n 7   Cumulative_deaths  127980 non-null  int64 \ndtypes: int64(4), object(4)\nmemory usage: 7.8+ MB\n"
     ]
    }
   ],
   "source": [
    "covid.info()"
   ]
  },
  {
   "cell_type": "code",
   "execution_count": 4,
   "metadata": {},
   "outputs": [],
   "source": [
    "covid.drop(['Country_code'], axis=1, inplace=True)"
   ]
  },
  {
   "cell_type": "code",
   "execution_count": 5,
   "metadata": {},
   "outputs": [
    {
     "output_type": "execute_result",
     "data": {
      "text/plain": [
       "  Date_reported      Country WHO_region  New_cases  Cumulative_cases  \\\n",
       "0    2020-01-03  Afghanistan       EMRO          0                 0   \n",
       "1    2020-01-04  Afghanistan       EMRO          0                 0   \n",
       "2    2020-01-05  Afghanistan       EMRO          0                 0   \n",
       "3    2020-01-06  Afghanistan       EMRO          0                 0   \n",
       "4    2020-01-07  Afghanistan       EMRO          0                 0   \n",
       "\n",
       "   New_deaths  Cumulative_deaths  \n",
       "0           0                  0  \n",
       "1           0                  0  \n",
       "2           0                  0  \n",
       "3           0                  0  \n",
       "4           0                  0  "
      ],
      "text/html": "<div>\n<style scoped>\n    .dataframe tbody tr th:only-of-type {\n        vertical-align: middle;\n    }\n\n    .dataframe tbody tr th {\n        vertical-align: top;\n    }\n\n    .dataframe thead th {\n        text-align: right;\n    }\n</style>\n<table border=\"1\" class=\"dataframe\">\n  <thead>\n    <tr style=\"text-align: right;\">\n      <th></th>\n      <th>Date_reported</th>\n      <th>Country</th>\n      <th>WHO_region</th>\n      <th>New_cases</th>\n      <th>Cumulative_cases</th>\n      <th>New_deaths</th>\n      <th>Cumulative_deaths</th>\n    </tr>\n  </thead>\n  <tbody>\n    <tr>\n      <th>0</th>\n      <td>2020-01-03</td>\n      <td>Afghanistan</td>\n      <td>EMRO</td>\n      <td>0</td>\n      <td>0</td>\n      <td>0</td>\n      <td>0</td>\n    </tr>\n    <tr>\n      <th>1</th>\n      <td>2020-01-04</td>\n      <td>Afghanistan</td>\n      <td>EMRO</td>\n      <td>0</td>\n      <td>0</td>\n      <td>0</td>\n      <td>0</td>\n    </tr>\n    <tr>\n      <th>2</th>\n      <td>2020-01-05</td>\n      <td>Afghanistan</td>\n      <td>EMRO</td>\n      <td>0</td>\n      <td>0</td>\n      <td>0</td>\n      <td>0</td>\n    </tr>\n    <tr>\n      <th>3</th>\n      <td>2020-01-06</td>\n      <td>Afghanistan</td>\n      <td>EMRO</td>\n      <td>0</td>\n      <td>0</td>\n      <td>0</td>\n      <td>0</td>\n    </tr>\n    <tr>\n      <th>4</th>\n      <td>2020-01-07</td>\n      <td>Afghanistan</td>\n      <td>EMRO</td>\n      <td>0</td>\n      <td>0</td>\n      <td>0</td>\n      <td>0</td>\n    </tr>\n  </tbody>\n</table>\n</div>"
     },
     "metadata": {},
     "execution_count": 5
    }
   ],
   "source": [
    "covid.head()"
   ]
  },
  {
   "cell_type": "code",
   "execution_count": 6,
   "metadata": {},
   "outputs": [],
   "source": [
    "palestine = covid[covid['Country'].str.contains('Palestinian')]['Country'].unique()[0]\n",
    "covid.loc[covid['Country'].str.contains('Palestinian'), 'Country']='Palestine'"
   ]
  },
  {
   "cell_type": "code",
   "execution_count": 7,
   "metadata": {},
   "outputs": [
    {
     "output_type": "execute_result",
     "data": {
      "text/plain": [
       "237"
      ]
     },
     "metadata": {},
     "execution_count": 7
    }
   ],
   "source": [
    "len(covid['Country'].unique())"
   ]
  },
  {
   "cell_type": "code",
   "execution_count": 8,
   "metadata": {},
   "outputs": [],
   "source": [
    "covid['Date_reported'] = pd.to_datetime(covid['Date_reported'])"
   ]
  },
  {
   "cell_type": "code",
   "execution_count": 9,
   "metadata": {},
   "outputs": [
    {
     "output_type": "stream",
     "name": "stdout",
     "text": [
      "<class 'pandas.core.frame.DataFrame'>\nRangeIndex: 127980 entries, 0 to 127979\nData columns (total 7 columns):\n #   Column             Non-Null Count   Dtype         \n---  ------             --------------   -----         \n 0   Date_reported      127980 non-null  datetime64[ns]\n 1   Country            127980 non-null  object        \n 2   WHO_region         127980 non-null  object        \n 3   New_cases          127980 non-null  int64         \n 4   Cumulative_cases   127980 non-null  int64         \n 5   New_deaths         127980 non-null  int64         \n 6   Cumulative_deaths  127980 non-null  int64         \ndtypes: datetime64[ns](1), int64(4), object(2)\nmemory usage: 6.8+ MB\n"
     ]
    }
   ],
   "source": [
    "covid.info()"
   ]
  },
  {
   "cell_type": "code",
   "execution_count": 10,
   "metadata": {},
   "outputs": [],
   "source": [
    "cummulative_cols = covid[['Country', 'Date_reported', 'Cumulative_cases', 'Cumulative_deaths']].copy() #creating a copy of cummulative columns"
   ]
  },
  {
   "cell_type": "code",
   "execution_count": 11,
   "metadata": {},
   "outputs": [
    {
     "output_type": "stream",
     "name": "stdout",
     "text": [
      "<class 'pandas.core.frame.DataFrame'>\nRangeIndex: 127980 entries, 0 to 127979\nData columns (total 4 columns):\n #   Column             Non-Null Count   Dtype         \n---  ------             --------------   -----         \n 0   Country            127980 non-null  object        \n 1   Date_reported      127980 non-null  datetime64[ns]\n 2   Cumulative_cases   127980 non-null  int64         \n 3   Cumulative_deaths  127980 non-null  int64         \ndtypes: datetime64[ns](1), int64(2), object(1)\nmemory usage: 3.9+ MB\n"
     ]
    }
   ],
   "source": [
    "cummulative_cols.info()"
   ]
  },
  {
   "cell_type": "code",
   "execution_count": 12,
   "metadata": {},
   "outputs": [],
   "source": [
    "covid.drop(['Cumulative_cases', 'Cumulative_deaths'], axis=1, inplace=True)"
   ]
  },
  {
   "cell_type": "code",
   "execution_count": 27,
   "metadata": {},
   "outputs": [
    {
     "output_type": "execute_result",
     "data": {
      "text/plain": [
       "       Date_reported            Country WHO_region  New_cases  New_deaths\n",
       "539       2021-06-25        Afghanistan       EMRO       2060          67\n",
       "1079      2021-06-25            Albania       EURO          2           0\n",
       "1619      2021-06-25            Algeria       AFRO        354           9\n",
       "2159      2021-06-25     American Samoa       WPRO          0           0\n",
       "2699      2021-06-25            Andorra       EURO          4           0\n",
       "...              ...                ...        ...        ...         ...\n",
       "125819    2021-06-25           Viet Nam       WPRO        334           2\n",
       "126359    2021-06-25  Wallis and Futuna       WPRO          0           0\n",
       "126899    2021-06-25              Yemen       EMRO          7           1\n",
       "127439    2021-06-25             Zambia       AFRO       3594          61\n",
       "127979    2021-06-25           Zimbabwe       AFRO        826          17\n",
       "\n",
       "[237 rows x 5 columns]"
      ],
      "text/html": "<div>\n<style scoped>\n    .dataframe tbody tr th:only-of-type {\n        vertical-align: middle;\n    }\n\n    .dataframe tbody tr th {\n        vertical-align: top;\n    }\n\n    .dataframe thead th {\n        text-align: right;\n    }\n</style>\n<table border=\"1\" class=\"dataframe\">\n  <thead>\n    <tr style=\"text-align: right;\">\n      <th></th>\n      <th>Date_reported</th>\n      <th>Country</th>\n      <th>WHO_region</th>\n      <th>New_cases</th>\n      <th>New_deaths</th>\n    </tr>\n  </thead>\n  <tbody>\n    <tr>\n      <th>539</th>\n      <td>2021-06-25</td>\n      <td>Afghanistan</td>\n      <td>EMRO</td>\n      <td>2060</td>\n      <td>67</td>\n    </tr>\n    <tr>\n      <th>1079</th>\n      <td>2021-06-25</td>\n      <td>Albania</td>\n      <td>EURO</td>\n      <td>2</td>\n      <td>0</td>\n    </tr>\n    <tr>\n      <th>1619</th>\n      <td>2021-06-25</td>\n      <td>Algeria</td>\n      <td>AFRO</td>\n      <td>354</td>\n      <td>9</td>\n    </tr>\n    <tr>\n      <th>2159</th>\n      <td>2021-06-25</td>\n      <td>American Samoa</td>\n      <td>WPRO</td>\n      <td>0</td>\n      <td>0</td>\n    </tr>\n    <tr>\n      <th>2699</th>\n      <td>2021-06-25</td>\n      <td>Andorra</td>\n      <td>EURO</td>\n      <td>4</td>\n      <td>0</td>\n    </tr>\n    <tr>\n      <th>...</th>\n      <td>...</td>\n      <td>...</td>\n      <td>...</td>\n      <td>...</td>\n      <td>...</td>\n    </tr>\n    <tr>\n      <th>125819</th>\n      <td>2021-06-25</td>\n      <td>Viet Nam</td>\n      <td>WPRO</td>\n      <td>334</td>\n      <td>2</td>\n    </tr>\n    <tr>\n      <th>126359</th>\n      <td>2021-06-25</td>\n      <td>Wallis and Futuna</td>\n      <td>WPRO</td>\n      <td>0</td>\n      <td>0</td>\n    </tr>\n    <tr>\n      <th>126899</th>\n      <td>2021-06-25</td>\n      <td>Yemen</td>\n      <td>EMRO</td>\n      <td>7</td>\n      <td>1</td>\n    </tr>\n    <tr>\n      <th>127439</th>\n      <td>2021-06-25</td>\n      <td>Zambia</td>\n      <td>AFRO</td>\n      <td>3594</td>\n      <td>61</td>\n    </tr>\n    <tr>\n      <th>127979</th>\n      <td>2021-06-25</td>\n      <td>Zimbabwe</td>\n      <td>AFRO</td>\n      <td>826</td>\n      <td>17</td>\n    </tr>\n  </tbody>\n</table>\n<p>237 rows × 5 columns</p>\n</div>"
     },
     "metadata": {},
     "execution_count": 27
    }
   ],
   "source": [
    "covid.loc[(covid['Date_reported'].dt.month == 6) & (covid['Date_reported'].dt.day == 25) & (covid['Date_reported'].dt.year == 2021)]"
   ]
  },
  {
   "cell_type": "code",
   "execution_count": 28,
   "metadata": {},
   "outputs": [],
   "source": [
    "cummulative_by_year = cummulative_cols.loc[((cummulative_cols['Date_reported'].dt.month == 12) & (cummulative_cols['Date_reported'].dt.day == 31) & (cummulative_cols['Date_reported'].dt.year == 2020)) | ((cummulative_cols['Date_reported'].dt.month == 6) & (cummulative_cols['Date_reported'].dt.day == 25) & (cummulative_cols['Date_reported'].dt.year == 2021))]"
   ]
  },
  {
   "cell_type": "code",
   "execution_count": 30,
   "metadata": {},
   "outputs": [
    {
     "output_type": "stream",
     "name": "stdout",
     "text": [
      "<class 'pandas.core.frame.DataFrame'>\nInt64Index: 474 entries, 363 to 127979\nData columns (total 4 columns):\n #   Column             Non-Null Count  Dtype         \n---  ------             --------------  -----         \n 0   Country            474 non-null    object        \n 1   Date_reported      474 non-null    datetime64[ns]\n 2   Cumulative_cases   474 non-null    int64         \n 3   Cumulative_deaths  474 non-null    int64         \ndtypes: datetime64[ns](1), int64(2), object(1)\nmemory usage: 18.5+ KB\n"
     ]
    }
   ],
   "source": [
    "cummulative_by_year.info()"
   ]
  },
  {
   "cell_type": "code",
   "execution_count": 31,
   "metadata": {},
   "outputs": [],
   "source": [
    "cummulative_by_year.sort_index(inplace=True)"
   ]
  },
  {
   "cell_type": "code",
   "execution_count": 32,
   "metadata": {},
   "outputs": [
    {
     "output_type": "execute_result",
     "data": {
      "text/plain": [
       "                  Country Date_reported  Cumulative_cases  Cumulative_deaths\n",
       "363           Afghanistan    2020-12-31             52330               2189\n",
       "539           Afghanistan    2021-06-25            111592               4519\n",
       "903               Albania    2020-12-31             57727               1174\n",
       "1079              Albania    2021-06-25            132499               2455\n",
       "1443              Algeria    2020-12-31             99311               2751\n",
       "1619              Algeria    2021-06-25            137403               3669\n",
       "1983       American Samoa    2020-12-31                 0                  0\n",
       "2159       American Samoa    2021-06-25                 0                  0\n",
       "2523              Andorra    2020-12-31              7983                 84\n",
       "2699              Andorra    2021-06-25             13877                127\n",
       "3063               Angola    2020-12-31             17371                399\n",
       "3239               Angola    2021-06-25             38091                881\n",
       "3603             Anguilla    2020-12-31                13                  0\n",
       "3779             Anguilla    2021-06-25               109                  0\n",
       "4143  Antigua and Barbuda    2020-12-31               158                  5\n",
       "4319  Antigua and Barbuda    2021-06-25              1263                 42\n",
       "4683            Argentina    2020-12-31           1602163              43018\n",
       "4859            Argentina    2021-06-25           4326101              90986\n",
       "5223              Armenia    2020-12-31            158191               2802\n",
       "5399              Armenia    2021-06-25            224635               4505\n",
       "5763                Aruba    2020-12-31              5373                 49\n",
       "5939                Aruba    2021-06-25             11118                107\n",
       "6303            Australia    2020-12-31             28381                909\n",
       "6479            Australia    2021-06-25             30408                910\n",
       "6843              Austria    2020-12-31            356351               6086\n",
       "7019              Austria    2021-06-25            645862              10439\n",
       "7383           Azerbaijan    2020-12-31            216584               2575\n",
       "7559           Azerbaijan    2021-06-25            335676               4965\n",
       "7923              Bahamas    2020-12-31              7857                170\n",
       "8099              Bahamas    2021-06-25             12407                244"
      ],
      "text/html": "<div>\n<style scoped>\n    .dataframe tbody tr th:only-of-type {\n        vertical-align: middle;\n    }\n\n    .dataframe tbody tr th {\n        vertical-align: top;\n    }\n\n    .dataframe thead th {\n        text-align: right;\n    }\n</style>\n<table border=\"1\" class=\"dataframe\">\n  <thead>\n    <tr style=\"text-align: right;\">\n      <th></th>\n      <th>Country</th>\n      <th>Date_reported</th>\n      <th>Cumulative_cases</th>\n      <th>Cumulative_deaths</th>\n    </tr>\n  </thead>\n  <tbody>\n    <tr>\n      <th>363</th>\n      <td>Afghanistan</td>\n      <td>2020-12-31</td>\n      <td>52330</td>\n      <td>2189</td>\n    </tr>\n    <tr>\n      <th>539</th>\n      <td>Afghanistan</td>\n      <td>2021-06-25</td>\n      <td>111592</td>\n      <td>4519</td>\n    </tr>\n    <tr>\n      <th>903</th>\n      <td>Albania</td>\n      <td>2020-12-31</td>\n      <td>57727</td>\n      <td>1174</td>\n    </tr>\n    <tr>\n      <th>1079</th>\n      <td>Albania</td>\n      <td>2021-06-25</td>\n      <td>132499</td>\n      <td>2455</td>\n    </tr>\n    <tr>\n      <th>1443</th>\n      <td>Algeria</td>\n      <td>2020-12-31</td>\n      <td>99311</td>\n      <td>2751</td>\n    </tr>\n    <tr>\n      <th>1619</th>\n      <td>Algeria</td>\n      <td>2021-06-25</td>\n      <td>137403</td>\n      <td>3669</td>\n    </tr>\n    <tr>\n      <th>1983</th>\n      <td>American Samoa</td>\n      <td>2020-12-31</td>\n      <td>0</td>\n      <td>0</td>\n    </tr>\n    <tr>\n      <th>2159</th>\n      <td>American Samoa</td>\n      <td>2021-06-25</td>\n      <td>0</td>\n      <td>0</td>\n    </tr>\n    <tr>\n      <th>2523</th>\n      <td>Andorra</td>\n      <td>2020-12-31</td>\n      <td>7983</td>\n      <td>84</td>\n    </tr>\n    <tr>\n      <th>2699</th>\n      <td>Andorra</td>\n      <td>2021-06-25</td>\n      <td>13877</td>\n      <td>127</td>\n    </tr>\n    <tr>\n      <th>3063</th>\n      <td>Angola</td>\n      <td>2020-12-31</td>\n      <td>17371</td>\n      <td>399</td>\n    </tr>\n    <tr>\n      <th>3239</th>\n      <td>Angola</td>\n      <td>2021-06-25</td>\n      <td>38091</td>\n      <td>881</td>\n    </tr>\n    <tr>\n      <th>3603</th>\n      <td>Anguilla</td>\n      <td>2020-12-31</td>\n      <td>13</td>\n      <td>0</td>\n    </tr>\n    <tr>\n      <th>3779</th>\n      <td>Anguilla</td>\n      <td>2021-06-25</td>\n      <td>109</td>\n      <td>0</td>\n    </tr>\n    <tr>\n      <th>4143</th>\n      <td>Antigua and Barbuda</td>\n      <td>2020-12-31</td>\n      <td>158</td>\n      <td>5</td>\n    </tr>\n    <tr>\n      <th>4319</th>\n      <td>Antigua and Barbuda</td>\n      <td>2021-06-25</td>\n      <td>1263</td>\n      <td>42</td>\n    </tr>\n    <tr>\n      <th>4683</th>\n      <td>Argentina</td>\n      <td>2020-12-31</td>\n      <td>1602163</td>\n      <td>43018</td>\n    </tr>\n    <tr>\n      <th>4859</th>\n      <td>Argentina</td>\n      <td>2021-06-25</td>\n      <td>4326101</td>\n      <td>90986</td>\n    </tr>\n    <tr>\n      <th>5223</th>\n      <td>Armenia</td>\n      <td>2020-12-31</td>\n      <td>158191</td>\n      <td>2802</td>\n    </tr>\n    <tr>\n      <th>5399</th>\n      <td>Armenia</td>\n      <td>2021-06-25</td>\n      <td>224635</td>\n      <td>4505</td>\n    </tr>\n    <tr>\n      <th>5763</th>\n      <td>Aruba</td>\n      <td>2020-12-31</td>\n      <td>5373</td>\n      <td>49</td>\n    </tr>\n    <tr>\n      <th>5939</th>\n      <td>Aruba</td>\n      <td>2021-06-25</td>\n      <td>11118</td>\n      <td>107</td>\n    </tr>\n    <tr>\n      <th>6303</th>\n      <td>Australia</td>\n      <td>2020-12-31</td>\n      <td>28381</td>\n      <td>909</td>\n    </tr>\n    <tr>\n      <th>6479</th>\n      <td>Australia</td>\n      <td>2021-06-25</td>\n      <td>30408</td>\n      <td>910</td>\n    </tr>\n    <tr>\n      <th>6843</th>\n      <td>Austria</td>\n      <td>2020-12-31</td>\n      <td>356351</td>\n      <td>6086</td>\n    </tr>\n    <tr>\n      <th>7019</th>\n      <td>Austria</td>\n      <td>2021-06-25</td>\n      <td>645862</td>\n      <td>10439</td>\n    </tr>\n    <tr>\n      <th>7383</th>\n      <td>Azerbaijan</td>\n      <td>2020-12-31</td>\n      <td>216584</td>\n      <td>2575</td>\n    </tr>\n    <tr>\n      <th>7559</th>\n      <td>Azerbaijan</td>\n      <td>2021-06-25</td>\n      <td>335676</td>\n      <td>4965</td>\n    </tr>\n    <tr>\n      <th>7923</th>\n      <td>Bahamas</td>\n      <td>2020-12-31</td>\n      <td>7857</td>\n      <td>170</td>\n    </tr>\n    <tr>\n      <th>8099</th>\n      <td>Bahamas</td>\n      <td>2021-06-25</td>\n      <td>12407</td>\n      <td>244</td>\n    </tr>\n  </tbody>\n</table>\n</div>"
     },
     "metadata": {},
     "execution_count": 32
    }
   ],
   "source": [
    "cummulative_by_year.head(30)"
   ]
  },
  {
   "source": [
    "### Grouping and summing new_cases and New_deaths by month and year"
   ],
   "cell_type": "markdown",
   "metadata": {}
  },
  {
   "cell_type": "code",
   "execution_count": 36,
   "metadata": {},
   "outputs": [],
   "source": [
    "covid['month'] = covid['Date_reported'].dt.month"
   ]
  },
  {
   "cell_type": "code",
   "execution_count": 37,
   "metadata": {},
   "outputs": [],
   "source": [
    "covid['year'] = covid['Date_reported'].dt.year"
   ]
  },
  {
   "cell_type": "code",
   "execution_count": 38,
   "metadata": {},
   "outputs": [],
   "source": [
    "group_by_year_sum = covid.groupby(['Country', 'year']).agg({'New_cases':'sum', 'New_deaths':'sum'})"
   ]
  },
  {
   "cell_type": "code",
   "execution_count": 40,
   "metadata": {},
   "outputs": [
    {
     "output_type": "stream",
     "name": "stdout",
     "text": [
      "<class 'pandas.core.frame.DataFrame'>\nMultiIndex: 474 entries, ('Afghanistan', 2020) to ('Zimbabwe', 2021)\nData columns (total 2 columns):\n #   Column      Non-Null Count  Dtype\n---  ------      --------------  -----\n 0   New_cases   474 non-null    int64\n 1   New_deaths  474 non-null    int64\ndtypes: int64(2)\nmemory usage: 10.8+ KB\n"
     ]
    }
   ],
   "source": [
    "group_by_year_sum.info()"
   ]
  },
  {
   "cell_type": "code",
   "execution_count": 41,
   "metadata": {},
   "outputs": [],
   "source": [
    "group_by_year_sum.sort_values(by=['Country', 'year'], inplace=True) # sorting"
   ]
  },
  {
   "cell_type": "code",
   "execution_count": 43,
   "metadata": {},
   "outputs": [
    {
     "output_type": "execute_result",
     "data": {
      "text/plain": [
       "                  New_cases  New_deaths\n",
       "Country     year                       \n",
       "Afghanistan 2020      52330        2189\n",
       "            2021      59262        2330\n",
       "Albania     2020      57727        1174\n",
       "            2021      74772        1281\n",
       "Algeria     2020      99311        2751\n",
       "...                     ...         ...\n",
       "Yemen       2021       4804         745\n",
       "Zambia      2020      20462         386\n",
       "            2021     120158        1469\n",
       "Zimbabwe    2020      13625         360\n",
       "            2021      30681        1349\n",
       "\n",
       "[474 rows x 2 columns]"
      ],
      "text/html": "<div>\n<style scoped>\n    .dataframe tbody tr th:only-of-type {\n        vertical-align: middle;\n    }\n\n    .dataframe tbody tr th {\n        vertical-align: top;\n    }\n\n    .dataframe thead th {\n        text-align: right;\n    }\n</style>\n<table border=\"1\" class=\"dataframe\">\n  <thead>\n    <tr style=\"text-align: right;\">\n      <th></th>\n      <th></th>\n      <th>New_cases</th>\n      <th>New_deaths</th>\n    </tr>\n    <tr>\n      <th>Country</th>\n      <th>year</th>\n      <th></th>\n      <th></th>\n    </tr>\n  </thead>\n  <tbody>\n    <tr>\n      <th rowspan=\"2\" valign=\"top\">Afghanistan</th>\n      <th>2020</th>\n      <td>52330</td>\n      <td>2189</td>\n    </tr>\n    <tr>\n      <th>2021</th>\n      <td>59262</td>\n      <td>2330</td>\n    </tr>\n    <tr>\n      <th rowspan=\"2\" valign=\"top\">Albania</th>\n      <th>2020</th>\n      <td>57727</td>\n      <td>1174</td>\n    </tr>\n    <tr>\n      <th>2021</th>\n      <td>74772</td>\n      <td>1281</td>\n    </tr>\n    <tr>\n      <th>Algeria</th>\n      <th>2020</th>\n      <td>99311</td>\n      <td>2751</td>\n    </tr>\n    <tr>\n      <th>...</th>\n      <th>...</th>\n      <td>...</td>\n      <td>...</td>\n    </tr>\n    <tr>\n      <th>Yemen</th>\n      <th>2021</th>\n      <td>4804</td>\n      <td>745</td>\n    </tr>\n    <tr>\n      <th rowspan=\"2\" valign=\"top\">Zambia</th>\n      <th>2020</th>\n      <td>20462</td>\n      <td>386</td>\n    </tr>\n    <tr>\n      <th>2021</th>\n      <td>120158</td>\n      <td>1469</td>\n    </tr>\n    <tr>\n      <th rowspan=\"2\" valign=\"top\">Zimbabwe</th>\n      <th>2020</th>\n      <td>13625</td>\n      <td>360</td>\n    </tr>\n    <tr>\n      <th>2021</th>\n      <td>30681</td>\n      <td>1349</td>\n    </tr>\n  </tbody>\n</table>\n<p>474 rows × 2 columns</p>\n</div>"
     },
     "metadata": {},
     "execution_count": 43
    }
   ],
   "source": [
    "group_by_year_sum"
   ]
  },
  {
   "cell_type": "code",
   "execution_count": 44,
   "metadata": {},
   "outputs": [],
   "source": [
    "group_by_year_sum = group_by_year_sum.reset_index()"
   ]
  },
  {
   "cell_type": "code",
   "execution_count": 45,
   "metadata": {},
   "outputs": [],
   "source": [
    "cummulative_by_year = cummulative_by_year.reset_index()"
   ]
  },
  {
   "cell_type": "code",
   "execution_count": 46,
   "metadata": {},
   "outputs": [
    {
     "output_type": "stream",
     "name": "stdout",
     "text": [
      "<class 'pandas.core.frame.DataFrame'>\nRangeIndex: 474 entries, 0 to 473\nData columns (total 4 columns):\n #   Column      Non-Null Count  Dtype \n---  ------      --------------  ----- \n 0   Country     474 non-null    object\n 1   year        474 non-null    int64 \n 2   New_cases   474 non-null    int64 \n 3   New_deaths  474 non-null    int64 \ndtypes: int64(3), object(1)\nmemory usage: 14.9+ KB\n"
     ]
    }
   ],
   "source": [
    "group_by_year_sum.info()"
   ]
  },
  {
   "cell_type": "code",
   "execution_count": 47,
   "metadata": {},
   "outputs": [
    {
     "output_type": "execute_result",
     "data": {
      "text/plain": [
       "237"
      ]
     },
     "metadata": {},
     "execution_count": 47
    }
   ],
   "source": [
    "len(group_by_year_sum['Country'].unique())"
   ]
  },
  {
   "cell_type": "code",
   "execution_count": 48,
   "metadata": {},
   "outputs": [
    {
     "output_type": "execute_result",
     "data": {
      "text/plain": [
       "237"
      ]
     },
     "metadata": {},
     "execution_count": 48
    }
   ],
   "source": [
    "len(cummulative_by_year['Country'].unique())"
   ]
  },
  {
   "cell_type": "code",
   "execution_count": 49,
   "metadata": {},
   "outputs": [
    {
     "output_type": "execute_result",
     "data": {
      "text/plain": [
       "    index              Country Date_reported  Cumulative_cases  \\\n",
       "0     363          Afghanistan    2020-12-31             52330   \n",
       "1     539          Afghanistan    2021-06-25            111592   \n",
       "2     903              Albania    2020-12-31             57727   \n",
       "3    1079              Albania    2021-06-25            132499   \n",
       "4    1443              Algeria    2020-12-31             99311   \n",
       "5    1619              Algeria    2021-06-25            137403   \n",
       "6    1983       American Samoa    2020-12-31                 0   \n",
       "7    2159       American Samoa    2021-06-25                 0   \n",
       "8    2523              Andorra    2020-12-31              7983   \n",
       "9    2699              Andorra    2021-06-25             13877   \n",
       "10   3063               Angola    2020-12-31             17371   \n",
       "11   3239               Angola    2021-06-25             38091   \n",
       "12   3603             Anguilla    2020-12-31                13   \n",
       "13   3779             Anguilla    2021-06-25               109   \n",
       "14   4143  Antigua and Barbuda    2020-12-31               158   \n",
       "15   4319  Antigua and Barbuda    2021-06-25              1263   \n",
       "16   4683            Argentina    2020-12-31           1602163   \n",
       "17   4859            Argentina    2021-06-25           4326101   \n",
       "18   5223              Armenia    2020-12-31            158191   \n",
       "19   5399              Armenia    2021-06-25            224635   \n",
       "\n",
       "    Cumulative_deaths  \n",
       "0                2189  \n",
       "1                4519  \n",
       "2                1174  \n",
       "3                2455  \n",
       "4                2751  \n",
       "5                3669  \n",
       "6                   0  \n",
       "7                   0  \n",
       "8                  84  \n",
       "9                 127  \n",
       "10                399  \n",
       "11                881  \n",
       "12                  0  \n",
       "13                  0  \n",
       "14                  5  \n",
       "15                 42  \n",
       "16              43018  \n",
       "17              90986  \n",
       "18               2802  \n",
       "19               4505  "
      ],
      "text/html": "<div>\n<style scoped>\n    .dataframe tbody tr th:only-of-type {\n        vertical-align: middle;\n    }\n\n    .dataframe tbody tr th {\n        vertical-align: top;\n    }\n\n    .dataframe thead th {\n        text-align: right;\n    }\n</style>\n<table border=\"1\" class=\"dataframe\">\n  <thead>\n    <tr style=\"text-align: right;\">\n      <th></th>\n      <th>index</th>\n      <th>Country</th>\n      <th>Date_reported</th>\n      <th>Cumulative_cases</th>\n      <th>Cumulative_deaths</th>\n    </tr>\n  </thead>\n  <tbody>\n    <tr>\n      <th>0</th>\n      <td>363</td>\n      <td>Afghanistan</td>\n      <td>2020-12-31</td>\n      <td>52330</td>\n      <td>2189</td>\n    </tr>\n    <tr>\n      <th>1</th>\n      <td>539</td>\n      <td>Afghanistan</td>\n      <td>2021-06-25</td>\n      <td>111592</td>\n      <td>4519</td>\n    </tr>\n    <tr>\n      <th>2</th>\n      <td>903</td>\n      <td>Albania</td>\n      <td>2020-12-31</td>\n      <td>57727</td>\n      <td>1174</td>\n    </tr>\n    <tr>\n      <th>3</th>\n      <td>1079</td>\n      <td>Albania</td>\n      <td>2021-06-25</td>\n      <td>132499</td>\n      <td>2455</td>\n    </tr>\n    <tr>\n      <th>4</th>\n      <td>1443</td>\n      <td>Algeria</td>\n      <td>2020-12-31</td>\n      <td>99311</td>\n      <td>2751</td>\n    </tr>\n    <tr>\n      <th>5</th>\n      <td>1619</td>\n      <td>Algeria</td>\n      <td>2021-06-25</td>\n      <td>137403</td>\n      <td>3669</td>\n    </tr>\n    <tr>\n      <th>6</th>\n      <td>1983</td>\n      <td>American Samoa</td>\n      <td>2020-12-31</td>\n      <td>0</td>\n      <td>0</td>\n    </tr>\n    <tr>\n      <th>7</th>\n      <td>2159</td>\n      <td>American Samoa</td>\n      <td>2021-06-25</td>\n      <td>0</td>\n      <td>0</td>\n    </tr>\n    <tr>\n      <th>8</th>\n      <td>2523</td>\n      <td>Andorra</td>\n      <td>2020-12-31</td>\n      <td>7983</td>\n      <td>84</td>\n    </tr>\n    <tr>\n      <th>9</th>\n      <td>2699</td>\n      <td>Andorra</td>\n      <td>2021-06-25</td>\n      <td>13877</td>\n      <td>127</td>\n    </tr>\n    <tr>\n      <th>10</th>\n      <td>3063</td>\n      <td>Angola</td>\n      <td>2020-12-31</td>\n      <td>17371</td>\n      <td>399</td>\n    </tr>\n    <tr>\n      <th>11</th>\n      <td>3239</td>\n      <td>Angola</td>\n      <td>2021-06-25</td>\n      <td>38091</td>\n      <td>881</td>\n    </tr>\n    <tr>\n      <th>12</th>\n      <td>3603</td>\n      <td>Anguilla</td>\n      <td>2020-12-31</td>\n      <td>13</td>\n      <td>0</td>\n    </tr>\n    <tr>\n      <th>13</th>\n      <td>3779</td>\n      <td>Anguilla</td>\n      <td>2021-06-25</td>\n      <td>109</td>\n      <td>0</td>\n    </tr>\n    <tr>\n      <th>14</th>\n      <td>4143</td>\n      <td>Antigua and Barbuda</td>\n      <td>2020-12-31</td>\n      <td>158</td>\n      <td>5</td>\n    </tr>\n    <tr>\n      <th>15</th>\n      <td>4319</td>\n      <td>Antigua and Barbuda</td>\n      <td>2021-06-25</td>\n      <td>1263</td>\n      <td>42</td>\n    </tr>\n    <tr>\n      <th>16</th>\n      <td>4683</td>\n      <td>Argentina</td>\n      <td>2020-12-31</td>\n      <td>1602163</td>\n      <td>43018</td>\n    </tr>\n    <tr>\n      <th>17</th>\n      <td>4859</td>\n      <td>Argentina</td>\n      <td>2021-06-25</td>\n      <td>4326101</td>\n      <td>90986</td>\n    </tr>\n    <tr>\n      <th>18</th>\n      <td>5223</td>\n      <td>Armenia</td>\n      <td>2020-12-31</td>\n      <td>158191</td>\n      <td>2802</td>\n    </tr>\n    <tr>\n      <th>19</th>\n      <td>5399</td>\n      <td>Armenia</td>\n      <td>2021-06-25</td>\n      <td>224635</td>\n      <td>4505</td>\n    </tr>\n  </tbody>\n</table>\n</div>"
     },
     "metadata": {},
     "execution_count": 49
    }
   ],
   "source": [
    "cummulative_by_year.head(20)"
   ]
  },
  {
   "cell_type": "code",
   "execution_count": 50,
   "metadata": {},
   "outputs": [
    {
     "output_type": "stream",
     "name": "stdout",
     "text": [
      "<class 'pandas.core.frame.DataFrame'>\nRangeIndex: 474 entries, 0 to 473\nData columns (total 4 columns):\n #   Column      Non-Null Count  Dtype \n---  ------      --------------  ----- \n 0   Country     474 non-null    object\n 1   year        474 non-null    int64 \n 2   New_cases   474 non-null    int64 \n 3   New_deaths  474 non-null    int64 \ndtypes: int64(3), object(1)\nmemory usage: 14.9+ KB\n"
     ]
    }
   ],
   "source": [
    "group_by_year_sum.info()"
   ]
  },
  {
   "cell_type": "code",
   "execution_count": 51,
   "metadata": {},
   "outputs": [
    {
     "output_type": "execute_result",
     "data": {
      "text/plain": [
       "      index      Country Date_reported  Cumulative_cases  Cumulative_deaths\n",
       "0       363  Afghanistan    2020-12-31             52330               2189\n",
       "1       539  Afghanistan    2021-06-25            111592               4519\n",
       "2       903      Albania    2020-12-31             57727               1174\n",
       "3      1079      Albania    2021-06-25            132499               2455\n",
       "4      1443      Algeria    2020-12-31             99311               2751\n",
       "..      ...          ...           ...               ...                ...\n",
       "469  126899        Yemen    2021-06-25              6905               1356\n",
       "470  127263       Zambia    2020-12-31             20462                386\n",
       "471  127439       Zambia    2021-06-25            140620               1855\n",
       "472  127803     Zimbabwe    2020-12-31             13625                360\n",
       "473  127979     Zimbabwe    2021-06-25             44306               1709\n",
       "\n",
       "[474 rows x 5 columns]"
      ],
      "text/html": "<div>\n<style scoped>\n    .dataframe tbody tr th:only-of-type {\n        vertical-align: middle;\n    }\n\n    .dataframe tbody tr th {\n        vertical-align: top;\n    }\n\n    .dataframe thead th {\n        text-align: right;\n    }\n</style>\n<table border=\"1\" class=\"dataframe\">\n  <thead>\n    <tr style=\"text-align: right;\">\n      <th></th>\n      <th>index</th>\n      <th>Country</th>\n      <th>Date_reported</th>\n      <th>Cumulative_cases</th>\n      <th>Cumulative_deaths</th>\n    </tr>\n  </thead>\n  <tbody>\n    <tr>\n      <th>0</th>\n      <td>363</td>\n      <td>Afghanistan</td>\n      <td>2020-12-31</td>\n      <td>52330</td>\n      <td>2189</td>\n    </tr>\n    <tr>\n      <th>1</th>\n      <td>539</td>\n      <td>Afghanistan</td>\n      <td>2021-06-25</td>\n      <td>111592</td>\n      <td>4519</td>\n    </tr>\n    <tr>\n      <th>2</th>\n      <td>903</td>\n      <td>Albania</td>\n      <td>2020-12-31</td>\n      <td>57727</td>\n      <td>1174</td>\n    </tr>\n    <tr>\n      <th>3</th>\n      <td>1079</td>\n      <td>Albania</td>\n      <td>2021-06-25</td>\n      <td>132499</td>\n      <td>2455</td>\n    </tr>\n    <tr>\n      <th>4</th>\n      <td>1443</td>\n      <td>Algeria</td>\n      <td>2020-12-31</td>\n      <td>99311</td>\n      <td>2751</td>\n    </tr>\n    <tr>\n      <th>...</th>\n      <td>...</td>\n      <td>...</td>\n      <td>...</td>\n      <td>...</td>\n      <td>...</td>\n    </tr>\n    <tr>\n      <th>469</th>\n      <td>126899</td>\n      <td>Yemen</td>\n      <td>2021-06-25</td>\n      <td>6905</td>\n      <td>1356</td>\n    </tr>\n    <tr>\n      <th>470</th>\n      <td>127263</td>\n      <td>Zambia</td>\n      <td>2020-12-31</td>\n      <td>20462</td>\n      <td>386</td>\n    </tr>\n    <tr>\n      <th>471</th>\n      <td>127439</td>\n      <td>Zambia</td>\n      <td>2021-06-25</td>\n      <td>140620</td>\n      <td>1855</td>\n    </tr>\n    <tr>\n      <th>472</th>\n      <td>127803</td>\n      <td>Zimbabwe</td>\n      <td>2020-12-31</td>\n      <td>13625</td>\n      <td>360</td>\n    </tr>\n    <tr>\n      <th>473</th>\n      <td>127979</td>\n      <td>Zimbabwe</td>\n      <td>2021-06-25</td>\n      <td>44306</td>\n      <td>1709</td>\n    </tr>\n  </tbody>\n</table>\n<p>474 rows × 5 columns</p>\n</div>"
     },
     "metadata": {},
     "execution_count": 51
    }
   ],
   "source": [
    "cummulative_by_year"
   ]
  },
  {
   "cell_type": "code",
   "execution_count": 52,
   "metadata": {},
   "outputs": [
    {
     "output_type": "execute_result",
     "data": {
      "text/plain": [
       "[]"
      ]
     },
     "metadata": {},
     "execution_count": 52
    }
   ],
   "source": [
    "[c for  c in cummulative_by_year['Country'].unique() if not c in group_by_year_sum['Country'].unique()]"
   ]
  },
  {
   "cell_type": "code",
   "execution_count": 54,
   "metadata": {},
   "outputs": [],
   "source": [
    "merged = pd.concat([group_by_year_sum, cummulative_by_year['Cumulative_cases'], cummulative_by_year['Cumulative_deaths']], axis=1)"
   ]
  },
  {
   "cell_type": "code",
   "execution_count": 55,
   "metadata": {},
   "outputs": [
    {
     "output_type": "execute_result",
     "data": {
      "text/plain": [
       "         Country  year  New_cases  New_deaths  Cumulative_cases  \\\n",
       "0    Afghanistan  2020      52330        2189             52330   \n",
       "1    Afghanistan  2021      59262        2330            111592   \n",
       "2        Albania  2020      57727        1174             57727   \n",
       "3        Albania  2021      74772        1281            132499   \n",
       "4        Algeria  2020      99311        2751             99311   \n",
       "..           ...   ...        ...         ...               ...   \n",
       "469        Yemen  2021       4804         745              6905   \n",
       "470       Zambia  2020      20462         386             20462   \n",
       "471       Zambia  2021     120158        1469            140620   \n",
       "472     Zimbabwe  2020      13625         360             13625   \n",
       "473     Zimbabwe  2021      30681        1349             44306   \n",
       "\n",
       "     Cumulative_deaths  \n",
       "0                 2189  \n",
       "1                 4519  \n",
       "2                 1174  \n",
       "3                 2455  \n",
       "4                 2751  \n",
       "..                 ...  \n",
       "469               1356  \n",
       "470                386  \n",
       "471               1855  \n",
       "472                360  \n",
       "473               1709  \n",
       "\n",
       "[474 rows x 6 columns]"
      ],
      "text/html": "<div>\n<style scoped>\n    .dataframe tbody tr th:only-of-type {\n        vertical-align: middle;\n    }\n\n    .dataframe tbody tr th {\n        vertical-align: top;\n    }\n\n    .dataframe thead th {\n        text-align: right;\n    }\n</style>\n<table border=\"1\" class=\"dataframe\">\n  <thead>\n    <tr style=\"text-align: right;\">\n      <th></th>\n      <th>Country</th>\n      <th>year</th>\n      <th>New_cases</th>\n      <th>New_deaths</th>\n      <th>Cumulative_cases</th>\n      <th>Cumulative_deaths</th>\n    </tr>\n  </thead>\n  <tbody>\n    <tr>\n      <th>0</th>\n      <td>Afghanistan</td>\n      <td>2020</td>\n      <td>52330</td>\n      <td>2189</td>\n      <td>52330</td>\n      <td>2189</td>\n    </tr>\n    <tr>\n      <th>1</th>\n      <td>Afghanistan</td>\n      <td>2021</td>\n      <td>59262</td>\n      <td>2330</td>\n      <td>111592</td>\n      <td>4519</td>\n    </tr>\n    <tr>\n      <th>2</th>\n      <td>Albania</td>\n      <td>2020</td>\n      <td>57727</td>\n      <td>1174</td>\n      <td>57727</td>\n      <td>1174</td>\n    </tr>\n    <tr>\n      <th>3</th>\n      <td>Albania</td>\n      <td>2021</td>\n      <td>74772</td>\n      <td>1281</td>\n      <td>132499</td>\n      <td>2455</td>\n    </tr>\n    <tr>\n      <th>4</th>\n      <td>Algeria</td>\n      <td>2020</td>\n      <td>99311</td>\n      <td>2751</td>\n      <td>99311</td>\n      <td>2751</td>\n    </tr>\n    <tr>\n      <th>...</th>\n      <td>...</td>\n      <td>...</td>\n      <td>...</td>\n      <td>...</td>\n      <td>...</td>\n      <td>...</td>\n    </tr>\n    <tr>\n      <th>469</th>\n      <td>Yemen</td>\n      <td>2021</td>\n      <td>4804</td>\n      <td>745</td>\n      <td>6905</td>\n      <td>1356</td>\n    </tr>\n    <tr>\n      <th>470</th>\n      <td>Zambia</td>\n      <td>2020</td>\n      <td>20462</td>\n      <td>386</td>\n      <td>20462</td>\n      <td>386</td>\n    </tr>\n    <tr>\n      <th>471</th>\n      <td>Zambia</td>\n      <td>2021</td>\n      <td>120158</td>\n      <td>1469</td>\n      <td>140620</td>\n      <td>1855</td>\n    </tr>\n    <tr>\n      <th>472</th>\n      <td>Zimbabwe</td>\n      <td>2020</td>\n      <td>13625</td>\n      <td>360</td>\n      <td>13625</td>\n      <td>360</td>\n    </tr>\n    <tr>\n      <th>473</th>\n      <td>Zimbabwe</td>\n      <td>2021</td>\n      <td>30681</td>\n      <td>1349</td>\n      <td>44306</td>\n      <td>1709</td>\n    </tr>\n  </tbody>\n</table>\n<p>474 rows × 6 columns</p>\n</div>"
     },
     "metadata": {},
     "execution_count": 55
    }
   ],
   "source": [
    "merged"
   ]
  },
  {
   "cell_type": "code",
   "execution_count": 56,
   "metadata": {},
   "outputs": [],
   "source": [
    "merged.to_csv('covid_by_year.csv', index=False)"
   ]
  },
  {
   "cell_type": "code",
   "execution_count": null,
   "metadata": {},
   "outputs": [],
   "source": []
  }
 ],
 "metadata": {
  "kernelspec": {
   "name": "python3",
   "display_name": "Python 3.9.0 64-bit"
  },
  "language_info": {
   "codemirror_mode": {
    "name": "ipython",
    "version": 3
   },
   "file_extension": ".py",
   "mimetype": "text/x-python",
   "name": "python",
   "nbconvert_exporter": "python",
   "pygments_lexer": "ipython3",
   "version": "3.9.0"
  },
  "interpreter": {
   "hash": "4cd7ab41f5fca4b9b44701077e38c5ffd31fe66a6cab21e0214b68d958d0e462"
  }
 },
 "nbformat": 4,
 "nbformat_minor": 5
}