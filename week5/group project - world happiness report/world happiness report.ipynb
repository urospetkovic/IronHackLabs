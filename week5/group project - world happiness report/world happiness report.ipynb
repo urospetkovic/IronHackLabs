{
 "cells": [
  {
   "cell_type": "code",
   "execution_count": 1,
   "id": "hearing-angle",
   "metadata": {},
   "outputs": [],
   "source": [
    "import pandas as pd\n",
    "import numpy as np"
   ]
  },
  {
   "cell_type": "code",
   "execution_count": 4,
   "metadata": {},
   "outputs": [],
   "source": [
    "df1 = pd.read_csv('data/world-happiness-report.csv')"
   ]
  },
  {
   "cell_type": "code",
   "execution_count": 5,
   "metadata": {},
   "outputs": [],
   "source": [
    "df2 = pd.read_csv('data/world-happiness-report-2021.csv')"
   ]
  },
  {
   "cell_type": "code",
   "execution_count": 8,
   "metadata": {},
   "outputs": [
    {
     "output_type": "stream",
     "name": "stdout",
     "text": [
      "<class 'pandas.core.frame.DataFrame'>\nRangeIndex: 1949 entries, 0 to 1948\nData columns (total 11 columns):\n #   Column                            Non-Null Count  Dtype  \n---  ------                            --------------  -----  \n 0   Country name                      1949 non-null   object \n 1   year                              1949 non-null   int64  \n 2   Life Ladder                       1949 non-null   float64\n 3   Log GDP per capita                1913 non-null   float64\n 4   Social support                    1936 non-null   float64\n 5   Healthy life expectancy at birth  1894 non-null   float64\n 6   Freedom to make life choices      1917 non-null   float64\n 7   Generosity                        1860 non-null   float64\n 8   Perceptions of corruption         1839 non-null   float64\n 9   Positive affect                   1927 non-null   float64\n 10  Negative affect                   1933 non-null   float64\ndtypes: float64(9), int64(1), object(1)\nmemory usage: 167.6+ KB\n"
     ]
    }
   ],
   "source": [
    "df1.info()"
   ]
  },
  {
   "cell_type": "code",
   "execution_count": 9,
   "metadata": {},
   "outputs": [
    {
     "output_type": "stream",
     "name": "stdout",
     "text": [
      "<class 'pandas.core.frame.DataFrame'>\nRangeIndex: 149 entries, 0 to 148\nData columns (total 20 columns):\n #   Column                                      Non-Null Count  Dtype  \n---  ------                                      --------------  -----  \n 0   Country name                                149 non-null    object \n 1   Regional indicator                          149 non-null    object \n 2   Ladder score                                149 non-null    float64\n 3   Standard error of ladder score              149 non-null    float64\n 4   upperwhisker                                149 non-null    float64\n 5   lowerwhisker                                149 non-null    float64\n 6   Logged GDP per capita                       149 non-null    float64\n 7   Social support                              149 non-null    float64\n 8   Healthy life expectancy                     149 non-null    float64\n 9   Freedom to make life choices                149 non-null    float64\n 10  Generosity                                  149 non-null    float64\n 11  Perceptions of corruption                   149 non-null    float64\n 12  Ladder score in Dystopia                    149 non-null    float64\n 13  Explained by: Log GDP per capita            149 non-null    float64\n 14  Explained by: Social support                149 non-null    float64\n 15  Explained by: Healthy life expectancy       149 non-null    float64\n 16  Explained by: Freedom to make life choices  149 non-null    float64\n 17  Explained by: Generosity                    149 non-null    float64\n 18  Explained by: Perceptions of corruption     149 non-null    float64\n 19  Dystopia + residual                         149 non-null    float64\ndtypes: float64(18), object(2)\nmemory usage: 23.4+ KB\n"
     ]
    }
   ],
   "source": [
    "df2.info()"
   ]
  },
  {
   "cell_type": "code",
   "execution_count": 10,
   "metadata": {},
   "outputs": [
    {
     "output_type": "execute_result",
     "data": {
      "text/plain": [
       "  Country name  year  Life Ladder  Log GDP per capita  Social support  \\\n",
       "0  Afghanistan  2008        3.724               7.370           0.451   \n",
       "1  Afghanistan  2009        4.402               7.540           0.552   \n",
       "2  Afghanistan  2010        4.758               7.647           0.539   \n",
       "3  Afghanistan  2011        3.832               7.620           0.521   \n",
       "4  Afghanistan  2012        3.783               7.705           0.521   \n",
       "\n",
       "   Healthy life expectancy at birth  Freedom to make life choices  Generosity  \\\n",
       "0                             50.80                         0.718       0.168   \n",
       "1                             51.20                         0.679       0.190   \n",
       "2                             51.60                         0.600       0.121   \n",
       "3                             51.92                         0.496       0.162   \n",
       "4                             52.24                         0.531       0.236   \n",
       "\n",
       "   Perceptions of corruption  Positive affect  Negative affect  \n",
       "0                      0.882            0.518            0.258  \n",
       "1                      0.850            0.584            0.237  \n",
       "2                      0.707            0.618            0.275  \n",
       "3                      0.731            0.611            0.267  \n",
       "4                      0.776            0.710            0.268  "
      ],
      "text/html": "<div>\n<style scoped>\n    .dataframe tbody tr th:only-of-type {\n        vertical-align: middle;\n    }\n\n    .dataframe tbody tr th {\n        vertical-align: top;\n    }\n\n    .dataframe thead th {\n        text-align: right;\n    }\n</style>\n<table border=\"1\" class=\"dataframe\">\n  <thead>\n    <tr style=\"text-align: right;\">\n      <th></th>\n      <th>Country name</th>\n      <th>year</th>\n      <th>Life Ladder</th>\n      <th>Log GDP per capita</th>\n      <th>Social support</th>\n      <th>Healthy life expectancy at birth</th>\n      <th>Freedom to make life choices</th>\n      <th>Generosity</th>\n      <th>Perceptions of corruption</th>\n      <th>Positive affect</th>\n      <th>Negative affect</th>\n    </tr>\n  </thead>\n  <tbody>\n    <tr>\n      <th>0</th>\n      <td>Afghanistan</td>\n      <td>2008</td>\n      <td>3.724</td>\n      <td>7.370</td>\n      <td>0.451</td>\n      <td>50.80</td>\n      <td>0.718</td>\n      <td>0.168</td>\n      <td>0.882</td>\n      <td>0.518</td>\n      <td>0.258</td>\n    </tr>\n    <tr>\n      <th>1</th>\n      <td>Afghanistan</td>\n      <td>2009</td>\n      <td>4.402</td>\n      <td>7.540</td>\n      <td>0.552</td>\n      <td>51.20</td>\n      <td>0.679</td>\n      <td>0.190</td>\n      <td>0.850</td>\n      <td>0.584</td>\n      <td>0.237</td>\n    </tr>\n    <tr>\n      <th>2</th>\n      <td>Afghanistan</td>\n      <td>2010</td>\n      <td>4.758</td>\n      <td>7.647</td>\n      <td>0.539</td>\n      <td>51.60</td>\n      <td>0.600</td>\n      <td>0.121</td>\n      <td>0.707</td>\n      <td>0.618</td>\n      <td>0.275</td>\n    </tr>\n    <tr>\n      <th>3</th>\n      <td>Afghanistan</td>\n      <td>2011</td>\n      <td>3.832</td>\n      <td>7.620</td>\n      <td>0.521</td>\n      <td>51.92</td>\n      <td>0.496</td>\n      <td>0.162</td>\n      <td>0.731</td>\n      <td>0.611</td>\n      <td>0.267</td>\n    </tr>\n    <tr>\n      <th>4</th>\n      <td>Afghanistan</td>\n      <td>2012</td>\n      <td>3.783</td>\n      <td>7.705</td>\n      <td>0.521</td>\n      <td>52.24</td>\n      <td>0.531</td>\n      <td>0.236</td>\n      <td>0.776</td>\n      <td>0.710</td>\n      <td>0.268</td>\n    </tr>\n  </tbody>\n</table>\n</div>"
     },
     "metadata": {},
     "execution_count": 10
    }
   ],
   "source": [
    "df1.head()"
   ]
  },
  {
   "cell_type": "code",
   "execution_count": 11,
   "metadata": {},
   "outputs": [],
   "source": [
    "df3 = pd.read_csv('data/drinks.csv')"
   ]
  },
  {
   "cell_type": "code",
   "execution_count": 12,
   "metadata": {},
   "outputs": [
    {
     "output_type": "execute_result",
     "data": {
      "text/plain": [
       "       country  beer_servings  spirit_servings  wine_servings  \\\n",
       "0  Afghanistan              0                0              0   \n",
       "1      Albania             89              132             54   \n",
       "2      Algeria             25                0             14   \n",
       "3      Andorra            245              138            312   \n",
       "4       Angola            217               57             45   \n",
       "\n",
       "   total_litres_of_pure_alcohol  \n",
       "0                           0.0  \n",
       "1                           4.9  \n",
       "2                           0.7  \n",
       "3                          12.4  \n",
       "4                           5.9  "
      ],
      "text/html": "<div>\n<style scoped>\n    .dataframe tbody tr th:only-of-type {\n        vertical-align: middle;\n    }\n\n    .dataframe tbody tr th {\n        vertical-align: top;\n    }\n\n    .dataframe thead th {\n        text-align: right;\n    }\n</style>\n<table border=\"1\" class=\"dataframe\">\n  <thead>\n    <tr style=\"text-align: right;\">\n      <th></th>\n      <th>country</th>\n      <th>beer_servings</th>\n      <th>spirit_servings</th>\n      <th>wine_servings</th>\n      <th>total_litres_of_pure_alcohol</th>\n    </tr>\n  </thead>\n  <tbody>\n    <tr>\n      <th>0</th>\n      <td>Afghanistan</td>\n      <td>0</td>\n      <td>0</td>\n      <td>0</td>\n      <td>0.0</td>\n    </tr>\n    <tr>\n      <th>1</th>\n      <td>Albania</td>\n      <td>89</td>\n      <td>132</td>\n      <td>54</td>\n      <td>4.9</td>\n    </tr>\n    <tr>\n      <th>2</th>\n      <td>Algeria</td>\n      <td>25</td>\n      <td>0</td>\n      <td>14</td>\n      <td>0.7</td>\n    </tr>\n    <tr>\n      <th>3</th>\n      <td>Andorra</td>\n      <td>245</td>\n      <td>138</td>\n      <td>312</td>\n      <td>12.4</td>\n    </tr>\n    <tr>\n      <th>4</th>\n      <td>Angola</td>\n      <td>217</td>\n      <td>57</td>\n      <td>45</td>\n      <td>5.9</td>\n    </tr>\n  </tbody>\n</table>\n</div>"
     },
     "metadata": {},
     "execution_count": 12
    }
   ],
   "source": [
    "df3.head()"
   ]
  },
  {
   "cell_type": "code",
   "execution_count": 13,
   "metadata": {},
   "outputs": [],
   "source": [
    "df_covid = pd.read_csv('data/WHO-COVID-19-global-table-data.csv')"
   ]
  },
  {
   "cell_type": "code",
   "execution_count": 14,
   "metadata": {},
   "outputs": [
    {
     "output_type": "execute_result",
     "data": {
      "text/plain": [
       "                       Name       WHO Region  Cases - cumulative total  \\\n",
       "0                    Global              NaN                 179513309   \n",
       "1  United States of America         Americas                  33257768   \n",
       "2                     India  South-East Asia                  30082778   \n",
       "3                    Brazil         Americas                  18169881   \n",
       "4                    France           Europe                   5653580   \n",
       "\n",
       "   Cases - cumulative total per 100000 population  \\\n",
       "0                                     2303.064719   \n",
       "1                                    10047.580000   \n",
       "2                                     2179.900000   \n",
       "3                                     8548.140000   \n",
       "4                                     8692.550000   \n",
       "\n",
       "   Cases - newly reported in last 7 days  \\\n",
       "0                                2560560   \n",
       "1                                  82369   \n",
       "2                                 382465   \n",
       "3                                 541293   \n",
       "4                                  12599   \n",
       "\n",
       "   Cases - newly reported in last 7 days per 100000 population  \\\n",
       "0                                          32.850686             \n",
       "1                                          24.880000             \n",
       "2                                          27.710000             \n",
       "3                                         254.650000             \n",
       "4                                          19.370000             \n",
       "\n",
       "   Cases - newly reported in last 24 hours  Deaths - cumulative total  \\\n",
       "0                                   443740                    3895661   \n",
       "1                                    14239                     597727   \n",
       "2                                    54069                     391981   \n",
       "3                                   115228                     507109   \n",
       "4                                     2287                     109957   \n",
       "\n",
       "   Deaths - cumulative total per 100000 population  \\\n",
       "0                                        49.979355   \n",
       "1                                       180.580000   \n",
       "2                                        28.400000   \n",
       "3                                       238.570000   \n",
       "4                                       169.060000   \n",
       "\n",
       "   Deaths - newly reported in last 7 days  \\\n",
       "0                                   57995   \n",
       "1                                    2136   \n",
       "2                                   10078   \n",
       "3                                   13416   \n",
       "4                                     269   \n",
       "\n",
       "   Deaths - newly reported in last 7 days per 100000 population  \\\n",
       "0                                           0.744046              \n",
       "1                                           0.650000              \n",
       "2                                           0.730000              \n",
       "3                                           6.310000              \n",
       "4                                           0.410000              \n",
       "\n",
       "   Deaths - newly reported in last 24 hours Transmission Classification  \n",
       "0                                      9119                         NaN  \n",
       "1                                       355      Community transmission  \n",
       "2                                      1321           Clusters of cases  \n",
       "3                                      2392      Community transmission  \n",
       "4                                        33      Community transmission  "
      ],
      "text/html": "<div>\n<style scoped>\n    .dataframe tbody tr th:only-of-type {\n        vertical-align: middle;\n    }\n\n    .dataframe tbody tr th {\n        vertical-align: top;\n    }\n\n    .dataframe thead th {\n        text-align: right;\n    }\n</style>\n<table border=\"1\" class=\"dataframe\">\n  <thead>\n    <tr style=\"text-align: right;\">\n      <th></th>\n      <th>Name</th>\n      <th>WHO Region</th>\n      <th>Cases - cumulative total</th>\n      <th>Cases - cumulative total per 100000 population</th>\n      <th>Cases - newly reported in last 7 days</th>\n      <th>Cases - newly reported in last 7 days per 100000 population</th>\n      <th>Cases - newly reported in last 24 hours</th>\n      <th>Deaths - cumulative total</th>\n      <th>Deaths - cumulative total per 100000 population</th>\n      <th>Deaths - newly reported in last 7 days</th>\n      <th>Deaths - newly reported in last 7 days per 100000 population</th>\n      <th>Deaths - newly reported in last 24 hours</th>\n      <th>Transmission Classification</th>\n    </tr>\n  </thead>\n  <tbody>\n    <tr>\n      <th>0</th>\n      <td>Global</td>\n      <td>NaN</td>\n      <td>179513309</td>\n      <td>2303.064719</td>\n      <td>2560560</td>\n      <td>32.850686</td>\n      <td>443740</td>\n      <td>3895661</td>\n      <td>49.979355</td>\n      <td>57995</td>\n      <td>0.744046</td>\n      <td>9119</td>\n      <td>NaN</td>\n    </tr>\n    <tr>\n      <th>1</th>\n      <td>United States of America</td>\n      <td>Americas</td>\n      <td>33257768</td>\n      <td>10047.580000</td>\n      <td>82369</td>\n      <td>24.880000</td>\n      <td>14239</td>\n      <td>597727</td>\n      <td>180.580000</td>\n      <td>2136</td>\n      <td>0.650000</td>\n      <td>355</td>\n      <td>Community transmission</td>\n    </tr>\n    <tr>\n      <th>2</th>\n      <td>India</td>\n      <td>South-East Asia</td>\n      <td>30082778</td>\n      <td>2179.900000</td>\n      <td>382465</td>\n      <td>27.710000</td>\n      <td>54069</td>\n      <td>391981</td>\n      <td>28.400000</td>\n      <td>10078</td>\n      <td>0.730000</td>\n      <td>1321</td>\n      <td>Clusters of cases</td>\n    </tr>\n    <tr>\n      <th>3</th>\n      <td>Brazil</td>\n      <td>Americas</td>\n      <td>18169881</td>\n      <td>8548.140000</td>\n      <td>541293</td>\n      <td>254.650000</td>\n      <td>115228</td>\n      <td>507109</td>\n      <td>238.570000</td>\n      <td>13416</td>\n      <td>6.310000</td>\n      <td>2392</td>\n      <td>Community transmission</td>\n    </tr>\n    <tr>\n      <th>4</th>\n      <td>France</td>\n      <td>Europe</td>\n      <td>5653580</td>\n      <td>8692.550000</td>\n      <td>12599</td>\n      <td>19.370000</td>\n      <td>2287</td>\n      <td>109957</td>\n      <td>169.060000</td>\n      <td>269</td>\n      <td>0.410000</td>\n      <td>33</td>\n      <td>Community transmission</td>\n    </tr>\n  </tbody>\n</table>\n</div>"
     },
     "metadata": {},
     "execution_count": 14
    }
   ],
   "source": [
    "df_covid.head()"
   ]
  },
  {
   "cell_type": "code",
   "execution_count": 15,
   "metadata": {},
   "outputs": [
    {
     "output_type": "stream",
     "name": "stdout",
     "text": [
      "<class 'pandas.core.frame.DataFrame'>\nRangeIndex: 238 entries, 0 to 237\nData columns (total 13 columns):\n #   Column                                                        Non-Null Count  Dtype  \n---  ------                                                        --------------  -----  \n 0   Name                                                          238 non-null    object \n 1   WHO Region                                                    237 non-null    object \n 2   Cases - cumulative total                                      238 non-null    int64  \n 3   Cases - cumulative total per 100000 population                237 non-null    float64\n 4   Cases - newly reported in last 7 days                         238 non-null    int64  \n 5   Cases - newly reported in last 7 days per 100000 population   237 non-null    float64\n 6   Cases - newly reported in last 24 hours                       238 non-null    int64  \n 7   Deaths - cumulative total                                     238 non-null    int64  \n 8   Deaths - cumulative total per 100000 population               237 non-null    float64\n 9   Deaths - newly reported in last 7 days                        238 non-null    int64  \n 10  Deaths - newly reported in last 7 days per 100000 population  237 non-null    float64\n 11  Deaths - newly reported in last 24 hours                      238 non-null    int64  \n 12  Transmission Classification                                   237 non-null    object \ndtypes: float64(4), int64(6), object(3)\nmemory usage: 24.3+ KB\n"
     ]
    }
   ],
   "source": [
    "df_covid.info()"
   ]
  },
  {
   "cell_type": "code",
   "execution_count": null,
   "metadata": {},
   "outputs": [],
   "source": []
  }
 ],
 "metadata": {
  "kernelspec": {
   "name": "python3",
   "display_name": "Python 3.9.0 64-bit"
  },
  "language_info": {
   "codemirror_mode": {
    "name": "ipython",
    "version": 3
   },
   "file_extension": ".py",
   "mimetype": "text/x-python",
   "name": "python",
   "nbconvert_exporter": "python",
   "pygments_lexer": "ipython3",
   "version": "3.9.0"
  },
  "interpreter": {
   "hash": "4cd7ab41f5fca4b9b44701077e38c5ffd31fe66a6cab21e0214b68d958d0e462"
  }
 },
 "nbformat": 4,
 "nbformat_minor": 5
}